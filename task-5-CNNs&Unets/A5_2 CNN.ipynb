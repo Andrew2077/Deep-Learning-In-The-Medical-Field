{
 "cells": [
  {
   "cell_type": "markdown",
   "metadata": {},
   "source": [
    "---\n",
    "# Cairo University Faculty of Engineering\n",
    "## Deep Learning \n",
    "## Assignment 5_2\n",
    "\n",
    "---"
   ]
  },
  {
   "attachments": {},
   "cell_type": "markdown",
   "metadata": {},
   "source": [
    "Please write your full name here\n",
    "- **Name** : Andrew Muhsen Paramedis"
   ]
  },
  {
   "cell_type": "markdown",
   "metadata": {
    "id": "rffwkDWTz_Fo"
   },
   "source": [
    "## Image classifier for the SVHN dataset\n",
    "### Instructions\n",
    "\n",
    "In this notebook, you will create a neural network that classifies real-world images digits. \n",
    "Within this notebook you will find instructions in each section for how to complete the assignment. \n",
    "\n",
    "Pay close attention to the instructions. Feel free to add extra cells into the notebook as required.\n",
    "\n",
    "### Let's get started!\n",
    "\n",
    "We'll start by running some imports, and loading the dataset. You are free to make further imports throughout the notebook as you wish. "
   ]
  },
  {
   "cell_type": "code",
   "execution_count": 1,
   "metadata": {
    "id": "O3vI8jSIz_Fs"
   },
   "outputs": [],
   "source": [
    "import tensorflow as tf\n",
    "import numpy as np\n",
    "from scipy.io import loadmat"
   ]
  },
  {
   "cell_type": "markdown",
   "metadata": {
    "id": "8OrHY7TRz_Fx"
   },
   "source": [
    "For this assignmnet, you will use the [SVHN dataset](http://ufldl.stanford.edu/housenumbers/). This is an image dataset of over 600,000 digit images in all, and is a harder dataset than MNIST as the numbers appear in the context of natural scene images. SVHN is obtained from house numbers in Google Street View images.\n",
    "\n",
    "* Y. Netzer, T. Wang, A. Coates, A. Bissacco, B. Wu and A. Y. Ng. \"Reading Digits in Natural Images with Unsupervised Feature Learning\". NIPS Workshop on Deep Learning and Unsupervised Feature Learning, 2011.\n",
    "\n",
    "The train and test datasets required for this project can be downloaded from [here](http://ufldl.stanford.edu/housenumbers/train.tar.gz) and [here](http://ufldl.stanford.edu/housenumbers/test.tar.gz). Once unzipped, you will have two files: `train_32x32.mat` and `test_32x32.mat`. \n",
    "\n",
    "- If using Colab: You should store these files in Drive.\n",
    "\n",
    "Your goal is to develop an end-to-end workflow for building, training, validating, evaluating and saving a neural network that classifies a real-world image into one of ten classes."
   ]
  },
  {
   "cell_type": "code",
   "execution_count": 2,
   "metadata": {
    "id": "YWdiz3n_z_Fy"
   },
   "outputs": [],
   "source": [
    "# Load the dataset from your Drive folder\n",
    "\n",
    "train = loadmat('train_32x32.mat')\n",
    "test = loadmat('test_32x32.mat')"
   ]
  },
  {
   "cell_type": "markdown",
   "metadata": {
    "id": "Sot1IcuZz_F2"
   },
   "source": [
    "Both `train` and `test` are dictionaries with keys `X` and `y` for the input images and labels respectively."
   ]
  },
  {
   "cell_type": "markdown",
   "metadata": {
    "id": "_Q1n_Ai2z_F3"
   },
   "source": [
    "## 1. Inspect and preprocess the dataset\n",
    "* Extract the training and testing images and labels separately from the train and test dictionaries loaded for you.\n",
    "* Select a random sample of images and corresponding labels from the dataset (at least 10), and display them in a figure.\n",
    "* Convert the training and test images to grayscale by taking the average across all colour channels for each pixel. _Hint: retain the channel dimension, which will now have size 1._\n",
    "* Select a random sample of the grayscale images and corresponding labels from the dataset (at least 10), and display them in a figure."
   ]
  },
  {
   "cell_type": "code",
   "execution_count": 3,
   "metadata": {},
   "outputs": [
    {
     "data": {
      "text/plain": [
       "dict"
      ]
     },
     "execution_count": 3,
     "metadata": {},
     "output_type": "execute_result"
    }
   ],
   "source": [
    "type(train)"
   ]
  },
  {
   "cell_type": "code",
   "execution_count": 4,
   "metadata": {
    "id": "-WIH5hyXz_F4"
   },
   "outputs": [
    {
     "data": {
      "text/plain": [
       "dict_keys(['__header__', '__version__', '__globals__', 'X', 'y'])"
      ]
     },
     "execution_count": 4,
     "metadata": {},
     "output_type": "execute_result"
    }
   ],
   "source": [
    "train.keys()"
   ]
  },
  {
   "cell_type": "code",
   "execution_count": 5,
   "metadata": {},
   "outputs": [
    {
     "name": "stdout",
     "output_type": "stream",
     "text": [
      "b'MATLAB 5.0 MAT-file, Platform: GLNXA64, Created on: Mon Dec  5 21:09:26 2011'\n",
      "1.0\n",
      "[]\n"
     ]
    }
   ],
   "source": [
    "print(train['__header__'])\n",
    "print(train['__version__'])\n",
    "print(train['__globals__'])"
   ]
  },
  {
   "cell_type": "code",
   "execution_count": 6,
   "metadata": {
    "id": "zmGJK3xgz_F8"
   },
   "outputs": [
    {
     "name": "stdout",
     "output_type": "stream",
     "text": [
      "Xtrain shape :  (32, 32, 3, 73257)\n",
      "ytrain shape : (73257, 1)\n",
      "xtest shape :  (32, 32, 3, 26032)\n",
      "ytest shape : (73257, 1)\n"
     ]
    }
   ],
   "source": [
    "print('Xtrain shape : ' , train['X'].shape)\n",
    "print('ytrain shape :' , train['y'].shape)\n",
    "\n",
    "print('xtest shape : ' , test['X'].shape)\n",
    "print('ytest shape :' , train['y'].shape)"
   ]
  },
  {
   "cell_type": "code",
   "execution_count": 7,
   "metadata": {},
   "outputs": [
    {
     "name": "stdout",
     "output_type": "stream",
     "text": [
      "(32, 32, 3, 73257)\n",
      "(73257, 1)\n",
      "(73257, 32, 32, 3)\n",
      "(73257, 1)\n"
     ]
    }
   ],
   "source": [
    "train_X = train['X']\n",
    "train_y = train['y']\n",
    "test_X = test['X']\n",
    "test_y = test['y']\n",
    "\n",
    "print(train_X.shape)\n",
    "print(train_y.shape)\n",
    "\n",
    "#*width, height, channels, number of images\n",
    "train_X = train_X.transpose(3,0,1,2)/255.0\n",
    "test_X = test_X.transpose(3,0,1,2)/255.0\n",
    "#train_y = train_y.reshape(-1)\n",
    "#test_y = test_y.reshape(-1)\n",
    "\n",
    "#*number of images, width, height, channels\n",
    "print(train_X.shape)\n",
    "print(train_y.shape)"
   ]
  },
  {
   "cell_type": "code",
   "execution_count": 8,
   "metadata": {},
   "outputs": [
    {
     "name": "stdout",
     "output_type": "stream",
     "text": [
      "[ 1  2  3  4  5  6  7  8  9 10]\n"
     ]
    },
    {
     "data": {
      "text/plain": [
       "array([0, 1, 2, 3, 4, 5, 6, 7, 8, 9], dtype=uint8)"
      ]
     },
     "execution_count": 8,
     "metadata": {},
     "output_type": "execute_result"
    }
   ],
   "source": [
    "print(np.unique(train_y))\n",
    "train_y[train_y==10] = 0\n",
    "test_y[test_y==10] = 0\n",
    "np.unique(train_y)"
   ]
  },
  {
   "cell_type": "code",
   "execution_count": 9,
   "metadata": {
    "id": "6SR4gYffz_F_"
   },
   "outputs": [
    {
     "name": "stderr",
     "output_type": "stream",
     "text": [
      "c:\\Users\\DELL\\anaconda3\\envs\\tfgpy\\lib\\site-packages\\matplotlib\\text.py:1241: FutureWarning: elementwise comparison failed; returning scalar instead, but in the future will perform elementwise comparison\n",
      "  if s != self._text:\n"
     ]
    },
    {
     "data": {
      "image/png": "[encoded data removed]",
      "text/plain": [
       "<Figure size 1000x400 with 10 Axes>"
      ]
     },
     "metadata": {},
     "output_type": "display_data"
    }
   ],
   "source": [
    "from matplotlib import pyplot as plt\n",
    "import numpy as np \n",
    "%matplotlib inline\n",
    "\n",
    "def plotting_samples(train_X, train_y):\n",
    "    fig, ax = plt.subplots(2, 5, figsize=(10, 4))\n",
    "    for i in range(2):\n",
    "        for j in range (5):\n",
    "            x = np.random.randint(0, 1000)\n",
    "            ax[i, j].imshow(train_X[x])\n",
    "            ax[i, j].set_title(train_y[x])\n",
    "            ax[i, j].axis('off')\n",
    "            \n",
    "plotting_samples(train_X, train_y)"
   ]
  },
  {
   "cell_type": "code",
   "execution_count": 10,
   "metadata": {
    "id": "UXYwWhHpz_GD"
   },
   "outputs": [],
   "source": [
    "#* np.mean (images , Keepdims = True , axis = channel)\n",
    "train_X_gray = np.mean(train_X,keepdims=True,axis = -1)\n",
    "test_X_gray = np.mean(test_X,keepdims=True,axis = -1)\n",
    "\n"
   ]
  },
  {
   "cell_type": "code",
   "execution_count": 11,
   "metadata": {
    "id": "auFZ63dtz_GH"
   },
   "outputs": [
    {
     "data": {
      "image/png": "[encoded data removed]",
      "text/plain": [
       "<Figure size 1000x400 with 10 Axes>"
      ]
     },
     "metadata": {},
     "output_type": "display_data"
    }
   ],
   "source": [
    "def plotting_samples_gray(train_X, train_y):\n",
    "    fig, ax = plt.subplots(2, 5, figsize=(10, 4))\n",
    "    for i in range(2):\n",
    "        for j in range (5):\n",
    "            x = np.random.randint(0, 1000)\n",
    "            ax[i, j].imshow(train_X_gray[x])\n",
    "            ax[i, j].set_title(train_y[x])\n",
    "            ax[i, j].axis('off')\n",
    "            \n",
    "            \n",
    "plotting_samples_gray(train_X, train_y)"
   ]
  },
  {
   "cell_type": "markdown",
   "metadata": {
    "id": "7e7iSyWXz_GN"
   },
   "source": [
    "## 2. MLP neural network classifier\n",
    "* Build an MLP classifier model using the Sequential API. Your model should use only Flatten and Dense layers, with the final layer having a 10-way softmax output. \n",
    "* You should design and build the model yourself. Feel free to experiment with different MLP architectures. _Hint: to achieve a reasonable accuracy you won't need to use more than 4 or 5 layers._\n",
    "* Print out the model summary (using the summary() method)\n",
    "* Compile and train the model (recommend a maximum of 30 epochs), making use of both training and validation sets during the training run. \n",
    "* Your model should track at least one appropriate metric, and use at least one callback during training, like a ModelCheckpoint callback.\n",
    "* As a guide, you should aim to achieve a final categorical cross entropy training loss of less than 1.0 (the validation loss might be higher).\n",
    "* Plot the learning curves for loss vs epoch and accuracy vs epoch for both training and validation sets.\n",
    "* Compute and display the loss and accuracy of the trained model on the test set."
   ]
  },
  {
   "cell_type": "code",
   "execution_count": 12,
   "metadata": {},
   "outputs": [],
   "source": [
    "import tensorflow as tf \n",
    "from tensorflow import keras\n",
    "from keras import layers , Model\n"
   ]
  },
  {
   "cell_type": "code",
   "execution_count": 13,
   "metadata": {},
   "outputs": [],
   "source": [
    "from sklearn.model_selection import train_test_split\n",
    "\n",
    "train_y = keras.utils.to_categorical(train_y, num_classes=10)\n",
    "test_y = keras.utils.to_categorical(test_y, num_classes=10)\n",
    "#! i dont know why it is not working?!! with the class [10] ?!\n",
    "\n",
    "xtrain , xval , ytrain , yval = train_test_split(train_X_gray, train_y, test_size = 0.15, random_state = 42)\n",
    "#ytrain = keras.utils.to_categorical(ytrain, 10)\n",
    "#yval = keras.utils.to_categorical(yval, 10)"
   ]
  },
  {
   "cell_type": "code",
   "execution_count": 14,
   "metadata": {},
   "outputs": [
    {
     "name": "stdout",
     "output_type": "stream",
     "text": [
      "Model: \"MLp_model\"\n",
      "_________________________________________________________________\n",
      " Layer (type)                Output Shape              Param #   \n",
      "=================================================================\n",
      " input_1 (InputLayer)        [(None, 32, 32, 1)]       0         \n",
      "                                                                 \n",
      " flatten (Flatten)           (None, 1024)              0         \n",
      "                                                                 \n",
      " dense (Dense)               (None, 128)               131200    \n",
      "                                                                 \n",
      " dense_1 (Dense)             (None, 128)               16512     \n",
      "                                                                 \n",
      " dense_2 (Dense)             (None, 64)                8256      \n",
      "                                                                 \n",
      " dense_3 (Dense)             (None, 10)                650       \n",
      "                                                                 \n",
      "=================================================================\n",
      "Total params: 156,618\n",
      "Trainable params: 156,618\n",
      "Non-trainable params: 0\n",
      "_________________________________________________________________\n"
     ]
    }
   ],
   "source": [
    "# * MLP model\n",
    "def Create_MLP_model():\n",
    "    inputs = keras.Input(shape=train_X_gray[0].shape)\n",
    "    flatten = layers.Flatten()(inputs)\n",
    "    #layer1 = layers.Dense(256,  activation='relu')(flatten)\n",
    "    layer1 = layers.Dense(128,  activation='relu')(flatten)\n",
    "    layer2 = layers.Dense(128,  activation='relu')(layer1)\n",
    "    layer3 = layers.Dense(64, activation='relu')(layer2)\n",
    "    Outputs = layers.Dense(10, activation='softmax')(layer3)\n",
    "    MLP_model = Model(inputs =inputs, outputs = Outputs, name= 'MLp_model')\n",
    "    return MLP_model\n",
    "\n",
    "MLP_model = Create_MLP_model()\n",
    "MLP_model.summary()"
   ]
  },
  {
   "cell_type": "code",
   "execution_count": 15,
   "metadata": {},
   "outputs": [],
   "source": [
    "from keras.callbacks import ModelCheckpoint, ReduceLROnPlateau\n",
    "\n",
    "\n",
    "MLP_model.compile(optimizer='adam',loss='CategoricalCrossentropy', metrics=['accuracy'])\n",
    "callback_best = ModelCheckpoint('MLPmodel/best_model', save_best_only=True, save_weights_only=True, monitor=\"val_accuracy\")"
   ]
  },
  {
   "cell_type": "code",
   "execution_count": 16,
   "metadata": {
    "id": "YxJXq3xYz_GU"
   },
   "outputs": [
    {
     "name": "stdout",
     "output_type": "stream",
     "text": [
      "Epoch 1/30\n",
      "973/973 [==============================] - 6s 5ms/step - loss: 1.9748 - accuracy: 0.2934 - val_loss: 1.5799 - val_accuracy: 0.4618\n",
      "Epoch 2/30\n",
      "973/973 [==============================] - 4s 4ms/step - loss: 1.4027 - accuracy: 0.5322 - val_loss: 1.2899 - val_accuracy: 0.5758\n",
      "Epoch 3/30\n",
      "973/973 [==============================] - 3s 3ms/step - loss: 1.2656 - accuracy: 0.5887 - val_loss: 1.1945 - val_accuracy: 0.6122\n",
      "Epoch 4/30\n",
      "973/973 [==============================] - 3s 3ms/step - loss: 1.1934 - accuracy: 0.6174 - val_loss: 1.1422 - val_accuracy: 0.6345\n",
      "Epoch 5/30\n",
      "973/973 [==============================] - 3s 3ms/step - loss: 1.1516 - accuracy: 0.6332 - val_loss: 1.0982 - val_accuracy: 0.6479\n",
      "Epoch 6/30\n",
      "973/973 [==============================] - 3s 3ms/step - loss: 1.1144 - accuracy: 0.6476 - val_loss: 1.1191 - val_accuracy: 0.6430\n",
      "Epoch 7/30\n",
      "973/973 [==============================] - 3s 3ms/step - loss: 1.0794 - accuracy: 0.6585 - val_loss: 1.0242 - val_accuracy: 0.6797\n",
      "Epoch 8/30\n",
      "973/973 [==============================] - 3s 3ms/step - loss: 1.0508 - accuracy: 0.6674 - val_loss: 1.0864 - val_accuracy: 0.6538\n",
      "Epoch 9/30\n",
      "973/973 [==============================] - 3s 3ms/step - loss: 1.0270 - accuracy: 0.6782 - val_loss: 0.9797 - val_accuracy: 0.6944\n",
      "Epoch 10/30\n",
      "973/973 [==============================] - 3s 3ms/step - loss: 1.0018 - accuracy: 0.6856 - val_loss: 0.9636 - val_accuracy: 0.6999\n",
      "Epoch 11/30\n",
      "973/973 [==============================] - 3s 3ms/step - loss: 0.9899 - accuracy: 0.6902 - val_loss: 0.9510 - val_accuracy: 0.7011\n",
      "Epoch 12/30\n",
      "973/973 [==============================] - 3s 3ms/step - loss: 0.9680 - accuracy: 0.6962 - val_loss: 0.9748 - val_accuracy: 0.6941\n",
      "Epoch 13/30\n",
      "973/973 [==============================] - 3s 3ms/step - loss: 0.9578 - accuracy: 0.6982 - val_loss: 0.9938 - val_accuracy: 0.6835\n",
      "Epoch 14/30\n",
      "973/973 [==============================] - 3s 3ms/step - loss: 0.9516 - accuracy: 0.7012 - val_loss: 0.9272 - val_accuracy: 0.7086\n",
      "Epoch 15/30\n",
      "973/973 [==============================] - 4s 4ms/step - loss: 0.9372 - accuracy: 0.7049 - val_loss: 0.9258 - val_accuracy: 0.7070\n",
      "Epoch 16/30\n",
      "973/973 [==============================] - 4s 4ms/step - loss: 0.9297 - accuracy: 0.7071 - val_loss: 0.9260 - val_accuracy: 0.7110\n",
      "Epoch 17/30\n",
      "973/973 [==============================] - 3s 3ms/step - loss: 0.9245 - accuracy: 0.7092 - val_loss: 0.9965 - val_accuracy: 0.6790\n",
      "Epoch 18/30\n",
      "973/973 [==============================] - 3s 3ms/step - loss: 0.9164 - accuracy: 0.7110 - val_loss: 0.9662 - val_accuracy: 0.6945\n",
      "Epoch 19/30\n",
      "973/973 [==============================] - 3s 3ms/step - loss: 0.9166 - accuracy: 0.7103 - val_loss: 0.9419 - val_accuracy: 0.7063\n",
      "Epoch 20/30\n",
      "973/973 [==============================] - 3s 3ms/step - loss: 0.9024 - accuracy: 0.7160 - val_loss: 0.8935 - val_accuracy: 0.7205\n",
      "Epoch 21/30\n",
      "973/973 [==============================] - 3s 3ms/step - loss: 0.8984 - accuracy: 0.7152 - val_loss: 0.9282 - val_accuracy: 0.7078\n",
      "Epoch 22/30\n",
      "973/973 [==============================] - 4s 4ms/step - loss: 0.8972 - accuracy: 0.7151 - val_loss: 0.8785 - val_accuracy: 0.7219\n",
      "Epoch 23/30\n",
      "973/973 [==============================] - 5s 5ms/step - loss: 0.8891 - accuracy: 0.7181 - val_loss: 0.9391 - val_accuracy: 0.7017\n",
      "Epoch 24/30\n",
      "973/973 [==============================] - 3s 4ms/step - loss: 0.8874 - accuracy: 0.7193 - val_loss: 0.9091 - val_accuracy: 0.7137\n",
      "Epoch 25/30\n",
      "973/973 [==============================] - 3s 3ms/step - loss: 0.8837 - accuracy: 0.7210 - val_loss: 0.8828 - val_accuracy: 0.7233\n",
      "Epoch 26/30\n",
      "973/973 [==============================] - 3s 3ms/step - loss: 0.8844 - accuracy: 0.7187 - val_loss: 0.9281 - val_accuracy: 0.7039\n",
      "Epoch 27/30\n",
      "973/973 [==============================] - 3s 3ms/step - loss: 0.8795 - accuracy: 0.7196 - val_loss: 0.8894 - val_accuracy: 0.7222\n",
      "Epoch 28/30\n",
      "973/973 [==============================] - 3s 3ms/step - loss: 0.8787 - accuracy: 0.7210 - val_loss: 0.9361 - val_accuracy: 0.7037\n",
      "Epoch 29/30\n",
      "973/973 [==============================] - 3s 3ms/step - loss: 0.8743 - accuracy: 0.7234 - val_loss: 0.8642 - val_accuracy: 0.7300\n",
      "Epoch 30/30\n",
      "973/973 [==============================] - 3s 3ms/step - loss: 0.8652 - accuracy: 0.7271 - val_loss: 0.8674 - val_accuracy: 0.7256\n"
     ]
    }
   ],
   "source": [
    "history = MLP_model.fit(xtrain, ytrain, epochs = 30 , validation_data = (xval, yval), batch_size = 64, callbacks = [callback_best], verbose = 1)"
   ]
  },
  {
   "cell_type": "code",
   "execution_count": 17,
   "metadata": {
    "id": "pPPbzGhVz_GW"
   },
   "outputs": [
    {
     "data": {
      "application/vnd.plotly.v1+json": {
       "config": {
        "plotlyServerURL": "https://plot.ly"
       },
       "data": [
        {
         "hovertemplate": "variable=loss<br>index=%{x}<br>value=%{y}<extra></extra>",
         "legendgroup": "loss",
         "line": {
          "color": "#636efa",
          "dash": "solid"
         },
         "marker": {
          "symbol": "circle"
         },
         "mode": "lines",
         "name": "loss",
         "orientation": "v",
         "showlegend": true,
         "type": "scatter",
         "x": [
          0,
          1,
          2,
          3,
          4,
          5,
          6,
          7,
          8,
          9,
          10,
          11,
          12,
          13,
          14,
          15,
          16,
          17,
          18,
          19,
          20,
          21,
          22,
          23,
          24,
          25,
          26,
          27,
          28,
          29
         ],
         "xaxis": "x",
         "y": [
          1.9748058319091797,
          1.4027276039123535,
          1.2656223773956299,
          1.1933681964874268,
          1.151607632637024,
          1.1144027709960938,
          1.0794380903244019,
          1.0507642030715942,
          1.027000069618225,
          1.0017728805541992,
          0.9898739457130432,
          0.9679864048957825,
          0.9577692151069641,
          0.9516404867172241,
          0.9371783137321472,
          0.9296700954437256,
          0.9245346188545227,
          0.9164089560508728,
          0.9165538549423218,
          0.9024350643157959,
          0.8983919024467468,
          0.8971765041351318,
          0.8891339898109436,
          0.8873544335365295,
          0.8836765885353088,
          0.8843616843223572,
          0.8795337080955505,
          0.8787211775779724,
          0.8743340373039246,
          0.865192174911499
         ],
         "yaxis": "y"
        },
        {
         "hovertemplate": "variable=val_loss<br>index=%{x}<br>value=%{y}<extra></extra>",
         "legendgroup": "val_loss",
         "line": {
          "color": "#EF553B",
          "dash": "solid"
         },
         "marker": {
          "symbol": "circle"
         },
         "mode": "lines",
         "name": "val_loss",
         "orientation": "v",
         "showlegend": true,
         "type": "scatter",
         "x": [
          0,
          1,
          2,
          3,
          4,
          5,
          6,
          7,
          8,
          9,
          10,
          11,
          12,
          13,
          14,
          15,
          16,
          17,
          18,
          19,
          20,
          21,
          22,
          23,
          24,
          25,
          26,
          27,
          28,
          29
         ],
         "xaxis": "x",
         "y": [
          1.5799297094345093,
          1.289882779121399,
          1.1945010423660278,
          1.1422154903411865,
          1.098175287246704,
          1.1190810203552246,
          1.0241543054580688,
          1.086444616317749,
          0.9797016382217407,
          0.9636085033416748,
          0.9510298371315002,
          0.9747623205184937,
          0.9938126802444458,
          0.927236020565033,
          0.9257616400718689,
          0.9259767532348633,
          0.9965003132820129,
          0.9662246704101562,
          0.9418535232543945,
          0.8934723734855652,
          0.9282056093215942,
          0.878486692905426,
          0.9390847682952881,
          0.9090800881385803,
          0.8828047513961792,
          0.9280882477760315,
          0.889362096786499,
          0.936064600944519,
          0.8641721606254578,
          0.8674407005310059
         ],
         "yaxis": "y"
        }
       ],
       "layout": {
        "legend": {
         "title": {
          "text": "variable"
         },
         "tracegroupgap": 0
        },
        "template": {
         "data": {
          "bar": [
           {
            "error_x": {
             "color": "#f2f5fa"
            },
            "error_y": {
             "color": "#f2f5fa"
            },
            "marker": {
             "line": {
              "color": "rgb(17,17,17)",
              "width": 0.5
             },
             "pattern": {
              "fillmode": "overlay",
              "size": 10,
              "solidity": 0.2
             }
            },
            "type": "bar"
           }
          ],
          "barpolar": [
           {
            "marker": {
             "line": {
              "color": "rgb(17,17,17)",
              "width": 0.5
             },
             "pattern": {
              "fillmode": "overlay",
              "size": 10,
              "solidity": 0.2
             }
            },
            "type": "barpolar"
           }
          ],
          "carpet": [
           {
            "aaxis": {
             "endlinecolor": "#A2B1C6",
             "gridcolor": "#506784",
             "linecolor": "#506784",
             "minorgridcolor": "#506784",
             "startlinecolor": "#A2B1C6"
            },
            "baxis": {
             "endlinecolor": "#A2B1C6",
             "gridcolor": "#506784",
             "linecolor": "#506784",
             "minorgridcolor": "#506784",
             "startlinecolor": "#A2B1C6"
            },
            "type": "carpet"
           }
          ],
          "choropleth": [
           {
            "colorbar": {
             "outlinewidth": 0,
             "ticks": ""
            },
            "type": "choropleth"
           }
          ],
          "contour": [
           {
            "colorbar": {
             "outlinewidth": 0,
             "ticks": ""
            },
            "colorscale": [
             [
              0,
              "#0d0887"
             ],
             [
              0.1111111111111111,
              "#46039f"
             ],
             [
              0.2222222222222222,
              "#7201a8"
             ],
             [
              0.3333333333333333,
              "#9c179e"
             ],
             [
              0.4444444444444444,
              "#bd3786"
             ],
             [
              0.5555555555555556,
              "#d8576b"
             ],
             [
              0.6666666666666666,
              "#ed7953"
             ],
             [
              0.7777777777777778,
              "#fb9f3a"
             ],
             [
              0.8888888888888888,
              "#fdca26"
             ],
             [
              1,
              "#f0f921"
             ]
            ],
            "type": "contour"
           }
          ],
          "contourcarpet": [
           {
            "colorbar": {
             "outlinewidth": 0,
             "ticks": ""
            },
            "type": "contourcarpet"
           }
          ],
          "heatmap": [
           {
            "colorbar": {
             "outlinewidth": 0,
             "ticks": ""
            },
            "colorscale": [
             [
              0,
              "#0d0887"
             ],
             [
              0.1111111111111111,
              "#46039f"
             ],
             [
              0.2222222222222222,
              "#7201a8"
             ],
             [
              0.3333333333333333,
              "#9c179e"
             ],
             [
              0.4444444444444444,
              "#bd3786"
             ],
             [
              0.5555555555555556,
              "#d8576b"
             ],
             [
              0.6666666666666666,
              "#ed7953"
             ],
             [
              0.7777777777777778,
              "#fb9f3a"
             ],
             [
              0.8888888888888888,
              "#fdca26"
             ],
             [
              1,
              "#f0f921"
             ]
            ],
            "type": "heatmap"
           }
          ],
          "heatmapgl": [
           {
            "colorbar": {
             "outlinewidth": 0,
             "ticks": ""
            },
            "colorscale": [
             [
              0,
              "#0d0887"
             ],
             [
              0.1111111111111111,
              "#46039f"
             ],
             [
              0.2222222222222222,
              "#7201a8"
             ],
             [
              0.3333333333333333,
              "#9c179e"
             ],
             [
              0.4444444444444444,
              "#bd3786"
             ],
             [
              0.5555555555555556,
              "#d8576b"
             ],
             [
              0.6666666666666666,
              "#ed7953"
             ],
             [
              0.7777777777777778,
              "#fb9f3a"
             ],
             [
              0.8888888888888888,
              "#fdca26"
             ],
             [
              1,
              "#f0f921"
             ]
            ],
            "type": "heatmapgl"
           }
          ],
          "histogram": [
           {
            "marker": {
             "pattern": {
              "fillmode": "overlay",
              "size": 10,
              "solidity": 0.2
             }
            },
            "type": "histogram"
           }
          ],
          "histogram2d": [
           {
            "colorbar": {
             "outlinewidth": 0,
             "ticks": ""
            },
            "colorscale": [
             [
              0,
              "#0d0887"
             ],
             [
              0.1111111111111111,
              "#46039f"
             ],
             [
              0.2222222222222222,
              "#7201a8"
             ],
             [
              0.3333333333333333,
              "#9c179e"
             ],
             [
              0.4444444444444444,
              "#bd3786"
             ],
             [
              0.5555555555555556,
              "#d8576b"
             ],
             [
              0.6666666666666666,
              "#ed7953"
             ],
             [
              0.7777777777777778,
              "#fb9f3a"
             ],
             [
              0.8888888888888888,
              "#fdca26"
             ],
             [
              1,
              "#f0f921"
             ]
            ],
            "type": "histogram2d"
           }
          ],
          "histogram2dcontour": [
           {
            "colorbar": {
             "outlinewidth": 0,
             "ticks": ""
            },
            "colorscale": [
             [
              0,
              "#0d0887"
             ],
             [
              0.1111111111111111,
              "#46039f"
             ],
             [
              0.2222222222222222,
              "#7201a8"
             ],
             [
              0.3333333333333333,
              "#9c179e"
             ],
             [
              0.4444444444444444,
              "#bd3786"
             ],
             [
              0.5555555555555556,
              "#d8576b"
             ],
             [
              0.6666666666666666,
              "#ed7953"
             ],
             [
              0.7777777777777778,
              "#fb9f3a"
             ],
             [
              0.8888888888888888,
              "#fdca26"
             ],
             [
              1,
              "#f0f921"
             ]
            ],
            "type": "histogram2dcontour"
           }
          ],
          "mesh3d": [
           {
            "colorbar": {
             "outlinewidth": 0,
             "ticks": ""
            },
            "type": "mesh3d"
           }
          ],
          "parcoords": [
           {
            "line": {
             "colorbar": {
              "outlinewidth": 0,
              "ticks": ""
             }
            },
            "type": "parcoords"
           }
          ],
          "pie": [
           {
            "automargin": true,
            "type": "pie"
           }
          ],
          "scatter": [
           {
            "marker": {
             "line": {
              "color": "#283442"
             }
            },
            "type": "scatter"
           }
          ],
          "scatter3d": [
           {
            "line": {
             "colorbar": {
              "outlinewidth": 0,
              "ticks": ""
             }
            },
            "marker": {
             "colorbar": {
              "outlinewidth": 0,
              "ticks": ""
             }
            },
            "type": "scatter3d"
           }
          ],
          "scattercarpet": [
           {
            "marker": {
             "colorbar": {
              "outlinewidth": 0,
              "ticks": ""
             }
            },
            "type": "scattercarpet"
           }
          ],
          "scattergeo": [
           {
            "marker": {
             "colorbar": {
              "outlinewidth": 0,
              "ticks": ""
             }
            },
            "type": "scattergeo"
           }
          ],
          "scattergl": [
           {
            "marker": {
             "line": {
              "color": "#283442"
             }
            },
            "type": "scattergl"
           }
          ],
          "scattermapbox": [
           {
            "marker": {
             "colorbar": {
              "outlinewidth": 0,
              "ticks": ""
             }
            },
            "type": "scattermapbox"
           }
          ],
          "scatterpolar": [
           {
            "marker": {
             "colorbar": {
              "outlinewidth": 0,
              "ticks": ""
             }
            },
            "type": "scatterpolar"
           }
          ],
          "scatterpolargl": [
           {
            "marker": {
             "colorbar": {
              "outlinewidth": 0,
              "ticks": ""
             }
            },
            "type": "scatterpolargl"
           }
          ],
          "scatterternary": [
           {
            "marker": {
             "colorbar": {
              "outlinewidth": 0,
              "ticks": ""
             }
            },
            "type": "scatterternary"
           }
          ],
          "surface": [
           {
            "colorbar": {
             "outlinewidth": 0,
             "ticks": ""
            },
            "colorscale": [
             [
              0,
              "#0d0887"
             ],
             [
              0.1111111111111111,
              "#46039f"
             ],
             [
              0.2222222222222222,
              "#7201a8"
             ],
             [
              0.3333333333333333,
              "#9c179e"
             ],
             [
              0.4444444444444444,
              "#bd3786"
             ],
             [
              0.5555555555555556,
              "#d8576b"
             ],
             [
              0.6666666666666666,
              "#ed7953"
             ],
             [
              0.7777777777777778,
              "#fb9f3a"
             ],
             [
              0.8888888888888888,
              "#fdca26"
             ],
             [
              1,
              "#f0f921"
             ]
            ],
            "type": "surface"
           }
          ],
          "table": [
           {
            "cells": {
             "fill": {
              "color": "#506784"
             },
             "line": {
              "color": "rgb(17,17,17)"
             }
            },
            "header": {
             "fill": {
              "color": "#2a3f5f"
             },
             "line": {
              "color": "rgb(17,17,17)"
             }
            },
            "type": "table"
           }
          ]
         },
         "layout": {
          "annotationdefaults": {
           "arrowcolor": "#f2f5fa",
           "arrowhead": 0,
           "arrowwidth": 1
          },
          "autotypenumbers": "strict",
          "coloraxis": {
           "colorbar": {
            "outlinewidth": 0,
            "ticks": ""
           }
          },
          "colorscale": {
           "diverging": [
            [
             0,
             "#8e0152"
            ],
            [
             0.1,
             "#c51b7d"
            ],
            [
             0.2,
             "#de77ae"
            ],
            [
             0.3,
             "#f1b6da"
            ],
            [
             0.4,
             "#fde0ef"
            ],
            [
             0.5,
             "#f7f7f7"
            ],
            [
             0.6,
             "#e6f5d0"
            ],
            [
             0.7,
             "#b8e186"
            ],
            [
             0.8,
             "#7fbc41"
            ],
            [
             0.9,
             "#4d9221"
            ],
            [
             1,
             "#276419"
            ]
           ],
           "sequential": [
            [
             0,
             "#0d0887"
            ],
            [
             0.1111111111111111,
             "#46039f"
            ],
            [
             0.2222222222222222,
             "#7201a8"
            ],
            [
             0.3333333333333333,
             "#9c179e"
            ],
            [
             0.4444444444444444,
             "#bd3786"
            ],
            [
             0.5555555555555556,
             "#d8576b"
            ],
            [
             0.6666666666666666,
             "#ed7953"
            ],
            [
             0.7777777777777778,
             "#fb9f3a"
            ],
            [
             0.8888888888888888,
             "#fdca26"
            ],
            [
             1,
             "#f0f921"
            ]
           ],
           "sequentialminus": [
            [
             0,
             "#0d0887"
            ],
            [
             0.1111111111111111,
             "#46039f"
            ],
            [
             0.2222222222222222,
             "#7201a8"
            ],
            [
             0.3333333333333333,
             "#9c179e"
            ],
            [
             0.4444444444444444,
             "#bd3786"
            ],
            [
             0.5555555555555556,
             "#d8576b"
            ],
            [
             0.6666666666666666,
             "#ed7953"
            ],
            [
             0.7777777777777778,
             "#fb9f3a"
            ],
            [
             0.8888888888888888,
             "#fdca26"
            ],
            [
             1,
             "#f0f921"
            ]
           ]
          },
          "colorway": [
           "#636efa",
           "#EF553B",
           "#00cc96",
           "#ab63fa",
           "#FFA15A",
           "#19d3f3",
           "#FF6692",
           "#B6E880",
           "#FF97FF",
           "#FECB52"
          ],
          "font": {
           "color": "#f2f5fa"
          },
          "geo": {
           "bgcolor": "rgb(17,17,17)",
           "lakecolor": "rgb(17,17,17)",
           "landcolor": "rgb(17,17,17)",
           "showlakes": true,
           "showland": true,
           "subunitcolor": "#506784"
          },
          "hoverlabel": {
           "align": "left"
          },
          "hovermode": "closest",
          "mapbox": {
           "style": "dark"
          },
          "paper_bgcolor": "rgb(17,17,17)",
          "plot_bgcolor": "rgb(17,17,17)",
          "polar": {
           "angularaxis": {
            "gridcolor": "#506784",
            "linecolor": "#506784",
            "ticks": ""
           },
           "bgcolor": "rgb(17,17,17)",
           "radialaxis": {
            "gridcolor": "#506784",
            "linecolor": "#506784",
            "ticks": ""
           }
          },
          "scene": {
           "xaxis": {
            "backgroundcolor": "rgb(17,17,17)",
            "gridcolor": "#506784",
            "gridwidth": 2,
            "linecolor": "#506784",
            "showbackground": true,
            "ticks": "",
            "zerolinecolor": "#C8D4E3"
           },
           "yaxis": {
            "backgroundcolor": "rgb(17,17,17)",
            "gridcolor": "#506784",
            "gridwidth": 2,
            "linecolor": "#506784",
            "showbackground": true,
            "ticks": "",
            "zerolinecolor": "#C8D4E3"
           },
           "zaxis": {
            "backgroundcolor": "rgb(17,17,17)",
            "gridcolor": "#506784",
            "gridwidth": 2,
            "linecolor": "#506784",
            "showbackground": true,
            "ticks": "",
            "zerolinecolor": "#C8D4E3"
           }
          },
          "shapedefaults": {
           "line": {
            "color": "#f2f5fa"
           }
          },
          "sliderdefaults": {
           "bgcolor": "#C8D4E3",
           "bordercolor": "rgb(17,17,17)",
           "borderwidth": 1,
           "tickwidth": 0
          },
          "ternary": {
           "aaxis": {
            "gridcolor": "#506784",
            "linecolor": "#506784",
            "ticks": ""
           },
           "baxis": {
            "gridcolor": "#506784",
            "linecolor": "#506784",
            "ticks": ""
           },
           "bgcolor": "rgb(17,17,17)",
           "caxis": {
            "gridcolor": "#506784",
            "linecolor": "#506784",
            "ticks": ""
           }
          },
          "title": {
           "x": 0.05
          },
          "updatemenudefaults": {
           "bgcolor": "#506784",
           "borderwidth": 0
          },
          "xaxis": {
           "automargin": true,
           "gridcolor": "#283442",
           "linecolor": "#506784",
           "ticks": "",
           "title": {
            "standoff": 15
           },
           "zerolinecolor": "#283442",
           "zerolinewidth": 2
          },
          "yaxis": {
           "automargin": true,
           "gridcolor": "#283442",
           "linecolor": "#506784",
           "ticks": "",
           "title": {
            "standoff": 15
           },
           "zerolinecolor": "#283442",
           "zerolinewidth": 2
          }
         }
        },
        "title": {
         "text": "Loss"
        },
        "xaxis": {
         "anchor": "y",
         "domain": [
          0,
          1
         ],
         "title": {
          "text": "index"
         }
        },
        "yaxis": {
         "anchor": "x",
         "domain": [
          0,
          1
         ],
         "title": {
          "text": "value"
         }
        }
       }
      }
     },
     "metadata": {},
     "output_type": "display_data"
    }
   ],
   "source": [
    "import plotly.express as px\n",
    "px.line(history.history, y=['loss', 'val_loss'], title='Loss', template='plotly_dark')\n"
   ]
  },
  {
   "cell_type": "code",
   "execution_count": 18,
   "metadata": {},
   "outputs": [
    {
     "data": {
      "application/vnd.plotly.v1+json": {
       "config": {
        "plotlyServerURL": "https://plot.ly"
       },
       "data": [
        {
         "hovertemplate": "variable=accuracy<br>index=%{x}<br>value=%{y}<extra></extra>",
         "legendgroup": "accuracy",
         "line": {
          "color": "#636efa",
          "dash": "solid"
         },
         "marker": {
          "symbol": "circle"
         },
         "mode": "lines",
         "name": "accuracy",
         "orientation": "v",
         "showlegend": true,
         "type": "scatter",
         "x": [
          0,
          1,
          2,
          3,
          4,
          5,
          6,
          7,
          8,
          9,
          10,
          11,
          12,
          13,
          14,
          15,
          16,
          17,
          18,
          19,
          20,
          21,
          22,
          23,
          24,
          25,
          26,
          27,
          28,
          29
         ],
         "xaxis": "x",
         "y": [
          0.2934412658214569,
          0.5322477221488953,
          0.588681161403656,
          0.6173957586288452,
          0.6331984400749207,
          0.6476039290428162,
          0.6584601998329163,
          0.6674054265022278,
          0.6781653761863708,
          0.6855527758598328,
          0.6901940107345581,
          0.6962003111839294,
          0.6981756091117859,
          0.7012430429458618,
          0.7049206495285034,
          0.7071048021316528,
          0.7091925144195557,
          0.7110072374343872,
          0.7103327512741089,
          0.7160178422927856,
          0.7151827812194824,
          0.7150864005088806,
          0.7180734872817993,
          0.719294011592865,
          0.7210124135017395,
          0.7187158465385437,
          0.7196473479270935,
          0.7210284471511841,
          0.723389208316803,
          0.7270508408546448
         ],
         "yaxis": "y"
        },
        {
         "hovertemplate": "variable=val_accuracy<br>index=%{x}<br>value=%{y}<extra></extra>",
         "legendgroup": "val_accuracy",
         "line": {
          "color": "#EF553B",
          "dash": "solid"
         },
         "marker": {
          "symbol": "circle"
         },
         "mode": "lines",
         "name": "val_accuracy",
         "orientation": "v",
         "showlegend": true,
         "type": "scatter",
         "x": [
          0,
          1,
          2,
          3,
          4,
          5,
          6,
          7,
          8,
          9,
          10,
          11,
          12,
          13,
          14,
          15,
          16,
          17,
          18,
          19,
          20,
          21,
          22,
          23,
          24,
          25,
          26,
          27,
          28,
          29
         ],
         "xaxis": "x",
         "y": [
          0.4618254601955414,
          0.5758485794067383,
          0.6122485995292664,
          0.6344526410102844,
          0.6479206681251526,
          0.6430066227912903,
          0.6796796917915344,
          0.653835654258728,
          0.6944217085838318,
          0.6998816728591919,
          0.7010647058486938,
          0.6941487193107605,
          0.683501660823822,
          0.7086176872253418,
          0.7069796919822693,
          0.7109836935997009,
          0.6790426969528198,
          0.694512665271759,
          0.7063426971435547,
          0.7205387353897095,
          0.7077987194061279,
          0.7219037413597107,
          0.7017017006874084,
          0.7137137055397034,
          0.7232687473297119,
          0.7038856744766235,
          0.722176730632782,
          0.7037037014961243,
          0.7300027012825012,
          0.725634753704071
         ],
         "yaxis": "y"
        }
       ],
       "layout": {
        "legend": {
         "title": {
          "text": "variable"
         },
         "tracegroupgap": 0
        },
        "template": {
         "data": {
          "bar": [
           {
            "error_x": {
             "color": "#f2f5fa"
            },
            "error_y": {
             "color": "#f2f5fa"
            },
            "marker": {
             "line": {
              "color": "rgb(17,17,17)",
              "width": 0.5
             },
             "pattern": {
              "fillmode": "overlay",
              "size": 10,
              "solidity": 0.2
             }
            },
            "type": "bar"
           }
          ],
          "barpolar": [
           {
            "marker": {
             "line": {
              "color": "rgb(17,17,17)",
              "width": 0.5
             },
             "pattern": {
              "fillmode": "overlay",
              "size": 10,
              "solidity": 0.2
             }
            },
            "type": "barpolar"
           }
          ],
          "carpet": [
           {
            "aaxis": {
             "endlinecolor": "#A2B1C6",
             "gridcolor": "#506784",
             "linecolor": "#506784",
             "minorgridcolor": "#506784",
             "startlinecolor": "#A2B1C6"
            },
            "baxis": {
             "endlinecolor": "#A2B1C6",
             "gridcolor": "#506784",
             "linecolor": "#506784",
             "minorgridcolor": "#506784",
             "startlinecolor": "#A2B1C6"
            },
            "type": "carpet"
           }
          ],
          "choropleth": [
           {
            "colorbar": {
             "outlinewidth": 0,
             "ticks": ""
            },
            "type": "choropleth"
           }
          ],
          "contour": [
           {
            "colorbar": {
             "outlinewidth": 0,
             "ticks": ""
            },
            "colorscale": [
             [
              0,
              "#0d0887"
             ],
             [
              0.1111111111111111,
              "#46039f"
             ],
             [
              0.2222222222222222,
              "#7201a8"
             ],
             [
              0.3333333333333333,
              "#9c179e"
             ],
             [
              0.4444444444444444,
              "#bd3786"
             ],
             [
              0.5555555555555556,
              "#d8576b"
             ],
             [
              0.6666666666666666,
              "#ed7953"
             ],
             [
              0.7777777777777778,
              "#fb9f3a"
             ],
             [
              0.8888888888888888,
              "#fdca26"
             ],
             [
              1,
              "#f0f921"
             ]
            ],
            "type": "contour"
           }
          ],
          "contourcarpet": [
           {
            "colorbar": {
             "outlinewidth": 0,
             "ticks": ""
            },
            "type": "contourcarpet"
           }
          ],
          "heatmap": [
           {
            "colorbar": {
             "outlinewidth": 0,
             "ticks": ""
            },
            "colorscale": [
             [
              0,
              "#0d0887"
             ],
             [
              0.1111111111111111,
              "#46039f"
             ],
             [
              0.2222222222222222,
              "#7201a8"
             ],
             [
              0.3333333333333333,
              "#9c179e"
             ],
             [
              0.4444444444444444,
              "#bd3786"
             ],
             [
              0.5555555555555556,
              "#d8576b"
             ],
             [
              0.6666666666666666,
              "#ed7953"
             ],
             [
              0.7777777777777778,
              "#fb9f3a"
             ],
             [
              0.8888888888888888,
              "#fdca26"
             ],
             [
              1,
              "#f0f921"
             ]
            ],
            "type": "heatmap"
           }
          ],
          "heatmapgl": [
           {
            "colorbar": {
             "outlinewidth": 0,
             "ticks": ""
            },
            "colorscale": [
             [
              0,
              "#0d0887"
             ],
             [
              0.1111111111111111,
              "#46039f"
             ],
             [
              0.2222222222222222,
              "#7201a8"
             ],
             [
              0.3333333333333333,
              "#9c179e"
             ],
             [
              0.4444444444444444,
              "#bd3786"
             ],
             [
              0.5555555555555556,
              "#d8576b"
             ],
             [
              0.6666666666666666,
              "#ed7953"
             ],
             [
              0.7777777777777778,
              "#fb9f3a"
             ],
             [
              0.8888888888888888,
              "#fdca26"
             ],
             [
              1,
              "#f0f921"
             ]
            ],
            "type": "heatmapgl"
           }
          ],
          "histogram": [
           {
            "marker": {
             "pattern": {
              "fillmode": "overlay",
              "size": 10,
              "solidity": 0.2
             }
            },
            "type": "histogram"
           }
          ],
          "histogram2d": [
           {
            "colorbar": {
             "outlinewidth": 0,
             "ticks": ""
            },
            "colorscale": [
             [
              0,
              "#0d0887"
             ],
             [
              0.1111111111111111,
              "#46039f"
             ],
             [
              0.2222222222222222,
              "#7201a8"
             ],
             [
              0.3333333333333333,
              "#9c179e"
             ],
             [
              0.4444444444444444,
              "#bd3786"
             ],
             [
              0.5555555555555556,
              "#d8576b"
             ],
             [
              0.6666666666666666,
              "#ed7953"
             ],
             [
              0.7777777777777778,
              "#fb9f3a"
             ],
             [
              0.8888888888888888,
              "#fdca26"
             ],
             [
              1,
              "#f0f921"
             ]
            ],
            "type": "histogram2d"
           }
          ],
          "histogram2dcontour": [
           {
            "colorbar": {
             "outlinewidth": 0,
             "ticks": ""
            },
            "colorscale": [
             [
              0,
              "#0d0887"
             ],
             [
              0.1111111111111111,
              "#46039f"
             ],
             [
              0.2222222222222222,
              "#7201a8"
             ],
             [
              0.3333333333333333,
              "#9c179e"
             ],
             [
              0.4444444444444444,
              "#bd3786"
             ],
             [
              0.5555555555555556,
              "#d8576b"
             ],
             [
              0.6666666666666666,
              "#ed7953"
             ],
             [
              0.7777777777777778,
              "#fb9f3a"
             ],
             [
              0.8888888888888888,
              "#fdca26"
             ],
             [
              1,
              "#f0f921"
             ]
            ],
            "type": "histogram2dcontour"
           }
          ],
          "mesh3d": [
           {
            "colorbar": {
             "outlinewidth": 0,
             "ticks": ""
            },
            "type": "mesh3d"
           }
          ],
          "parcoords": [
           {
            "line": {
             "colorbar": {
              "outlinewidth": 0,
              "ticks": ""
             }
            },
            "type": "parcoords"
           }
          ],
          "pie": [
           {
            "automargin": true,
            "type": "pie"
           }
          ],
          "scatter": [
           {
            "marker": {
             "line": {
              "color": "#283442"
             }
            },
            "type": "scatter"
           }
          ],
          "scatter3d": [
           {
            "line": {
             "colorbar": {
              "outlinewidth": 0,
              "ticks": ""
             }
            },
            "marker": {
             "colorbar": {
              "outlinewidth": 0,
              "ticks": ""
             }
            },
            "type": "scatter3d"
           }
          ],
          "scattercarpet": [
           {
            "marker": {
             "colorbar": {
              "outlinewidth": 0,
              "ticks": ""
             }
            },
            "type": "scattercarpet"
           }
          ],
          "scattergeo": [
           {
            "marker": {
             "colorbar": {
              "outlinewidth": 0,
              "ticks": ""
             }
            },
            "type": "scattergeo"
           }
          ],
          "scattergl": [
           {
            "marker": {
             "line": {
              "color": "#283442"
             }
            },
            "type": "scattergl"
           }
          ],
          "scattermapbox": [
           {
            "marker": {
             "colorbar": {
              "outlinewidth": 0,
              "ticks": ""
             }
            },
            "type": "scattermapbox"
           }
          ],
          "scatterpolar": [
           {
            "marker": {
             "colorbar": {
              "outlinewidth": 0,
              "ticks": ""
             }
            },
            "type": "scatterpolar"
           }
          ],
          "scatterpolargl": [
           {
            "marker": {
             "colorbar": {
              "outlinewidth": 0,
              "ticks": ""
             }
            },
            "type": "scatterpolargl"
           }
          ],
          "scatterternary": [
           {
            "marker": {
             "colorbar": {
              "outlinewidth": 0,
              "ticks": ""
             }
            },
            "type": "scatterternary"
           }
          ],
          "surface": [
           {
            "colorbar": {
             "outlinewidth": 0,
             "ticks": ""
            },
            "colorscale": [
             [
              0,
              "#0d0887"
             ],
             [
              0.1111111111111111,
              "#46039f"
             ],
             [
              0.2222222222222222,
              "#7201a8"
             ],
             [
              0.3333333333333333,
              "#9c179e"
             ],
             [
              0.4444444444444444,
              "#bd3786"
             ],
             [
              0.5555555555555556,
              "#d8576b"
             ],
             [
              0.6666666666666666,
              "#ed7953"
             ],
             [
              0.7777777777777778,
              "#fb9f3a"
             ],
             [
              0.8888888888888888,
              "#fdca26"
             ],
             [
              1,
              "#f0f921"
             ]
            ],
            "type": "surface"
           }
          ],
          "table": [
           {
            "cells": {
             "fill": {
              "color": "#506784"
             },
             "line": {
              "color": "rgb(17,17,17)"
             }
            },
            "header": {
             "fill": {
              "color": "#2a3f5f"
             },
             "line": {
              "color": "rgb(17,17,17)"
             }
            },
            "type": "table"
           }
          ]
         },
         "layout": {
          "annotationdefaults": {
           "arrowcolor": "#f2f5fa",
           "arrowhead": 0,
           "arrowwidth": 1
          },
          "autotypenumbers": "strict",
          "coloraxis": {
           "colorbar": {
            "outlinewidth": 0,
            "ticks": ""
           }
          },
          "colorscale": {
           "diverging": [
            [
             0,
             "#8e0152"
            ],
            [
             0.1,
             "#c51b7d"
            ],
            [
             0.2,
             "#de77ae"
            ],
            [
             0.3,
             "#f1b6da"
            ],
            [
             0.4,
             "#fde0ef"
            ],
            [
             0.5,
             "#f7f7f7"
            ],
            [
             0.6,
             "#e6f5d0"
            ],
            [
             0.7,
             "#b8e186"
            ],
            [
             0.8,
             "#7fbc41"
            ],
            [
             0.9,
             "#4d9221"
            ],
            [
             1,
             "#276419"
            ]
           ],
           "sequential": [
            [
             0,
             "#0d0887"
            ],
            [
             0.1111111111111111,
             "#46039f"
            ],
            [
             0.2222222222222222,
             "#7201a8"
            ],
            [
             0.3333333333333333,
             "#9c179e"
            ],
            [
             0.4444444444444444,
             "#bd3786"
            ],
            [
             0.5555555555555556,
             "#d8576b"
            ],
            [
             0.6666666666666666,
             "#ed7953"
            ],
            [
             0.7777777777777778,
             "#fb9f3a"
            ],
            [
             0.8888888888888888,
             "#fdca26"
            ],
            [
             1,
             "#f0f921"
            ]
           ],
           "sequentialminus": [
            [
             0,
             "#0d0887"
            ],
            [
             0.1111111111111111,
             "#46039f"
            ],
            [
             0.2222222222222222,
             "#7201a8"
            ],
            [
             0.3333333333333333,
             "#9c179e"
            ],
            [
             0.4444444444444444,
             "#bd3786"
            ],
            [
             0.5555555555555556,
             "#d8576b"
            ],
            [
             0.6666666666666666,
             "#ed7953"
            ],
            [
             0.7777777777777778,
             "#fb9f3a"
            ],
            [
             0.8888888888888888,
             "#fdca26"
            ],
            [
             1,
             "#f0f921"
            ]
           ]
          },
          "colorway": [
           "#636efa",
           "#EF553B",
           "#00cc96",
           "#ab63fa",
           "#FFA15A",
           "#19d3f3",
           "#FF6692",
           "#B6E880",
           "#FF97FF",
           "#FECB52"
          ],
          "font": {
           "color": "#f2f5fa"
          },
          "geo": {
           "bgcolor": "rgb(17,17,17)",
           "lakecolor": "rgb(17,17,17)",
           "landcolor": "rgb(17,17,17)",
           "showlakes": true,
           "showland": true,
           "subunitcolor": "#506784"
          },
          "hoverlabel": {
           "align": "left"
          },
          "hovermode": "closest",
          "mapbox": {
           "style": "dark"
          },
          "paper_bgcolor": "rgb(17,17,17)",
          "plot_bgcolor": "rgb(17,17,17)",
          "polar": {
           "angularaxis": {
            "gridcolor": "#506784",
            "linecolor": "#506784",
            "ticks": ""
           },
           "bgcolor": "rgb(17,17,17)",
           "radialaxis": {
            "gridcolor": "#506784",
            "linecolor": "#506784",
            "ticks": ""
           }
          },
          "scene": {
           "xaxis": {
            "backgroundcolor": "rgb(17,17,17)",
            "gridcolor": "#506784",
            "gridwidth": 2,
            "linecolor": "#506784",
            "showbackground": true,
            "ticks": "",
            "zerolinecolor": "#C8D4E3"
           },
           "yaxis": {
            "backgroundcolor": "rgb(17,17,17)",
            "gridcolor": "#506784",
            "gridwidth": 2,
            "linecolor": "#506784",
            "showbackground": true,
            "ticks": "",
            "zerolinecolor": "#C8D4E3"
           },
           "zaxis": {
            "backgroundcolor": "rgb(17,17,17)",
            "gridcolor": "#506784",
            "gridwidth": 2,
            "linecolor": "#506784",
            "showbackground": true,
            "ticks": "",
            "zerolinecolor": "#C8D4E3"
           }
          },
          "shapedefaults": {
           "line": {
            "color": "#f2f5fa"
           }
          },
          "sliderdefaults": {
           "bgcolor": "#C8D4E3",
           "bordercolor": "rgb(17,17,17)",
           "borderwidth": 1,
           "tickwidth": 0
          },
          "ternary": {
           "aaxis": {
            "gridcolor": "#506784",
            "linecolor": "#506784",
            "ticks": ""
           },
           "baxis": {
            "gridcolor": "#506784",
            "linecolor": "#506784",
            "ticks": ""
           },
           "bgcolor": "rgb(17,17,17)",
           "caxis": {
            "gridcolor": "#506784",
            "linecolor": "#506784",
            "ticks": ""
           }
          },
          "title": {
           "x": 0.05
          },
          "updatemenudefaults": {
           "bgcolor": "#506784",
           "borderwidth": 0
          },
          "xaxis": {
           "automargin": true,
           "gridcolor": "#283442",
           "linecolor": "#506784",
           "ticks": "",
           "title": {
            "standoff": 15
           },
           "zerolinecolor": "#283442",
           "zerolinewidth": 2
          },
          "yaxis": {
           "automargin": true,
           "gridcolor": "#283442",
           "linecolor": "#506784",
           "ticks": "",
           "title": {
            "standoff": 15
           },
           "zerolinecolor": "#283442",
           "zerolinewidth": 2
          }
         }
        },
        "title": {
         "text": "Accuracy"
        },
        "xaxis": {
         "anchor": "y",
         "domain": [
          0,
          1
         ],
         "title": {
          "text": "index"
         }
        },
        "yaxis": {
         "anchor": "x",
         "domain": [
          0,
          1
         ],
         "title": {
          "text": "value"
         }
        }
       }
      }
     },
     "metadata": {},
     "output_type": "display_data"
    }
   ],
   "source": [
    "px.line(history.history, y=['accuracy', 'val_accuracy'], title='Accuracy', template='plotly_dark')"
   ]
  },
  {
   "cell_type": "code",
   "execution_count": 19,
   "metadata": {
    "id": "7b5_8VsCz_GZ"
   },
   "outputs": [],
   "source": [
    "from plotly.subplots import make_subplots\n",
    "import plotly.graph_objects as go\n",
    "def showBoth(history= history):\n",
    "    fig = make_subplots(rows=2, cols=1, shared_xaxes=True, vertical_spacing=0.15, )\n",
    "    trace1 = go.Scatter(y=history.history['accuracy'], name='train_accuracy')\n",
    "    trace2 = go.Scatter(y=history.history['val_accuracy'], name='val_accuracy')\n",
    "    trace3 = go.Scatter(y=history.history['loss'], name='train_loss')\n",
    "    trace4 = go.Scatter(y=history.history['val_loss'], name='val_loss')\n",
    "    fig.append_trace(trace1, row=1, col=1)\n",
    "    fig.append_trace(trace2, row=1, col=1)\n",
    "    fig.append_trace(trace3, row=2, col=1)\n",
    "    fig.append_trace(trace4, row=2, col=1)\n",
    "    fig.update_layout(template='plotly_dark')\n",
    "    fig.update_xaxes(title_text='Epochs', row=2, col=1)\n",
    "    fig.update_yaxes(title_text='Accuracy', row=1, col=1)\n",
    "    fig.update_yaxes(title_text='Loss', row=2, col=1)\n",
    "    fig.update_layout(title_text='Training and Validation Accuracy and Loss', title_x=0.5)\n",
    "    fig.show()\n",
    "\n",
    "#showBoth()"
   ]
  },
  {
   "cell_type": "code",
   "execution_count": 20,
   "metadata": {
    "id": "b0kH6VYqz_Gc"
   },
   "outputs": [
    {
     "name": "stdout",
     "output_type": "stream",
     "text": [
      "814/814 [==============================] - 2s 3ms/step - loss: 1.0164 - accuracy: 0.6894\n"
     ]
    },
    {
     "data": {
      "text/plain": [
       "[1.0164204835891724, 0.6893823146820068]"
      ]
     },
     "execution_count": 20,
     "metadata": {},
     "output_type": "execute_result"
    }
   ],
   "source": [
    "MLP_model.evaluate(test_X_gray, test_y)"
   ]
  },
  {
   "cell_type": "markdown",
   "metadata": {
    "id": "ncPtDtCLz_Gg"
   },
   "source": [
    "## 3. CNN neural network classifier\n",
    "* Build a CNN classifier model using the Sequential API. Your model should use the Conv2D, MaxPool2D, BatchNormalization, Flatten, Dense and Dropout layers. The final layer should again have a 10-way softmax output. \n",
    "* You should design and build the model yourself. Feel free to experiment with different CNN architectures. _Hint: to achieve a reasonable accuracy you won't need to use more than 2 or 3 convolutional layers and 2 fully connected layers.)_\n",
    "* The CNN model **must** use fewer trainable parameters than your MLP model.\n",
    "* Compile and train the model (recommend a maximum of 30 epochs), making use of both training and validation sets during the training run.\n",
    "* Your model should track at least one appropriate metric, and use at least one callback during training, like a ModelCheckpoint callback.\n",
    "* **You should aim to beat the MLP model performance with fewer parameters!**\n",
    "* Plot the learning curves for loss vs epoch and accuracy vs epoch for both training and validation sets.\n",
    "* Compute and display the loss and accuracy of the trained model on the test set."
   ]
  },
  {
   "cell_type": "code",
   "execution_count": 21,
   "metadata": {
    "id": "yk2mH3Npz_Gh"
   },
   "outputs": [
    {
     "name": "stdout",
     "output_type": "stream",
     "text": [
      "Model: \"CNN_model\"\n",
      "_________________________________________________________________\n",
      " Layer (type)                Output Shape              Param #   \n",
      "=================================================================\n",
      " input_2 (InputLayer)        [(None, 32, 32, 1)]       0         \n",
      "                                                                 \n",
      " conv2d (Conv2D)             (None, 30, 30, 32)        320       \n",
      "                                                                 \n",
      " max_pooling2d (MaxPooling2D  (None, 15, 15, 32)       0         \n",
      " )                                                               \n",
      "                                                                 \n",
      " batch_normalization (BatchN  (None, 15, 15, 32)       128       \n",
      " ormalization)                                                   \n",
      "                                                                 \n",
      " conv2d_1 (Conv2D)           (None, 13, 13, 64)        18496     \n",
      "                                                                 \n",
      " max_pooling2d_1 (MaxPooling  (None, 6, 6, 64)         0         \n",
      " 2D)                                                             \n",
      "                                                                 \n",
      " batch_normalization_1 (Batc  (None, 6, 6, 64)         256       \n",
      " hNormalization)                                                 \n",
      "                                                                 \n",
      " conv2d_2 (Conv2D)           (None, 4, 4, 128)         73856     \n",
      "                                                                 \n",
      " max_pooling2d_2 (MaxPooling  (None, 2, 2, 128)        0         \n",
      " 2D)                                                             \n",
      "                                                                 \n",
      " batch_normalization_2 (Batc  (None, 2, 2, 128)        512       \n",
      " hNormalization)                                                 \n",
      "                                                                 \n",
      " flatten_1 (Flatten)         (None, 512)               0         \n",
      "                                                                 \n",
      " dense_4 (Dense)             (None, 64)                32832     \n",
      "                                                                 \n",
      " dropout (Dropout)           (None, 64)                0         \n",
      "                                                                 \n",
      " dense_5 (Dense)             (None, 32)                2080      \n",
      "                                                                 \n",
      " dropout_1 (Dropout)         (None, 32)                0         \n",
      "                                                                 \n",
      " dense_6 (Dense)             (None, 10)                330       \n",
      "                                                                 \n",
      "=================================================================\n",
      "Total params: 128,810\n",
      "Trainable params: 128,362\n",
      "Non-trainable params: 448\n",
      "_________________________________________________________________\n"
     ]
    }
   ],
   "source": [
    "#* CNN model\n",
    "def Create_CNN_model():\n",
    "    Inputs = keras.Input(shape=train_X_gray[0].shape)\n",
    "\n",
    "    layer = layers.Conv2D(32, (3, 3), activation='relu')(Inputs)\n",
    "    layer = layers.MaxPooling2D((2, 2))(layer)\n",
    "    layer = layers.BatchNormalization()(layer)\n",
    "\n",
    "    layer = layers.Conv2D(64, (3, 3), activation='relu')(layer)\n",
    "    layer = layers.MaxPooling2D((2, 2))(layer)\n",
    "    layer = layers.BatchNormalization()(layer)\n",
    "\n",
    "    layer = layers.Conv2D(128, (3, 3), activation='relu')(layer)\n",
    "    layer = layers.MaxPooling2D((2, 2))(layer)\n",
    "    layer = layers.BatchNormalization()(layer)\n",
    "\n",
    "    layer = layers.Flatten()(layer)\n",
    "    layer = layers.Dense(64, activation='relu')(layer)\n",
    "    layer = layers.Dropout(0.3)(layer)\n",
    "    layer = layers.Dense(32, activation='relu')(layer)\n",
    "    layer = layers.Dropout(0.3)(layer)\n",
    "    layer = layers.Dense(10 , activation='softmax')(layer)\n",
    "\n",
    "    CNN_model = Model(inputs = Inputs, outputs = layer, name= 'CNN_model')\n",
    "    return CNN_model\n",
    "\n",
    "CNN_model = Create_CNN_model()\n",
    "CNN_model.summary()"
   ]
  },
  {
   "cell_type": "code",
   "execution_count": 22,
   "metadata": {},
   "outputs": [],
   "source": [
    "CNN_model.compile(optimizer='adam',\n",
    "                  loss='CategoricalCrossentropy', metrics=['accuracy'])\n",
    "callback_best = ModelCheckpoint(\n",
    "    'CNNmodel/best_model', save_best_only=True, save_weights_only=True, monitor=\"val_accuracy\")\n"
   ]
  },
  {
   "cell_type": "code",
   "execution_count": 23,
   "metadata": {
    "id": "lbgRgZ5cz_Gn"
   },
   "outputs": [
    {
     "name": "stdout",
     "output_type": "stream",
     "text": [
      "Epoch 1/30\n",
      "973/973 [==============================] - 13s 8ms/step - loss: 0.9873 - accuracy: 0.6804 - val_loss: 0.5369 - val_accuracy: 0.8397\n",
      "Epoch 2/30\n",
      "973/973 [==============================] - 7s 8ms/step - loss: 0.5457 - accuracy: 0.8426 - val_loss: 0.3838 - val_accuracy: 0.8884\n",
      "Epoch 3/30\n",
      "973/973 [==============================] - 6s 7ms/step - loss: 0.4432 - accuracy: 0.8752 - val_loss: 0.3427 - val_accuracy: 0.8997\n",
      "Epoch 4/30\n",
      "973/973 [==============================] - 6s 6ms/step - loss: 0.3842 - accuracy: 0.8930 - val_loss: 0.4899 - val_accuracy: 0.8522\n",
      "Epoch 5/30\n",
      "973/973 [==============================] - 6s 7ms/step - loss: 0.3493 - accuracy: 0.9028 - val_loss: 0.3270 - val_accuracy: 0.9031\n",
      "Epoch 6/30\n",
      "973/973 [==============================] - 6s 6ms/step - loss: 0.3234 - accuracy: 0.9091 - val_loss: 0.4285 - val_accuracy: 0.8722\n",
      "Epoch 7/30\n",
      "973/973 [==============================] - 6s 6ms/step - loss: 0.2958 - accuracy: 0.9181 - val_loss: 0.3481 - val_accuracy: 0.9002\n",
      "Epoch 8/30\n",
      "973/973 [==============================] - 6s 6ms/step - loss: 0.2754 - accuracy: 0.9240 - val_loss: 0.3082 - val_accuracy: 0.9143\n",
      "Epoch 9/30\n",
      "973/973 [==============================] - 6s 6ms/step - loss: 0.2595 - accuracy: 0.9275 - val_loss: 0.4185 - val_accuracy: 0.8771\n",
      "Epoch 10/30\n",
      "973/973 [==============================] - 6s 6ms/step - loss: 0.2415 - accuracy: 0.9323 - val_loss: 0.3265 - val_accuracy: 0.9085\n",
      "Epoch 11/30\n",
      "973/973 [==============================] - 5s 6ms/step - loss: 0.2296 - accuracy: 0.9366 - val_loss: 0.3296 - val_accuracy: 0.9073\n",
      "Epoch 12/30\n",
      "973/973 [==============================] - 5s 6ms/step - loss: 0.2129 - accuracy: 0.9408 - val_loss: 0.3240 - val_accuracy: 0.9135\n",
      "Epoch 13/30\n",
      "973/973 [==============================] - 6s 6ms/step - loss: 0.2051 - accuracy: 0.9414 - val_loss: 0.3369 - val_accuracy: 0.9094\n",
      "Epoch 14/30\n",
      "973/973 [==============================] - 6s 6ms/step - loss: 0.1923 - accuracy: 0.9466 - val_loss: 0.3762 - val_accuracy: 0.9050\n",
      "Epoch 15/30\n",
      "973/973 [==============================] - 5s 6ms/step - loss: 0.1838 - accuracy: 0.9475 - val_loss: 0.4040 - val_accuracy: 0.8912\n",
      "Epoch 16/30\n",
      "973/973 [==============================] - 6s 6ms/step - loss: 0.1779 - accuracy: 0.9499 - val_loss: 0.3408 - val_accuracy: 0.9154\n",
      "Epoch 17/30\n",
      "973/973 [==============================] - 6s 6ms/step - loss: 0.1694 - accuracy: 0.9515 - val_loss: 0.3531 - val_accuracy: 0.9105\n",
      "Epoch 18/30\n",
      "973/973 [==============================] - 6s 6ms/step - loss: 0.1587 - accuracy: 0.9541 - val_loss: 0.4305 - val_accuracy: 0.8881\n",
      "Epoch 19/30\n",
      "973/973 [==============================] - 6s 6ms/step - loss: 0.1549 - accuracy: 0.9549 - val_loss: 0.3480 - val_accuracy: 0.9135\n",
      "Epoch 20/30\n",
      "973/973 [==============================] - 7s 7ms/step - loss: 0.1439 - accuracy: 0.9577 - val_loss: 0.4020 - val_accuracy: 0.9082\n",
      "Epoch 21/30\n",
      "973/973 [==============================] - 6s 6ms/step - loss: 0.1435 - accuracy: 0.9593 - val_loss: 0.3863 - val_accuracy: 0.9185\n",
      "Epoch 22/30\n",
      "973/973 [==============================] - 6s 6ms/step - loss: 0.1357 - accuracy: 0.9599 - val_loss: 0.4117 - val_accuracy: 0.9080\n",
      "Epoch 23/30\n",
      "973/973 [==============================] - 5s 6ms/step - loss: 0.1369 - accuracy: 0.9599 - val_loss: 0.4000 - val_accuracy: 0.9144\n",
      "Epoch 24/30\n",
      "973/973 [==============================] - 5s 5ms/step - loss: 0.1271 - accuracy: 0.9634 - val_loss: 0.3997 - val_accuracy: 0.9157\n",
      "Epoch 25/30\n",
      "973/973 [==============================] - 5s 6ms/step - loss: 0.1253 - accuracy: 0.9621 - val_loss: 0.4144 - val_accuracy: 0.9151\n",
      "Epoch 26/30\n",
      "973/973 [==============================] - 6s 6ms/step - loss: 0.1237 - accuracy: 0.9630 - val_loss: 0.4428 - val_accuracy: 0.9054\n",
      "Epoch 27/30\n",
      "973/973 [==============================] - 5s 5ms/step - loss: 0.1145 - accuracy: 0.9665 - val_loss: 0.4179 - val_accuracy: 0.9115\n",
      "Epoch 28/30\n",
      "973/973 [==============================] - 5s 6ms/step - loss: 0.1111 - accuracy: 0.9665 - val_loss: 0.3873 - val_accuracy: 0.9157\n",
      "Epoch 29/30\n",
      "973/973 [==============================] - 5s 6ms/step - loss: 0.1115 - accuracy: 0.9663 - val_loss: 0.4180 - val_accuracy: 0.9176\n",
      "Epoch 30/30\n",
      "973/973 [==============================] - 5s 5ms/step - loss: 0.1120 - accuracy: 0.9666 - val_loss: 0.5145 - val_accuracy: 0.8984\n"
     ]
    }
   ],
   "source": [
    "history = CNN_model.fit(xtrain, ytrain, epochs = 30 , validation_data = (xval, yval), batch_size = 64, callbacks = [callback_best], verbose = 1)"
   ]
  },
  {
   "cell_type": "code",
   "execution_count": 24,
   "metadata": {
    "id": "nkmS2vV2z_Gs"
   },
   "outputs": [
    {
     "data": {
      "application/vnd.plotly.v1+json": {
       "config": {
        "plotlyServerURL": "https://plot.ly"
       },
       "data": [
        {
         "hovertemplate": "variable=loss<br>index=%{x}<br>value=%{y}<extra></extra>",
         "legendgroup": "loss",
         "line": {
          "color": "#636efa",
          "dash": "solid"
         },
         "marker": {
          "symbol": "circle"
         },
         "mode": "lines",
         "name": "loss",
         "orientation": "v",
         "showlegend": true,
         "type": "scatter",
         "x": [
          0,
          1,
          2,
          3,
          4,
          5,
          6,
          7,
          8,
          9,
          10,
          11,
          12,
          13,
          14,
          15,
          16,
          17,
          18,
          19,
          20,
          21,
          22,
          23,
          24,
          25,
          26,
          27,
          28,
          29
         ],
         "xaxis": "x",
         "y": [
          0.9872724413871765,
          0.5457367300987244,
          0.44322091341018677,
          0.3841695487499237,
          0.3492976427078247,
          0.32344192266464233,
          0.29579299688339233,
          0.27536696195602417,
          0.2595168352127075,
          0.2415236383676529,
          0.2295551747083664,
          0.21290698647499084,
          0.20511949062347412,
          0.19233585894107819,
          0.18375571072101593,
          0.17790360748767853,
          0.16936445236206055,
          0.15867872536182404,
          0.15490737557411194,
          0.14385923743247986,
          0.1435311734676361,
          0.13569384813308716,
          0.13691401481628418,
          0.1270759552717209,
          0.12531808018684387,
          0.1237218901515007,
          0.11452439427375793,
          0.11111930757761002,
          0.11149382591247559,
          0.11203145980834961
         ],
         "yaxis": "y"
        },
        {
         "hovertemplate": "variable=val_loss<br>index=%{x}<br>value=%{y}<extra></extra>",
         "legendgroup": "val_loss",
         "line": {
          "color": "#EF553B",
          "dash": "solid"
         },
         "marker": {
          "symbol": "circle"
         },
         "mode": "lines",
         "name": "val_loss",
         "orientation": "v",
         "showlegend": true,
         "type": "scatter",
         "x": [
          0,
          1,
          2,
          3,
          4,
          5,
          6,
          7,
          8,
          9,
          10,
          11,
          12,
          13,
          14,
          15,
          16,
          17,
          18,
          19,
          20,
          21,
          22,
          23,
          24,
          25,
          26,
          27,
          28,
          29
         ],
         "xaxis": "x",
         "y": [
          0.536888062953949,
          0.3837624788284302,
          0.34271368384361267,
          0.4898781180381775,
          0.32702332735061646,
          0.4284885823726654,
          0.3481083810329437,
          0.30821576714515686,
          0.41854149103164673,
          0.3264535367488861,
          0.3295973837375641,
          0.32402387261390686,
          0.33690693974494934,
          0.3761742115020752,
          0.4040010869503021,
          0.34081602096557617,
          0.35313180088996887,
          0.43049129843711853,
          0.34804749488830566,
          0.4020225703716278,
          0.38632503151893616,
          0.4116753935813904,
          0.40000036358833313,
          0.3997080326080322,
          0.4143567383289337,
          0.4428049623966217,
          0.417940229177475,
          0.3872951865196228,
          0.4179897606372833,
          0.5145044922828674
         ],
         "yaxis": "y"
        }
       ],
       "layout": {
        "legend": {
         "title": {
          "text": "variable"
         },
         "tracegroupgap": 0
        },
        "template": {
         "data": {
          "bar": [
           {
            "error_x": {
             "color": "#f2f5fa"
            },
            "error_y": {
             "color": "#f2f5fa"
            },
            "marker": {
             "line": {
              "color": "rgb(17,17,17)",
              "width": 0.5
             },
             "pattern": {
              "fillmode": "overlay",
              "size": 10,
              "solidity": 0.2
             }
            },
            "type": "bar"
           }
          ],
          "barpolar": [
           {
            "marker": {
             "line": {
              "color": "rgb(17,17,17)",
              "width": 0.5
             },
             "pattern": {
              "fillmode": "overlay",
              "size": 10,
              "solidity": 0.2
             }
            },
            "type": "barpolar"
           }
          ],
          "carpet": [
           {
            "aaxis": {
             "endlinecolor": "#A2B1C6",
             "gridcolor": "#506784",
             "linecolor": "#506784",
             "minorgridcolor": "#506784",
             "startlinecolor": "#A2B1C6"
            },
            "baxis": {
             "endlinecolor": "#A2B1C6",
             "gridcolor": "#506784",
             "linecolor": "#506784",
             "minorgridcolor": "#506784",
             "startlinecolor": "#A2B1C6"
            },
            "type": "carpet"
           }
          ],
          "choropleth": [
           {
            "colorbar": {
             "outlinewidth": 0,
             "ticks": ""
            },
            "type": "choropleth"
           }
          ],
          "contour": [
           {
            "colorbar": {
             "outlinewidth": 0,
             "ticks": ""
            },
            "colorscale": [
             [
              0,
              "#0d0887"
             ],
             [
              0.1111111111111111,
              "#46039f"
             ],
             [
              0.2222222222222222,
              "#7201a8"
             ],
             [
              0.3333333333333333,
              "#9c179e"
             ],
             [
              0.4444444444444444,
              "#bd3786"
             ],
             [
              0.5555555555555556,
              "#d8576b"
             ],
             [
              0.6666666666666666,
              "#ed7953"
             ],
             [
              0.7777777777777778,
              "#fb9f3a"
             ],
             [
              0.8888888888888888,
              "#fdca26"
             ],
             [
              1,
              "#f0f921"
             ]
            ],
            "type": "contour"
           }
          ],
          "contourcarpet": [
           {
            "colorbar": {
             "outlinewidth": 0,
             "ticks": ""
            },
            "type": "contourcarpet"
           }
          ],
          "heatmap": [
           {
            "colorbar": {
             "outlinewidth": 0,
             "ticks": ""
            },
            "colorscale": [
             [
              0,
              "#0d0887"
             ],
             [
              0.1111111111111111,
              "#46039f"
             ],
             [
              0.2222222222222222,
              "#7201a8"
             ],
             [
              0.3333333333333333,
              "#9c179e"
             ],
             [
              0.4444444444444444,
              "#bd3786"
             ],
             [
              0.5555555555555556,
              "#d8576b"
             ],
             [
              0.6666666666666666,
              "#ed7953"
             ],
             [
              0.7777777777777778,
              "#fb9f3a"
             ],
             [
              0.8888888888888888,
              "#fdca26"
             ],
             [
              1,
              "#f0f921"
             ]
            ],
            "type": "heatmap"
           }
          ],
          "heatmapgl": [
           {
            "colorbar": {
             "outlinewidth": 0,
             "ticks": ""
            },
            "colorscale": [
             [
              0,
              "#0d0887"
             ],
             [
              0.1111111111111111,
              "#46039f"
             ],
             [
              0.2222222222222222,
              "#7201a8"
             ],
             [
              0.3333333333333333,
              "#9c179e"
             ],
             [
              0.4444444444444444,
              "#bd3786"
             ],
             [
              0.5555555555555556,
              "#d8576b"
             ],
             [
              0.6666666666666666,
              "#ed7953"
             ],
             [
              0.7777777777777778,
              "#fb9f3a"
             ],
             [
              0.8888888888888888,
              "#fdca26"
             ],
             [
              1,
              "#f0f921"
             ]
            ],
            "type": "heatmapgl"
           }
          ],
          "histogram": [
           {
            "marker": {
             "pattern": {
              "fillmode": "overlay",
              "size": 10,
              "solidity": 0.2
             }
            },
            "type": "histogram"
           }
          ],
          "histogram2d": [
           {
            "colorbar": {
             "outlinewidth": 0,
             "ticks": ""
            },
            "colorscale": [
             [
              0,
              "#0d0887"
             ],
             [
              0.1111111111111111,
              "#46039f"
             ],
             [
              0.2222222222222222,
              "#7201a8"
             ],
             [
              0.3333333333333333,
              "#9c179e"
             ],
             [
              0.4444444444444444,
              "#bd3786"
             ],
             [
              0.5555555555555556,
              "#d8576b"
             ],
             [
              0.6666666666666666,
              "#ed7953"
             ],
             [
              0.7777777777777778,
              "#fb9f3a"
             ],
             [
              0.8888888888888888,
              "#fdca26"
             ],
             [
              1,
              "#f0f921"
             ]
            ],
            "type": "histogram2d"
           }
          ],
          "histogram2dcontour": [
           {
            "colorbar": {
             "outlinewidth": 0,
             "ticks": ""
            },
            "colorscale": [
             [
              0,
              "#0d0887"
             ],
             [
              0.1111111111111111,
              "#46039f"
             ],
             [
              0.2222222222222222,
              "#7201a8"
             ],
             [
              0.3333333333333333,
              "#9c179e"
             ],
             [
              0.4444444444444444,
              "#bd3786"
             ],
             [
              0.5555555555555556,
              "#d8576b"
             ],
             [
              0.6666666666666666,
              "#ed7953"
             ],
             [
              0.7777777777777778,
              "#fb9f3a"
             ],
             [
              0.8888888888888888,
              "#fdca26"
             ],
             [
              1,
              "#f0f921"
             ]
            ],
            "type": "histogram2dcontour"
           }
          ],
          "mesh3d": [
           {
            "colorbar": {
             "outlinewidth": 0,
             "ticks": ""
            },
            "type": "mesh3d"
           }
          ],
          "parcoords": [
           {
            "line": {
             "colorbar": {
              "outlinewidth": 0,
              "ticks": ""
             }
            },
            "type": "parcoords"
           }
          ],
          "pie": [
           {
            "automargin": true,
            "type": "pie"
           }
          ],
          "scatter": [
           {
            "marker": {
             "line": {
              "color": "#283442"
             }
            },
            "type": "scatter"
           }
          ],
          "scatter3d": [
           {
            "line": {
             "colorbar": {
              "outlinewidth": 0,
              "ticks": ""
             }
            },
            "marker": {
             "colorbar": {
              "outlinewidth": 0,
              "ticks": ""
             }
            },
            "type": "scatter3d"
           }
          ],
          "scattercarpet": [
           {
            "marker": {
             "colorbar": {
              "outlinewidth": 0,
              "ticks": ""
             }
            },
            "type": "scattercarpet"
           }
          ],
          "scattergeo": [
           {
            "marker": {
             "colorbar": {
              "outlinewidth": 0,
              "ticks": ""
             }
            },
            "type": "scattergeo"
           }
          ],
          "scattergl": [
           {
            "marker": {
             "line": {
              "color": "#283442"
             }
            },
            "type": "scattergl"
           }
          ],
          "scattermapbox": [
           {
            "marker": {
             "colorbar": {
              "outlinewidth": 0,
              "ticks": ""
             }
            },
            "type": "scattermapbox"
           }
          ],
          "scatterpolar": [
           {
            "marker": {
             "colorbar": {
              "outlinewidth": 0,
              "ticks": ""
             }
            },
            "type": "scatterpolar"
           }
          ],
          "scatterpolargl": [
           {
            "marker": {
             "colorbar": {
              "outlinewidth": 0,
              "ticks": ""
             }
            },
            "type": "scatterpolargl"
           }
          ],
          "scatterternary": [
           {
            "marker": {
             "colorbar": {
              "outlinewidth": 0,
              "ticks": ""
             }
            },
            "type": "scatterternary"
           }
          ],
          "surface": [
           {
            "colorbar": {
             "outlinewidth": 0,
             "ticks": ""
            },
            "colorscale": [
             [
              0,
              "#0d0887"
             ],
             [
              0.1111111111111111,
              "#46039f"
             ],
             [
              0.2222222222222222,
              "#7201a8"
             ],
             [
              0.3333333333333333,
              "#9c179e"
             ],
             [
              0.4444444444444444,
              "#bd3786"
             ],
             [
              0.5555555555555556,
              "#d8576b"
             ],
             [
              0.6666666666666666,
              "#ed7953"
             ],
             [
              0.7777777777777778,
              "#fb9f3a"
             ],
             [
              0.8888888888888888,
              "#fdca26"
             ],
             [
              1,
              "#f0f921"
             ]
            ],
            "type": "surface"
           }
          ],
          "table": [
           {
            "cells": {
             "fill": {
              "color": "#506784"
             },
             "line": {
              "color": "rgb(17,17,17)"
             }
            },
            "header": {
             "fill": {
              "color": "#2a3f5f"
             },
             "line": {
              "color": "rgb(17,17,17)"
             }
            },
            "type": "table"
           }
          ]
         },
         "layout": {
          "annotationdefaults": {
           "arrowcolor": "#f2f5fa",
           "arrowhead": 0,
           "arrowwidth": 1
          },
          "autotypenumbers": "strict",
          "coloraxis": {
           "colorbar": {
            "outlinewidth": 0,
            "ticks": ""
           }
          },
          "colorscale": {
           "diverging": [
            [
             0,
             "#8e0152"
            ],
            [
             0.1,
             "#c51b7d"
            ],
            [
             0.2,
             "#de77ae"
            ],
            [
             0.3,
             "#f1b6da"
            ],
            [
             0.4,
             "#fde0ef"
            ],
            [
             0.5,
             "#f7f7f7"
            ],
            [
             0.6,
             "#e6f5d0"
            ],
            [
             0.7,
             "#b8e186"
            ],
            [
             0.8,
             "#7fbc41"
            ],
            [
             0.9,
             "#4d9221"
            ],
            [
             1,
             "#276419"
            ]
           ],
           "sequential": [
            [
             0,
             "#0d0887"
            ],
            [
             0.1111111111111111,
             "#46039f"
            ],
            [
             0.2222222222222222,
             "#7201a8"
            ],
            [
             0.3333333333333333,
             "#9c179e"
            ],
            [
             0.4444444444444444,
             "#bd3786"
            ],
            [
             0.5555555555555556,
             "#d8576b"
            ],
            [
             0.6666666666666666,
             "#ed7953"
            ],
            [
             0.7777777777777778,
             "#fb9f3a"
            ],
            [
             0.8888888888888888,
             "#fdca26"
            ],
            [
             1,
             "#f0f921"
            ]
           ],
           "sequentialminus": [
            [
             0,
             "#0d0887"
            ],
            [
             0.1111111111111111,
             "#46039f"
            ],
            [
             0.2222222222222222,
             "#7201a8"
            ],
            [
             0.3333333333333333,
             "#9c179e"
            ],
            [
             0.4444444444444444,
             "#bd3786"
            ],
            [
             0.5555555555555556,
             "#d8576b"
            ],
            [
             0.6666666666666666,
             "#ed7953"
            ],
            [
             0.7777777777777778,
             "#fb9f3a"
            ],
            [
             0.8888888888888888,
             "#fdca26"
            ],
            [
             1,
             "#f0f921"
            ]
           ]
          },
          "colorway": [
           "#636efa",
           "#EF553B",
           "#00cc96",
           "#ab63fa",
           "#FFA15A",
           "#19d3f3",
           "#FF6692",
           "#B6E880",
           "#FF97FF",
           "#FECB52"
          ],
          "font": {
           "color": "#f2f5fa"
          },
          "geo": {
           "bgcolor": "rgb(17,17,17)",
           "lakecolor": "rgb(17,17,17)",
           "landcolor": "rgb(17,17,17)",
           "showlakes": true,
           "showland": true,
           "subunitcolor": "#506784"
          },
          "hoverlabel": {
           "align": "left"
          },
          "hovermode": "closest",
          "mapbox": {
           "style": "dark"
          },
          "paper_bgcolor": "rgb(17,17,17)",
          "plot_bgcolor": "rgb(17,17,17)",
          "polar": {
           "angularaxis": {
            "gridcolor": "#506784",
            "linecolor": "#506784",
            "ticks": ""
           },
           "bgcolor": "rgb(17,17,17)",
           "radialaxis": {
            "gridcolor": "#506784",
            "linecolor": "#506784",
            "ticks": ""
           }
          },
          "scene": {
           "xaxis": {
            "backgroundcolor": "rgb(17,17,17)",
            "gridcolor": "#506784",
            "gridwidth": 2,
            "linecolor": "#506784",
            "showbackground": true,
            "ticks": "",
            "zerolinecolor": "#C8D4E3"
           },
           "yaxis": {
            "backgroundcolor": "rgb(17,17,17)",
            "gridcolor": "#506784",
            "gridwidth": 2,
            "linecolor": "#506784",
            "showbackground": true,
            "ticks": "",
            "zerolinecolor": "#C8D4E3"
           },
           "zaxis": {
            "backgroundcolor": "rgb(17,17,17)",
            "gridcolor": "#506784",
            "gridwidth": 2,
            "linecolor": "#506784",
            "showbackground": true,
            "ticks": "",
            "zerolinecolor": "#C8D4E3"
           }
          },
          "shapedefaults": {
           "line": {
            "color": "#f2f5fa"
           }
          },
          "sliderdefaults": {
           "bgcolor": "#C8D4E3",
           "bordercolor": "rgb(17,17,17)",
           "borderwidth": 1,
           "tickwidth": 0
          },
          "ternary": {
           "aaxis": {
            "gridcolor": "#506784",
            "linecolor": "#506784",
            "ticks": ""
           },
           "baxis": {
            "gridcolor": "#506784",
            "linecolor": "#506784",
            "ticks": ""
           },
           "bgcolor": "rgb(17,17,17)",
           "caxis": {
            "gridcolor": "#506784",
            "linecolor": "#506784",
            "ticks": ""
           }
          },
          "title": {
           "x": 0.05
          },
          "updatemenudefaults": {
           "bgcolor": "#506784",
           "borderwidth": 0
          },
          "xaxis": {
           "automargin": true,
           "gridcolor": "#283442",
           "linecolor": "#506784",
           "ticks": "",
           "title": {
            "standoff": 15
           },
           "zerolinecolor": "#283442",
           "zerolinewidth": 2
          },
          "yaxis": {
           "automargin": true,
           "gridcolor": "#283442",
           "linecolor": "#506784",
           "ticks": "",
           "title": {
            "standoff": 15
           },
           "zerolinecolor": "#283442",
           "zerolinewidth": 2
          }
         }
        },
        "title": {
         "text": "Loss"
        },
        "xaxis": {
         "anchor": "y",
         "domain": [
          0,
          1
         ],
         "title": {
          "text": "index"
         }
        },
        "yaxis": {
         "anchor": "x",
         "domain": [
          0,
          1
         ],
         "title": {
          "text": "value"
         }
        }
       }
      }
     },
     "metadata": {},
     "output_type": "display_data"
    }
   ],
   "source": [
    "import plotly.express as px\n",
    "px.line(history.history, y=['loss', 'val_loss'], title='Loss', template='plotly_dark')\n"
   ]
  },
  {
   "cell_type": "code",
   "execution_count": 25,
   "metadata": {
    "id": "VytQECDVz_Gv"
   },
   "outputs": [
    {
     "data": {
      "application/vnd.plotly.v1+json": {
       "config": {
        "plotlyServerURL": "https://plot.ly"
       },
       "data": [
        {
         "hovertemplate": "variable=accuracy<br>index=%{x}<br>value=%{y}<extra></extra>",
         "legendgroup": "accuracy",
         "line": {
          "color": "#636efa",
          "dash": "solid"
         },
         "marker": {
          "symbol": "circle"
         },
         "mode": "lines",
         "name": "accuracy",
         "orientation": "v",
         "showlegend": true,
         "type": "scatter",
         "x": [
          0,
          1,
          2,
          3,
          4,
          5,
          6,
          7,
          8,
          9,
          10,
          11,
          12,
          13,
          14,
          15,
          16,
          17,
          18,
          19,
          20,
          21,
          22,
          23,
          24,
          25,
          26,
          27,
          28,
          29
         ],
         "xaxis": "x",
         "y": [
          0.6803655028343201,
          0.8425836563110352,
          0.8751847147941589,
          0.8929948210716248,
          0.9028393626213074,
          0.90911865234375,
          0.9180799126625061,
          0.923973798751831,
          0.9274908304214478,
          0.9322926998138428,
          0.9366287589073181,
          0.94075608253479,
          0.9414466619491577,
          0.9465857148170471,
          0.9475492835044861,
          0.949910044670105,
          0.9514839053153992,
          0.9541176557540894,
          0.9548885226249695,
          0.9576507806777954,
          0.9592567682266235,
          0.9598509669303894,
          0.9598830938339233,
          0.9633679986000061,
          0.9620993137359619,
          0.9630147218704224,
          0.9665317535400391,
          0.9664674997329712,
          0.9663390517234802,
          0.966563880443573
         ],
         "yaxis": "y"
        },
        {
         "hovertemplate": "variable=val_accuracy<br>index=%{x}<br>value=%{y}<extra></extra>",
         "legendgroup": "val_accuracy",
         "line": {
          "color": "#EF553B",
          "dash": "solid"
         },
         "marker": {
          "symbol": "circle"
         },
         "mode": "lines",
         "name": "val_accuracy",
         "orientation": "v",
         "showlegend": true,
         "type": "scatter",
         "x": [
          0,
          1,
          2,
          3,
          4,
          5,
          6,
          7,
          8,
          9,
          10,
          11,
          12,
          13,
          14,
          15,
          16,
          17,
          18,
          19,
          20,
          21,
          22,
          23,
          24,
          25,
          26,
          27,
          28,
          29
         ],
         "xaxis": "x",
         "y": [
          0.8397488594055176,
          0.8884338736534119,
          0.8997179269790649,
          0.8522158265113831,
          0.9030848741531372,
          0.872235894203186,
          0.9001728892326355,
          0.9142779111862183,
          0.8771498799324036,
          0.9084538817405701,
          0.9072709083557129,
          0.9135499000549316,
          0.9093639254570007,
          0.9049959182739258,
          0.8911638855934143,
          0.9153699278831482,
          0.9104558825492859,
          0.8880698680877686,
          0.9134588837623596,
          0.9081808924674988,
          0.918463945388794,
          0.9079989194869995,
          0.9143689274787903,
          0.9157339334487915,
          0.9150969386100769,
          0.9053599238395691,
          0.9115478992462158,
          0.9157339334487915,
          0.9175539016723633,
          0.898443877696991
         ],
         "yaxis": "y"
        }
       ],
       "layout": {
        "legend": {
         "title": {
          "text": "variable"
         },
         "tracegroupgap": 0
        },
        "template": {
         "data": {
          "bar": [
           {
            "error_x": {
             "color": "#f2f5fa"
            },
            "error_y": {
             "color": "#f2f5fa"
            },
            "marker": {
             "line": {
              "color": "rgb(17,17,17)",
              "width": 0.5
             },
             "pattern": {
              "fillmode": "overlay",
              "size": 10,
              "solidity": 0.2
             }
            },
            "type": "bar"
           }
          ],
          "barpolar": [
           {
            "marker": {
             "line": {
              "color": "rgb(17,17,17)",
              "width": 0.5
             },
             "pattern": {
              "fillmode": "overlay",
              "size": 10,
              "solidity": 0.2
             }
            },
            "type": "barpolar"
           }
          ],
          "carpet": [
           {
            "aaxis": {
             "endlinecolor": "#A2B1C6",
             "gridcolor": "#506784",
             "linecolor": "#506784",
             "minorgridcolor": "#506784",
             "startlinecolor": "#A2B1C6"
            },
            "baxis": {
             "endlinecolor": "#A2B1C6",
             "gridcolor": "#506784",
             "linecolor": "#506784",
             "minorgridcolor": "#506784",
             "startlinecolor": "#A2B1C6"
            },
            "type": "carpet"
           }
          ],
          "choropleth": [
           {
            "colorbar": {
             "outlinewidth": 0,
             "ticks": ""
            },
            "type": "choropleth"
           }
          ],
          "contour": [
           {
            "colorbar": {
             "outlinewidth": 0,
             "ticks": ""
            },
            "colorscale": [
             [
              0,
              "#0d0887"
             ],
             [
              0.1111111111111111,
              "#46039f"
             ],
             [
              0.2222222222222222,
              "#7201a8"
             ],
             [
              0.3333333333333333,
              "#9c179e"
             ],
             [
              0.4444444444444444,
              "#bd3786"
             ],
             [
              0.5555555555555556,
              "#d8576b"
             ],
             [
              0.6666666666666666,
              "#ed7953"
             ],
             [
              0.7777777777777778,
              "#fb9f3a"
             ],
             [
              0.8888888888888888,
              "#fdca26"
             ],
             [
              1,
              "#f0f921"
             ]
            ],
            "type": "contour"
           }
          ],
          "contourcarpet": [
           {
            "colorbar": {
             "outlinewidth": 0,
             "ticks": ""
            },
            "type": "contourcarpet"
           }
          ],
          "heatmap": [
           {
            "colorbar": {
             "outlinewidth": 0,
             "ticks": ""
            },
            "colorscale": [
             [
              0,
              "#0d0887"
             ],
             [
              0.1111111111111111,
              "#46039f"
             ],
             [
              0.2222222222222222,
              "#7201a8"
             ],
             [
              0.3333333333333333,
              "#9c179e"
             ],
             [
              0.4444444444444444,
              "#bd3786"
             ],
             [
              0.5555555555555556,
              "#d8576b"
             ],
             [
              0.6666666666666666,
              "#ed7953"
             ],
             [
              0.7777777777777778,
              "#fb9f3a"
             ],
             [
              0.8888888888888888,
              "#fdca26"
             ],
             [
              1,
              "#f0f921"
             ]
            ],
            "type": "heatmap"
           }
          ],
          "heatmapgl": [
           {
            "colorbar": {
             "outlinewidth": 0,
             "ticks": ""
            },
            "colorscale": [
             [
              0,
              "#0d0887"
             ],
             [
              0.1111111111111111,
              "#46039f"
             ],
             [
              0.2222222222222222,
              "#7201a8"
             ],
             [
              0.3333333333333333,
              "#9c179e"
             ],
             [
              0.4444444444444444,
              "#bd3786"
             ],
             [
              0.5555555555555556,
              "#d8576b"
             ],
             [
              0.6666666666666666,
              "#ed7953"
             ],
             [
              0.7777777777777778,
              "#fb9f3a"
             ],
             [
              0.8888888888888888,
              "#fdca26"
             ],
             [
              1,
              "#f0f921"
             ]
            ],
            "type": "heatmapgl"
           }
          ],
          "histogram": [
           {
            "marker": {
             "pattern": {
              "fillmode": "overlay",
              "size": 10,
              "solidity": 0.2
             }
            },
            "type": "histogram"
           }
          ],
          "histogram2d": [
           {
            "colorbar": {
             "outlinewidth": 0,
             "ticks": ""
            },
            "colorscale": [
             [
              0,
              "#0d0887"
             ],
             [
              0.1111111111111111,
              "#46039f"
             ],
             [
              0.2222222222222222,
              "#7201a8"
             ],
             [
              0.3333333333333333,
              "#9c179e"
             ],
             [
              0.4444444444444444,
              "#bd3786"
             ],
             [
              0.5555555555555556,
              "#d8576b"
             ],
             [
              0.6666666666666666,
              "#ed7953"
             ],
             [
              0.7777777777777778,
              "#fb9f3a"
             ],
             [
              0.8888888888888888,
              "#fdca26"
             ],
             [
              1,
              "#f0f921"
             ]
            ],
            "type": "histogram2d"
           }
          ],
          "histogram2dcontour": [
           {
            "colorbar": {
             "outlinewidth": 0,
             "ticks": ""
            },
            "colorscale": [
             [
              0,
              "#0d0887"
             ],
             [
              0.1111111111111111,
              "#46039f"
             ],
             [
              0.2222222222222222,
              "#7201a8"
             ],
             [
              0.3333333333333333,
              "#9c179e"
             ],
             [
              0.4444444444444444,
              "#bd3786"
             ],
             [
              0.5555555555555556,
              "#d8576b"
             ],
             [
              0.6666666666666666,
              "#ed7953"
             ],
             [
              0.7777777777777778,
              "#fb9f3a"
             ],
             [
              0.8888888888888888,
              "#fdca26"
             ],
             [
              1,
              "#f0f921"
             ]
            ],
            "type": "histogram2dcontour"
           }
          ],
          "mesh3d": [
           {
            "colorbar": {
             "outlinewidth": 0,
             "ticks": ""
            },
            "type": "mesh3d"
           }
          ],
          "parcoords": [
           {
            "line": {
             "colorbar": {
              "outlinewidth": 0,
              "ticks": ""
             }
            },
            "type": "parcoords"
           }
          ],
          "pie": [
           {
            "automargin": true,
            "type": "pie"
           }
          ],
          "scatter": [
           {
            "marker": {
             "line": {
              "color": "#283442"
             }
            },
            "type": "scatter"
           }
          ],
          "scatter3d": [
           {
            "line": {
             "colorbar": {
              "outlinewidth": 0,
              "ticks": ""
             }
            },
            "marker": {
             "colorbar": {
              "outlinewidth": 0,
              "ticks": ""
             }
            },
            "type": "scatter3d"
           }
          ],
          "scattercarpet": [
           {
            "marker": {
             "colorbar": {
              "outlinewidth": 0,
              "ticks": ""
             }
            },
            "type": "scattercarpet"
           }
          ],
          "scattergeo": [
           {
            "marker": {
             "colorbar": {
              "outlinewidth": 0,
              "ticks": ""
             }
            },
            "type": "scattergeo"
           }
          ],
          "scattergl": [
           {
            "marker": {
             "line": {
              "color": "#283442"
             }
            },
            "type": "scattergl"
           }
          ],
          "scattermapbox": [
           {
            "marker": {
             "colorbar": {
              "outlinewidth": 0,
              "ticks": ""
             }
            },
            "type": "scattermapbox"
           }
          ],
          "scatterpolar": [
           {
            "marker": {
             "colorbar": {
              "outlinewidth": 0,
              "ticks": ""
             }
            },
            "type": "scatterpolar"
           }
          ],
          "scatterpolargl": [
           {
            "marker": {
             "colorbar": {
              "outlinewidth": 0,
              "ticks": ""
             }
            },
            "type": "scatterpolargl"
           }
          ],
          "scatterternary": [
           {
            "marker": {
             "colorbar": {
              "outlinewidth": 0,
              "ticks": ""
             }
            },
            "type": "scatterternary"
           }
          ],
          "surface": [
           {
            "colorbar": {
             "outlinewidth": 0,
             "ticks": ""
            },
            "colorscale": [
             [
              0,
              "#0d0887"
             ],
             [
              0.1111111111111111,
              "#46039f"
             ],
             [
              0.2222222222222222,
              "#7201a8"
             ],
             [
              0.3333333333333333,
              "#9c179e"
             ],
             [
              0.4444444444444444,
              "#bd3786"
             ],
             [
              0.5555555555555556,
              "#d8576b"
             ],
             [
              0.6666666666666666,
              "#ed7953"
             ],
             [
              0.7777777777777778,
              "#fb9f3a"
             ],
             [
              0.8888888888888888,
              "#fdca26"
             ],
             [
              1,
              "#f0f921"
             ]
            ],
            "type": "surface"
           }
          ],
          "table": [
           {
            "cells": {
             "fill": {
              "color": "#506784"
             },
             "line": {
              "color": "rgb(17,17,17)"
             }
            },
            "header": {
             "fill": {
              "color": "#2a3f5f"
             },
             "line": {
              "color": "rgb(17,17,17)"
             }
            },
            "type": "table"
           }
          ]
         },
         "layout": {
          "annotationdefaults": {
           "arrowcolor": "#f2f5fa",
           "arrowhead": 0,
           "arrowwidth": 1
          },
          "autotypenumbers": "strict",
          "coloraxis": {
           "colorbar": {
            "outlinewidth": 0,
            "ticks": ""
           }
          },
          "colorscale": {
           "diverging": [
            [
             0,
             "#8e0152"
            ],
            [
             0.1,
             "#c51b7d"
            ],
            [
             0.2,
             "#de77ae"
            ],
            [
             0.3,
             "#f1b6da"
            ],
            [
             0.4,
             "#fde0ef"
            ],
            [
             0.5,
             "#f7f7f7"
            ],
            [
             0.6,
             "#e6f5d0"
            ],
            [
             0.7,
             "#b8e186"
            ],
            [
             0.8,
             "#7fbc41"
            ],
            [
             0.9,
             "#4d9221"
            ],
            [
             1,
             "#276419"
            ]
           ],
           "sequential": [
            [
             0,
             "#0d0887"
            ],
            [
             0.1111111111111111,
             "#46039f"
            ],
            [
             0.2222222222222222,
             "#7201a8"
            ],
            [
             0.3333333333333333,
             "#9c179e"
            ],
            [
             0.4444444444444444,
             "#bd3786"
            ],
            [
             0.5555555555555556,
             "#d8576b"
            ],
            [
             0.6666666666666666,
             "#ed7953"
            ],
            [
             0.7777777777777778,
             "#fb9f3a"
            ],
            [
             0.8888888888888888,
             "#fdca26"
            ],
            [
             1,
             "#f0f921"
            ]
           ],
           "sequentialminus": [
            [
             0,
             "#0d0887"
            ],
            [
             0.1111111111111111,
             "#46039f"
            ],
            [
             0.2222222222222222,
             "#7201a8"
            ],
            [
             0.3333333333333333,
             "#9c179e"
            ],
            [
             0.4444444444444444,
             "#bd3786"
            ],
            [
             0.5555555555555556,
             "#d8576b"
            ],
            [
             0.6666666666666666,
             "#ed7953"
            ],
            [
             0.7777777777777778,
             "#fb9f3a"
            ],
            [
             0.8888888888888888,
             "#fdca26"
            ],
            [
             1,
             "#f0f921"
            ]
           ]
          },
          "colorway": [
           "#636efa",
           "#EF553B",
           "#00cc96",
           "#ab63fa",
           "#FFA15A",
           "#19d3f3",
           "#FF6692",
           "#B6E880",
           "#FF97FF",
           "#FECB52"
          ],
          "font": {
           "color": "#f2f5fa"
          },
          "geo": {
           "bgcolor": "rgb(17,17,17)",
           "lakecolor": "rgb(17,17,17)",
           "landcolor": "rgb(17,17,17)",
           "showlakes": true,
           "showland": true,
           "subunitcolor": "#506784"
          },
          "hoverlabel": {
           "align": "left"
          },
          "hovermode": "closest",
          "mapbox": {
           "style": "dark"
          },
          "paper_bgcolor": "rgb(17,17,17)",
          "plot_bgcolor": "rgb(17,17,17)",
          "polar": {
           "angularaxis": {
            "gridcolor": "#506784",
            "linecolor": "#506784",
            "ticks": ""
           },
           "bgcolor": "rgb(17,17,17)",
           "radialaxis": {
            "gridcolor": "#506784",
            "linecolor": "#506784",
            "ticks": ""
           }
          },
          "scene": {
           "xaxis": {
            "backgroundcolor": "rgb(17,17,17)",
            "gridcolor": "#506784",
            "gridwidth": 2,
            "linecolor": "#506784",
            "showbackground": true,
            "ticks": "",
            "zerolinecolor": "#C8D4E3"
           },
           "yaxis": {
            "backgroundcolor": "rgb(17,17,17)",
            "gridcolor": "#506784",
            "gridwidth": 2,
            "linecolor": "#506784",
            "showbackground": true,
            "ticks": "",
            "zerolinecolor": "#C8D4E3"
           },
           "zaxis": {
            "backgroundcolor": "rgb(17,17,17)",
            "gridcolor": "#506784",
            "gridwidth": 2,
            "linecolor": "#506784",
            "showbackground": true,
            "ticks": "",
            "zerolinecolor": "#C8D4E3"
           }
          },
          "shapedefaults": {
           "line": {
            "color": "#f2f5fa"
           }
          },
          "sliderdefaults": {
           "bgcolor": "#C8D4E3",
           "bordercolor": "rgb(17,17,17)",
           "borderwidth": 1,
           "tickwidth": 0
          },
          "ternary": {
           "aaxis": {
            "gridcolor": "#506784",
            "linecolor": "#506784",
            "ticks": ""
           },
           "baxis": {
            "gridcolor": "#506784",
            "linecolor": "#506784",
            "ticks": ""
           },
           "bgcolor": "rgb(17,17,17)",
           "caxis": {
            "gridcolor": "#506784",
            "linecolor": "#506784",
            "ticks": ""
           }
          },
          "title": {
           "x": 0.05
          },
          "updatemenudefaults": {
           "bgcolor": "#506784",
           "borderwidth": 0
          },
          "xaxis": {
           "automargin": true,
           "gridcolor": "#283442",
           "linecolor": "#506784",
           "ticks": "",
           "title": {
            "standoff": 15
           },
           "zerolinecolor": "#283442",
           "zerolinewidth": 2
          },
          "yaxis": {
           "automargin": true,
           "gridcolor": "#283442",
           "linecolor": "#506784",
           "ticks": "",
           "title": {
            "standoff": 15
           },
           "zerolinecolor": "#283442",
           "zerolinewidth": 2
          }
         }
        },
        "title": {
         "text": "Accuracy"
        },
        "xaxis": {
         "anchor": "y",
         "domain": [
          0,
          1
         ],
         "title": {
          "text": "index"
         }
        },
        "yaxis": {
         "anchor": "x",
         "domain": [
          0,
          1
         ],
         "title": {
          "text": "value"
         }
        }
       }
      }
     },
     "metadata": {},
     "output_type": "display_data"
    }
   ],
   "source": [
    "px.line(history.history, y=['accuracy', 'val_accuracy'], title='Accuracy', template='plotly_dark')"
   ]
  },
  {
   "cell_type": "code",
   "execution_count": 26,
   "metadata": {
    "id": "60mJypwQz_Gx"
   },
   "outputs": [
    {
     "name": "stdout",
     "output_type": "stream",
     "text": [
      "814/814 [==============================] - 2s 3ms/step - loss: 0.5236 - accuracy: 0.8981\n"
     ]
    },
    {
     "data": {
      "text/plain": [
       "[0.523567795753479, 0.898125410079956]"
      ]
     },
     "execution_count": 26,
     "metadata": {},
     "output_type": "execute_result"
    }
   ],
   "source": [
    "CNN_model.evaluate(test_X_gray, test_y)"
   ]
  },
  {
   "cell_type": "markdown",
   "metadata": {
    "id": "3iBYFPWUz_G4"
   },
   "source": [
    "## 4. Get model predictions\n",
    "* Load the **best weights** for the MLP and CNN models that you saved during the training run.\n",
    "* Randomly select 5 images and corresponding labels from the test set and display the images with their labels.\n",
    "* Alongside the image and label, show each model’s predictive distribution as a bar chart, and the final model prediction given by the label with maximum probability."
   ]
  },
  {
   "cell_type": "code",
   "execution_count": 2,
   "metadata": {
    "id": "XMYYWs0oz_G5"
   },
   "outputs": [
    {
     "ename": "NameError",
     "evalue": "name 'Create_MLP_model' is not defined",
     "output_type": "error",
     "traceback": [
      "\u001b[1;31m---------------------------------------------------------------------------\u001b[0m",
      "\u001b[1;31mNameError\u001b[0m                                 Traceback (most recent call last)",
      "Cell \u001b[1;32mIn[2], line 1\u001b[0m\n\u001b[1;32m----> 1\u001b[0m Best_MLP_model \u001b[39m=\u001b[39m Create_MLP_model()\n\u001b[0;32m      2\u001b[0m Best_MLP_model\u001b[39m.\u001b[39mload_weights(\u001b[39m'\u001b[39m\u001b[39mMLPmodel/best_model\u001b[39m\u001b[39m'\u001b[39m)\n\u001b[0;32m      4\u001b[0m Best_CNN_model \u001b[39m=\u001b[39m Create_CNN_model()\n",
      "\u001b[1;31mNameError\u001b[0m: name 'Create_MLP_model' is not defined"
     ]
    }
   ],
   "source": [
    "Best_MLP_model = Create_MLP_model()\n",
    "Best_MLP_model.load_weights('MLPmodel/best_model')\n",
    "\n",
    "Best_CNN_model = Create_CNN_model()\n",
    "Best_CNN_model.load_weights('CNNmodel/best_model')"
   ]
  },
  {
   "cell_type": "code",
   "execution_count": 3,
   "metadata": {},
   "outputs": [
    {
     "ename": "NameError",
     "evalue": "name 'Best_MLP_model' is not defined",
     "output_type": "error",
     "traceback": [
      "\u001b[1;31m---------------------------------------------------------------------------\u001b[0m",
      "\u001b[1;31mNameError\u001b[0m                                 Traceback (most recent call last)",
      "Cell \u001b[1;32mIn[3], line 5\u001b[0m\n\u001b[0;32m      1\u001b[0m \u001b[39mfrom\u001b[39;00m \u001b[39mplotly\u001b[39;00m\u001b[39m.\u001b[39;00m\u001b[39msubplots\u001b[39;00m \u001b[39mimport\u001b[39;00m make_subplots\n\u001b[0;32m      2\u001b[0m \u001b[39mimport\u001b[39;00m \u001b[39mplotly\u001b[39;00m\u001b[39m.\u001b[39;00m\u001b[39mgraph_objects\u001b[39;00m \u001b[39mas\u001b[39;00m \u001b[39mgo\u001b[39;00m\n\u001b[1;32m----> 5\u001b[0m \u001b[39mdef\u001b[39;00m \u001b[39mplot_pred_dist\u001b[39m(model1 \u001b[39m=\u001b[39m Best_MLP_model,model2 \u001b[39m=\u001b[39m Best_CNN_model, test_X_gray \u001b[39m=\u001b[39m test_X_gray):\n\u001b[0;32m      6\u001b[0m     fig \u001b[39m=\u001b[39m make_subplots(rows\u001b[39m=\u001b[39m\u001b[39m2\u001b[39m, cols\u001b[39m=\u001b[39m\u001b[39m2\u001b[39m, column_widths\u001b[39m=\u001b[39m[\u001b[39m0.3\u001b[39m, \u001b[39m0.7\u001b[39m],                         \n\u001b[0;32m      7\u001b[0m                         specs\u001b[39m=\u001b[39m[[{\u001b[39m'\u001b[39m\u001b[39mrowspan\u001b[39m\u001b[39m'\u001b[39m: \u001b[39m2\u001b[39m}, {}], [\u001b[39mNone\u001b[39;00m, {}]])\n\u001b[0;32m      8\u001b[0m     predicted_classes \u001b[39m=\u001b[39m [\u001b[39m0\u001b[39m, \u001b[39m1\u001b[39m, \u001b[39m2\u001b[39m, \u001b[39m3\u001b[39m, \u001b[39m4\u001b[39m, \u001b[39m5\u001b[39m, \u001b[39m6\u001b[39m, \u001b[39m7\u001b[39m, \u001b[39m8\u001b[39m, \u001b[39m9\u001b[39m]\n",
      "\u001b[1;31mNameError\u001b[0m: name 'Best_MLP_model' is not defined"
     ]
    }
   ],
   "source": [
    "from plotly.subplots import make_subplots\n",
    "import plotly.graph_objects as go\n",
    "\n",
    "\n",
    "def plot_pred_dist(model1 = Best_MLP_model,model2 = Best_CNN_model, test_X_gray = test_X_gray):\n",
    "    fig = make_subplots(rows=2, cols=2, column_widths=[0.3, 0.7],                         \n",
    "                        specs=[[{'rowspan': 2}, {}], [None, {}]])\n",
    "    predicted_classes = [0, 1, 2, 3, 4, 5, 6, 7, 8, 9]\n",
    "\n",
    "    x = np.random.randint(0, len(test_X_gray))\n",
    "    img = test_X_gray[x]\n",
    "    predicted_MLP = list(model1.predict(img.reshape(1, 32, 32, 1))[0])\n",
    "    predicted_CNN = list(model2.predict(img.reshape(1, 32, 32, 1))[0])\n",
    "\n",
    "    trace_Dist_MLP = go.Bar(x=predicted_classes, y=predicted_MLP, name='MLP prob distribution')\n",
    "    race_Dist_CNN = go.Bar(x=predicted_classes, y=predicted_CNN, name='CNN prob distribution')\n",
    "    \n",
    "    #* I know it's not greenish as i ploted them before, but i want to see how far i can go with so many limitions of Image ploting with plotly \n",
    "    #* although Plotly provides more interacity better Visulization it struggles to plot Images, but i managed to ger around it \n",
    "    trace1_img = go.Heatmap(z=np.rot90(np.flip(img.reshape(32, 32))), colorscale='gray', transpose=True, name='Image', showscale=False) \n",
    "    \n",
    "    fig.append_trace(trace1_img, row=1, col=1 )\n",
    "    #fig.append_trace(trace1_img, row=1, col=1 )\n",
    "    fig.append_trace(trace_Dist_MLP, row=1, col=2 )\n",
    "    fig.append_trace(race_Dist_CNN, row=2, col=2 )\n",
    "\n",
    "    fig.update_layout(template='plotly_dark')\n",
    "    \n",
    "    fig.update_xaxes(dtick=1, row=1, col=2)\n",
    "    fig.update_xaxes(dtick=1, row=2, col=2)\n",
    "    fig.update_yaxes(title_text='Prob MLP', row=1, col=2)\n",
    "    #fig.update_xaxes(title_text=f'predicted Num is {predicted_MLP.index(max(predicted_MLP))}', row=1, col=1)\n",
    "    #fig.update_layout(title_text='MLP Model Prediction distribution', title_x=0.25)\n",
    "    \n",
    "\n",
    "    fig.append_trace(trace1_img, row=1, col=1 )\n",
    "    #fig.update_xaxes(dtick=1, row=1, col=2)\n",
    "    fig.update_yaxes(title_text='Prob CMM', row=2, col=2)\n",
    "    fig.update_xaxes(title_text=f'MLP Predicts [{predicted_MLP.index(max(predicted_MLP))}] -- CNN Predicts [{predicted_CNN.index(max(predicted_CNN))}] ', row=1, col=1 )\n",
    "    fig.update_layout(title_text='MLP vs CNN Prediction distribution', title_x=0.25)\n",
    "    fig.show()\n",
    "    \n",
    "plot_pred_dist()\n"
   ]
  },
  {
   "cell_type": "code",
   "execution_count": 29,
   "metadata": {
    "id": "J_qfLvK-z_HA"
   },
   "outputs": [
    {
     "name": "stdout",
     "output_type": "stream",
     "text": [
      "1/1 [==============================] - 0s 19ms/step\n",
      "1/1 [==============================] - 0s 20ms/step\n"
     ]
    },
    {
     "data": {
      "application/vnd.plotly.v1+json": {
       "config": {
        "plotlyServerURL": "https://plot.ly"
       },
       "data": [
        {
         "colorscale": [
          [
           0,
           "rgb(0, 0, 0)"
          ],
          [
           0.09090909090909091,
           "rgb(16, 16, 16)"
          ],
          [
           0.18181818181818182,
           "rgb(38, 38, 38)"
          ],
          [
           0.2727272727272727,
           "rgb(59, 59, 59)"
          ],
          [
           0.36363636363636365,
           "rgb(81, 80, 80)"
          ],
          [
           0.45454545454545453,
           "rgb(102, 101, 101)"
          ],
          [
           0.5454545454545454,
           "rgb(124, 123, 122)"
          ],
          [
           0.6363636363636364,
           "rgb(146, 146, 145)"
          ],
          [
           0.7272727272727273,
           "rgb(171, 171, 170)"
          ],
          [
           0.8181818181818182,
           "rgb(197, 197, 195)"
          ],
          [
           0.9090909090909091,
           "rgb(224, 224, 223)"
          ],
          [
           1,
           "rgb(254, 254, 253)"
          ]
         ],
         "name": "Image",
         "showscale": false,
         "transpose": true,
         "type": "heatmap",
         "xaxis": "x",
         "yaxis": "y",
         "z": [
          [
           0.4026143790849674,
           0.4000000000000001,
           0.4026143790849674,
           0.40392156862745104,
           0.4052287581699347,
           0.40915032679738567,
           0.40653594771241836,
           0.40915032679738567,
           0.4104575163398693,
           0.40915032679738567,
           0.40392156862745104,
           0.4000000000000001,
           0.4000000000000001,
           0.4000000000000001,
           0.4000000000000001,
           0.40130718954248373,
           0.39738562091503266,
           0.3986928104575163,
           0.3986928104575163,
           0.39477124183006534,
           0.39477124183006534,
           0.3934640522875817,
           0.396078431372549,
           0.4000000000000001,
           0.4000000000000001,
           0.4000000000000001,
           0.4000000000000001,
           0.39999999999999997,
           0.3934640522875817,
           0.3934640522875817,
           0.39477124183006534,
           0.3986928104575163
          ],
          [
           0.39999999999999997,
           0.40130718954248373,
           0.40653594771241836,
           0.4026143790849674,
           0.4052287581699347,
           0.40392156862745104,
           0.40392156862745104,
           0.40392156862745104,
           0.407843137254902,
           0.407843137254902,
           0.40392156862745104,
           0.4000000000000001,
           0.4000000000000001,
           0.4000000000000001,
           0.4000000000000001,
           0.40130718954248373,
           0.3986928104575163,
           0.39999999999999997,
           0.3986928104575163,
           0.39477124183006534,
           0.39477124183006534,
           0.39477124183006534,
           0.3986928104575163,
           0.396078431372549,
           0.396078431372549,
           0.396078431372549,
           0.396078431372549,
           0.396078431372549,
           0.3986928104575164,
           0.4000000000000001,
           0.40130718954248373,
           0.3986928104575163
          ],
          [
           0.4013071895424836,
           0.4013071895424836,
           0.39999999999999997,
           0.40130718954248373,
           0.4000000000000001,
           0.4000000000000001,
           0.4026143790849674,
           0.4052287581699347,
           0.40653594771241836,
           0.40653594771241836,
           0.40392156862745104,
           0.4000000000000001,
           0.4000000000000001,
           0.4000000000000001,
           0.4000000000000001,
           0.40130718954248373,
           0.39738562091503266,
           0.3986928104575163,
           0.3986928104575163,
           0.39477124183006534,
           0.39477124183006534,
           0.3934640522875817,
           0.396078431372549,
           0.3986928104575163,
           0.3986928104575163,
           0.3986928104575163,
           0.396078431372549,
           0.39477124183006534,
           0.4000000000000001,
           0.40130718954248373,
           0.40130718954248373,
           0.40130718954248373
          ],
          [
           0.39738562091503266,
           0.39999999999999997,
           0.39999999999999997,
           0.3986928104575163,
           0.39738562091503266,
           0.4000000000000001,
           0.39999999999999997,
           0.4052287581699347,
           0.40392156862745104,
           0.4052287581699347,
           0.40392156862745104,
           0.4000000000000001,
           0.4000000000000001,
           0.4000000000000001,
           0.4000000000000001,
           0.40130718954248373,
           0.39738562091503266,
           0.3986928104575163,
           0.3986928104575163,
           0.39477124183006534,
           0.39477124183006534,
           0.3934640522875817,
           0.396078431372549,
           0.3986928104575163,
           0.3986928104575163,
           0.3986928104575163,
           0.396078431372549,
           0.39477124183006534,
           0.40130718954248373,
           0.4026143790849674,
           0.40130718954248373,
           0.40130718954248373
          ],
          [
           0.39738562091503266,
           0.39738562091503266,
           0.39738562091503266,
           0.39999999999999997,
           0.40130718954248373,
           0.4000000000000001,
           0.3986928104575163,
           0.4026143790849673,
           0.40392156862745104,
           0.40392156862745104,
           0.4000000000000001,
           0.4000000000000001,
           0.4000000000000001,
           0.4000000000000001,
           0.4000000000000001,
           0.40130718954248373,
           0.3986928104575163,
           0.39999999999999997,
           0.3986928104575163,
           0.39477124183006534,
           0.39477124183006534,
           0.39477124183006534,
           0.3986928104575163,
           0.396078431372549,
           0.396078431372549,
           0.396078431372549,
           0.396078431372549,
           0.396078431372549,
           0.4026143790849674,
           0.40392156862745104,
           0.4026143790849674,
           0.40130718954248373
          ],
          [
           0.40392156862745104,
           0.40392156862745104,
           0.40392156862745104,
           0.40392156862745104,
           0.40392156862745104,
           0.40392156862745104,
           0.4026143790849674,
           0.4013071895424836,
           0.4026143790849674,
           0.40130718954248373,
           0.4000000000000001,
           0.39738562091503266,
           0.39738562091503266,
           0.39738562091503266,
           0.39738562091503266,
           0.40130718954248373,
           0.40130718954248373,
           0.39999999999999997,
           0.3986928104575163,
           0.39738562091503266,
           0.3934640522875817,
           0.39215686274509803,
           0.396078431372549,
           0.396078431372549,
           0.3986928104575163,
           0.39738562091503266,
           0.39738562091503266,
           0.4026143790849674,
           0.4052287581699347,
           0.40653594771241836,
           0.40653594771241836,
           0.4026143790849674
          ],
          [
           0.40653594771241836,
           0.40653594771241836,
           0.40653594771241836,
           0.4052287581699347,
           0.4052287581699347,
           0.4052287581699347,
           0.40392156862745104,
           0.40392156862745104,
           0.4026143790849674,
           0.40130718954248373,
           0.40130718954248373,
           0.3986928104575163,
           0.39738562091503266,
           0.39738562091503266,
           0.39738562091503266,
           0.4000000000000001,
           0.4000000000000001,
           0.4026143790849674,
           0.39999999999999997,
           0.39738562091503266,
           0.396078431372549,
           0.39215686274509803,
           0.396078431372549,
           0.3986928104575163,
           0.3986928104575163,
           0.39738562091503266,
           0.40392156862745093,
           0.4013071895424836,
           0.40392156862745104,
           0.40653594771241836,
           0.40653594771241836,
           0.4026143790849674
          ],
          [
           0.40653594771241836,
           0.40653594771241836,
           0.40653594771241836,
           0.40653594771241836,
           0.40653594771241836,
           0.40653594771241836,
           0.4052287581699347,
           0.4052287581699347,
           0.4026143790849674,
           0.4026143790849674,
           0.4026143790849674,
           0.4000000000000001,
           0.3986928104575163,
           0.39738562091503266,
           0.39738562091503266,
           0.4000000000000001,
           0.4052287581699347,
           0.4026143790849674,
           0.4026143790849674,
           0.4026143790849674,
           0.3986928104575163,
           0.396078431372549,
           0.3986928104575163,
           0.39738562091503266,
           0.39738562091503266,
           0.4013071895424836,
           0.39999999999999997,
           0.4013071895424836,
           0.4026143790849674,
           0.4052287581699347,
           0.40653594771241836,
           0.40653594771241836
          ],
          [
           0.40653594771241836,
           0.40653594771241836,
           0.40653594771241836,
           0.4052287581699347,
           0.4052287581699347,
           0.4052287581699347,
           0.4052287581699347,
           0.40392156862745104,
           0.4026143790849674,
           0.40130718954248373,
           0.40392156862745104,
           0.4000000000000001,
           0.3986928104575163,
           0.39738562091503266,
           0.39738562091503266,
           0.3986928104575163,
           0.40392156862745104,
           0.40653594771241836,
           0.4052287581699347,
           0.40392156862745104,
           0.4000000000000001,
           0.3986928104575163,
           0.39738562091503266,
           0.4013071895424836,
           0.39999999999999997,
           0.39999999999999997,
           0.40392156862745093,
           0.4052287581699346,
           0.4052287581699347,
           0.407843137254902,
           0.407843137254902,
           0.40392156862745104
          ],
          [
           0.4052287581699347,
           0.4052287581699347,
           0.4052287581699347,
           0.4052287581699347,
           0.4052287581699347,
           0.4052287581699347,
           0.4052287581699347,
           0.40392156862745104,
           0.40392156862745104,
           0.4026143790849674,
           0.4052287581699347,
           0.40392156862745104,
           0.4026143790849674,
           0.4026143790849674,
           0.4026143790849674,
           0.4026143790849674,
           0.407843137254902,
           0.40915032679738567,
           0.40915032679738567,
           0.4052287581699347,
           0.4026143790849674,
           0.4026143790849674,
           0.3986928104575163,
           0.39999999999999997,
           0.39999999999999997,
           0.40392156862745093,
           0.40392156862745093,
           0.40392156862745093,
           0.4052287581699347,
           0.407843137254902,
           0.407843137254902,
           0.40392156862745104
          ],
          [
           0.4052287581699347,
           0.4052287581699347,
           0.4052287581699347,
           0.4052287581699347,
           0.4052287581699347,
           0.4052287581699347,
           0.4052287581699347,
           0.4052287581699347,
           0.4000000000000001,
           0.40392156862745104,
           0.4052287581699347,
           0.40392156862745104,
           0.40392156862745104,
           0.40392156862745104,
           0.40392156862745104,
           0.40392156862745104,
           0.407843137254902,
           0.40915032679738567,
           0.407843137254902,
           0.407843137254902,
           0.40653594771241836,
           0.4026143790849673,
           0.4026143790849673,
           0.39999999999999997,
           0.4026143790849673,
           0.4026143790849673,
           0.4026143790849673,
           0.4078431372549019,
           0.4052287581699346,
           0.40653594771241836,
           0.407843137254902,
           0.40392156862745104
          ],
          [
           0.4052287581699347,
           0.4052287581699347,
           0.40653594771241836,
           0.4052287581699347,
           0.407843137254902,
           0.40653594771241836,
           0.4052287581699347,
           0.40392156862745104,
           0.40392156862745104,
           0.40130718954248373,
           0.40392156862745104,
           0.4104575163398693,
           0.407843137254902,
           0.40392156862745104,
           0.40392156862745104,
           0.4026143790849674,
           0.41568627450980394,
           0.42091503267973857,
           0.41568627450980394,
           0.40653594771241836,
           0.4026143790849673,
           0.39999999999999997,
           0.4052287581699346,
           0.4078431372549019,
           0.40653594771241824,
           0.40653594771241824,
           0.40653594771241824,
           0.40653594771241824,
           0.4078431372549019,
           0.4104575163398693,
           0.40653594771241836,
           0.4026143790849673
          ],
          [
           0.407843137254902,
           0.40915032679738567,
           0.40915032679738567,
           0.40915032679738567,
           0.40653594771241836,
           0.40653594771241836,
           0.4052287581699347,
           0.4052287581699347,
           0.4052287581699347,
           0.4026143790849674,
           0.4052287581699347,
           0.40653594771241836,
           0.4052287581699347,
           0.4052287581699347,
           0.40392156862745104,
           0.4000000000000001,
           0.4169934640522876,
           0.4248366013071896,
           0.41830065359477125,
           0.4052287581699347,
           0.39738562091503266,
           0.3895424836601307,
           0.38431372549019605,
           0.38431372549019605,
           0.38954248366013067,
           0.396078431372549,
           0.4026143790849673,
           0.4104575163398693,
           0.4078431372549019,
           0.40915032679738567,
           0.40653594771241836,
           0.4026143790849673
          ],
          [
           0.407843137254902,
           0.40653594771241836,
           0.407843137254902,
           0.40915032679738567,
           0.40915032679738567,
           0.40653594771241836,
           0.40653594771241836,
           0.40653594771241836,
           0.40653594771241836,
           0.4052287581699347,
           0.40653594771241836,
           0.40653594771241836,
           0.40392156862745104,
           0.40392156862745104,
           0.4000000000000001,
           0.39477124183006534,
           0.41568627450980394,
           0.4235294117647059,
           0.40915032679738567,
           0.39215686274509803,
           0.3790849673202614,
           0.36339869281045756,
           0.34379084967320256,
           0.34379084967320256,
           0.3568627450980392,
           0.3803921568627451,
           0.39477124183006534,
           0.411764705882353,
           0.4078431372549019,
           0.4078431372549019,
           0.4052287581699346,
           0.4026143790849673
          ],
          [
           0.40653594771241836,
           0.40653594771241836,
           0.40653594771241836,
           0.407843137254902,
           0.40392156862745104,
           0.40653594771241836,
           0.40653594771241836,
           0.40653594771241836,
           0.40653594771241836,
           0.40392156862745104,
           0.4026143790849674,
           0.4026143790849674,
           0.4026143790849674,
           0.3986928104575163,
           0.396078431372549,
           0.39738562091503266,
           0.3986928104575164,
           0.39738562091503277,
           0.37777777777777777,
           0.3542483660130719,
           0.3281045751633987,
           0.30718954248366015,
           0.2823529411764706,
           0.28758169934640526,
           0.31764705882352945,
           0.35294117647058826,
           0.3908496732026144,
           0.411764705882353,
           0.411764705882353,
           0.4104575163398693,
           0.4052287581699346,
           0.39999999999999997
          ],
          [
           0.4052287581699347,
           0.4052287581699347,
           0.4052287581699347,
           0.407843137254902,
           0.4052287581699347,
           0.40653594771241836,
           0.40653594771241836,
           0.40653594771241836,
           0.40653594771241836,
           0.40392156862745104,
           0.40130718954248373,
           0.40130718954248373,
           0.3986928104575163,
           0.39738562091503266,
           0.396078431372549,
           0.39738562091503266,
           0.37516339869281046,
           0.35032679738562095,
           0.3254901960784314,
           0.29673202614379085,
           0.26274509803921564,
           0.24183006535947713,
           0.22745098039215686,
           0.24183006535947713,
           0.2823529411764706,
           0.330718954248366,
           0.3830065359477124,
           0.4143790849673203,
           0.411764705882353,
           0.40915032679738567,
           0.4052287581699346,
           0.39999999999999997
          ],
          [
           0.407843137254902,
           0.407843137254902,
           0.407843137254902,
           0.407843137254902,
           0.40653594771241836,
           0.40653594771241836,
           0.40653594771241836,
           0.40653594771241836,
           0.40653594771241836,
           0.40392156862745104,
           0.3986928104575164,
           0.39738562091503277,
           0.3986928104575164,
           0.396078431372549,
           0.39738562091503266,
           0.40653594771241836,
           0.3581699346405229,
           0.31633986928104574,
           0.28758169934640526,
           0.2522875816993464,
           0.21830065359477124,
           0.19346405228758168,
           0.19215686274509802,
           0.21830065359477124,
           0.2627450980392157,
           0.3215686274509804,
           0.3790849673202614,
           0.4169934640522876,
           0.411764705882353,
           0.4078431372549019,
           0.40392156862745093,
           0.39999999999999997
          ],
          [
           0.407843137254902,
           0.407843137254902,
           0.407843137254902,
           0.407843137254902,
           0.4052287581699347,
           0.39477124183006534,
           0.3895424836601307,
           0.3960784313725491,
           0.4052287581699347,
           0.4026143790849674,
           0.39738562091503266,
           0.40915032679738567,
           0.40915032679738567,
           0.3803921568627451,
           0.32679738562091504,
           0.2862745098039216,
           0.23921568627450984,
           0.23921568627450981,
           0.2836601307189543,
           0.28104575163398693,
           0.27450980392156865,
           0.23529411764705885,
           0.19738562091503267,
           0.19477124183006533,
           0.22745098039215686,
           0.30980392156862746,
           0.38692810457516336,
           0.4078431372549019,
           0.40392156862745093,
           0.4026143790849673,
           0.4026143790849673,
           0.4026143790849673
          ],
          [
           0.40653594771241836,
           0.40653594771241836,
           0.40653594771241836,
           0.40653594771241836,
           0.3986928104575163,
           0.3908496732026144,
           0.39738562091503277,
           0.41307189542483663,
           0.42483660130718953,
           0.4300653594771242,
           0.4326797385620915,
           0.43137254901960786,
           0.40392156862745093,
           0.3398692810457516,
           0.2627450980392157,
           0.2130718954248366,
           0.21045751633986928,
           0.2496732026143791,
           0.3111111111111111,
           0.31633986928104574,
           0.30065359477124187,
           0.24836601307189543,
           0.20915032679738563,
           0.21045751633986928,
           0.24575163398692812,
           0.322875816993464,
           0.38823529411764707,
           0.4013071895424836,
           0.4026143790849673,
           0.4013071895424836,
           0.4026143790849673,
           0.4026143790849673
          ],
          [
           0.4052287581699347,
           0.4052287581699347,
           0.4052287581699347,
           0.4052287581699347,
           0.3986928104575163,
           0.39738562091503266,
           0.407843137254902,
           0.4104575163398693,
           0.407843137254902,
           0.4169934640522876,
           0.4104575163398693,
           0.40392156862745093,
           0.38823529411764707,
           0.3333333333333333,
           0.2627450980392157,
           0.21830065359477124,
           0.21437908496732028,
           0.2575163398692811,
           0.33856209150326794,
           0.3542483660130719,
           0.33856209150326794,
           0.2823529411764706,
           0.23921568627450981,
           0.2496732026143791,
           0.2888888888888889,
           0.34640522875817,
           0.39477124183006534,
           0.4013071895424836,
           0.40392156862745093,
           0.4052287581699347,
           0.40392156862745093,
           0.4026143790849673
          ],
          [
           0.4052287581699347,
           0.4052287581699347,
           0.4052287581699347,
           0.4052287581699347,
           0.4104575163398693,
           0.4104575163398693,
           0.388235294117647,
           0.3516339869281046,
           0.3202614379084967,
           0.32941176470588235,
           0.3477124183006535,
           0.36993464052287583,
           0.39477124183006534,
           0.37516339869281046,
           0.31241830065359477,
           0.25882352941176473,
           0.21307189542483662,
           0.24575163398692812,
           0.34379084967320267,
           0.38169934640522873,
           0.38431372549019605,
           0.34117647058823525,
           0.2928104575163399,
           0.29673202614379085,
           0.32418300653594767,
           0.36339869281045756,
           0.3986928104575163,
           0.41307189542483663,
           0.40653594771241824,
           0.4052287581699347,
           0.40392156862745093,
           0.4026143790849673
          ],
          [
           0.4052287581699347,
           0.4052287581699347,
           0.4052287581699347,
           0.4052287581699347,
           0.40915032679738567,
           0.40130718954248373,
           0.34771241830065364,
           0.27450980392156865,
           0.24444444444444446,
           0.27450980392156865,
           0.3359477124183006,
           0.3908496732026144,
           0.41830065359477125,
           0.39477124183006534,
           0.32156862745098036,
           0.2549019607843137,
           0.20653594771241832,
           0.23921568627450981,
           0.33856209150326794,
           0.3803921568627451,
           0.4052287581699347,
           0.3856209150326797,
           0.32941176470588235,
           0.31633986928104574,
           0.31895424836601305,
           0.3333333333333333,
           0.3673202614379085,
           0.3986928104575163,
           0.40915032679738567,
           0.40653594771241836,
           0.40653594771241836,
           0.4026143790849673
          ],
          [
           0.40653594771241836,
           0.4052287581699347,
           0.4052287581699347,
           0.407843137254902,
           0.4000000000000001,
           0.3712418300653595,
           0.30718954248366015,
           0.22875816993464052,
           0.2196078431372549,
           0.28235294117647064,
           0.3607843137254902,
           0.4052287581699347,
           0.411764705882353,
           0.37777777777777777,
           0.3084967320261438,
           0.24705882352941178,
           0.2130718954248366,
           0.24705882352941178,
           0.33202614379084966,
           0.3712418300653595,
           0.4026143790849674,
           0.39215686274509803,
           0.33202614379084966,
           0.30588235294117644,
           0.2862745098039216,
           0.2888888888888889,
           0.3254901960784313,
           0.37254901960784315,
           0.40392156862745093,
           0.4104575163398693,
           0.40653594771241824,
           0.40653594771241824
          ],
          [
           0.4104575163398693,
           0.4104575163398693,
           0.40915032679738567,
           0.40915032679738567,
           0.37516339869281046,
           0.2784313725490196,
           0.2339869281045752,
           0.21960784313725493,
           0.27058823529411763,
           0.33202614379084966,
           0.392156862745098,
           0.39477124183006534,
           0.3581699346405229,
           0.31633986928104574,
           0.269281045751634,
           0.2261437908496732,
           0.26143790849673204,
           0.32941176470588235,
           0.37516339869281046,
           0.40392156862745104,
           0.40915032679738567,
           0.36339869281045756,
           0.30718954248366015,
           0.25098039215686274,
           0.2261437908496732,
           0.24575163398692812,
           0.2784313725490196,
           0.35032679738562084,
           0.3986928104575163,
           0.39999999999999997,
           0.39999999999999997,
           0.40392156862745093
          ],
          [
           0.411764705882353,
           0.40915032679738567,
           0.407843137254902,
           0.411764705882353,
           0.35555555555555557,
           0.23790849673202616,
           0.2261437908496732,
           0.23006535947712417,
           0.27320261437908494,
           0.32287581699346407,
           0.3542483660130719,
           0.3333333333333333,
           0.2823529411764706,
           0.24705882352941178,
           0.24705882352941178,
           0.2549019607843137,
           0.32679738562091504,
           0.38954248366013067,
           0.40392156862745104,
           0.411764705882353,
           0.407843137254902,
           0.36209150326797385,
           0.29150326797385623,
           0.2261437908496732,
           0.19738562091503267,
           0.2169934640522876,
           0.24836601307189543,
           0.31895424836601305,
           0.3908496732026144,
           0.39999999999999997,
           0.39999999999999997,
           0.40392156862745093
          ],
          [
           0.41307189542483663,
           0.4078431372549019,
           0.4078431372549019,
           0.4169934640522876,
           0.34117647058823525,
           0.21176470588235294,
           0.20522875816993466,
           0.20653594771241832,
           0.23921568627450976,
           0.27712418300653596,
           0.28496732026143795,
           0.2549019607843137,
           0.22483660130718955,
           0.22222222222222224,
           0.2705882352941177,
           0.3254901960784314,
           0.39477124183006534,
           0.42483660130718953,
           0.411764705882353,
           0.40392156862745093,
           0.3986928104575163,
           0.36993464052287583,
           0.2888888888888889,
           0.2156862745098039,
           0.1869281045751634,
           0.19869281045751633,
           0.22745098039215686,
           0.2954248366013072,
           0.38823529411764707,
           0.40392156862745093,
           0.39999999999999997,
           0.40392156862745093
          ],
          [
           0.40915032679738567,
           0.411764705882353,
           0.4078431372549019,
           0.4143790849673203,
           0.3516339869281045,
           0.22875816993464052,
           0.19738562091503267,
           0.18039215686274512,
           0.203921568627451,
           0.23921568627450976,
           0.24705882352941178,
           0.24052287581699347,
           0.25359477124183005,
           0.28888888888888886,
           0.3490196078431373,
           0.3986928104575164,
           0.4104575163398693,
           0.4169934640522876,
           0.4000000000000001,
           0.38823529411764707,
           0.39477124183006534,
           0.3738562091503268,
           0.30196078431372547,
           0.2235294117647059,
           0.19215686274509802,
           0.203921568627451,
           0.22483660130718955,
           0.2928104575163399,
           0.3856209150326797,
           0.40392156862745093,
           0.39999999999999997,
           0.40392156862745093
          ],
          [
           0.40915032679738567,
           0.411764705882353,
           0.40915032679738567,
           0.41307189542483663,
           0.36339869281045756,
           0.25359477124183005,
           0.21960784313725493,
           0.19607843137254902,
           0.21176470588235294,
           0.23137254901960783,
           0.27581699346405225,
           0.3137254901960784,
           0.34379084967320256,
           0.37777777777777777,
           0.40915032679738567,
           0.4222222222222222,
           0.42091503267973857,
           0.42875816993464055,
           0.42352941176470593,
           0.41830065359477125,
           0.4222222222222222,
           0.4000000000000001,
           0.31633986928104574,
           0.23137254901960783,
           0.19999999999999998,
           0.203921568627451,
           0.2235294117647059,
           0.28758169934640526,
           0.3856209150326797,
           0.4052287581699346,
           0.4013071895424836,
           0.40392156862745093
          ],
          [
           0.411764705882353,
           0.411764705882353,
           0.411764705882353,
           0.4078431372549019,
           0.38954248366013067,
           0.31895424836601305,
           0.30718954248366015,
           0.29411764705882354,
           0.3019607843137255,
           0.29934640522875816,
           0.3516339869281046,
           0.3934640522875817,
           0.41307189542483663,
           0.4261437908496732,
           0.4196078431372549,
           0.40653594771241836,
           0.4026143790849674,
           0.4104575163398693,
           0.407843137254902,
           0.40653594771241836,
           0.4013071895424836,
           0.3686274509803922,
           0.3006535947712418,
           0.22483660130718955,
           0.1934640522875817,
           0.1934640522875817,
           0.21176470588235294,
           0.27450980392156865,
           0.3803921568627451,
           0.40653594771241836,
           0.39999999999999997,
           0.40392156862745093
          ],
          [
           0.41568627450980394,
           0.41568627450980394,
           0.411764705882353,
           0.40915032679738567,
           0.41307189542483663,
           0.411764705882353,
           0.40915032679738567,
           0.411764705882353,
           0.4196078431372549,
           0.4287581699346405,
           0.43529411764705883,
           0.4392156862745098,
           0.4326797385620915,
           0.4143790849673203,
           0.388235294117647,
           0.3607843137254902,
           0.3254901960784314,
           0.3019607843137255,
           0.28758169934640526,
           0.269281045751634,
           0.25882352941176473,
           0.2496732026143791,
           0.23006535947712417,
           0.20915032679738563,
           0.19869281045751633,
           0.21437908496732028,
           0.265359477124183,
           0.3150326797385621,
           0.38169934640522873,
           0.40915032679738556,
           0.4104575163398693,
           0.4169934640522876
          ],
          [
           0.4169934640522876,
           0.41568627450980394,
           0.41307189542483663,
           0.4104575163398693,
           0.4143790849673203,
           0.411764705882353,
           0.40392156862745104,
           0.40392156862745104,
           0.40915032679738567,
           0.42483660130718953,
           0.411764705882353,
           0.39215686274509803,
           0.36339869281045756,
           0.32679738562091504,
           0.29411764705882354,
           0.2679738562091503,
           0.25098039215686274,
           0.2339869281045752,
           0.22875816993464052,
           0.2261437908496732,
           0.23137254901960783,
           0.23921568627450981,
           0.2549019607843137,
           0.26143790849673204,
           0.26143790849673204,
           0.28496732026143795,
           0.32679738562091504,
           0.3647058823529412,
           0.39477124183006534,
           0.4078431372549019,
           0.4169934640522876,
           0.4235294117647059
          ],
          [
           0.4196078431372549,
           0.41568627450980394,
           0.41568627450980394,
           0.41568627450980394,
           0.40392156862745104,
           0.39738562091503266,
           0.396078431372549,
           0.396078431372549,
           0.39477124183006534,
           0.3934640522875817,
           0.35294117647058826,
           0.30718954248366015,
           0.27973856209150333,
           0.2496732026143791,
           0.23267973856209148,
           0.22483660130718955,
           0.2366013071895425,
           0.24313725490196078,
           0.24836601307189543,
           0.27058823529411763,
           0.2993464052287582,
           0.3254901960784314,
           0.3281045751633987,
           0.32679738562091504,
           0.3372549019607843,
           0.3516339869281046,
           0.3712418300653595,
           0.38692810457516336,
           0.3856209150326797,
           0.39215686274509803,
           0.41307189542483663,
           0.42352941176470593
          ]
         ]
        },
        {
         "name": "MLP prob distribution",
         "type": "bar",
         "x": [
          0,
          1,
          2,
          3,
          4,
          5,
          6,
          7,
          8,
          9
         ],
         "xaxis": "x2",
         "y": [
          0.009158744476735592,
          0.5472192168235779,
          0.04835129529237747,
          0.22123686969280243,
          0.029748104512691498,
          0.048342105001211166,
          0.009062930941581726,
          0.05179223418235779,
          0.011316396296024323,
          0.023772118613123894
         ],
         "yaxis": "y2"
        },
        {
         "name": "CNN prob distribution",
         "type": "bar",
         "x": [
          0,
          1,
          2,
          3,
          4,
          5,
          6,
          7,
          8,
          9
         ],
         "xaxis": "x3",
         "y": [
          0.0030857485253363848,
          0.6061611771583557,
          0.014807927422225475,
          0.014064914546906948,
          0.0027093086391687393,
          0.011242090724408627,
          0.0047477008774876595,
          0.3343518078327179,
          0.004482917487621307,
          0.004346433095633984
         ],
         "yaxis": "y3"
        },
        {
         "colorscale": [
          [
           0,
           "rgb(0, 0, 0)"
          ],
          [
           0.09090909090909091,
           "rgb(16, 16, 16)"
          ],
          [
           0.18181818181818182,
           "rgb(38, 38, 38)"
          ],
          [
           0.2727272727272727,
           "rgb(59, 59, 59)"
          ],
          [
           0.36363636363636365,
           "rgb(81, 80, 80)"
          ],
          [
           0.45454545454545453,
           "rgb(102, 101, 101)"
          ],
          [
           0.5454545454545454,
           "rgb(124, 123, 122)"
          ],
          [
           0.6363636363636364,
           "rgb(146, 146, 145)"
          ],
          [
           0.7272727272727273,
           "rgb(171, 171, 170)"
          ],
          [
           0.8181818181818182,
           "rgb(197, 197, 195)"
          ],
          [
           0.9090909090909091,
           "rgb(224, 224, 223)"
          ],
          [
           1,
           "rgb(254, 254, 253)"
          ]
         ],
         "name": "Image",
         "showscale": false,
         "transpose": true,
         "type": "heatmap",
         "xaxis": "x",
         "yaxis": "y",
         "z": [
          [
           0.4026143790849674,
           0.4000000000000001,
           0.4026143790849674,
           0.40392156862745104,
           0.4052287581699347,
           0.40915032679738567,
           0.40653594771241836,
           0.40915032679738567,
           0.4104575163398693,
           0.40915032679738567,
           0.40392156862745104,
           0.4000000000000001,
           0.4000000000000001,
           0.4000000000000001,
           0.4000000000000001,
           0.40130718954248373,
           0.39738562091503266,
           0.3986928104575163,
           0.3986928104575163,
           0.39477124183006534,
           0.39477124183006534,
           0.3934640522875817,
           0.396078431372549,
           0.4000000000000001,
           0.4000000000000001,
           0.4000000000000001,
           0.4000000000000001,
           0.39999999999999997,
           0.3934640522875817,
           0.3934640522875817,
           0.39477124183006534,
           0.3986928104575163
          ],
          [
           0.39999999999999997,
           0.40130718954248373,
           0.40653594771241836,
           0.4026143790849674,
           0.4052287581699347,
           0.40392156862745104,
           0.40392156862745104,
           0.40392156862745104,
           0.407843137254902,
           0.407843137254902,
           0.40392156862745104,
           0.4000000000000001,
           0.4000000000000001,
           0.4000000000000001,
           0.4000000000000001,
           0.40130718954248373,
           0.3986928104575163,
           0.39999999999999997,
           0.3986928104575163,
           0.39477124183006534,
           0.39477124183006534,
           0.39477124183006534,
           0.3986928104575163,
           0.396078431372549,
           0.396078431372549,
           0.396078431372549,
           0.396078431372549,
           0.396078431372549,
           0.3986928104575164,
           0.4000000000000001,
           0.40130718954248373,
           0.3986928104575163
          ],
          [
           0.4013071895424836,
           0.4013071895424836,
           0.39999999999999997,
           0.40130718954248373,
           0.4000000000000001,
           0.4000000000000001,
           0.4026143790849674,
           0.4052287581699347,
           0.40653594771241836,
           0.40653594771241836,
           0.40392156862745104,
           0.4000000000000001,
           0.4000000000000001,
           0.4000000000000001,
           0.4000000000000001,
           0.40130718954248373,
           0.39738562091503266,
           0.3986928104575163,
           0.3986928104575163,
           0.39477124183006534,
           0.39477124183006534,
           0.3934640522875817,
           0.396078431372549,
           0.3986928104575163,
           0.3986928104575163,
           0.3986928104575163,
           0.396078431372549,
           0.39477124183006534,
           0.4000000000000001,
           0.40130718954248373,
           0.40130718954248373,
           0.40130718954248373
          ],
          [
           0.39738562091503266,
           0.39999999999999997,
           0.39999999999999997,
           0.3986928104575163,
           0.39738562091503266,
           0.4000000000000001,
           0.39999999999999997,
           0.4052287581699347,
           0.40392156862745104,
           0.4052287581699347,
           0.40392156862745104,
           0.4000000000000001,
           0.4000000000000001,
           0.4000000000000001,
           0.4000000000000001,
           0.40130718954248373,
           0.39738562091503266,
           0.3986928104575163,
           0.3986928104575163,
           0.39477124183006534,
           0.39477124183006534,
           0.3934640522875817,
           0.396078431372549,
           0.3986928104575163,
           0.3986928104575163,
           0.3986928104575163,
           0.396078431372549,
           0.39477124183006534,
           0.40130718954248373,
           0.4026143790849674,
           0.40130718954248373,
           0.40130718954248373
          ],
          [
           0.39738562091503266,
           0.39738562091503266,
           0.39738562091503266,
           0.39999999999999997,
           0.40130718954248373,
           0.4000000000000001,
           0.3986928104575163,
           0.4026143790849673,
           0.40392156862745104,
           0.40392156862745104,
           0.4000000000000001,
           0.4000000000000001,
           0.4000000000000001,
           0.4000000000000001,
           0.4000000000000001,
           0.40130718954248373,
           0.3986928104575163,
           0.39999999999999997,
           0.3986928104575163,
           0.39477124183006534,
           0.39477124183006534,
           0.39477124183006534,
           0.3986928104575163,
           0.396078431372549,
           0.396078431372549,
           0.396078431372549,
           0.396078431372549,
           0.396078431372549,
           0.4026143790849674,
           0.40392156862745104,
           0.4026143790849674,
           0.40130718954248373
          ],
          [
           0.40392156862745104,
           0.40392156862745104,
           0.40392156862745104,
           0.40392156862745104,
           0.40392156862745104,
           0.40392156862745104,
           0.4026143790849674,
           0.4013071895424836,
           0.4026143790849674,
           0.40130718954248373,
           0.4000000000000001,
           0.39738562091503266,
           0.39738562091503266,
           0.39738562091503266,
           0.39738562091503266,
           0.40130718954248373,
           0.40130718954248373,
           0.39999999999999997,
           0.3986928104575163,
           0.39738562091503266,
           0.3934640522875817,
           0.39215686274509803,
           0.396078431372549,
           0.396078431372549,
           0.3986928104575163,
           0.39738562091503266,
           0.39738562091503266,
           0.4026143790849674,
           0.4052287581699347,
           0.40653594771241836,
           0.40653594771241836,
           0.4026143790849674
          ],
          [
           0.40653594771241836,
           0.40653594771241836,
           0.40653594771241836,
           0.4052287581699347,
           0.4052287581699347,
           0.4052287581699347,
           0.40392156862745104,
           0.40392156862745104,
           0.4026143790849674,
           0.40130718954248373,
           0.40130718954248373,
           0.3986928104575163,
           0.39738562091503266,
           0.39738562091503266,
           0.39738562091503266,
           0.4000000000000001,
           0.4000000000000001,
           0.4026143790849674,
           0.39999999999999997,
           0.39738562091503266,
           0.396078431372549,
           0.39215686274509803,
           0.396078431372549,
           0.3986928104575163,
           0.3986928104575163,
           0.39738562091503266,
           0.40392156862745093,
           0.4013071895424836,
           0.40392156862745104,
           0.40653594771241836,
           0.40653594771241836,
           0.4026143790849674
          ],
          [
           0.40653594771241836,
           0.40653594771241836,
           0.40653594771241836,
           0.40653594771241836,
           0.40653594771241836,
           0.40653594771241836,
           0.4052287581699347,
           0.4052287581699347,
           0.4026143790849674,
           0.4026143790849674,
           0.4026143790849674,
           0.4000000000000001,
           0.3986928104575163,
           0.39738562091503266,
           0.39738562091503266,
           0.4000000000000001,
           0.4052287581699347,
           0.4026143790849674,
           0.4026143790849674,
           0.4026143790849674,
           0.3986928104575163,
           0.396078431372549,
           0.3986928104575163,
           0.39738562091503266,
           0.39738562091503266,
           0.4013071895424836,
           0.39999999999999997,
           0.4013071895424836,
           0.4026143790849674,
           0.4052287581699347,
           0.40653594771241836,
           0.40653594771241836
          ],
          [
           0.40653594771241836,
           0.40653594771241836,
           0.40653594771241836,
           0.4052287581699347,
           0.4052287581699347,
           0.4052287581699347,
           0.4052287581699347,
           0.40392156862745104,
           0.4026143790849674,
           0.40130718954248373,
           0.40392156862745104,
           0.4000000000000001,
           0.3986928104575163,
           0.39738562091503266,
           0.39738562091503266,
           0.3986928104575163,
           0.40392156862745104,
           0.40653594771241836,
           0.4052287581699347,
           0.40392156862745104,
           0.4000000000000001,
           0.3986928104575163,
           0.39738562091503266,
           0.4013071895424836,
           0.39999999999999997,
           0.39999999999999997,
           0.40392156862745093,
           0.4052287581699346,
           0.4052287581699347,
           0.407843137254902,
           0.407843137254902,
           0.40392156862745104
          ],
          [
           0.4052287581699347,
           0.4052287581699347,
           0.4052287581699347,
           0.4052287581699347,
           0.4052287581699347,
           0.4052287581699347,
           0.4052287581699347,
           0.40392156862745104,
           0.40392156862745104,
           0.4026143790849674,
           0.4052287581699347,
           0.40392156862745104,
           0.4026143790849674,
           0.4026143790849674,
           0.4026143790849674,
           0.4026143790849674,
           0.407843137254902,
           0.40915032679738567,
           0.40915032679738567,
           0.4052287581699347,
           0.4026143790849674,
           0.4026143790849674,
           0.3986928104575163,
           0.39999999999999997,
           0.39999999999999997,
           0.40392156862745093,
           0.40392156862745093,
           0.40392156862745093,
           0.4052287581699347,
           0.407843137254902,
           0.407843137254902,
           0.40392156862745104
          ],
          [
           0.4052287581699347,
           0.4052287581699347,
           0.4052287581699347,
           0.4052287581699347,
           0.4052287581699347,
           0.4052287581699347,
           0.4052287581699347,
           0.4052287581699347,
           0.4000000000000001,
           0.40392156862745104,
           0.4052287581699347,
           0.40392156862745104,
           0.40392156862745104,
           0.40392156862745104,
           0.40392156862745104,
           0.40392156862745104,
           0.407843137254902,
           0.40915032679738567,
           0.407843137254902,
           0.407843137254902,
           0.40653594771241836,
           0.4026143790849673,
           0.4026143790849673,
           0.39999999999999997,
           0.4026143790849673,
           0.4026143790849673,
           0.4026143790849673,
           0.4078431372549019,
           0.4052287581699346,
           0.40653594771241836,
           0.407843137254902,
           0.40392156862745104
          ],
          [
           0.4052287581699347,
           0.4052287581699347,
           0.40653594771241836,
           0.4052287581699347,
           0.407843137254902,
           0.40653594771241836,
           0.4052287581699347,
           0.40392156862745104,
           0.40392156862745104,
           0.40130718954248373,
           0.40392156862745104,
           0.4104575163398693,
           0.407843137254902,
           0.40392156862745104,
           0.40392156862745104,
           0.4026143790849674,
           0.41568627450980394,
           0.42091503267973857,
           0.41568627450980394,
           0.40653594771241836,
           0.4026143790849673,
           0.39999999999999997,
           0.4052287581699346,
           0.4078431372549019,
           0.40653594771241824,
           0.40653594771241824,
           0.40653594771241824,
           0.40653594771241824,
           0.4078431372549019,
           0.4104575163398693,
           0.40653594771241836,
           0.4026143790849673
          ],
          [
           0.407843137254902,
           0.40915032679738567,
           0.40915032679738567,
           0.40915032679738567,
           0.40653594771241836,
           0.40653594771241836,
           0.4052287581699347,
           0.4052287581699347,
           0.4052287581699347,
           0.4026143790849674,
           0.4052287581699347,
           0.40653594771241836,
           0.4052287581699347,
           0.4052287581699347,
           0.40392156862745104,
           0.4000000000000001,
           0.4169934640522876,
           0.4248366013071896,
           0.41830065359477125,
           0.4052287581699347,
           0.39738562091503266,
           0.3895424836601307,
           0.38431372549019605,
           0.38431372549019605,
           0.38954248366013067,
           0.396078431372549,
           0.4026143790849673,
           0.4104575163398693,
           0.4078431372549019,
           0.40915032679738567,
           0.40653594771241836,
           0.4026143790849673
          ],
          [
           0.407843137254902,
           0.40653594771241836,
           0.407843137254902,
           0.40915032679738567,
           0.40915032679738567,
           0.40653594771241836,
           0.40653594771241836,
           0.40653594771241836,
           0.40653594771241836,
           0.4052287581699347,
           0.40653594771241836,
           0.40653594771241836,
           0.40392156862745104,
           0.40392156862745104,
           0.4000000000000001,
           0.39477124183006534,
           0.41568627450980394,
           0.4235294117647059,
           0.40915032679738567,
           0.39215686274509803,
           0.3790849673202614,
           0.36339869281045756,
           0.34379084967320256,
           0.34379084967320256,
           0.3568627450980392,
           0.3803921568627451,
           0.39477124183006534,
           0.411764705882353,
           0.4078431372549019,
           0.4078431372549019,
           0.4052287581699346,
           0.4026143790849673
          ],
          [
           0.40653594771241836,
           0.40653594771241836,
           0.40653594771241836,
           0.407843137254902,
           0.40392156862745104,
           0.40653594771241836,
           0.40653594771241836,
           0.40653594771241836,
           0.40653594771241836,
           0.40392156862745104,
           0.4026143790849674,
           0.4026143790849674,
           0.4026143790849674,
           0.3986928104575163,
           0.396078431372549,
           0.39738562091503266,
           0.3986928104575164,
           0.39738562091503277,
           0.37777777777777777,
           0.3542483660130719,
           0.3281045751633987,
           0.30718954248366015,
           0.2823529411764706,
           0.28758169934640526,
           0.31764705882352945,
           0.35294117647058826,
           0.3908496732026144,
           0.411764705882353,
           0.411764705882353,
           0.4104575163398693,
           0.4052287581699346,
           0.39999999999999997
          ],
          [
           0.4052287581699347,
           0.4052287581699347,
           0.4052287581699347,
           0.407843137254902,
           0.4052287581699347,
           0.40653594771241836,
           0.40653594771241836,
           0.40653594771241836,
           0.40653594771241836,
           0.40392156862745104,
           0.40130718954248373,
           0.40130718954248373,
           0.3986928104575163,
           0.39738562091503266,
           0.396078431372549,
           0.39738562091503266,
           0.37516339869281046,
           0.35032679738562095,
           0.3254901960784314,
           0.29673202614379085,
           0.26274509803921564,
           0.24183006535947713,
           0.22745098039215686,
           0.24183006535947713,
           0.2823529411764706,
           0.330718954248366,
           0.3830065359477124,
           0.4143790849673203,
           0.411764705882353,
           0.40915032679738567,
           0.4052287581699346,
           0.39999999999999997
          ],
          [
           0.407843137254902,
           0.407843137254902,
           0.407843137254902,
           0.407843137254902,
           0.40653594771241836,
           0.40653594771241836,
           0.40653594771241836,
           0.40653594771241836,
           0.40653594771241836,
           0.40392156862745104,
           0.3986928104575164,
           0.39738562091503277,
           0.3986928104575164,
           0.396078431372549,
           0.39738562091503266,
           0.40653594771241836,
           0.3581699346405229,
           0.31633986928104574,
           0.28758169934640526,
           0.2522875816993464,
           0.21830065359477124,
           0.19346405228758168,
           0.19215686274509802,
           0.21830065359477124,
           0.2627450980392157,
           0.3215686274509804,
           0.3790849673202614,
           0.4169934640522876,
           0.411764705882353,
           0.4078431372549019,
           0.40392156862745093,
           0.39999999999999997
          ],
          [
           0.407843137254902,
           0.407843137254902,
           0.407843137254902,
           0.407843137254902,
           0.4052287581699347,
           0.39477124183006534,
           0.3895424836601307,
           0.3960784313725491,
           0.4052287581699347,
           0.4026143790849674,
           0.39738562091503266,
           0.40915032679738567,
           0.40915032679738567,
           0.3803921568627451,
           0.32679738562091504,
           0.2862745098039216,
           0.23921568627450984,
           0.23921568627450981,
           0.2836601307189543,
           0.28104575163398693,
           0.27450980392156865,
           0.23529411764705885,
           0.19738562091503267,
           0.19477124183006533,
           0.22745098039215686,
           0.30980392156862746,
           0.38692810457516336,
           0.4078431372549019,
           0.40392156862745093,
           0.4026143790849673,
           0.4026143790849673,
           0.4026143790849673
          ],
          [
           0.40653594771241836,
           0.40653594771241836,
           0.40653594771241836,
           0.40653594771241836,
           0.3986928104575163,
           0.3908496732026144,
           0.39738562091503277,
           0.41307189542483663,
           0.42483660130718953,
           0.4300653594771242,
           0.4326797385620915,
           0.43137254901960786,
           0.40392156862745093,
           0.3398692810457516,
           0.2627450980392157,
           0.2130718954248366,
           0.21045751633986928,
           0.2496732026143791,
           0.3111111111111111,
           0.31633986928104574,
           0.30065359477124187,
           0.24836601307189543,
           0.20915032679738563,
           0.21045751633986928,
           0.24575163398692812,
           0.322875816993464,
           0.38823529411764707,
           0.4013071895424836,
           0.4026143790849673,
           0.4013071895424836,
           0.4026143790849673,
           0.4026143790849673
          ],
          [
           0.4052287581699347,
           0.4052287581699347,
           0.4052287581699347,
           0.4052287581699347,
           0.3986928104575163,
           0.39738562091503266,
           0.407843137254902,
           0.4104575163398693,
           0.407843137254902,
           0.4169934640522876,
           0.4104575163398693,
           0.40392156862745093,
           0.38823529411764707,
           0.3333333333333333,
           0.2627450980392157,
           0.21830065359477124,
           0.21437908496732028,
           0.2575163398692811,
           0.33856209150326794,
           0.3542483660130719,
           0.33856209150326794,
           0.2823529411764706,
           0.23921568627450981,
           0.2496732026143791,
           0.2888888888888889,
           0.34640522875817,
           0.39477124183006534,
           0.4013071895424836,
           0.40392156862745093,
           0.4052287581699347,
           0.40392156862745093,
           0.4026143790849673
          ],
          [
           0.4052287581699347,
           0.4052287581699347,
           0.4052287581699347,
           0.4052287581699347,
           0.4104575163398693,
           0.4104575163398693,
           0.388235294117647,
           0.3516339869281046,
           0.3202614379084967,
           0.32941176470588235,
           0.3477124183006535,
           0.36993464052287583,
           0.39477124183006534,
           0.37516339869281046,
           0.31241830065359477,
           0.25882352941176473,
           0.21307189542483662,
           0.24575163398692812,
           0.34379084967320267,
           0.38169934640522873,
           0.38431372549019605,
           0.34117647058823525,
           0.2928104575163399,
           0.29673202614379085,
           0.32418300653594767,
           0.36339869281045756,
           0.3986928104575163,
           0.41307189542483663,
           0.40653594771241824,
           0.4052287581699347,
           0.40392156862745093,
           0.4026143790849673
          ],
          [
           0.4052287581699347,
           0.4052287581699347,
           0.4052287581699347,
           0.4052287581699347,
           0.40915032679738567,
           0.40130718954248373,
           0.34771241830065364,
           0.27450980392156865,
           0.24444444444444446,
           0.27450980392156865,
           0.3359477124183006,
           0.3908496732026144,
           0.41830065359477125,
           0.39477124183006534,
           0.32156862745098036,
           0.2549019607843137,
           0.20653594771241832,
           0.23921568627450981,
           0.33856209150326794,
           0.3803921568627451,
           0.4052287581699347,
           0.3856209150326797,
           0.32941176470588235,
           0.31633986928104574,
           0.31895424836601305,
           0.3333333333333333,
           0.3673202614379085,
           0.3986928104575163,
           0.40915032679738567,
           0.40653594771241836,
           0.40653594771241836,
           0.4026143790849673
          ],
          [
           0.40653594771241836,
           0.4052287581699347,
           0.4052287581699347,
           0.407843137254902,
           0.4000000000000001,
           0.3712418300653595,
           0.30718954248366015,
           0.22875816993464052,
           0.2196078431372549,
           0.28235294117647064,
           0.3607843137254902,
           0.4052287581699347,
           0.411764705882353,
           0.37777777777777777,
           0.3084967320261438,
           0.24705882352941178,
           0.2130718954248366,
           0.24705882352941178,
           0.33202614379084966,
           0.3712418300653595,
           0.4026143790849674,
           0.39215686274509803,
           0.33202614379084966,
           0.30588235294117644,
           0.2862745098039216,
           0.2888888888888889,
           0.3254901960784313,
           0.37254901960784315,
           0.40392156862745093,
           0.4104575163398693,
           0.40653594771241824,
           0.40653594771241824
          ],
          [
           0.4104575163398693,
           0.4104575163398693,
           0.40915032679738567,
           0.40915032679738567,
           0.37516339869281046,
           0.2784313725490196,
           0.2339869281045752,
           0.21960784313725493,
           0.27058823529411763,
           0.33202614379084966,
           0.392156862745098,
           0.39477124183006534,
           0.3581699346405229,
           0.31633986928104574,
           0.269281045751634,
           0.2261437908496732,
           0.26143790849673204,
           0.32941176470588235,
           0.37516339869281046,
           0.40392156862745104,
           0.40915032679738567,
           0.36339869281045756,
           0.30718954248366015,
           0.25098039215686274,
           0.2261437908496732,
           0.24575163398692812,
           0.2784313725490196,
           0.35032679738562084,
           0.3986928104575163,
           0.39999999999999997,
           0.39999999999999997,
           0.40392156862745093
          ],
          [
           0.411764705882353,
           0.40915032679738567,
           0.407843137254902,
           0.411764705882353,
           0.35555555555555557,
           0.23790849673202616,
           0.2261437908496732,
           0.23006535947712417,
           0.27320261437908494,
           0.32287581699346407,
           0.3542483660130719,
           0.3333333333333333,
           0.2823529411764706,
           0.24705882352941178,
           0.24705882352941178,
           0.2549019607843137,
           0.32679738562091504,
           0.38954248366013067,
           0.40392156862745104,
           0.411764705882353,
           0.407843137254902,
           0.36209150326797385,
           0.29150326797385623,
           0.2261437908496732,
           0.19738562091503267,
           0.2169934640522876,
           0.24836601307189543,
           0.31895424836601305,
           0.3908496732026144,
           0.39999999999999997,
           0.39999999999999997,
           0.40392156862745093
          ],
          [
           0.41307189542483663,
           0.4078431372549019,
           0.4078431372549019,
           0.4169934640522876,
           0.34117647058823525,
           0.21176470588235294,
           0.20522875816993466,
           0.20653594771241832,
           0.23921568627450976,
           0.27712418300653596,
           0.28496732026143795,
           0.2549019607843137,
           0.22483660130718955,
           0.22222222222222224,
           0.2705882352941177,
           0.3254901960784314,
           0.39477124183006534,
           0.42483660130718953,
           0.411764705882353,
           0.40392156862745093,
           0.3986928104575163,
           0.36993464052287583,
           0.2888888888888889,
           0.2156862745098039,
           0.1869281045751634,
           0.19869281045751633,
           0.22745098039215686,
           0.2954248366013072,
           0.38823529411764707,
           0.40392156862745093,
           0.39999999999999997,
           0.40392156862745093
          ],
          [
           0.40915032679738567,
           0.411764705882353,
           0.4078431372549019,
           0.4143790849673203,
           0.3516339869281045,
           0.22875816993464052,
           0.19738562091503267,
           0.18039215686274512,
           0.203921568627451,
           0.23921568627450976,
           0.24705882352941178,
           0.24052287581699347,
           0.25359477124183005,
           0.28888888888888886,
           0.3490196078431373,
           0.3986928104575164,
           0.4104575163398693,
           0.4169934640522876,
           0.4000000000000001,
           0.38823529411764707,
           0.39477124183006534,
           0.3738562091503268,
           0.30196078431372547,
           0.2235294117647059,
           0.19215686274509802,
           0.203921568627451,
           0.22483660130718955,
           0.2928104575163399,
           0.3856209150326797,
           0.40392156862745093,
           0.39999999999999997,
           0.40392156862745093
          ],
          [
           0.40915032679738567,
           0.411764705882353,
           0.40915032679738567,
           0.41307189542483663,
           0.36339869281045756,
           0.25359477124183005,
           0.21960784313725493,
           0.19607843137254902,
           0.21176470588235294,
           0.23137254901960783,
           0.27581699346405225,
           0.3137254901960784,
           0.34379084967320256,
           0.37777777777777777,
           0.40915032679738567,
           0.4222222222222222,
           0.42091503267973857,
           0.42875816993464055,
           0.42352941176470593,
           0.41830065359477125,
           0.4222222222222222,
           0.4000000000000001,
           0.31633986928104574,
           0.23137254901960783,
           0.19999999999999998,
           0.203921568627451,
           0.2235294117647059,
           0.28758169934640526,
           0.3856209150326797,
           0.4052287581699346,
           0.4013071895424836,
           0.40392156862745093
          ],
          [
           0.411764705882353,
           0.411764705882353,
           0.411764705882353,
           0.4078431372549019,
           0.38954248366013067,
           0.31895424836601305,
           0.30718954248366015,
           0.29411764705882354,
           0.3019607843137255,
           0.29934640522875816,
           0.3516339869281046,
           0.3934640522875817,
           0.41307189542483663,
           0.4261437908496732,
           0.4196078431372549,
           0.40653594771241836,
           0.4026143790849674,
           0.4104575163398693,
           0.407843137254902,
           0.40653594771241836,
           0.4013071895424836,
           0.3686274509803922,
           0.3006535947712418,
           0.22483660130718955,
           0.1934640522875817,
           0.1934640522875817,
           0.21176470588235294,
           0.27450980392156865,
           0.3803921568627451,
           0.40653594771241836,
           0.39999999999999997,
           0.40392156862745093
          ],
          [
           0.41568627450980394,
           0.41568627450980394,
           0.411764705882353,
           0.40915032679738567,
           0.41307189542483663,
           0.411764705882353,
           0.40915032679738567,
           0.411764705882353,
           0.4196078431372549,
           0.4287581699346405,
           0.43529411764705883,
           0.4392156862745098,
           0.4326797385620915,
           0.4143790849673203,
           0.388235294117647,
           0.3607843137254902,
           0.3254901960784314,
           0.3019607843137255,
           0.28758169934640526,
           0.269281045751634,
           0.25882352941176473,
           0.2496732026143791,
           0.23006535947712417,
           0.20915032679738563,
           0.19869281045751633,
           0.21437908496732028,
           0.265359477124183,
           0.3150326797385621,
           0.38169934640522873,
           0.40915032679738556,
           0.4104575163398693,
           0.4169934640522876
          ],
          [
           0.4169934640522876,
           0.41568627450980394,
           0.41307189542483663,
           0.4104575163398693,
           0.4143790849673203,
           0.411764705882353,
           0.40392156862745104,
           0.40392156862745104,
           0.40915032679738567,
           0.42483660130718953,
           0.411764705882353,
           0.39215686274509803,
           0.36339869281045756,
           0.32679738562091504,
           0.29411764705882354,
           0.2679738562091503,
           0.25098039215686274,
           0.2339869281045752,
           0.22875816993464052,
           0.2261437908496732,
           0.23137254901960783,
           0.23921568627450981,
           0.2549019607843137,
           0.26143790849673204,
           0.26143790849673204,
           0.28496732026143795,
           0.32679738562091504,
           0.3647058823529412,
           0.39477124183006534,
           0.4078431372549019,
           0.4169934640522876,
           0.4235294117647059
          ],
          [
           0.4196078431372549,
           0.41568627450980394,
           0.41568627450980394,
           0.41568627450980394,
           0.40392156862745104,
           0.39738562091503266,
           0.396078431372549,
           0.396078431372549,
           0.39477124183006534,
           0.3934640522875817,
           0.35294117647058826,
           0.30718954248366015,
           0.27973856209150333,
           0.2496732026143791,
           0.23267973856209148,
           0.22483660130718955,
           0.2366013071895425,
           0.24313725490196078,
           0.24836601307189543,
           0.27058823529411763,
           0.2993464052287582,
           0.3254901960784314,
           0.3281045751633987,
           0.32679738562091504,
           0.3372549019607843,
           0.3516339869281046,
           0.3712418300653595,
           0.38692810457516336,
           0.3856209150326797,
           0.39215686274509803,
           0.41307189542483663,
           0.42352941176470593
          ]
         ]
        }
       ],
       "layout": {
        "template": {
         "data": {
          "bar": [
           {
            "error_x": {
             "color": "#f2f5fa"
            },
            "error_y": {
             "color": "#f2f5fa"
            },
            "marker": {
             "line": {
              "color": "rgb(17,17,17)",
              "width": 0.5
             },
             "pattern": {
              "fillmode": "overlay",
              "size": 10,
              "solidity": 0.2
             }
            },
            "type": "bar"
           }
          ],
          "barpolar": [
           {
            "marker": {
             "line": {
              "color": "rgb(17,17,17)",
              "width": 0.5
             },
             "pattern": {
              "fillmode": "overlay",
              "size": 10,
              "solidity": 0.2
             }
            },
            "type": "barpolar"
           }
          ],
          "carpet": [
           {
            "aaxis": {
             "endlinecolor": "#A2B1C6",
             "gridcolor": "#506784",
             "linecolor": "#506784",
             "minorgridcolor": "#506784",
             "startlinecolor": "#A2B1C6"
            },
            "baxis": {
             "endlinecolor": "#A2B1C6",
             "gridcolor": "#506784",
             "linecolor": "#506784",
             "minorgridcolor": "#506784",
             "startlinecolor": "#A2B1C6"
            },
            "type": "carpet"
           }
          ],
          "choropleth": [
           {
            "colorbar": {
             "outlinewidth": 0,
             "ticks": ""
            },
            "type": "choropleth"
           }
          ],
          "contour": [
           {
            "colorbar": {
             "outlinewidth": 0,
             "ticks": ""
            },
            "colorscale": [
             [
              0,
              "#0d0887"
             ],
             [
              0.1111111111111111,
              "#46039f"
             ],
             [
              0.2222222222222222,
              "#7201a8"
             ],
             [
              0.3333333333333333,
              "#9c179e"
             ],
             [
              0.4444444444444444,
              "#bd3786"
             ],
             [
              0.5555555555555556,
              "#d8576b"
             ],
             [
              0.6666666666666666,
              "#ed7953"
             ],
             [
              0.7777777777777778,
              "#fb9f3a"
             ],
             [
              0.8888888888888888,
              "#fdca26"
             ],
             [
              1,
              "#f0f921"
             ]
            ],
            "type": "contour"
           }
          ],
          "contourcarpet": [
           {
            "colorbar": {
             "outlinewidth": 0,
             "ticks": ""
            },
            "type": "contourcarpet"
           }
          ],
          "heatmap": [
           {
            "colorbar": {
             "outlinewidth": 0,
             "ticks": ""
            },
            "colorscale": [
             [
              0,
              "#0d0887"
             ],
             [
              0.1111111111111111,
              "#46039f"
             ],
             [
              0.2222222222222222,
              "#7201a8"
             ],
             [
              0.3333333333333333,
              "#9c179e"
             ],
             [
              0.4444444444444444,
              "#bd3786"
             ],
             [
              0.5555555555555556,
              "#d8576b"
             ],
             [
              0.6666666666666666,
              "#ed7953"
             ],
             [
              0.7777777777777778,
              "#fb9f3a"
             ],
             [
              0.8888888888888888,
              "#fdca26"
             ],
             [
              1,
              "#f0f921"
             ]
            ],
            "type": "heatmap"
           }
          ],
          "heatmapgl": [
           {
            "colorbar": {
             "outlinewidth": 0,
             "ticks": ""
            },
            "colorscale": [
             [
              0,
              "#0d0887"
             ],
             [
              0.1111111111111111,
              "#46039f"
             ],
             [
              0.2222222222222222,
              "#7201a8"
             ],
             [
              0.3333333333333333,
              "#9c179e"
             ],
             [
              0.4444444444444444,
              "#bd3786"
             ],
             [
              0.5555555555555556,
              "#d8576b"
             ],
             [
              0.6666666666666666,
              "#ed7953"
             ],
             [
              0.7777777777777778,
              "#fb9f3a"
             ],
             [
              0.8888888888888888,
              "#fdca26"
             ],
             [
              1,
              "#f0f921"
             ]
            ],
            "type": "heatmapgl"
           }
          ],
          "histogram": [
           {
            "marker": {
             "pattern": {
              "fillmode": "overlay",
              "size": 10,
              "solidity": 0.2
             }
            },
            "type": "histogram"
           }
          ],
          "histogram2d": [
           {
            "colorbar": {
             "outlinewidth": 0,
             "ticks": ""
            },
            "colorscale": [
             [
              0,
              "#0d0887"
             ],
             [
              0.1111111111111111,
              "#46039f"
             ],
             [
              0.2222222222222222,
              "#7201a8"
             ],
             [
              0.3333333333333333,
              "#9c179e"
             ],
             [
              0.4444444444444444,
              "#bd3786"
             ],
             [
              0.5555555555555556,
              "#d8576b"
             ],
             [
              0.6666666666666666,
              "#ed7953"
             ],
             [
              0.7777777777777778,
              "#fb9f3a"
             ],
             [
              0.8888888888888888,
              "#fdca26"
             ],
             [
              1,
              "#f0f921"
             ]
            ],
            "type": "histogram2d"
           }
          ],
          "histogram2dcontour": [
           {
            "colorbar": {
             "outlinewidth": 0,
             "ticks": ""
            },
            "colorscale": [
             [
              0,
              "#0d0887"
             ],
             [
              0.1111111111111111,
              "#46039f"
             ],
             [
              0.2222222222222222,
              "#7201a8"
             ],
             [
              0.3333333333333333,
              "#9c179e"
             ],
             [
              0.4444444444444444,
              "#bd3786"
             ],
             [
              0.5555555555555556,
              "#d8576b"
             ],
             [
              0.6666666666666666,
              "#ed7953"
             ],
             [
              0.7777777777777778,
              "#fb9f3a"
             ],
             [
              0.8888888888888888,
              "#fdca26"
             ],
             [
              1,
              "#f0f921"
             ]
            ],
            "type": "histogram2dcontour"
           }
          ],
          "mesh3d": [
           {
            "colorbar": {
             "outlinewidth": 0,
             "ticks": ""
            },
            "type": "mesh3d"
           }
          ],
          "parcoords": [
           {
            "line": {
             "colorbar": {
              "outlinewidth": 0,
              "ticks": ""
             }
            },
            "type": "parcoords"
           }
          ],
          "pie": [
           {
            "automargin": true,
            "type": "pie"
           }
          ],
          "scatter": [
           {
            "marker": {
             "line": {
              "color": "#283442"
             }
            },
            "type": "scatter"
           }
          ],
          "scatter3d": [
           {
            "line": {
             "colorbar": {
              "outlinewidth": 0,
              "ticks": ""
             }
            },
            "marker": {
             "colorbar": {
              "outlinewidth": 0,
              "ticks": ""
             }
            },
            "type": "scatter3d"
           }
          ],
          "scattercarpet": [
           {
            "marker": {
             "colorbar": {
              "outlinewidth": 0,
              "ticks": ""
             }
            },
            "type": "scattercarpet"
           }
          ],
          "scattergeo": [
           {
            "marker": {
             "colorbar": {
              "outlinewidth": 0,
              "ticks": ""
             }
            },
            "type": "scattergeo"
           }
          ],
          "scattergl": [
           {
            "marker": {
             "line": {
              "color": "#283442"
             }
            },
            "type": "scattergl"
           }
          ],
          "scattermapbox": [
           {
            "marker": {
             "colorbar": {
              "outlinewidth": 0,
              "ticks": ""
             }
            },
            "type": "scattermapbox"
           }
          ],
          "scatterpolar": [
           {
            "marker": {
             "colorbar": {
              "outlinewidth": 0,
              "ticks": ""
             }
            },
            "type": "scatterpolar"
           }
          ],
          "scatterpolargl": [
           {
            "marker": {
             "colorbar": {
              "outlinewidth": 0,
              "ticks": ""
             }
            },
            "type": "scatterpolargl"
           }
          ],
          "scatterternary": [
           {
            "marker": {
             "colorbar": {
              "outlinewidth": 0,
              "ticks": ""
             }
            },
            "type": "scatterternary"
           }
          ],
          "surface": [
           {
            "colorbar": {
             "outlinewidth": 0,
             "ticks": ""
            },
            "colorscale": [
             [
              0,
              "#0d0887"
             ],
             [
              0.1111111111111111,
              "#46039f"
             ],
             [
              0.2222222222222222,
              "#7201a8"
             ],
             [
              0.3333333333333333,
              "#9c179e"
             ],
             [
              0.4444444444444444,
              "#bd3786"
             ],
             [
              0.5555555555555556,
              "#d8576b"
             ],
             [
              0.6666666666666666,
              "#ed7953"
             ],
             [
              0.7777777777777778,
              "#fb9f3a"
             ],
             [
              0.8888888888888888,
              "#fdca26"
             ],
             [
              1,
              "#f0f921"
             ]
            ],
            "type": "surface"
           }
          ],
          "table": [
           {
            "cells": {
             "fill": {
              "color": "#506784"
             },
             "line": {
              "color": "rgb(17,17,17)"
             }
            },
            "header": {
             "fill": {
              "color": "#2a3f5f"
             },
             "line": {
              "color": "rgb(17,17,17)"
             }
            },
            "type": "table"
           }
          ]
         },
         "layout": {
          "annotationdefaults": {
           "arrowcolor": "#f2f5fa",
           "arrowhead": 0,
           "arrowwidth": 1
          },
          "autotypenumbers": "strict",
          "coloraxis": {
           "colorbar": {
            "outlinewidth": 0,
            "ticks": ""
           }
          },
          "colorscale": {
           "diverging": [
            [
             0,
             "#8e0152"
            ],
            [
             0.1,
             "#c51b7d"
            ],
            [
             0.2,
             "#de77ae"
            ],
            [
             0.3,
             "#f1b6da"
            ],
            [
             0.4,
             "#fde0ef"
            ],
            [
             0.5,
             "#f7f7f7"
            ],
            [
             0.6,
             "#e6f5d0"
            ],
            [
             0.7,
             "#b8e186"
            ],
            [
             0.8,
             "#7fbc41"
            ],
            [
             0.9,
             "#4d9221"
            ],
            [
             1,
             "#276419"
            ]
           ],
           "sequential": [
            [
             0,
             "#0d0887"
            ],
            [
             0.1111111111111111,
             "#46039f"
            ],
            [
             0.2222222222222222,
             "#7201a8"
            ],
            [
             0.3333333333333333,
             "#9c179e"
            ],
            [
             0.4444444444444444,
             "#bd3786"
            ],
            [
             0.5555555555555556,
             "#d8576b"
            ],
            [
             0.6666666666666666,
             "#ed7953"
            ],
            [
             0.7777777777777778,
             "#fb9f3a"
            ],
            [
             0.8888888888888888,
             "#fdca26"
            ],
            [
             1,
             "#f0f921"
            ]
           ],
           "sequentialminus": [
            [
             0,
             "#0d0887"
            ],
            [
             0.1111111111111111,
             "#46039f"
            ],
            [
             0.2222222222222222,
             "#7201a8"
            ],
            [
             0.3333333333333333,
             "#9c179e"
            ],
            [
             0.4444444444444444,
             "#bd3786"
            ],
            [
             0.5555555555555556,
             "#d8576b"
            ],
            [
             0.6666666666666666,
             "#ed7953"
            ],
            [
             0.7777777777777778,
             "#fb9f3a"
            ],
            [
             0.8888888888888888,
             "#fdca26"
            ],
            [
             1,
             "#f0f921"
            ]
           ]
          },
          "colorway": [
           "#636efa",
           "#EF553B",
           "#00cc96",
           "#ab63fa",
           "#FFA15A",
           "#19d3f3",
           "#FF6692",
           "#B6E880",
           "#FF97FF",
           "#FECB52"
          ],
          "font": {
           "color": "#f2f5fa"
          },
          "geo": {
           "bgcolor": "rgb(17,17,17)",
           "lakecolor": "rgb(17,17,17)",
           "landcolor": "rgb(17,17,17)",
           "showlakes": true,
           "showland": true,
           "subunitcolor": "#506784"
          },
          "hoverlabel": {
           "align": "left"
          },
          "hovermode": "closest",
          "mapbox": {
           "style": "dark"
          },
          "paper_bgcolor": "rgb(17,17,17)",
          "plot_bgcolor": "rgb(17,17,17)",
          "polar": {
           "angularaxis": {
            "gridcolor": "#506784",
            "linecolor": "#506784",
            "ticks": ""
           },
           "bgcolor": "rgb(17,17,17)",
           "radialaxis": {
            "gridcolor": "#506784",
            "linecolor": "#506784",
            "ticks": ""
           }
          },
          "scene": {
           "xaxis": {
            "backgroundcolor": "rgb(17,17,17)",
            "gridcolor": "#506784",
            "gridwidth": 2,
            "linecolor": "#506784",
            "showbackground": true,
            "ticks": "",
            "zerolinecolor": "#C8D4E3"
           },
           "yaxis": {
            "backgroundcolor": "rgb(17,17,17)",
            "gridcolor": "#506784",
            "gridwidth": 2,
            "linecolor": "#506784",
            "showbackground": true,
            "ticks": "",
            "zerolinecolor": "#C8D4E3"
           },
           "zaxis": {
            "backgroundcolor": "rgb(17,17,17)",
            "gridcolor": "#506784",
            "gridwidth": 2,
            "linecolor": "#506784",
            "showbackground": true,
            "ticks": "",
            "zerolinecolor": "#C8D4E3"
           }
          },
          "shapedefaults": {
           "line": {
            "color": "#f2f5fa"
           }
          },
          "sliderdefaults": {
           "bgcolor": "#C8D4E3",
           "bordercolor": "rgb(17,17,17)",
           "borderwidth": 1,
           "tickwidth": 0
          },
          "ternary": {
           "aaxis": {
            "gridcolor": "#506784",
            "linecolor": "#506784",
            "ticks": ""
           },
           "baxis": {
            "gridcolor": "#506784",
            "linecolor": "#506784",
            "ticks": ""
           },
           "bgcolor": "rgb(17,17,17)",
           "caxis": {
            "gridcolor": "#506784",
            "linecolor": "#506784",
            "ticks": ""
           }
          },
          "title": {
           "x": 0.05
          },
          "updatemenudefaults": {
           "bgcolor": "#506784",
           "borderwidth": 0
          },
          "xaxis": {
           "automargin": true,
           "gridcolor": "#283442",
           "linecolor": "#506784",
           "ticks": "",
           "title": {
            "standoff": 15
           },
           "zerolinecolor": "#283442",
           "zerolinewidth": 2
          },
          "yaxis": {
           "automargin": true,
           "gridcolor": "#283442",
           "linecolor": "#506784",
           "ticks": "",
           "title": {
            "standoff": 15
           },
           "zerolinecolor": "#283442",
           "zerolinewidth": 2
          }
         }
        },
        "title": {
         "text": "MLP vs CNN Prediction distribution",
         "x": 0.25
        },
        "xaxis": {
         "anchor": "y",
         "domain": [
          0,
          0.27
         ],
         "title": {
          "text": "MLP Predicts [1] -- CNN Predicts [1] "
         }
        },
        "xaxis2": {
         "anchor": "y2",
         "domain": [
          0.37,
          1
         ],
         "dtick": 1
        },
        "xaxis3": {
         "anchor": "y3",
         "domain": [
          0.37,
          1
         ],
         "dtick": 1
        },
        "yaxis": {
         "anchor": "x",
         "domain": [
          0,
          1
         ]
        },
        "yaxis2": {
         "anchor": "x2",
         "domain": [
          0.575,
          1
         ],
         "title": {
          "text": "Prob MLP"
         }
        },
        "yaxis3": {
         "anchor": "x3",
         "domain": [
          0,
          0.425
         ],
         "title": {
          "text": "Prob CMM"
         }
        }
       }
      }
     },
     "metadata": {},
     "output_type": "display_data"
    }
   ],
   "source": [
    "plot_pred_dist()"
   ]
  },
  {
   "cell_type": "code",
   "execution_count": 30,
   "metadata": {
    "id": "2Lx68VA7z_HE"
   },
   "outputs": [
    {
     "name": "stdout",
     "output_type": "stream",
     "text": [
      "1/1 [==============================] - 0s 18ms/step\n",
      "1/1 [==============================] - 0s 19ms/step\n"
     ]
    },
    {
     "data": {
      "application/vnd.plotly.v1+json": {
       "config": {
        "plotlyServerURL": "https://plot.ly"
       },
       "data": [
        {
         "colorscale": [
          [
           0,
           "rgb(0, 0, 0)"
          ],
          [
           0.09090909090909091,
           "rgb(16, 16, 16)"
          ],
          [
           0.18181818181818182,
           "rgb(38, 38, 38)"
          ],
          [
           0.2727272727272727,
           "rgb(59, 59, 59)"
          ],
          [
           0.36363636363636365,
           "rgb(81, 80, 80)"
          ],
          [
           0.45454545454545453,
           "rgb(102, 101, 101)"
          ],
          [
           0.5454545454545454,
           "rgb(124, 123, 122)"
          ],
          [
           0.6363636363636364,
           "rgb(146, 146, 145)"
          ],
          [
           0.7272727272727273,
           "rgb(171, 171, 170)"
          ],
          [
           0.8181818181818182,
           "rgb(197, 197, 195)"
          ],
          [
           0.9090909090909091,
           "rgb(224, 224, 223)"
          ],
          [
           1,
           "rgb(254, 254, 253)"
          ]
         ],
         "name": "Image",
         "showscale": false,
         "transpose": true,
         "type": "heatmap",
         "xaxis": "x",
         "yaxis": "y",
         "z": [
          [
           0.17516339869281047,
           0.17124183006535945,
           0.16732026143790849,
           0.16732026143790849,
           0.16601307189542483,
           0.16209150326797386,
           0.16339869281045752,
           0.15555555555555556,
           0.15555555555555556,
           0.15947712418300655,
           0.1607843137254902,
           0.16209150326797386,
           0.16209150326797386,
           0.16209150326797386,
           0.16470588235294117,
           0.1607843137254902,
           0.1581699346405229,
           0.1568627450980392,
           0.15555555555555556,
           0.15555555555555556,
           0.15163398692810456,
           0.15163398692810456,
           0.15163398692810456,
           0.1503267973856209,
           0.14379084967320263,
           0.14379084967320263,
           0.14640522875816994,
           0.1503267973856209,
           0.1503267973856209,
           0.1503267973856209,
           0.1503267973856209,
           0.1477124183006536
          ],
          [
           0.17516339869281047,
           0.17124183006535945,
           0.17124183006535945,
           0.16732026143790849,
           0.16339869281045752,
           0.16209150326797386,
           0.15816993464052287,
           0.15555555555555556,
           0.15816993464052287,
           0.1607843137254902,
           0.16209150326797386,
           0.16209150326797386,
           0.16209150326797386,
           0.16339869281045752,
           0.16339869281045752,
           0.1607843137254902,
           0.1568627450980392,
           0.15555555555555556,
           0.15163398692810456,
           0.14901960784313725,
           0.1516339869281046,
           0.1516339869281046,
           0.1516339869281046,
           0.1477124183006536,
           0.14379084967320263,
           0.14379084967320263,
           0.14640522875816994,
           0.1503267973856209,
           0.1503267973856209,
           0.1503267973856209,
           0.1503267973856209,
           0.1477124183006536
          ],
          [
           0.17516339869281047,
           0.17516339869281047,
           0.17385620915032682,
           0.16601307189542483,
           0.16470588235294117,
           0.16470588235294117,
           0.16339869281045752,
           0.16209150326797386,
           0.15947712418300655,
           0.15947712418300655,
           0.15947712418300655,
           0.15947712418300655,
           0.16339869281045752,
           0.16339869281045752,
           0.16601307189542483,
           0.15816993464052287,
           0.15163398692810456,
           0.15163398692810456,
           0.15032679738562094,
           0.14901960784313728,
           0.14901960784313728,
           0.14509803921568626,
           0.14640522875816994,
           0.1477124183006536,
           0.13986928104575164,
           0.14379084967320263,
           0.14379084967320263,
           0.14640522875816994,
           0.1477124183006536,
           0.1477124183006536,
           0.1477124183006536,
           0.1516339869281046
          ],
          [
           0.17516339869281042,
           0.17385620915032682,
           0.16470588235294117,
           0.16601307189542483,
           0.15947712418300655,
           0.16339869281045752,
           0.16209150326797386,
           0.1581699346405229,
           0.15816993464052287,
           0.15947712418300652,
           0.15947712418300652,
           0.15947712418300652,
           0.16339869281045752,
           0.16470588235294117,
           0.16209150326797386,
           0.15555555555555556,
           0.1503267973856209,
           0.1516339869281046,
           0.15032679738562094,
           0.14901960784313728,
           0.1477124183006536,
           0.1437908496732026,
           0.1437908496732026,
           0.1450980392156863,
           0.13856209150326795,
           0.1411764705882353,
           0.13986928104575164,
           0.14509803921568626,
           0.1450980392156863,
           0.1450980392156863,
           0.1450980392156863,
           0.1477124183006536
          ],
          [
           0.14640522875816994,
           0.15555555555555556,
           0.1607843137254902,
           0.16209150326797386,
           0.15555555555555556,
           0.15032679738562094,
           0.1450980392156863,
           0.13594771241830064,
           0.13986928104575166,
           0.15294117647058825,
           0.16470588235294117,
           0.16732026143790849,
           0.16209150326797386,
           0.15555555555555556,
           0.14901960784313725,
           0.16339869281045752,
           0.16470588235294117,
           0.1477124183006536,
           0.15555555555555556,
           0.17254901960784316,
           0.17124183006535945,
           0.1450980392156863,
           0.12941176470588237,
           0.1281045751633987,
           0.134640522875817,
           0.1372549019607843,
           0.13856209150326798,
           0.1372549019607843,
           0.134640522875817,
           0.13594771241830064,
           0.13333333333333333,
           0.13333333333333333
          ],
          [
           0.11895424836601305,
           0.14248366013071895,
           0.1503267973856209,
           0.1581699346405229,
           0.1607843137254902,
           0.15816993464052287,
           0.15816993464052287,
           0.134640522875817,
           0.13594771241830064,
           0.1477124183006536,
           0.15294117647058825,
           0.16339869281045752,
           0.16732026143790849,
           0.16339869281045752,
           0.15947712418300655,
           0.16732026143790849,
           0.16470588235294117,
           0.1516339869281046,
           0.15555555555555556,
           0.16732026143790849,
           0.1607843137254902,
           0.13856209150326798,
           0.12549019607843137,
           0.13594771241830064,
           0.1581699346405229,
           0.14901960784313725,
           0.1437908496732026,
           0.134640522875817,
           0.134640522875817,
           0.13202614379084968,
           0.13202614379084968,
           0.13333333333333333
          ],
          [
           0.10980392156862745,
           0.13594771241830064,
           0.15947712418300655,
           0.17777777777777778,
           0.1895424836601307,
           0.196078431372549,
           0.20522875816993466,
           0.1647058823529412,
           0.15686274509803924,
           0.1607843137254902,
           0.16209150326797386,
           0.16732026143790849,
           0.16732026143790849,
           0.16993464052287585,
           0.16601307189542483,
           0.16339869281045752,
           0.15816993464052287,
           0.14901960784313725,
           0.1516339869281046,
           0.15555555555555556,
           0.14640522875816994,
           0.134640522875817,
           0.14248366013071898,
           0.16732026143790849,
           0.20261437908496735,
           0.1830065359477124,
           0.16601307189542483,
           0.14379084967320263,
           0.13071895424836602,
           0.12810457516339868,
           0.13071895424836602,
           0.1411764705882353
          ],
          [
           0.12941176470588237,
           0.16470588235294117,
           0.21045751633986928,
           0.2483660130718954,
           0.26666666666666666,
           0.2784313725490196,
           0.2888888888888889,
           0.25228758169934645,
           0.22875816993464057,
           0.2104575163398693,
           0.19215686274509805,
           0.18562091503267975,
           0.17908496732026144,
           0.1699346405228758,
           0.16339869281045752,
           0.1516339869281046,
           0.1372549019607843,
           0.13594771241830064,
           0.14248366013071898,
           0.14901960784313725,
           0.1450980392156863,
           0.15816993464052287,
           0.1869281045751634,
           0.2261437908496732,
           0.2627450980392157,
           0.23398692810457514,
           0.2013071895424837,
           0.16862745098039214,
           0.1411764705882353,
           0.134640522875817,
           0.13333333333333333,
           0.1411764705882353
          ],
          [
           0.1803921568627451,
           0.24052287581699347,
           0.30196078431372547,
           0.34771241830065364,
           0.37777777777777777,
           0.3908496732026144,
           0.39738562091503266,
           0.36601307189542487,
           0.3359477124183006,
           0.29411764705882354,
           0.2562091503267974,
           0.23006535947712417,
           0.20784313725490197,
           0.17777777777777778,
           0.15555555555555556,
           0.134640522875817,
           0.1215686274509804,
           0.1215686274509804,
           0.134640522875817,
           0.15294117647058825,
           0.16470588235294117,
           0.20261437908496735,
           0.2601307189542484,
           0.3111111111111111,
           0.330718954248366,
           0.30196078431372547,
           0.24967320261437911,
           0.203921568627451,
           0.16862745098039214,
           0.14901960784313725,
           0.1411764705882353,
           0.14248366013071898
          ],
          [
           0.23529411764705885,
           0.31503267973856214,
           0.3986928104575163,
           0.4562091503267974,
           0.4875816993464053,
           0.4928104575163399,
           0.48888888888888893,
           0.47189542483660124,
           0.43790849673202614,
           0.3856209150326797,
           0.3372549019607843,
           0.3006535947712418,
           0.261437908496732,
           0.21568627450980396,
           0.17647058823529413,
           0.14640522875816994,
           0.12679738562091505,
           0.1176470588235294,
           0.1281045751633987,
           0.1581699346405229,
           0.19999999999999998,
           0.2601307189542484,
           0.33464052287581697,
           0.38823529411764707,
           0.3934640522875817,
           0.36209150326797385,
           0.30980392156862746,
           0.2522875816993464,
           0.20392156862745095,
           0.16862745098039214,
           0.14901960784313725,
           0.14379084967320263
          ],
          [
           0.2627450980392157,
           0.36078431372549025,
           0.46535947712418296,
           0.5333333333333333,
           0.5581699346405229,
           0.5516339869281046,
           0.534640522875817,
           0.530718954248366,
           0.5019607843137255,
           0.45228758169934635,
           0.411764705882353,
           0.3764705882352941,
           0.3359477124183006,
           0.28104575163398693,
           0.23267973856209148,
           0.1843137254901961,
           0.15032679738562094,
           0.130718954248366,
           0.13333333333333333,
           0.1725490196078431,
           0.23398692810457514,
           0.3111111111111111,
           0.3908496732026144,
           0.4444444444444445,
           0.4444444444444445,
           0.411764705882353,
           0.35947712418300654,
           0.2980392156862745,
           0.23790849673202616,
           0.1895424836601307,
           0.15686274509803924,
           0.1437908496732026
          ],
          [
           0.27320261437908494,
           0.3843137254901961,
           0.5006535947712418,
           0.5738562091503268,
           0.5934640522875817,
           0.5751633986928105,
           0.5555555555555556,
           0.5594771241830065,
           0.534640522875817,
           0.49411764705882355,
           0.4588235294117647,
           0.43006535947712415,
           0.39477124183006534,
           0.3372549019607843,
           0.2875816993464052,
           0.23267973856209148,
           0.17385620915032682,
           0.14248366013071898,
           0.14379084967320263,
           0.1895424836601307,
           0.2627450980392157,
           0.34771241830065364,
           0.4313725490196078,
           0.47843137254901963,
           0.4849673202614379,
           0.44836601307189544,
           0.39215686274509803,
           0.32287581699346407,
           0.2588235294117647,
           0.2026143790849673,
           0.15816993464052287,
           0.1398692810457516
          ],
          [
           0.27320261437908494,
           0.3908496732026144,
           0.49673202614379086,
           0.5620915032679739,
           0.596078431372549,
           0.5725490196078431,
           0.5124183006535947,
           0.5019607843137255,
           0.4928104575163399,
           0.49150326797385624,
           0.477124183006536,
           0.46666666666666673,
           0.44575163398692813,
           0.4052287581699346,
           0.3372549019607843,
           0.25882352941176473,
           0.2013071895424837,
           0.1607843137254902,
           0.15294117647058822,
           0.19869281045751633,
           0.26013071895424833,
           0.3137254901960784,
           0.37516339869281046,
           0.43921568627450985,
           0.49019607843137253,
           0.4653594771241831,
           0.41830065359477125,
           0.38039215686274513,
           0.2888888888888889,
           0.22483660130718952,
           0.1777777777777778,
           0.1568627450980392
          ],
          [
           0.265359477124183,
           0.38300653594771245,
           0.4849673202614379,
           0.5450980392156862,
           0.5856209150326798,
           0.5633986928104575,
           0.4836601307189543,
           0.4169934640522876,
           0.39999999999999997,
           0.4300653594771242,
           0.4392156862745098,
           0.45751633986928103,
           0.4588235294117647,
           0.43921568627450974,
           0.3790849673202614,
           0.2928104575163399,
           0.2339869281045752,
           0.18300653594771243,
           0.1542483660130719,
           0.18562091503267975,
           0.2261437908496732,
           0.24836601307189543,
           0.2888888888888889,
           0.3660130718954248,
           0.46274509803921576,
           0.473202614379085,
           0.43790849673202614,
           0.4196078431372549,
           0.31895424836601305,
           0.2431372549019608,
           0.1843137254901961,
           0.14901960784313725
          ],
          [
           0.2562091503267974,
           0.37777777777777777,
           0.47450980392156855,
           0.538562091503268,
           0.5751633986928105,
           0.550326797385621,
           0.47450980392156866,
           0.3359477124183006,
           0.3006535947712418,
           0.3359477124183006,
           0.3673202614379085,
           0.4104575163398693,
           0.44313725490196076,
           0.45359477124183006,
           0.4196078431372549,
           0.3398692810457516,
           0.26666666666666666,
           0.20522875816993466,
           0.15816993464052287,
           0.15816993464052287,
           0.17124183006535945,
           0.17516339869281047,
           0.207843137254902,
           0.28758169934640526,
           0.42745098039215684,
           0.4758169934640523,
           0.4562091503267974,
           0.4261437908496732,
           0.3372549019607843,
           0.2522875816993464,
           0.17516339869281047,
           0.13986928104575164
          ],
          [
           0.25098039215686274,
           0.3764705882352941,
           0.47450980392156855,
           0.5359477124183006,
           0.5725490196078432,
           0.5398692810457516,
           0.46535947712418296,
           0.27581699346405225,
           0.22222222222222224,
           0.25882352941176473,
           0.3019607843137255,
           0.36339869281045756,
           0.4169934640522876,
           0.4562091503267974,
           0.4496732026143791,
           0.38431372549019605,
           0.3137254901960785,
           0.24444444444444444,
           0.17777777777777778,
           0.15163398692810456,
           0.1398692810457516,
           0.13071895424836602,
           0.1568627450980392,
           0.23790849673202616,
           0.41307189542483663,
           0.49019607843137253,
           0.461437908496732,
           0.41830065359477125,
           0.3372549019607843,
           0.25359477124183005,
           0.17647058823529413,
           0.15294117647058825
          ],
          [
           0.25490196078431376,
           0.3830065359477124,
           0.48366013071895425,
           0.5411764705882353,
           0.5738562091503269,
           0.538562091503268,
           0.461437908496732,
           0.2575163398692811,
           0.19215686274509802,
           0.2130718954248366,
           0.25098039215686274,
           0.32418300653594767,
           0.39477124183006534,
           0.45751633986928103,
           0.47712418300653586,
           0.44183006535947716,
           0.38431372549019605,
           0.3058823529411765,
           0.22352941176470587,
           0.18169934640522878,
           0.15555555555555559,
           0.13594771241830064,
           0.1568627450980392,
           0.2457516339869281,
           0.4196078431372549,
           0.5058823529411764,
           0.46274509803921565,
           0.40653594771241836,
           0.3281045751633987,
           0.2522875816993464,
           0.17777777777777778,
           0.16339869281045752
          ],
          [
           0.2601307189542484,
           0.38692810457516336,
           0.4915032679738562,
           0.5450980392156862,
           0.5751633986928105,
           0.5372549019607843,
           0.4549019607843137,
           0.2601307189542484,
           0.1803921568627451,
           0.1803921568627451,
           0.20784313725490197,
           0.28758169934640526,
           0.37516339869281046,
           0.4679738562091503,
           0.5228758169934641,
           0.5084967320261438,
           0.4522875816993464,
           0.3647058823529412,
           0.27581699346405225,
           0.22091503267973855,
           0.17908496732026147,
           0.1542483660130719,
           0.17777777777777778,
           0.27058823529411763,
           0.43529411764705883,
           0.5098039215686274,
           0.4666666666666666,
           0.411764705882353,
           0.32941176470588235,
           0.24444444444444444,
           0.17254901960784316,
           0.1542483660130719
          ],
          [
           0.2535947712418301,
           0.3830065359477124,
           0.4888888888888889,
           0.5411764705882353,
           0.5660130718954249,
           0.5228758169934641,
           0.4405228758169935,
           0.27320261437908494,
           0.17908496732026144,
           0.1568627450980392,
           0.17385620915032682,
           0.25228758169934645,
           0.35294117647058826,
           0.4732026143790849,
           0.5568627450980392,
           0.5594771241830065,
           0.5071895424836601,
           0.4196078431372549,
           0.32679738562091504,
           0.26405228758169935,
           0.2196078431372549,
           0.19869281045751633,
           0.23267973856209154,
           0.3254901960784314,
           0.46928104575163393,
           0.5071895424836601,
           0.46274509803921565,
           0.4169934640522876,
           0.32287581699346407,
           0.23529411764705885,
           0.16862745098039214,
           0.14509803921568626
          ],
          [
           0.23921568627450981,
           0.37254901960784315,
           0.477124183006536,
           0.5281045751633987,
           0.5450980392156862,
           0.5019607843137255,
           0.4169934640522876,
           0.29411764705882354,
           0.19477124183006536,
           0.14901960784313725,
           0.14901960784313725,
           0.2235294117647059,
           0.330718954248366,
           0.4666666666666666,
           0.5647058823529412,
           0.6026143790849674,
           0.5777777777777777,
           0.4862745098039216,
           0.3986928104575163,
           0.3424836601307189,
           0.3058823529411765,
           0.29673202614379085,
           0.35294117647058826,
           0.43790849673202614,
           0.5098039215686274,
           0.5045751633986928,
           0.4444444444444444,
           0.40130718954248373,
           0.29673202614379085,
           0.22222222222222224,
           0.17777777777777778,
           0.15555555555555556
          ],
          [
           0.24575163398692812,
           0.36993464052287583,
           0.4679738562091504,
           0.5189542483660131,
           0.5437908496732026,
           0.5006535947712418,
           0.40915032679738567,
           0.3032679738562092,
           0.21045751633986928,
           0.15816993464052287,
           0.15294117647058822,
           0.19869281045751633,
           0.2823529411764706,
           0.4196078431372549,
           0.54640522875817,
           0.6209150326797386,
           0.6313725490196078,
           0.5660130718954248,
           0.48627450980392156,
           0.4444444444444445,
           0.4366013071895425,
           0.4366013071895425,
           0.4784313725490197,
           0.5450980392156862,
           0.5555555555555556,
           0.5098039215686275,
           0.42745098039215684,
           0.3686274509803922,
           0.2718954248366013,
           0.20784313725490197,
           0.1803921568627451,
           0.1699346405228758
          ],
          [
           0.26405228758169935,
           0.37254901960784315,
           0.46928104575163404,
           0.5294117647058824,
           0.5620915032679739,
           0.5202614379084968,
           0.42091503267973857,
           0.29934640522875816,
           0.21699346405228756,
           0.1699346405228758,
           0.16862745098039214,
           0.17124183006535945,
           0.20653594771241826,
           0.3372549019607843,
           0.5019607843137256,
           0.5882352941176471,
           0.6261437908496732,
           0.6196078431372549,
           0.5555555555555556,
           0.5372549019607843,
           0.5647058823529413,
           0.5529411764705883,
           0.5490196078431372,
           0.5751633986928105,
           0.5738562091503269,
           0.4980392156862745,
           0.40915032679738567,
           0.32679738562091504,
           0.25359477124183005,
           0.1895424836601307,
           0.16470588235294117,
           0.16862745098039214
          ],
          [
           0.25490196078431376,
           0.36601307189542487,
           0.46013071895424834,
           0.5163398692810458,
           0.5450980392156862,
           0.5032679738562091,
           0.407843137254902,
           0.28104575163398693,
           0.19999999999999998,
           0.15294117647058825,
           0.15294117647058825,
           0.1581699346405229,
           0.1908496732026144,
           0.3084967320261438,
           0.4470588235294118,
           0.5424836601307189,
           0.6,
           0.6052287581699346,
           0.5686274509803922,
           0.5594771241830065,
           0.5816993464052288,
           0.5660130718954248,
           0.5568627450980392,
           0.5594771241830064,
           0.5098039215686275,
           0.45098039215686275,
           0.3764705882352941,
           0.3032679738562091,
           0.2366013071895425,
           0.17908496732026144,
           0.15816993464052287,
           0.16209150326797386
          ],
          [
           0.24313725490196078,
           0.34640522875817,
           0.43790849673202614,
           0.49150326797385624,
           0.5098039215686274,
           0.4640522875816994,
           0.38562091503267976,
           0.28366013071895424,
           0.21176470588235294,
           0.17777777777777778,
           0.17254901960784316,
           0.16862745098039214,
           0.1895424836601307,
           0.28104575163398693,
           0.39215686274509803,
           0.47450980392156855,
           0.5320261437908497,
           0.5437908496732026,
           0.5254901960784314,
           0.526797385620915,
           0.5516339869281046,
           0.5464052287581699,
           0.5398692810457516,
           0.5281045751633987,
           0.4326797385620915,
           0.38692810457516336,
           0.3241830065359477,
           0.2679738562091503,
           0.21176470588235297,
           0.16732026143790849,
           0.1477124183006536,
           0.15555555555555556
          ],
          [
           0.22745098039215686,
           0.3241830065359477,
           0.3986928104575163,
           0.43529411764705883,
           0.44836601307189544,
           0.4143790849673203,
           0.3450980392156862,
           0.2718954248366013,
           0.20915032679738563,
           0.1803921568627451,
           0.17777777777777778,
           0.16601307189542483,
           0.17647058823529407,
           0.24052287581699347,
           0.3189542483660131,
           0.3830065359477124,
           0.42745098039215684,
           0.4366013071895425,
           0.42352941176470593,
           0.4326797385620915,
           0.45751633986928103,
           0.4679738562091503,
           0.47189542483660124,
           0.4522875816993464,
           0.35032679738562095,
           0.3163398692810458,
           0.269281045751634,
           0.23267973856209148,
           0.1934640522875817,
           0.15555555555555556,
           0.14640522875816994,
           0.1568627450980392
          ],
          [
           0.21045751633986928,
           0.28235294117647064,
           0.34379084967320267,
           0.36339869281045756,
           0.3660130718954248,
           0.3398692810457516,
           0.29150326797385623,
           0.2222222222222222,
           0.1712418300653595,
           0.15294117647058825,
           0.1542483660130719,
           0.14248366013071895,
           0.1411764705882353,
           0.18169934640522875,
           0.2261437908496732,
           0.2718954248366013,
           0.3137254901960784,
           0.3281045751633987,
           0.330718954248366,
           0.33856209150326805,
           0.35947712418300654,
           0.3673202614379085,
           0.3673202614379085,
           0.35294117647058826,
           0.2784313725490196,
           0.2575163398692811,
           0.23137254901960783,
           0.21045751633986928,
           0.18562091503267975,
           0.16209150326797386,
           0.1607843137254902,
           0.17385620915032682
          ],
          [
           0.19477124183006536,
           0.23921568627450981,
           0.2797385620915033,
           0.27973856209150333,
           0.2718954248366013,
           0.2562091503267974,
           0.22875816993464052,
           0.1895424836601307,
           0.1568627450980392,
           0.1477124183006536,
           0.15424836601307187,
           0.1450980392156863,
           0.13594771241830064,
           0.15555555555555556,
           0.1777777777777778,
           0.203921568627451,
           0.23398692810457514,
           0.2535947712418301,
           0.26666666666666666,
           0.269281045751634,
           0.2784313725490197,
           0.277124183006536,
           0.265359477124183,
           0.24967320261437906,
           0.22745098039215686,
           0.21437908496732025,
           0.203921568627451,
           0.19738562091503267,
           0.1869281045751634,
           0.17647058823529413,
           0.17908496732026144,
           0.19607843137254902
          ],
          [
           0.17777777777777778,
           0.203921568627451,
           0.22222222222222224,
           0.203921568627451,
           0.1934640522875817,
           0.1895424836601307,
           0.16993464052287585,
           0.18169934640522875,
           0.16601307189542483,
           0.16732026143790849,
           0.18300653594771243,
           0.17777777777777778,
           0.16601307189542486,
           0.17124183006535945,
           0.17385620915032682,
           0.17908496732026144,
           0.19738562091503267,
           0.20784313725490197,
           0.21307189542483662,
           0.203921568627451,
           0.2013071895424837,
           0.20261437908496735,
           0.19215686274509805,
           0.18562091503267975,
           0.19999999999999998,
           0.1869281045751634,
           0.18562091503267975,
           0.19477124183006536,
           0.19607843137254902,
           0.1895424836601307,
           0.19999999999999998,
           0.22091503267973858
          ],
          [
           0.17124183006535945,
           0.17647058823529413,
           0.18823529411764706,
           0.16601307189542483,
           0.1503267973856209,
           0.15294117647058822,
           0.14117647058823532,
           0.17385620915032682,
           0.16601307189542483,
           0.1725490196078431,
           0.1895424836601307,
           0.18823529411764706,
           0.1803921568627451,
           0.18039215686274512,
           0.16862745098039214,
           0.1712418300653595,
           0.18562091503267975,
           0.18169934640522878,
           0.16601307189542483,
           0.1477124183006536,
           0.14640522875816994,
           0.1581699346405229,
           0.16209150326797386,
           0.16339869281045752,
           0.1869281045751634,
           0.1803921568627451,
           0.18300653594771243,
           0.19607843137254902,
           0.2013071895424837,
           0.20130718954248364,
           0.2130718954248366,
           0.23137254901960783
          ],
          [
           0.16732026143790849,
           0.1568627450980392,
           0.1450980392156863,
           0.14248366013071898,
           0.1477124183006536,
           0.15555555555555556,
           0.16209150326797386,
           0.1686274509803922,
           0.17647058823529413,
           0.19084967320261437,
           0.18300653594771243,
           0.17777777777777778,
           0.17908496732026144,
           0.16862745098039214,
           0.1516339869281046,
           0.12418300653594772,
           0.11764705882352942,
           0.13856209150326795,
           0.15294117647058825,
           0.14901960784313725,
           0.13594771241830064,
           0.1281045751633987,
           0.12810457516339868,
           0.14901960784313725,
           0.20784313725490197,
           0.20653594771241832,
           0.20130718954248364,
           0.20000000000000004,
           0.19999999999999998,
           0.20915032679738563,
           0.22091503267973855,
           0.22745098039215686
          ],
          [
           0.17516339869281047,
           0.1607843137254902,
           0.1411764705882353,
           0.14248366013071898,
           0.14379084967320263,
           0.15555555555555556,
           0.15686274509803924,
           0.18169934640522875,
           0.1895424836601307,
           0.19607843137254902,
           0.19607843137254902,
           0.1934640522875817,
           0.18300653594771243,
           0.16732026143790849,
           0.1503267973856209,
           0.13202614379084968,
           0.12941176470588237,
           0.15163398692810456,
           0.16862745098039214,
           0.16993464052287585,
           0.16339869281045752,
           0.16601307189542483,
           0.17385620915032682,
           0.1895424836601307,
           0.20653594771241826,
           0.20915032679738563,
           0.21437908496732025,
           0.21176470588235297,
           0.21045751633986928,
           0.2130718954248366,
           0.21568627450980393,
           0.2196078431372549
          ],
          [
           0.15947712418300652,
           0.13986928104575164,
           0.13202614379084968,
           0.14640522875816994,
           0.17385620915032682,
           0.21176470588235297,
           0.23790849673202616,
           0.2196078431372549,
           0.20915032679738566,
           0.19738562091503267,
           0.17777777777777778,
           0.16209150326797384,
           0.14379084967320263,
           0.12679738562091503,
           0.11372549019607846,
           0.12679738562091503,
           0.15424836601307187,
           0.1830065359477124,
           0.21045751633986928,
           0.21960784313725493,
           0.21307189542483662,
           0.21830065359477124,
           0.23921568627450981,
           0.24705882352941175,
           0.23137254901960783,
           0.2352941176470588,
           0.23137254901960783,
           0.22483660130718955,
           0.22091503267973855,
           0.2169934640522876,
           0.2130718954248366,
           0.21568627450980393
          ]
         ]
        },
        {
         "name": "MLP prob distribution",
         "type": "bar",
         "x": [
          0,
          1,
          2,
          3,
          4,
          5,
          6,
          7,
          8,
          9
         ],
         "xaxis": "x2",
         "y": [
          0.00031306163873523474,
          0.000021869078409508802,
          0.995134174823761,
          0.00318744289688766,
          0.0006049885996617377,
          0.000042538853449514136,
          0.0005347709520719945,
          0.00008087706373771653,
          0.00007493813609471545,
          0.000005419825356511865
         ],
         "yaxis": "y2"
        },
        {
         "name": "CNN prob distribution",
         "type": "bar",
         "x": [
          0,
          1,
          2,
          3,
          4,
          5,
          6,
          7,
          8,
          9
         ],
         "xaxis": "x3",
         "y": [
          2.1977369265278358e-14,
          5.982262507586711e-8,
          0.9999997615814209,
          8.37367579720194e-8,
          1.5364935712636196e-10,
          1.1528745894138354e-13,
          1.3965482822909589e-14,
          1.349485745372192e-9,
          2.0450809101735246e-10,
          2.2384382541984493e-11
         ],
         "yaxis": "y3"
        },
        {
         "colorscale": [
          [
           0,
           "rgb(0, 0, 0)"
          ],
          [
           0.09090909090909091,
           "rgb(16, 16, 16)"
          ],
          [
           0.18181818181818182,
           "rgb(38, 38, 38)"
          ],
          [
           0.2727272727272727,
           "rgb(59, 59, 59)"
          ],
          [
           0.36363636363636365,
           "rgb(81, 80, 80)"
          ],
          [
           0.45454545454545453,
           "rgb(102, 101, 101)"
          ],
          [
           0.5454545454545454,
           "rgb(124, 123, 122)"
          ],
          [
           0.6363636363636364,
           "rgb(146, 146, 145)"
          ],
          [
           0.7272727272727273,
           "rgb(171, 171, 170)"
          ],
          [
           0.8181818181818182,
           "rgb(197, 197, 195)"
          ],
          [
           0.9090909090909091,
           "rgb(224, 224, 223)"
          ],
          [
           1,
           "rgb(254, 254, 253)"
          ]
         ],
         "name": "Image",
         "showscale": false,
         "transpose": true,
         "type": "heatmap",
         "xaxis": "x",
         "yaxis": "y",
         "z": [
          [
           0.17516339869281047,
           0.17124183006535945,
           0.16732026143790849,
           0.16732026143790849,
           0.16601307189542483,
           0.16209150326797386,
           0.16339869281045752,
           0.15555555555555556,
           0.15555555555555556,
           0.15947712418300655,
           0.1607843137254902,
           0.16209150326797386,
           0.16209150326797386,
           0.16209150326797386,
           0.16470588235294117,
           0.1607843137254902,
           0.1581699346405229,
           0.1568627450980392,
           0.15555555555555556,
           0.15555555555555556,
           0.15163398692810456,
           0.15163398692810456,
           0.15163398692810456,
           0.1503267973856209,
           0.14379084967320263,
           0.14379084967320263,
           0.14640522875816994,
           0.1503267973856209,
           0.1503267973856209,
           0.1503267973856209,
           0.1503267973856209,
           0.1477124183006536
          ],
          [
           0.17516339869281047,
           0.17124183006535945,
           0.17124183006535945,
           0.16732026143790849,
           0.16339869281045752,
           0.16209150326797386,
           0.15816993464052287,
           0.15555555555555556,
           0.15816993464052287,
           0.1607843137254902,
           0.16209150326797386,
           0.16209150326797386,
           0.16209150326797386,
           0.16339869281045752,
           0.16339869281045752,
           0.1607843137254902,
           0.1568627450980392,
           0.15555555555555556,
           0.15163398692810456,
           0.14901960784313725,
           0.1516339869281046,
           0.1516339869281046,
           0.1516339869281046,
           0.1477124183006536,
           0.14379084967320263,
           0.14379084967320263,
           0.14640522875816994,
           0.1503267973856209,
           0.1503267973856209,
           0.1503267973856209,
           0.1503267973856209,
           0.1477124183006536
          ],
          [
           0.17516339869281047,
           0.17516339869281047,
           0.17385620915032682,
           0.16601307189542483,
           0.16470588235294117,
           0.16470588235294117,
           0.16339869281045752,
           0.16209150326797386,
           0.15947712418300655,
           0.15947712418300655,
           0.15947712418300655,
           0.15947712418300655,
           0.16339869281045752,
           0.16339869281045752,
           0.16601307189542483,
           0.15816993464052287,
           0.15163398692810456,
           0.15163398692810456,
           0.15032679738562094,
           0.14901960784313728,
           0.14901960784313728,
           0.14509803921568626,
           0.14640522875816994,
           0.1477124183006536,
           0.13986928104575164,
           0.14379084967320263,
           0.14379084967320263,
           0.14640522875816994,
           0.1477124183006536,
           0.1477124183006536,
           0.1477124183006536,
           0.1516339869281046
          ],
          [
           0.17516339869281042,
           0.17385620915032682,
           0.16470588235294117,
           0.16601307189542483,
           0.15947712418300655,
           0.16339869281045752,
           0.16209150326797386,
           0.1581699346405229,
           0.15816993464052287,
           0.15947712418300652,
           0.15947712418300652,
           0.15947712418300652,
           0.16339869281045752,
           0.16470588235294117,
           0.16209150326797386,
           0.15555555555555556,
           0.1503267973856209,
           0.1516339869281046,
           0.15032679738562094,
           0.14901960784313728,
           0.1477124183006536,
           0.1437908496732026,
           0.1437908496732026,
           0.1450980392156863,
           0.13856209150326795,
           0.1411764705882353,
           0.13986928104575164,
           0.14509803921568626,
           0.1450980392156863,
           0.1450980392156863,
           0.1450980392156863,
           0.1477124183006536
          ],
          [
           0.14640522875816994,
           0.15555555555555556,
           0.1607843137254902,
           0.16209150326797386,
           0.15555555555555556,
           0.15032679738562094,
           0.1450980392156863,
           0.13594771241830064,
           0.13986928104575166,
           0.15294117647058825,
           0.16470588235294117,
           0.16732026143790849,
           0.16209150326797386,
           0.15555555555555556,
           0.14901960784313725,
           0.16339869281045752,
           0.16470588235294117,
           0.1477124183006536,
           0.15555555555555556,
           0.17254901960784316,
           0.17124183006535945,
           0.1450980392156863,
           0.12941176470588237,
           0.1281045751633987,
           0.134640522875817,
           0.1372549019607843,
           0.13856209150326798,
           0.1372549019607843,
           0.134640522875817,
           0.13594771241830064,
           0.13333333333333333,
           0.13333333333333333
          ],
          [
           0.11895424836601305,
           0.14248366013071895,
           0.1503267973856209,
           0.1581699346405229,
           0.1607843137254902,
           0.15816993464052287,
           0.15816993464052287,
           0.134640522875817,
           0.13594771241830064,
           0.1477124183006536,
           0.15294117647058825,
           0.16339869281045752,
           0.16732026143790849,
           0.16339869281045752,
           0.15947712418300655,
           0.16732026143790849,
           0.16470588235294117,
           0.1516339869281046,
           0.15555555555555556,
           0.16732026143790849,
           0.1607843137254902,
           0.13856209150326798,
           0.12549019607843137,
           0.13594771241830064,
           0.1581699346405229,
           0.14901960784313725,
           0.1437908496732026,
           0.134640522875817,
           0.134640522875817,
           0.13202614379084968,
           0.13202614379084968,
           0.13333333333333333
          ],
          [
           0.10980392156862745,
           0.13594771241830064,
           0.15947712418300655,
           0.17777777777777778,
           0.1895424836601307,
           0.196078431372549,
           0.20522875816993466,
           0.1647058823529412,
           0.15686274509803924,
           0.1607843137254902,
           0.16209150326797386,
           0.16732026143790849,
           0.16732026143790849,
           0.16993464052287585,
           0.16601307189542483,
           0.16339869281045752,
           0.15816993464052287,
           0.14901960784313725,
           0.1516339869281046,
           0.15555555555555556,
           0.14640522875816994,
           0.134640522875817,
           0.14248366013071898,
           0.16732026143790849,
           0.20261437908496735,
           0.1830065359477124,
           0.16601307189542483,
           0.14379084967320263,
           0.13071895424836602,
           0.12810457516339868,
           0.13071895424836602,
           0.1411764705882353
          ],
          [
           0.12941176470588237,
           0.16470588235294117,
           0.21045751633986928,
           0.2483660130718954,
           0.26666666666666666,
           0.2784313725490196,
           0.2888888888888889,
           0.25228758169934645,
           0.22875816993464057,
           0.2104575163398693,
           0.19215686274509805,
           0.18562091503267975,
           0.17908496732026144,
           0.1699346405228758,
           0.16339869281045752,
           0.1516339869281046,
           0.1372549019607843,
           0.13594771241830064,
           0.14248366013071898,
           0.14901960784313725,
           0.1450980392156863,
           0.15816993464052287,
           0.1869281045751634,
           0.2261437908496732,
           0.2627450980392157,
           0.23398692810457514,
           0.2013071895424837,
           0.16862745098039214,
           0.1411764705882353,
           0.134640522875817,
           0.13333333333333333,
           0.1411764705882353
          ],
          [
           0.1803921568627451,
           0.24052287581699347,
           0.30196078431372547,
           0.34771241830065364,
           0.37777777777777777,
           0.3908496732026144,
           0.39738562091503266,
           0.36601307189542487,
           0.3359477124183006,
           0.29411764705882354,
           0.2562091503267974,
           0.23006535947712417,
           0.20784313725490197,
           0.17777777777777778,
           0.15555555555555556,
           0.134640522875817,
           0.1215686274509804,
           0.1215686274509804,
           0.134640522875817,
           0.15294117647058825,
           0.16470588235294117,
           0.20261437908496735,
           0.2601307189542484,
           0.3111111111111111,
           0.330718954248366,
           0.30196078431372547,
           0.24967320261437911,
           0.203921568627451,
           0.16862745098039214,
           0.14901960784313725,
           0.1411764705882353,
           0.14248366013071898
          ],
          [
           0.23529411764705885,
           0.31503267973856214,
           0.3986928104575163,
           0.4562091503267974,
           0.4875816993464053,
           0.4928104575163399,
           0.48888888888888893,
           0.47189542483660124,
           0.43790849673202614,
           0.3856209150326797,
           0.3372549019607843,
           0.3006535947712418,
           0.261437908496732,
           0.21568627450980396,
           0.17647058823529413,
           0.14640522875816994,
           0.12679738562091505,
           0.1176470588235294,
           0.1281045751633987,
           0.1581699346405229,
           0.19999999999999998,
           0.2601307189542484,
           0.33464052287581697,
           0.38823529411764707,
           0.3934640522875817,
           0.36209150326797385,
           0.30980392156862746,
           0.2522875816993464,
           0.20392156862745095,
           0.16862745098039214,
           0.14901960784313725,
           0.14379084967320263
          ],
          [
           0.2627450980392157,
           0.36078431372549025,
           0.46535947712418296,
           0.5333333333333333,
           0.5581699346405229,
           0.5516339869281046,
           0.534640522875817,
           0.530718954248366,
           0.5019607843137255,
           0.45228758169934635,
           0.411764705882353,
           0.3764705882352941,
           0.3359477124183006,
           0.28104575163398693,
           0.23267973856209148,
           0.1843137254901961,
           0.15032679738562094,
           0.130718954248366,
           0.13333333333333333,
           0.1725490196078431,
           0.23398692810457514,
           0.3111111111111111,
           0.3908496732026144,
           0.4444444444444445,
           0.4444444444444445,
           0.411764705882353,
           0.35947712418300654,
           0.2980392156862745,
           0.23790849673202616,
           0.1895424836601307,
           0.15686274509803924,
           0.1437908496732026
          ],
          [
           0.27320261437908494,
           0.3843137254901961,
           0.5006535947712418,
           0.5738562091503268,
           0.5934640522875817,
           0.5751633986928105,
           0.5555555555555556,
           0.5594771241830065,
           0.534640522875817,
           0.49411764705882355,
           0.4588235294117647,
           0.43006535947712415,
           0.39477124183006534,
           0.3372549019607843,
           0.2875816993464052,
           0.23267973856209148,
           0.17385620915032682,
           0.14248366013071898,
           0.14379084967320263,
           0.1895424836601307,
           0.2627450980392157,
           0.34771241830065364,
           0.4313725490196078,
           0.47843137254901963,
           0.4849673202614379,
           0.44836601307189544,
           0.39215686274509803,
           0.32287581699346407,
           0.2588235294117647,
           0.2026143790849673,
           0.15816993464052287,
           0.1398692810457516
          ],
          [
           0.27320261437908494,
           0.3908496732026144,
           0.49673202614379086,
           0.5620915032679739,
           0.596078431372549,
           0.5725490196078431,
           0.5124183006535947,
           0.5019607843137255,
           0.4928104575163399,
           0.49150326797385624,
           0.477124183006536,
           0.46666666666666673,
           0.44575163398692813,
           0.4052287581699346,
           0.3372549019607843,
           0.25882352941176473,
           0.2013071895424837,
           0.1607843137254902,
           0.15294117647058822,
           0.19869281045751633,
           0.26013071895424833,
           0.3137254901960784,
           0.37516339869281046,
           0.43921568627450985,
           0.49019607843137253,
           0.4653594771241831,
           0.41830065359477125,
           0.38039215686274513,
           0.2888888888888889,
           0.22483660130718952,
           0.1777777777777778,
           0.1568627450980392
          ],
          [
           0.265359477124183,
           0.38300653594771245,
           0.4849673202614379,
           0.5450980392156862,
           0.5856209150326798,
           0.5633986928104575,
           0.4836601307189543,
           0.4169934640522876,
           0.39999999999999997,
           0.4300653594771242,
           0.4392156862745098,
           0.45751633986928103,
           0.4588235294117647,
           0.43921568627450974,
           0.3790849673202614,
           0.2928104575163399,
           0.2339869281045752,
           0.18300653594771243,
           0.1542483660130719,
           0.18562091503267975,
           0.2261437908496732,
           0.24836601307189543,
           0.2888888888888889,
           0.3660130718954248,
           0.46274509803921576,
           0.473202614379085,
           0.43790849673202614,
           0.4196078431372549,
           0.31895424836601305,
           0.2431372549019608,
           0.1843137254901961,
           0.14901960784313725
          ],
          [
           0.2562091503267974,
           0.37777777777777777,
           0.47450980392156855,
           0.538562091503268,
           0.5751633986928105,
           0.550326797385621,
           0.47450980392156866,
           0.3359477124183006,
           0.3006535947712418,
           0.3359477124183006,
           0.3673202614379085,
           0.4104575163398693,
           0.44313725490196076,
           0.45359477124183006,
           0.4196078431372549,
           0.3398692810457516,
           0.26666666666666666,
           0.20522875816993466,
           0.15816993464052287,
           0.15816993464052287,
           0.17124183006535945,
           0.17516339869281047,
           0.207843137254902,
           0.28758169934640526,
           0.42745098039215684,
           0.4758169934640523,
           0.4562091503267974,
           0.4261437908496732,
           0.3372549019607843,
           0.2522875816993464,
           0.17516339869281047,
           0.13986928104575164
          ],
          [
           0.25098039215686274,
           0.3764705882352941,
           0.47450980392156855,
           0.5359477124183006,
           0.5725490196078432,
           0.5398692810457516,
           0.46535947712418296,
           0.27581699346405225,
           0.22222222222222224,
           0.25882352941176473,
           0.3019607843137255,
           0.36339869281045756,
           0.4169934640522876,
           0.4562091503267974,
           0.4496732026143791,
           0.38431372549019605,
           0.3137254901960785,
           0.24444444444444444,
           0.17777777777777778,
           0.15163398692810456,
           0.1398692810457516,
           0.13071895424836602,
           0.1568627450980392,
           0.23790849673202616,
           0.41307189542483663,
           0.49019607843137253,
           0.461437908496732,
           0.41830065359477125,
           0.3372549019607843,
           0.25359477124183005,
           0.17647058823529413,
           0.15294117647058825
          ],
          [
           0.25490196078431376,
           0.3830065359477124,
           0.48366013071895425,
           0.5411764705882353,
           0.5738562091503269,
           0.538562091503268,
           0.461437908496732,
           0.2575163398692811,
           0.19215686274509802,
           0.2130718954248366,
           0.25098039215686274,
           0.32418300653594767,
           0.39477124183006534,
           0.45751633986928103,
           0.47712418300653586,
           0.44183006535947716,
           0.38431372549019605,
           0.3058823529411765,
           0.22352941176470587,
           0.18169934640522878,
           0.15555555555555559,
           0.13594771241830064,
           0.1568627450980392,
           0.2457516339869281,
           0.4196078431372549,
           0.5058823529411764,
           0.46274509803921565,
           0.40653594771241836,
           0.3281045751633987,
           0.2522875816993464,
           0.17777777777777778,
           0.16339869281045752
          ],
          [
           0.2601307189542484,
           0.38692810457516336,
           0.4915032679738562,
           0.5450980392156862,
           0.5751633986928105,
           0.5372549019607843,
           0.4549019607843137,
           0.2601307189542484,
           0.1803921568627451,
           0.1803921568627451,
           0.20784313725490197,
           0.28758169934640526,
           0.37516339869281046,
           0.4679738562091503,
           0.5228758169934641,
           0.5084967320261438,
           0.4522875816993464,
           0.3647058823529412,
           0.27581699346405225,
           0.22091503267973855,
           0.17908496732026147,
           0.1542483660130719,
           0.17777777777777778,
           0.27058823529411763,
           0.43529411764705883,
           0.5098039215686274,
           0.4666666666666666,
           0.411764705882353,
           0.32941176470588235,
           0.24444444444444444,
           0.17254901960784316,
           0.1542483660130719
          ],
          [
           0.2535947712418301,
           0.3830065359477124,
           0.4888888888888889,
           0.5411764705882353,
           0.5660130718954249,
           0.5228758169934641,
           0.4405228758169935,
           0.27320261437908494,
           0.17908496732026144,
           0.1568627450980392,
           0.17385620915032682,
           0.25228758169934645,
           0.35294117647058826,
           0.4732026143790849,
           0.5568627450980392,
           0.5594771241830065,
           0.5071895424836601,
           0.4196078431372549,
           0.32679738562091504,
           0.26405228758169935,
           0.2196078431372549,
           0.19869281045751633,
           0.23267973856209154,
           0.3254901960784314,
           0.46928104575163393,
           0.5071895424836601,
           0.46274509803921565,
           0.4169934640522876,
           0.32287581699346407,
           0.23529411764705885,
           0.16862745098039214,
           0.14509803921568626
          ],
          [
           0.23921568627450981,
           0.37254901960784315,
           0.477124183006536,
           0.5281045751633987,
           0.5450980392156862,
           0.5019607843137255,
           0.4169934640522876,
           0.29411764705882354,
           0.19477124183006536,
           0.14901960784313725,
           0.14901960784313725,
           0.2235294117647059,
           0.330718954248366,
           0.4666666666666666,
           0.5647058823529412,
           0.6026143790849674,
           0.5777777777777777,
           0.4862745098039216,
           0.3986928104575163,
           0.3424836601307189,
           0.3058823529411765,
           0.29673202614379085,
           0.35294117647058826,
           0.43790849673202614,
           0.5098039215686274,
           0.5045751633986928,
           0.4444444444444444,
           0.40130718954248373,
           0.29673202614379085,
           0.22222222222222224,
           0.17777777777777778,
           0.15555555555555556
          ],
          [
           0.24575163398692812,
           0.36993464052287583,
           0.4679738562091504,
           0.5189542483660131,
           0.5437908496732026,
           0.5006535947712418,
           0.40915032679738567,
           0.3032679738562092,
           0.21045751633986928,
           0.15816993464052287,
           0.15294117647058822,
           0.19869281045751633,
           0.2823529411764706,
           0.4196078431372549,
           0.54640522875817,
           0.6209150326797386,
           0.6313725490196078,
           0.5660130718954248,
           0.48627450980392156,
           0.4444444444444445,
           0.4366013071895425,
           0.4366013071895425,
           0.4784313725490197,
           0.5450980392156862,
           0.5555555555555556,
           0.5098039215686275,
           0.42745098039215684,
           0.3686274509803922,
           0.2718954248366013,
           0.20784313725490197,
           0.1803921568627451,
           0.1699346405228758
          ],
          [
           0.26405228758169935,
           0.37254901960784315,
           0.46928104575163404,
           0.5294117647058824,
           0.5620915032679739,
           0.5202614379084968,
           0.42091503267973857,
           0.29934640522875816,
           0.21699346405228756,
           0.1699346405228758,
           0.16862745098039214,
           0.17124183006535945,
           0.20653594771241826,
           0.3372549019607843,
           0.5019607843137256,
           0.5882352941176471,
           0.6261437908496732,
           0.6196078431372549,
           0.5555555555555556,
           0.5372549019607843,
           0.5647058823529413,
           0.5529411764705883,
           0.5490196078431372,
           0.5751633986928105,
           0.5738562091503269,
           0.4980392156862745,
           0.40915032679738567,
           0.32679738562091504,
           0.25359477124183005,
           0.1895424836601307,
           0.16470588235294117,
           0.16862745098039214
          ],
          [
           0.25490196078431376,
           0.36601307189542487,
           0.46013071895424834,
           0.5163398692810458,
           0.5450980392156862,
           0.5032679738562091,
           0.407843137254902,
           0.28104575163398693,
           0.19999999999999998,
           0.15294117647058825,
           0.15294117647058825,
           0.1581699346405229,
           0.1908496732026144,
           0.3084967320261438,
           0.4470588235294118,
           0.5424836601307189,
           0.6,
           0.6052287581699346,
           0.5686274509803922,
           0.5594771241830065,
           0.5816993464052288,
           0.5660130718954248,
           0.5568627450980392,
           0.5594771241830064,
           0.5098039215686275,
           0.45098039215686275,
           0.3764705882352941,
           0.3032679738562091,
           0.2366013071895425,
           0.17908496732026144,
           0.15816993464052287,
           0.16209150326797386
          ],
          [
           0.24313725490196078,
           0.34640522875817,
           0.43790849673202614,
           0.49150326797385624,
           0.5098039215686274,
           0.4640522875816994,
           0.38562091503267976,
           0.28366013071895424,
           0.21176470588235294,
           0.17777777777777778,
           0.17254901960784316,
           0.16862745098039214,
           0.1895424836601307,
           0.28104575163398693,
           0.39215686274509803,
           0.47450980392156855,
           0.5320261437908497,
           0.5437908496732026,
           0.5254901960784314,
           0.526797385620915,
           0.5516339869281046,
           0.5464052287581699,
           0.5398692810457516,
           0.5281045751633987,
           0.4326797385620915,
           0.38692810457516336,
           0.3241830065359477,
           0.2679738562091503,
           0.21176470588235297,
           0.16732026143790849,
           0.1477124183006536,
           0.15555555555555556
          ],
          [
           0.22745098039215686,
           0.3241830065359477,
           0.3986928104575163,
           0.43529411764705883,
           0.44836601307189544,
           0.4143790849673203,
           0.3450980392156862,
           0.2718954248366013,
           0.20915032679738563,
           0.1803921568627451,
           0.17777777777777778,
           0.16601307189542483,
           0.17647058823529407,
           0.24052287581699347,
           0.3189542483660131,
           0.3830065359477124,
           0.42745098039215684,
           0.4366013071895425,
           0.42352941176470593,
           0.4326797385620915,
           0.45751633986928103,
           0.4679738562091503,
           0.47189542483660124,
           0.4522875816993464,
           0.35032679738562095,
           0.3163398692810458,
           0.269281045751634,
           0.23267973856209148,
           0.1934640522875817,
           0.15555555555555556,
           0.14640522875816994,
           0.1568627450980392
          ],
          [
           0.21045751633986928,
           0.28235294117647064,
           0.34379084967320267,
           0.36339869281045756,
           0.3660130718954248,
           0.3398692810457516,
           0.29150326797385623,
           0.2222222222222222,
           0.1712418300653595,
           0.15294117647058825,
           0.1542483660130719,
           0.14248366013071895,
           0.1411764705882353,
           0.18169934640522875,
           0.2261437908496732,
           0.2718954248366013,
           0.3137254901960784,
           0.3281045751633987,
           0.330718954248366,
           0.33856209150326805,
           0.35947712418300654,
           0.3673202614379085,
           0.3673202614379085,
           0.35294117647058826,
           0.2784313725490196,
           0.2575163398692811,
           0.23137254901960783,
           0.21045751633986928,
           0.18562091503267975,
           0.16209150326797386,
           0.1607843137254902,
           0.17385620915032682
          ],
          [
           0.19477124183006536,
           0.23921568627450981,
           0.2797385620915033,
           0.27973856209150333,
           0.2718954248366013,
           0.2562091503267974,
           0.22875816993464052,
           0.1895424836601307,
           0.1568627450980392,
           0.1477124183006536,
           0.15424836601307187,
           0.1450980392156863,
           0.13594771241830064,
           0.15555555555555556,
           0.1777777777777778,
           0.203921568627451,
           0.23398692810457514,
           0.2535947712418301,
           0.26666666666666666,
           0.269281045751634,
           0.2784313725490197,
           0.277124183006536,
           0.265359477124183,
           0.24967320261437906,
           0.22745098039215686,
           0.21437908496732025,
           0.203921568627451,
           0.19738562091503267,
           0.1869281045751634,
           0.17647058823529413,
           0.17908496732026144,
           0.19607843137254902
          ],
          [
           0.17777777777777778,
           0.203921568627451,
           0.22222222222222224,
           0.203921568627451,
           0.1934640522875817,
           0.1895424836601307,
           0.16993464052287585,
           0.18169934640522875,
           0.16601307189542483,
           0.16732026143790849,
           0.18300653594771243,
           0.17777777777777778,
           0.16601307189542486,
           0.17124183006535945,
           0.17385620915032682,
           0.17908496732026144,
           0.19738562091503267,
           0.20784313725490197,
           0.21307189542483662,
           0.203921568627451,
           0.2013071895424837,
           0.20261437908496735,
           0.19215686274509805,
           0.18562091503267975,
           0.19999999999999998,
           0.1869281045751634,
           0.18562091503267975,
           0.19477124183006536,
           0.19607843137254902,
           0.1895424836601307,
           0.19999999999999998,
           0.22091503267973858
          ],
          [
           0.17124183006535945,
           0.17647058823529413,
           0.18823529411764706,
           0.16601307189542483,
           0.1503267973856209,
           0.15294117647058822,
           0.14117647058823532,
           0.17385620915032682,
           0.16601307189542483,
           0.1725490196078431,
           0.1895424836601307,
           0.18823529411764706,
           0.1803921568627451,
           0.18039215686274512,
           0.16862745098039214,
           0.1712418300653595,
           0.18562091503267975,
           0.18169934640522878,
           0.16601307189542483,
           0.1477124183006536,
           0.14640522875816994,
           0.1581699346405229,
           0.16209150326797386,
           0.16339869281045752,
           0.1869281045751634,
           0.1803921568627451,
           0.18300653594771243,
           0.19607843137254902,
           0.2013071895424837,
           0.20130718954248364,
           0.2130718954248366,
           0.23137254901960783
          ],
          [
           0.16732026143790849,
           0.1568627450980392,
           0.1450980392156863,
           0.14248366013071898,
           0.1477124183006536,
           0.15555555555555556,
           0.16209150326797386,
           0.1686274509803922,
           0.17647058823529413,
           0.19084967320261437,
           0.18300653594771243,
           0.17777777777777778,
           0.17908496732026144,
           0.16862745098039214,
           0.1516339869281046,
           0.12418300653594772,
           0.11764705882352942,
           0.13856209150326795,
           0.15294117647058825,
           0.14901960784313725,
           0.13594771241830064,
           0.1281045751633987,
           0.12810457516339868,
           0.14901960784313725,
           0.20784313725490197,
           0.20653594771241832,
           0.20130718954248364,
           0.20000000000000004,
           0.19999999999999998,
           0.20915032679738563,
           0.22091503267973855,
           0.22745098039215686
          ],
          [
           0.17516339869281047,
           0.1607843137254902,
           0.1411764705882353,
           0.14248366013071898,
           0.14379084967320263,
           0.15555555555555556,
           0.15686274509803924,
           0.18169934640522875,
           0.1895424836601307,
           0.19607843137254902,
           0.19607843137254902,
           0.1934640522875817,
           0.18300653594771243,
           0.16732026143790849,
           0.1503267973856209,
           0.13202614379084968,
           0.12941176470588237,
           0.15163398692810456,
           0.16862745098039214,
           0.16993464052287585,
           0.16339869281045752,
           0.16601307189542483,
           0.17385620915032682,
           0.1895424836601307,
           0.20653594771241826,
           0.20915032679738563,
           0.21437908496732025,
           0.21176470588235297,
           0.21045751633986928,
           0.2130718954248366,
           0.21568627450980393,
           0.2196078431372549
          ],
          [
           0.15947712418300652,
           0.13986928104575164,
           0.13202614379084968,
           0.14640522875816994,
           0.17385620915032682,
           0.21176470588235297,
           0.23790849673202616,
           0.2196078431372549,
           0.20915032679738566,
           0.19738562091503267,
           0.17777777777777778,
           0.16209150326797384,
           0.14379084967320263,
           0.12679738562091503,
           0.11372549019607846,
           0.12679738562091503,
           0.15424836601307187,
           0.1830065359477124,
           0.21045751633986928,
           0.21960784313725493,
           0.21307189542483662,
           0.21830065359477124,
           0.23921568627450981,
           0.24705882352941175,
           0.23137254901960783,
           0.2352941176470588,
           0.23137254901960783,
           0.22483660130718955,
           0.22091503267973855,
           0.2169934640522876,
           0.2130718954248366,
           0.21568627450980393
          ]
         ]
        }
       ],
       "layout": {
        "template": {
         "data": {
          "bar": [
           {
            "error_x": {
             "color": "#f2f5fa"
            },
            "error_y": {
             "color": "#f2f5fa"
            },
            "marker": {
             "line": {
              "color": "rgb(17,17,17)",
              "width": 0.5
             },
             "pattern": {
              "fillmode": "overlay",
              "size": 10,
              "solidity": 0.2
             }
            },
            "type": "bar"
           }
          ],
          "barpolar": [
           {
            "marker": {
             "line": {
              "color": "rgb(17,17,17)",
              "width": 0.5
             },
             "pattern": {
              "fillmode": "overlay",
              "size": 10,
              "solidity": 0.2
             }
            },
            "type": "barpolar"
           }
          ],
          "carpet": [
           {
            "aaxis": {
             "endlinecolor": "#A2B1C6",
             "gridcolor": "#506784",
             "linecolor": "#506784",
             "minorgridcolor": "#506784",
             "startlinecolor": "#A2B1C6"
            },
            "baxis": {
             "endlinecolor": "#A2B1C6",
             "gridcolor": "#506784",
             "linecolor": "#506784",
             "minorgridcolor": "#506784",
             "startlinecolor": "#A2B1C6"
            },
            "type": "carpet"
           }
          ],
          "choropleth": [
           {
            "colorbar": {
             "outlinewidth": 0,
             "ticks": ""
            },
            "type": "choropleth"
           }
          ],
          "contour": [
           {
            "colorbar": {
             "outlinewidth": 0,
             "ticks": ""
            },
            "colorscale": [
             [
              0,
              "#0d0887"
             ],
             [
              0.1111111111111111,
              "#46039f"
             ],
             [
              0.2222222222222222,
              "#7201a8"
             ],
             [
              0.3333333333333333,
              "#9c179e"
             ],
             [
              0.4444444444444444,
              "#bd3786"
             ],
             [
              0.5555555555555556,
              "#d8576b"
             ],
             [
              0.6666666666666666,
              "#ed7953"
             ],
             [
              0.7777777777777778,
              "#fb9f3a"
             ],
             [
              0.8888888888888888,
              "#fdca26"
             ],
             [
              1,
              "#f0f921"
             ]
            ],
            "type": "contour"
           }
          ],
          "contourcarpet": [
           {
            "colorbar": {
             "outlinewidth": 0,
             "ticks": ""
            },
            "type": "contourcarpet"
           }
          ],
          "heatmap": [
           {
            "colorbar": {
             "outlinewidth": 0,
             "ticks": ""
            },
            "colorscale": [
             [
              0,
              "#0d0887"
             ],
             [
              0.1111111111111111,
              "#46039f"
             ],
             [
              0.2222222222222222,
              "#7201a8"
             ],
             [
              0.3333333333333333,
              "#9c179e"
             ],
             [
              0.4444444444444444,
              "#bd3786"
             ],
             [
              0.5555555555555556,
              "#d8576b"
             ],
             [
              0.6666666666666666,
              "#ed7953"
             ],
             [
              0.7777777777777778,
              "#fb9f3a"
             ],
             [
              0.8888888888888888,
              "#fdca26"
             ],
             [
              1,
              "#f0f921"
             ]
            ],
            "type": "heatmap"
           }
          ],
          "heatmapgl": [
           {
            "colorbar": {
             "outlinewidth": 0,
             "ticks": ""
            },
            "colorscale": [
             [
              0,
              "#0d0887"
             ],
             [
              0.1111111111111111,
              "#46039f"
             ],
             [
              0.2222222222222222,
              "#7201a8"
             ],
             [
              0.3333333333333333,
              "#9c179e"
             ],
             [
              0.4444444444444444,
              "#bd3786"
             ],
             [
              0.5555555555555556,
              "#d8576b"
             ],
             [
              0.6666666666666666,
              "#ed7953"
             ],
             [
              0.7777777777777778,
              "#fb9f3a"
             ],
             [
              0.8888888888888888,
              "#fdca26"
             ],
             [
              1,
              "#f0f921"
             ]
            ],
            "type": "heatmapgl"
           }
          ],
          "histogram": [
           {
            "marker": {
             "pattern": {
              "fillmode": "overlay",
              "size": 10,
              "solidity": 0.2
             }
            },
            "type": "histogram"
           }
          ],
          "histogram2d": [
           {
            "colorbar": {
             "outlinewidth": 0,
             "ticks": ""
            },
            "colorscale": [
             [
              0,
              "#0d0887"
             ],
             [
              0.1111111111111111,
              "#46039f"
             ],
             [
              0.2222222222222222,
              "#7201a8"
             ],
             [
              0.3333333333333333,
              "#9c179e"
             ],
             [
              0.4444444444444444,
              "#bd3786"
             ],
             [
              0.5555555555555556,
              "#d8576b"
             ],
             [
              0.6666666666666666,
              "#ed7953"
             ],
             [
              0.7777777777777778,
              "#fb9f3a"
             ],
             [
              0.8888888888888888,
              "#fdca26"
             ],
             [
              1,
              "#f0f921"
             ]
            ],
            "type": "histogram2d"
           }
          ],
          "histogram2dcontour": [
           {
            "colorbar": {
             "outlinewidth": 0,
             "ticks": ""
            },
            "colorscale": [
             [
              0,
              "#0d0887"
             ],
             [
              0.1111111111111111,
              "#46039f"
             ],
             [
              0.2222222222222222,
              "#7201a8"
             ],
             [
              0.3333333333333333,
              "#9c179e"
             ],
             [
              0.4444444444444444,
              "#bd3786"
             ],
             [
              0.5555555555555556,
              "#d8576b"
             ],
             [
              0.6666666666666666,
              "#ed7953"
             ],
             [
              0.7777777777777778,
              "#fb9f3a"
             ],
             [
              0.8888888888888888,
              "#fdca26"
             ],
             [
              1,
              "#f0f921"
             ]
            ],
            "type": "histogram2dcontour"
           }
          ],
          "mesh3d": [
           {
            "colorbar": {
             "outlinewidth": 0,
             "ticks": ""
            },
            "type": "mesh3d"
           }
          ],
          "parcoords": [
           {
            "line": {
             "colorbar": {
              "outlinewidth": 0,
              "ticks": ""
             }
            },
            "type": "parcoords"
           }
          ],
          "pie": [
           {
            "automargin": true,
            "type": "pie"
           }
          ],
          "scatter": [
           {
            "marker": {
             "line": {
              "color": "#283442"
             }
            },
            "type": "scatter"
           }
          ],
          "scatter3d": [
           {
            "line": {
             "colorbar": {
              "outlinewidth": 0,
              "ticks": ""
             }
            },
            "marker": {
             "colorbar": {
              "outlinewidth": 0,
              "ticks": ""
             }
            },
            "type": "scatter3d"
           }
          ],
          "scattercarpet": [
           {
            "marker": {
             "colorbar": {
              "outlinewidth": 0,
              "ticks": ""
             }
            },
            "type": "scattercarpet"
           }
          ],
          "scattergeo": [
           {
            "marker": {
             "colorbar": {
              "outlinewidth": 0,
              "ticks": ""
             }
            },
            "type": "scattergeo"
           }
          ],
          "scattergl": [
           {
            "marker": {
             "line": {
              "color": "#283442"
             }
            },
            "type": "scattergl"
           }
          ],
          "scattermapbox": [
           {
            "marker": {
             "colorbar": {
              "outlinewidth": 0,
              "ticks": ""
             }
            },
            "type": "scattermapbox"
           }
          ],
          "scatterpolar": [
           {
            "marker": {
             "colorbar": {
              "outlinewidth": 0,
              "ticks": ""
             }
            },
            "type": "scatterpolar"
           }
          ],
          "scatterpolargl": [
           {
            "marker": {
             "colorbar": {
              "outlinewidth": 0,
              "ticks": ""
             }
            },
            "type": "scatterpolargl"
           }
          ],
          "scatterternary": [
           {
            "marker": {
             "colorbar": {
              "outlinewidth": 0,
              "ticks": ""
             }
            },
            "type": "scatterternary"
           }
          ],
          "surface": [
           {
            "colorbar": {
             "outlinewidth": 0,
             "ticks": ""
            },
            "colorscale": [
             [
              0,
              "#0d0887"
             ],
             [
              0.1111111111111111,
              "#46039f"
             ],
             [
              0.2222222222222222,
              "#7201a8"
             ],
             [
              0.3333333333333333,
              "#9c179e"
             ],
             [
              0.4444444444444444,
              "#bd3786"
             ],
             [
              0.5555555555555556,
              "#d8576b"
             ],
             [
              0.6666666666666666,
              "#ed7953"
             ],
             [
              0.7777777777777778,
              "#fb9f3a"
             ],
             [
              0.8888888888888888,
              "#fdca26"
             ],
             [
              1,
              "#f0f921"
             ]
            ],
            "type": "surface"
           }
          ],
          "table": [
           {
            "cells": {
             "fill": {
              "color": "#506784"
             },
             "line": {
              "color": "rgb(17,17,17)"
             }
            },
            "header": {
             "fill": {
              "color": "#2a3f5f"
             },
             "line": {
              "color": "rgb(17,17,17)"
             }
            },
            "type": "table"
           }
          ]
         },
         "layout": {
          "annotationdefaults": {
           "arrowcolor": "#f2f5fa",
           "arrowhead": 0,
           "arrowwidth": 1
          },
          "autotypenumbers": "strict",
          "coloraxis": {
           "colorbar": {
            "outlinewidth": 0,
            "ticks": ""
           }
          },
          "colorscale": {
           "diverging": [
            [
             0,
             "#8e0152"
            ],
            [
             0.1,
             "#c51b7d"
            ],
            [
             0.2,
             "#de77ae"
            ],
            [
             0.3,
             "#f1b6da"
            ],
            [
             0.4,
             "#fde0ef"
            ],
            [
             0.5,
             "#f7f7f7"
            ],
            [
             0.6,
             "#e6f5d0"
            ],
            [
             0.7,
             "#b8e186"
            ],
            [
             0.8,
             "#7fbc41"
            ],
            [
             0.9,
             "#4d9221"
            ],
            [
             1,
             "#276419"
            ]
           ],
           "sequential": [
            [
             0,
             "#0d0887"
            ],
            [
             0.1111111111111111,
             "#46039f"
            ],
            [
             0.2222222222222222,
             "#7201a8"
            ],
            [
             0.3333333333333333,
             "#9c179e"
            ],
            [
             0.4444444444444444,
             "#bd3786"
            ],
            [
             0.5555555555555556,
             "#d8576b"
            ],
            [
             0.6666666666666666,
             "#ed7953"
            ],
            [
             0.7777777777777778,
             "#fb9f3a"
            ],
            [
             0.8888888888888888,
             "#fdca26"
            ],
            [
             1,
             "#f0f921"
            ]
           ],
           "sequentialminus": [
            [
             0,
             "#0d0887"
            ],
            [
             0.1111111111111111,
             "#46039f"
            ],
            [
             0.2222222222222222,
             "#7201a8"
            ],
            [
             0.3333333333333333,
             "#9c179e"
            ],
            [
             0.4444444444444444,
             "#bd3786"
            ],
            [
             0.5555555555555556,
             "#d8576b"
            ],
            [
             0.6666666666666666,
             "#ed7953"
            ],
            [
             0.7777777777777778,
             "#fb9f3a"
            ],
            [
             0.8888888888888888,
             "#fdca26"
            ],
            [
             1,
             "#f0f921"
            ]
           ]
          },
          "colorway": [
           "#636efa",
           "#EF553B",
           "#00cc96",
           "#ab63fa",
           "#FFA15A",
           "#19d3f3",
           "#FF6692",
           "#B6E880",
           "#FF97FF",
           "#FECB52"
          ],
          "font": {
           "color": "#f2f5fa"
          },
          "geo": {
           "bgcolor": "rgb(17,17,17)",
           "lakecolor": "rgb(17,17,17)",
           "landcolor": "rgb(17,17,17)",
           "showlakes": true,
           "showland": true,
           "subunitcolor": "#506784"
          },
          "hoverlabel": {
           "align": "left"
          },
          "hovermode": "closest",
          "mapbox": {
           "style": "dark"
          },
          "paper_bgcolor": "rgb(17,17,17)",
          "plot_bgcolor": "rgb(17,17,17)",
          "polar": {
           "angularaxis": {
            "gridcolor": "#506784",
            "linecolor": "#506784",
            "ticks": ""
           },
           "bgcolor": "rgb(17,17,17)",
           "radialaxis": {
            "gridcolor": "#506784",
            "linecolor": "#506784",
            "ticks": ""
           }
          },
          "scene": {
           "xaxis": {
            "backgroundcolor": "rgb(17,17,17)",
            "gridcolor": "#506784",
            "gridwidth": 2,
            "linecolor": "#506784",
            "showbackground": true,
            "ticks": "",
            "zerolinecolor": "#C8D4E3"
           },
           "yaxis": {
            "backgroundcolor": "rgb(17,17,17)",
            "gridcolor": "#506784",
            "gridwidth": 2,
            "linecolor": "#506784",
            "showbackground": true,
            "ticks": "",
            "zerolinecolor": "#C8D4E3"
           },
           "zaxis": {
            "backgroundcolor": "rgb(17,17,17)",
            "gridcolor": "#506784",
            "gridwidth": 2,
            "linecolor": "#506784",
            "showbackground": true,
            "ticks": "",
            "zerolinecolor": "#C8D4E3"
           }
          },
          "shapedefaults": {
           "line": {
            "color": "#f2f5fa"
           }
          },
          "sliderdefaults": {
           "bgcolor": "#C8D4E3",
           "bordercolor": "rgb(17,17,17)",
           "borderwidth": 1,
           "tickwidth": 0
          },
          "ternary": {
           "aaxis": {
            "gridcolor": "#506784",
            "linecolor": "#506784",
            "ticks": ""
           },
           "baxis": {
            "gridcolor": "#506784",
            "linecolor": "#506784",
            "ticks": ""
           },
           "bgcolor": "rgb(17,17,17)",
           "caxis": {
            "gridcolor": "#506784",
            "linecolor": "#506784",
            "ticks": ""
           }
          },
          "title": {
           "x": 0.05
          },
          "updatemenudefaults": {
           "bgcolor": "#506784",
           "borderwidth": 0
          },
          "xaxis": {
           "automargin": true,
           "gridcolor": "#283442",
           "linecolor": "#506784",
           "ticks": "",
           "title": {
            "standoff": 15
           },
           "zerolinecolor": "#283442",
           "zerolinewidth": 2
          },
          "yaxis": {
           "automargin": true,
           "gridcolor": "#283442",
           "linecolor": "#506784",
           "ticks": "",
           "title": {
            "standoff": 15
           },
           "zerolinecolor": "#283442",
           "zerolinewidth": 2
          }
         }
        },
        "title": {
         "text": "MLP vs CNN Prediction distribution",
         "x": 0.25
        },
        "xaxis": {
         "anchor": "y",
         "domain": [
          0,
          0.27
         ],
         "title": {
          "text": "MLP Predicts [2] -- CNN Predicts [2] "
         }
        },
        "xaxis2": {
         "anchor": "y2",
         "domain": [
          0.37,
          1
         ],
         "dtick": 1
        },
        "xaxis3": {
         "anchor": "y3",
         "domain": [
          0.37,
          1
         ],
         "dtick": 1
        },
        "yaxis": {
         "anchor": "x",
         "domain": [
          0,
          1
         ]
        },
        "yaxis2": {
         "anchor": "x2",
         "domain": [
          0.575,
          1
         ],
         "title": {
          "text": "Prob MLP"
         }
        },
        "yaxis3": {
         "anchor": "x3",
         "domain": [
          0,
          0.425
         ],
         "title": {
          "text": "Prob CMM"
         }
        }
       }
      }
     },
     "metadata": {},
     "output_type": "display_data"
    }
   ],
   "source": [
    "plot_pred_dist()"
   ]
  },
  {
   "cell_type": "code",
   "execution_count": 31,
   "metadata": {
    "id": "NxKa37PWz_HL"
   },
   "outputs": [
    {
     "name": "stdout",
     "output_type": "stream",
     "text": [
      "1/1 [==============================] - 0s 19ms/step\n",
      "1/1 [==============================] - 0s 20ms/step\n"
     ]
    },
    {
     "data": {
      "application/vnd.plotly.v1+json": {
       "config": {
        "plotlyServerURL": "https://plot.ly"
       },
       "data": [
        {
         "colorscale": [
          [
           0,
           "rgb(0, 0, 0)"
          ],
          [
           0.09090909090909091,
           "rgb(16, 16, 16)"
          ],
          [
           0.18181818181818182,
           "rgb(38, 38, 38)"
          ],
          [
           0.2727272727272727,
           "rgb(59, 59, 59)"
          ],
          [
           0.36363636363636365,
           "rgb(81, 80, 80)"
          ],
          [
           0.45454545454545453,
           "rgb(102, 101, 101)"
          ],
          [
           0.5454545454545454,
           "rgb(124, 123, 122)"
          ],
          [
           0.6363636363636364,
           "rgb(146, 146, 145)"
          ],
          [
           0.7272727272727273,
           "rgb(171, 171, 170)"
          ],
          [
           0.8181818181818182,
           "rgb(197, 197, 195)"
          ],
          [
           0.9090909090909091,
           "rgb(224, 224, 223)"
          ],
          [
           1,
           "rgb(254, 254, 253)"
          ]
         ],
         "name": "Image",
         "showscale": false,
         "transpose": true,
         "type": "heatmap",
         "xaxis": "x",
         "yaxis": "y",
         "z": [
          [
           0.2196078431372549,
           0.19869281045751633,
           0.20653594771241832,
           0.22745098039215686,
           0.23921568627450981,
           0.23921568627450981,
           0.2549019607843137,
           0.27712418300653596,
           0.35555555555555557,
           0.3803921568627451,
           0.3333333333333333,
           0.34771241830065364,
           0.3450980392156863,
           0.29150326797385623,
           0.22745098039215686,
           0.1803921568627451,
           0.1934640522875817,
           0.17385620915032682,
           0.17516339869281047,
           0.1895424836601307,
           0.21045751633986928,
           0.24313725490196078,
           0.19738562091503273,
           0.19215686274509802,
           0.203921568627451,
           0.20653594771241832,
           0.1895424836601307,
           0.1699346405228758,
           0.16862745098039214,
           0.16732026143790849,
           0.17516339869281047,
           0.18300653594771243
          ],
          [
           0.21307189542483662,
           0.19607843137254902,
           0.19738562091503267,
           0.20915032679738563,
           0.203921568627451,
           0.20784313725490197,
           0.2496732026143791,
           0.2901960784313725,
           0.36339869281045756,
           0.3790849673202614,
           0.3490196078431373,
           0.38169934640522873,
           0.3908496732026143,
           0.3633986928104575,
           0.3137254901960784,
           0.2457516339869281,
           0.19607843137254902,
           0.16339869281045752,
           0.16862745098039214,
           0.20915032679738563,
           0.26666666666666666,
           0.3215686274509804,
           0.2797385620915033,
           0.269281045751634,
           0.26143790849673204,
           0.2457516339869281,
           0.2156862745098039,
           0.18562091503267975,
           0.17124183006535945,
           0.16732026143790849,
           0.17908496732026144,
           0.1934640522875817
          ],
          [
           0.2169934640522876,
           0.20522875816993466,
           0.20653594771241832,
           0.22091503267973858,
           0.20261437908496735,
           0.21045751633986928,
           0.2705882352941177,
           0.3137254901960784,
           0.3686274509803922,
           0.3594771241830066,
           0.3372549019607843,
           0.37254901960784315,
           0.4026143790849674,
           0.40915032679738567,
           0.36470588235294116,
           0.3006535947712418,
           0.21699346405228756,
           0.17516339869281047,
           0.17908496732026144,
           0.23137254901960783,
           0.3189542483660131,
           0.3986928104575163,
           0.3568627450980392,
           0.33856209150326794,
           0.3189542483660131,
           0.29150326797385623,
           0.25098039215686274,
           0.21437908496732025,
           0.1869281045751634,
           0.17777777777777778,
           0.19869281045751633,
           0.21437908496732025
          ],
          [
           0.2366013071895425,
           0.22745098039215686,
           0.23398692810457514,
           0.24705882352941178,
           0.23267973856209154,
           0.25098039215686274,
           0.3137254901960784,
           0.3542483660130719,
           0.388235294117647,
           0.36339869281045756,
           0.273202614379085,
           0.29150326797385623,
           0.3803921568627451,
           0.4444444444444445,
           0.41568627450980394,
           0.36601307189542487,
           0.27058823529411763,
           0.20653594771241832,
           0.19215686274509802,
           0.2431372549019608,
           0.3398692810457517,
           0.4366013071895425,
           0.41568627450980394,
           0.3908496732026144,
           0.36339869281045756,
           0.32679738562091504,
           0.281045751633987,
           0.2405228758169935,
           0.20522875816993466,
           0.19215686274509802,
           0.21437908496732025,
           0.23529411764705885
          ],
          [
           0.21830065359477124,
           0.23660130718954245,
           0.24052287581699341,
           0.24967320261437911,
           0.24052287581699347,
           0.2562091503267974,
           0.3372549019607843,
           0.3516339869281046,
           0.3738562091503268,
           0.33856209150326794,
           0.23137254901960783,
           0.21437908496732028,
           0.2758169934640523,
           0.37254901960784315,
           0.4339869281045752,
           0.47189542483660135,
           0.42745098039215684,
           0.342483660130719,
           0.27058823529411763,
           0.2535947712418301,
           0.27058823529411763,
           0.3032679738562092,
           0.35294117647058826,
           0.35294117647058826,
           0.36209150326797385,
           0.37516339869281046,
           0.342483660130719,
           0.27581699346405225,
           0.21437908496732025,
           0.20653594771241832,
           0.24183006535947715,
           0.25359477124183005
          ],
          [
           0.17385620915032682,
           0.2026143790849673,
           0.2130718954248366,
           0.22091503267973858,
           0.23267973856209148,
           0.24836601307189543,
           0.3241830065359477,
           0.32418300653594767,
           0.3359477124183006,
           0.30196078431372547,
           0.21830065359477124,
           0.19084967320261437,
           0.22091503267973855,
           0.28758169934640526,
           0.3633986928104575,
           0.43790849673202614,
           0.4823529411764706,
           0.4418300653594771,
           0.3986928104575164,
           0.3568627450980392,
           0.29150326797385623,
           0.2496732026143791,
           0.2784313725490196,
           0.31633986928104574,
           0.36339869281045756,
           0.40915032679738567,
           0.3856209150326797,
           0.3032679738562091,
           0.2235294117647059,
           0.20130718954248364,
           0.22745098039215686,
           0.22222222222222224
          ],
          [
           0.15555555555555556,
           0.17908496732026144,
           0.19477124183006536,
           0.20915032679738563,
           0.2235294117647059,
           0.22745098039215686,
           0.27712418300653596,
           0.27320261437908494,
           0.27581699346405225,
           0.25490196078431376,
           0.19999999999999998,
           0.18823529411764706,
           0.203921568627451,
           0.23790849673202616,
           0.3045751633986928,
           0.3934640522875817,
           0.45098039215686275,
           0.4522875816993464,
           0.45098039215686275,
           0.4339869281045752,
           0.38692810457516336,
           0.3490196078431373,
           0.3516339869281046,
           0.38823529411764707,
           0.4169934640522876,
           0.4326797385620915,
           0.38823529411764707,
           0.30196078431372547,
           0.22222222222222224,
           0.1908496732026144,
           0.1934640522875817,
           0.17908496732026144
          ],
          [
           0.14379084967320263,
           0.16732026143790849,
           0.1830065359477124,
           0.17777777777777778,
           0.18562091503267975,
           0.17777777777777778,
           0.19869281045751633,
           0.19738562091503267,
           0.19738562091503264,
           0.19477124183006533,
           0.17777777777777778,
           0.16862745098039214,
           0.1843137254901961,
           0.20653594771241832,
           0.2575163398692811,
           0.33856209150326794,
           0.3934640522875817,
           0.4235294117647059,
           0.4588235294117647,
           0.4549019607843137,
           0.4222222222222222,
           0.38431372549019605,
           0.3738562091503268,
           0.41307189542483663,
           0.4222222222222222,
           0.4143790849673203,
           0.36601307189542487,
           0.2771241830065359,
           0.2026143790849673,
           0.1843137254901961,
           0.1908496732026144,
           0.17385620915032682
          ],
          [
           0.17647058823529413,
           0.21699346405228756,
           0.21176470588235294,
           0.16601307189542483,
           0.15947712418300655,
           0.1372549019607843,
           0.1372549019607843,
           0.13594771241830064,
           0.1411764705882353,
           0.1607843137254902,
           0.1568627450980392,
           0.1477124183006536,
           0.16601307189542483,
           0.18562091503267975,
           0.20000000000000004,
           0.2366013071895425,
           0.2980392156862745,
           0.330718954248366,
           0.36078431372549025,
           0.37254901960784315,
           0.3908496732026144,
           0.396078431372549,
           0.37777777777777777,
           0.3934640522875817,
           0.3647058823529412,
           0.3333333333333333,
           0.2836601307189543,
           0.22483660130718955,
           0.19607843137254902,
           0.20392156862745095,
           0.2169934640522876,
           0.1934640522875817
          ],
          [
           0.21176470588235294,
           0.26666666666666666,
           0.24444444444444446,
           0.15947712418300655,
           0.1516339869281046,
           0.12810457516339868,
           0.12026143790849673,
           0.12679738562091505,
           0.134640522875817,
           0.17254901960784316,
           0.18823529411764706,
           0.16470588235294117,
           0.17647058823529413,
           0.19607843137254902,
           0.17254901960784316,
           0.16209150326797386,
           0.18823529411764706,
           0.22745098039215686,
           0.2549019607843137,
           0.2627450980392157,
           0.2836601307189542,
           0.3071895424836601,
           0.3241830065359477,
           0.32679738562091504,
           0.2797385620915032,
           0.24444444444444444,
           0.21045751633986928,
           0.1895424836601307,
           0.20653594771241832,
           0.2352941176470588,
           0.25490196078431376,
           0.21176470588235297
          ],
          [
           0.2431372549019608,
           0.2993464052287582,
           0.2588235294117647,
           0.16209150326797384,
           0.13594771241830067,
           0.1372549019607843,
           0.12941176470588237,
           0.13594771241830064,
           0.134640522875817,
           0.16601307189542483,
           0.257516339869281,
           0.2758169934640523,
           0.25620915032679736,
           0.2261437908496732,
           0.18562091503267975,
           0.14117647058823532,
           0.12026143790849673,
           0.1568627450980392,
           0.1803921568627451,
           0.17777777777777778,
           0.18300653594771243,
           0.19215686274509805,
           0.2235294117647059,
           0.22875816993464052,
           0.22091503267973858,
           0.2130718954248366,
           0.1843137254901961,
           0.1934640522875817,
           0.23267973856209154,
           0.26143790849673204,
           0.25882352941176473,
           0.21307189542483662
          ],
          [
           0.23267973856209148,
           0.273202614379085,
           0.2431372549019608,
           0.17385620915032682,
           0.16732026143790849,
           0.19346405228758168,
           0.1934640522875817,
           0.18039215686274512,
           0.15294117647058825,
           0.19607843137254902,
           0.330718954248366,
           0.3934640522875817,
           0.3895424836601307,
           0.33856209150326794,
           0.24836601307189546,
           0.1503267973856209,
           0.1111111111111111,
           0.12941176470588237,
           0.13986928104575164,
           0.1372549019607843,
           0.12549019607843137,
           0.1176470588235294,
           0.1437908496732026,
           0.1568627450980392,
           0.16993464052287585,
           0.1843137254901961,
           0.1712418300653595,
           0.19084967320261437,
           0.22091503267973855,
           0.24183006535947715,
           0.23137254901960783,
           0.20261437908496735
          ],
          [
           0.20915032679738563,
           0.23267973856209148,
           0.21568627450980393,
           0.19215686274509802,
           0.21176470588235297,
           0.269281045751634,
           0.28758169934640526,
           0.24313725490196078,
           0.18823529411764706,
           0.24052287581699347,
           0.388235294117647,
           0.44705882352941173,
           0.44313725490196076,
           0.4026143790849674,
           0.33464052287581697,
           0.2509803921568628,
           0.16470588235294117,
           0.1411764705882353,
           0.12810457516339868,
           0.12418300653594772,
           0.10718954248366014,
           0.08888888888888889,
           0.1084967320261438,
           0.12418300653594772,
           0.14640522875816994,
           0.1725490196078431,
           0.17647058823529416,
           0.19215686274509805,
           0.19738562091503273,
           0.20522875816993466,
           0.19738562091503267,
           0.1895424836601307
          ],
          [
           0.20653594771241832,
           0.20261437908496735,
           0.1869281045751634,
           0.19869281045751633,
           0.27320261437908494,
           0.38169934640522873,
           0.41830065359477125,
           0.3516339869281046,
           0.2745098039215686,
           0.330718954248366,
           0.4509803921568627,
           0.47843137254901963,
           0.4509803921568627,
           0.411764705882353,
           0.3790849673202614,
           0.3333333333333333,
           0.2549019607843137,
           0.19215686274509805,
           0.134640522875817,
           0.11895424836601308,
           0.11764705882352942,
           0.11241830065359477,
           0.11764705882352942,
           0.12287581699346406,
           0.134640522875817,
           0.15947712418300652,
           0.16209150326797386,
           0.17516339869281047,
           0.17908496732026144,
           0.18562091503267975,
           0.1803921568627451,
           0.17777777777777778
          ],
          [
           0.2261437908496732,
           0.20130718954248364,
           0.17254901960784316,
           0.19869281045751633,
           0.3006535947712418,
           0.42875816993464055,
           0.47712418300653586,
           0.41830065359477125,
           0.33202614379084966,
           0.3790849673202614,
           0.46535947712418296,
           0.4300653594771242,
           0.34640522875816987,
           0.3254901960784314,
           0.38431372549019605,
           0.42875816993464055,
           0.35294117647058826,
           0.28758169934640526,
           0.19999999999999998,
           0.13856209150326795,
           0.12026143790849675,
           0.11895424836601308,
           0.11895424836601308,
           0.11503267973856209,
           0.10980392156862745,
           0.12418300653594772,
           0.11764705882352942,
           0.1450980392156863,
           0.17385620915032682,
           0.18562091503267975,
           0.18562091503267975,
           0.18169934640522875
          ],
          [
           0.24836601307189543,
           0.21176470588235294,
           0.1699346405228758,
           0.20130718954248364,
           0.31764705882352945,
           0.4444444444444444,
           0.5006535947712418,
           0.4522875816993464,
           0.36993464052287583,
           0.40392156862745104,
           0.4797385620915033,
           0.4274509803921569,
           0.3202614379084967,
           0.29673202614379085,
           0.3738562091503268,
           0.44052287581699345,
           0.44052287581699345,
           0.396078431372549,
           0.29673202614379085,
           0.1869281045751634,
           0.13071895424836602,
           0.11764705882352944,
           0.11895424836601308,
           0.10980392156862745,
           0.09934640522875816,
           0.11111111111111112,
           0.11241830065359477,
           0.14248366013071895,
           0.17777777777777778,
           0.1934640522875817,
           0.19477124183006536,
           0.18823529411764706
          ],
          [
           0.3111111111111111,
           0.22352941176470587,
           0.18300653594771243,
           0.2379084967320262,
           0.36601307189542487,
           0.4705882352941176,
           0.49673202614379086,
           0.45751633986928103,
           0.4679738562091503,
           0.4836601307189543,
           0.47843137254901963,
           0.45751633986928103,
           0.42614379084967324,
           0.4143790849673203,
           0.4169934640522876,
           0.4326797385620915,
           0.45359477124183006,
           0.4562091503267974,
           0.411764705882353,
           0.322875816993464,
           0.26143790849673204,
           0.18300653594771243,
           0.14901960784313725,
           0.10849673202614378,
           0.09411764705882353,
           0.10326797385620916,
           0.12941176470588234,
           0.1568627450980392,
           0.16339869281045752,
           0.16601307189542483,
           0.1581699346405229,
           0.18169934640522878
          ],
          [
           0.3084967320261438,
           0.23267973856209148,
           0.20784313725490197,
           0.26013071895424833,
           0.4000000000000001,
           0.49150326797385624,
           0.49411764705882355,
           0.4549019607843137,
           0.4784313725490195,
           0.5124183006535947,
           0.5019607843137255,
           0.4954248366013072,
           0.48627450980392156,
           0.4823529411764706,
           0.4732026143790849,
           0.46928104575163393,
           0.46013071895424834,
           0.4797385620915033,
           0.47189542483660124,
           0.42745098039215684,
           0.40130718954248373,
           0.33202614379084966,
           0.2352941176470588,
           0.19477124183006536,
           0.16470588235294117,
           0.13594771241830067,
           0.13856209150326798,
           0.15555555555555556,
           0.14901960784313725,
           0.15032679738562094,
           0.14640522875816994,
           0.18300653594771243
          ],
          [
           0.27189542483660134,
           0.21960784313725493,
           0.20784313725490197,
           0.25359477124183005,
           0.3790849673202614,
           0.4366013071895425,
           0.4169934640522876,
           0.3830065359477124,
           0.4169934640522876,
           0.4679738562091503,
           0.48627450980392156,
           0.4797385620915033,
           0.47189542483660135,
           0.4666666666666666,
           0.4640522875816993,
           0.46274509803921565,
           0.4705882352941176,
           0.48627450980392156,
           0.4941176470588235,
           0.4797385620915033,
           0.46928104575163393,
           0.4366013071895425,
           0.3568627450980392,
           0.3189542483660131,
           0.2575163398692811,
           0.17124183006535945,
           0.12941176470588234,
           0.14117647058823532,
           0.14379084967320263,
           0.13986928104575164,
           0.14379084967320263,
           0.19215686274509802
          ],
          [
           0.2169934640522876,
           0.17385620915032682,
           0.16601307189542483,
           0.19738562091503267,
           0.2954248366013072,
           0.3176470588235294,
           0.2862745098039216,
           0.269281045751634,
           0.3058823529411765,
           0.35947712418300654,
           0.407843137254902,
           0.3908496732026143,
           0.3647058823529412,
           0.3516339869281046,
           0.3568627450980392,
           0.3686274509803922,
           0.41568627450980394,
           0.4287581699346405,
           0.4457516339869281,
           0.4653594771241831,
           0.46535947712418296,
           0.4758169934640523,
           0.45359477124183006,
           0.4366013071895425,
           0.3607843137254902,
           0.2261437908496732,
           0.14901960784313725,
           0.15947712418300655,
           0.1607843137254902,
           0.13986928104575166,
           0.1477124183006536,
           0.21045751633986928
          ],
          [
           0.1869281045751634,
           0.13856209150326798,
           0.12679738562091505,
           0.13986928104575166,
           0.19869281045751633,
           0.18823529411764706,
           0.16209150326797386,
           0.15816993464052287,
           0.18562091503267975,
           0.23398692810457514,
           0.27320261437908494,
           0.2509803921568628,
           0.21960784313725493,
           0.19477124183006536,
           0.1895424836601307,
           0.19738562091503267,
           0.24575163398692812,
           0.25490196078431376,
           0.2928104575163399,
           0.3398692810457516,
           0.35294117647058826,
           0.40653594771241836,
           0.4562091503267974,
           0.47189542483660135,
           0.40653594771241836,
           0.2601307189542484,
           0.18169934640522878,
           0.19477124183006536,
           0.1895424836601307,
           0.1516339869281046,
           0.1568627450980392,
           0.22222222222222224
          ],
          [
           0.1869281045751634,
           0.13202614379084968,
           0.11633986928104577,
           0.11764705882352942,
           0.1607843137254902,
           0.1503267973856209,
           0.13333333333333333,
           0.134640522875817,
           0.15294117647058825,
           0.19215686274509802,
           0.19738562091503267,
           0.18039215686274512,
           0.15816993464052287,
           0.13071895424836602,
           0.10718954248366012,
           0.09673202614379084,
           0.12810457516339868,
           0.12549019607843137,
           0.15163398692810456,
           0.19477124183006536,
           0.21045751633986928,
           0.27581699346405225,
           0.3738562091503268,
           0.4222222222222222,
           0.38169934640522873,
           0.25098039215686274,
           0.18562091503267975,
           0.21437908496732028,
           0.22091503267973858,
           0.1699346405228758,
           0.16601307189542483,
           0.22875816993464052
          ],
          [
           0.203921568627451,
           0.1581699346405229,
           0.14248366013071898,
           0.16732026143790849,
           0.20784313725490197,
           0.21830065359477124,
           0.23006535947712417,
           0.24052287581699341,
           0.25228758169934645,
           0.26143790849673204,
           0.23921568627450976,
           0.22091503267973855,
           0.20000000000000004,
           0.17647058823529413,
           0.15424836601307187,
           0.13986928104575164,
           0.12156862745098039,
           0.10588235294117647,
           0.09542483660130718,
           0.10588235294117647,
           0.1281045751633987,
           0.15294117647058825,
           0.22091503267973855,
           0.29934640522875816,
           0.2901960784313726,
           0.22091503267973858,
           0.19869281045751633,
           0.23921568627450976,
           0.27320261437908494,
           0.1934640522875817,
           0.16601307189542483,
           0.2235294117647059
          ],
          [
           0.20784313725490197,
           0.18823529411764706,
           0.203921568627451,
           0.24313725490196078,
           0.29934640522875816,
           0.3372549019607843,
           0.3712418300653595,
           0.396078431372549,
           0.40392156862745104,
           0.392156862745098,
           0.39346405228758163,
           0.3803921568627451,
           0.35032679738562095,
           0.3137254901960784,
           0.2836601307189543,
           0.269281045751634,
           0.22875816993464052,
           0.21437908496732025,
           0.2026143790849673,
           0.18562091503267975,
           0.17516339869281047,
           0.16470588235294117,
           0.12418300653594772,
           0.1869281045751634,
           0.21176470588235294,
           0.17385620915032682,
           0.17385620915032682,
           0.23921568627450976,
           0.2627450980392157,
           0.1843137254901961,
           0.17385620915032676,
           0.22352941176470587
          ],
          [
           0.19346405228758168,
           0.20915032679738563,
           0.265359477124183,
           0.3241830065359477,
           0.38692810457516336,
           0.411764705882353,
           0.4326797385620915,
           0.45359477124183006,
           0.4614379084967321,
           0.4588235294117647,
           0.44705882352941173,
           0.43790849673202614,
           0.4261437908496732,
           0.42091503267973857,
           0.40915032679738567,
           0.4026143790849674,
           0.35555555555555557,
           0.35294117647058826,
           0.33856209150326794,
           0.30457516339869284,
           0.27058823529411763,
           0.23137254901960783,
           0.15555555555555556,
           0.16732026143790849,
           0.17777777777777778,
           0.14248366013071898,
           0.14640522875816994,
           0.22222222222222224,
           0.2496732026143791,
           0.18300653594771243,
           0.1843137254901961,
           0.22745098039215686
          ],
          [
           0.17254901960784316,
           0.21045751633986928,
           0.2954248366013072,
           0.36601307189542487,
           0.4300653594771242,
           0.43006535947712415,
           0.3934640522875817,
           0.3764705882352941,
           0.3803921568627451,
           0.3986928104575164,
           0.40915032679738567,
           0.411764705882353,
           0.411764705882353,
           0.41307189542483663,
           0.4143790849673203,
           0.411764705882353,
           0.40392156862745104,
           0.40653594771241836,
           0.4026143790849674,
           0.38431372549019605,
           0.3581699346405229,
           0.3241830065359477,
           0.23137254901960783,
           0.19477124183006533,
           0.17254901960784316,
           0.1450980392156863,
           0.15555555555555556,
           0.2169934640522876,
           0.23529411764705885,
           0.17908496732026147,
           0.19869281045751638,
           0.2379084967320261
          ],
          [
           0.16470588235294117,
           0.2196078431372549,
           0.322875816993464,
           0.396078431372549,
           0.42091503267973857,
           0.3673202614379085,
           0.28627450980392155,
           0.2222222222222222,
           0.20915032679738563,
           0.2222222222222222,
           0.24183006535947715,
           0.2627450980392157,
           0.2928104575163399,
           0.32810457516339864,
           0.3607843137254902,
           0.3764705882352941,
           0.3673202614379085,
           0.3803921568627451,
           0.39477124183006534,
           0.4052287581699347,
           0.4104575163398693,
           0.39999999999999997,
           0.32679738562091504,
           0.24836601307189543,
           0.18039215686274512,
           0.16470588235294117,
           0.18300653594771243,
           0.22222222222222224,
           0.23137254901960783,
           0.17777777777777778,
           0.21045751633986928,
           0.24575163398692812
          ],
          [
           0.20000000000000004,
           0.2261437908496732,
           0.29411764705882354,
           0.3830065359477124,
           0.41568627450980394,
           0.3908496732026144,
           0.32026143790849676,
           0.24183006535947715,
           0.19215686274509805,
           0.1869281045751634,
           0.20000000000000004,
           0.20522875816993466,
           0.20653594771241832,
           0.20915032679738563,
           0.21437908496732028,
           0.22483660130718955,
           0.25228758169934645,
           0.2535947712418301,
           0.28496732026143795,
           0.32287581699346407,
           0.3607843137254902,
           0.40653594771241836,
           0.411764705882353,
           0.3202614379084967,
           0.2196078431372549,
           0.17908496732026147,
           0.17647058823529416,
           0.1895424836601307,
           0.19738562091503267,
           0.17908496732026147,
           0.21830065359477124,
           0.24444444444444446
          ],
          [
           0.2156862745098039,
           0.203921568627451,
           0.203921568627451,
           0.3006535947712418,
           0.3647058823529412,
           0.4104575163398693,
           0.42352941176470593,
           0.39999999999999997,
           0.35555555555555557,
           0.35947712418300654,
           0.3333333333333333,
           0.3032679738562091,
           0.269281045751634,
           0.23267973856209148,
           0.20915032679738563,
           0.20653594771241832,
           0.19738562091503267,
           0.17516339869281047,
           0.20130718954248364,
           0.24444444444444446,
           0.2954248366013072,
           0.37254901960784315,
           0.4196078431372549,
           0.3424836601307189,
           0.24836601307189543,
           0.18562091503267975,
           0.1568627450980392,
           0.1503267973856209,
           0.15816993464052287,
           0.19346405228758168,
           0.22222222222222224,
           0.24444444444444446
          ],
          [
           0.18823529411764706,
           0.17647058823529413,
           0.17385620915032682,
           0.2366013071895425,
           0.30718954248366015,
           0.3712418300653595,
           0.407843137254902,
           0.4300653594771242,
           0.4339869281045752,
           0.45751633986928103,
           0.4549019607843137,
           0.4366013071895425,
           0.41830065359477125,
           0.4013071895424836,
           0.3856209150326797,
           0.3856209150326797,
           0.36732026143790847,
           0.34379084967320267,
           0.33856209150326794,
           0.34771241830065364,
           0.36993464052287583,
           0.4026143790849674,
           0.4000000000000001,
           0.3320261437908497,
           0.25098039215686274,
           0.19084967320261437,
           0.1712418300653595,
           0.16601307189542483,
           0.18039215686274512,
           0.20784313725490197,
           0.23921568627450981,
           0.2601307189542484
          ],
          [
           0.18169934640522878,
           0.16732026143790849,
           0.15686274509803924,
           0.18300653594771243,
           0.22745098039215686,
           0.28104575163398693,
           0.3176470588235294,
           0.3607843137254902,
           0.3856209150326797,
           0.40915032679738567,
           0.4444444444444444,
           0.44836601307189544,
           0.45098039215686275,
           0.4522875816993464,
           0.4549019607843137,
           0.4549019607843137,
           0.47189542483660135,
           0.45228758169934635,
           0.4222222222222222,
           0.40392156862745104,
           0.4013071895424836,
           0.3908496732026144,
           0.326797385620915,
           0.28104575163398693,
           0.2196078431372549,
           0.17647058823529413,
           0.15947712418300655,
           0.16209150326797386,
           0.17647058823529413,
           0.20653594771241832,
           0.23529411764705885,
           0.25359477124183005
          ],
          [
           0.1699346405228758,
           0.15816993464052287,
           0.14901960784313725,
           0.14248366013071895,
           0.15294117647058825,
           0.19084967320261437,
           0.2196078431372549,
           0.2705882352941177,
           0.3045751633986928,
           0.32679738562091504,
           0.3712418300653595,
           0.38431372549019605,
           0.39999999999999997,
           0.4143790849673203,
           0.4196078431372549,
           0.42091503267973857,
           0.44052287581699345,
           0.4366013071895425,
           0.40392156862745104,
           0.3790849673202614,
           0.3673202614379085,
           0.330718954248366,
           0.23790849673202616,
           0.2130718954248366,
           0.17254901960784316,
           0.15163398692810456,
           0.14640522875816994,
           0.1503267973856209,
           0.17124183006535945,
           0.19999999999999998,
           0.2339869281045752,
           0.2522875816993464
          ]
         ]
        },
        {
         "name": "MLP prob distribution",
         "type": "bar",
         "x": [
          0,
          1,
          2,
          3,
          4,
          5,
          6,
          7,
          8,
          9
         ],
         "xaxis": "x2",
         "y": [
          0.0019070639973506331,
          0.03874429315328598,
          0.7056555151939392,
          0.07749084383249283,
          0.04752497002482414,
          0.014631366357207298,
          0.015553051605820656,
          0.06199439615011215,
          0.029529636725783348,
          0.006968908943235874
         ],
         "yaxis": "y2"
        },
        {
         "name": "CNN prob distribution",
         "type": "bar",
         "x": [
          0,
          1,
          2,
          3,
          4,
          5,
          6,
          7,
          8,
          9
         ],
         "xaxis": "x3",
         "y": [
          1.267325314807376e-21,
          1.297752163509358e-7,
          1.8852332897700158e-16,
          4.799378492862813e-20,
          0.9999998807907104,
          3.990545715648492e-19,
          4.1758317723822325e-15,
          1.0226821653905215e-18,
          2.2524602947665e-15,
          2.8404971953487144e-16
         ],
         "yaxis": "y3"
        },
        {
         "colorscale": [
          [
           0,
           "rgb(0, 0, 0)"
          ],
          [
           0.09090909090909091,
           "rgb(16, 16, 16)"
          ],
          [
           0.18181818181818182,
           "rgb(38, 38, 38)"
          ],
          [
           0.2727272727272727,
           "rgb(59, 59, 59)"
          ],
          [
           0.36363636363636365,
           "rgb(81, 80, 80)"
          ],
          [
           0.45454545454545453,
           "rgb(102, 101, 101)"
          ],
          [
           0.5454545454545454,
           "rgb(124, 123, 122)"
          ],
          [
           0.6363636363636364,
           "rgb(146, 146, 145)"
          ],
          [
           0.7272727272727273,
           "rgb(171, 171, 170)"
          ],
          [
           0.8181818181818182,
           "rgb(197, 197, 195)"
          ],
          [
           0.9090909090909091,
           "rgb(224, 224, 223)"
          ],
          [
           1,
           "rgb(254, 254, 253)"
          ]
         ],
         "name": "Image",
         "showscale": false,
         "transpose": true,
         "type": "heatmap",
         "xaxis": "x",
         "yaxis": "y",
         "z": [
          [
           0.2196078431372549,
           0.19869281045751633,
           0.20653594771241832,
           0.22745098039215686,
           0.23921568627450981,
           0.23921568627450981,
           0.2549019607843137,
           0.27712418300653596,
           0.35555555555555557,
           0.3803921568627451,
           0.3333333333333333,
           0.34771241830065364,
           0.3450980392156863,
           0.29150326797385623,
           0.22745098039215686,
           0.1803921568627451,
           0.1934640522875817,
           0.17385620915032682,
           0.17516339869281047,
           0.1895424836601307,
           0.21045751633986928,
           0.24313725490196078,
           0.19738562091503273,
           0.19215686274509802,
           0.203921568627451,
           0.20653594771241832,
           0.1895424836601307,
           0.1699346405228758,
           0.16862745098039214,
           0.16732026143790849,
           0.17516339869281047,
           0.18300653594771243
          ],
          [
           0.21307189542483662,
           0.19607843137254902,
           0.19738562091503267,
           0.20915032679738563,
           0.203921568627451,
           0.20784313725490197,
           0.2496732026143791,
           0.2901960784313725,
           0.36339869281045756,
           0.3790849673202614,
           0.3490196078431373,
           0.38169934640522873,
           0.3908496732026143,
           0.3633986928104575,
           0.3137254901960784,
           0.2457516339869281,
           0.19607843137254902,
           0.16339869281045752,
           0.16862745098039214,
           0.20915032679738563,
           0.26666666666666666,
           0.3215686274509804,
           0.2797385620915033,
           0.269281045751634,
           0.26143790849673204,
           0.2457516339869281,
           0.2156862745098039,
           0.18562091503267975,
           0.17124183006535945,
           0.16732026143790849,
           0.17908496732026144,
           0.1934640522875817
          ],
          [
           0.2169934640522876,
           0.20522875816993466,
           0.20653594771241832,
           0.22091503267973858,
           0.20261437908496735,
           0.21045751633986928,
           0.2705882352941177,
           0.3137254901960784,
           0.3686274509803922,
           0.3594771241830066,
           0.3372549019607843,
           0.37254901960784315,
           0.4026143790849674,
           0.40915032679738567,
           0.36470588235294116,
           0.3006535947712418,
           0.21699346405228756,
           0.17516339869281047,
           0.17908496732026144,
           0.23137254901960783,
           0.3189542483660131,
           0.3986928104575163,
           0.3568627450980392,
           0.33856209150326794,
           0.3189542483660131,
           0.29150326797385623,
           0.25098039215686274,
           0.21437908496732025,
           0.1869281045751634,
           0.17777777777777778,
           0.19869281045751633,
           0.21437908496732025
          ],
          [
           0.2366013071895425,
           0.22745098039215686,
           0.23398692810457514,
           0.24705882352941178,
           0.23267973856209154,
           0.25098039215686274,
           0.3137254901960784,
           0.3542483660130719,
           0.388235294117647,
           0.36339869281045756,
           0.273202614379085,
           0.29150326797385623,
           0.3803921568627451,
           0.4444444444444445,
           0.41568627450980394,
           0.36601307189542487,
           0.27058823529411763,
           0.20653594771241832,
           0.19215686274509802,
           0.2431372549019608,
           0.3398692810457517,
           0.4366013071895425,
           0.41568627450980394,
           0.3908496732026144,
           0.36339869281045756,
           0.32679738562091504,
           0.281045751633987,
           0.2405228758169935,
           0.20522875816993466,
           0.19215686274509802,
           0.21437908496732025,
           0.23529411764705885
          ],
          [
           0.21830065359477124,
           0.23660130718954245,
           0.24052287581699341,
           0.24967320261437911,
           0.24052287581699347,
           0.2562091503267974,
           0.3372549019607843,
           0.3516339869281046,
           0.3738562091503268,
           0.33856209150326794,
           0.23137254901960783,
           0.21437908496732028,
           0.2758169934640523,
           0.37254901960784315,
           0.4339869281045752,
           0.47189542483660135,
           0.42745098039215684,
           0.342483660130719,
           0.27058823529411763,
           0.2535947712418301,
           0.27058823529411763,
           0.3032679738562092,
           0.35294117647058826,
           0.35294117647058826,
           0.36209150326797385,
           0.37516339869281046,
           0.342483660130719,
           0.27581699346405225,
           0.21437908496732025,
           0.20653594771241832,
           0.24183006535947715,
           0.25359477124183005
          ],
          [
           0.17385620915032682,
           0.2026143790849673,
           0.2130718954248366,
           0.22091503267973858,
           0.23267973856209148,
           0.24836601307189543,
           0.3241830065359477,
           0.32418300653594767,
           0.3359477124183006,
           0.30196078431372547,
           0.21830065359477124,
           0.19084967320261437,
           0.22091503267973855,
           0.28758169934640526,
           0.3633986928104575,
           0.43790849673202614,
           0.4823529411764706,
           0.4418300653594771,
           0.3986928104575164,
           0.3568627450980392,
           0.29150326797385623,
           0.2496732026143791,
           0.2784313725490196,
           0.31633986928104574,
           0.36339869281045756,
           0.40915032679738567,
           0.3856209150326797,
           0.3032679738562091,
           0.2235294117647059,
           0.20130718954248364,
           0.22745098039215686,
           0.22222222222222224
          ],
          [
           0.15555555555555556,
           0.17908496732026144,
           0.19477124183006536,
           0.20915032679738563,
           0.2235294117647059,
           0.22745098039215686,
           0.27712418300653596,
           0.27320261437908494,
           0.27581699346405225,
           0.25490196078431376,
           0.19999999999999998,
           0.18823529411764706,
           0.203921568627451,
           0.23790849673202616,
           0.3045751633986928,
           0.3934640522875817,
           0.45098039215686275,
           0.4522875816993464,
           0.45098039215686275,
           0.4339869281045752,
           0.38692810457516336,
           0.3490196078431373,
           0.3516339869281046,
           0.38823529411764707,
           0.4169934640522876,
           0.4326797385620915,
           0.38823529411764707,
           0.30196078431372547,
           0.22222222222222224,
           0.1908496732026144,
           0.1934640522875817,
           0.17908496732026144
          ],
          [
           0.14379084967320263,
           0.16732026143790849,
           0.1830065359477124,
           0.17777777777777778,
           0.18562091503267975,
           0.17777777777777778,
           0.19869281045751633,
           0.19738562091503267,
           0.19738562091503264,
           0.19477124183006533,
           0.17777777777777778,
           0.16862745098039214,
           0.1843137254901961,
           0.20653594771241832,
           0.2575163398692811,
           0.33856209150326794,
           0.3934640522875817,
           0.4235294117647059,
           0.4588235294117647,
           0.4549019607843137,
           0.4222222222222222,
           0.38431372549019605,
           0.3738562091503268,
           0.41307189542483663,
           0.4222222222222222,
           0.4143790849673203,
           0.36601307189542487,
           0.2771241830065359,
           0.2026143790849673,
           0.1843137254901961,
           0.1908496732026144,
           0.17385620915032682
          ],
          [
           0.17647058823529413,
           0.21699346405228756,
           0.21176470588235294,
           0.16601307189542483,
           0.15947712418300655,
           0.1372549019607843,
           0.1372549019607843,
           0.13594771241830064,
           0.1411764705882353,
           0.1607843137254902,
           0.1568627450980392,
           0.1477124183006536,
           0.16601307189542483,
           0.18562091503267975,
           0.20000000000000004,
           0.2366013071895425,
           0.2980392156862745,
           0.330718954248366,
           0.36078431372549025,
           0.37254901960784315,
           0.3908496732026144,
           0.396078431372549,
           0.37777777777777777,
           0.3934640522875817,
           0.3647058823529412,
           0.3333333333333333,
           0.2836601307189543,
           0.22483660130718955,
           0.19607843137254902,
           0.20392156862745095,
           0.2169934640522876,
           0.1934640522875817
          ],
          [
           0.21176470588235294,
           0.26666666666666666,
           0.24444444444444446,
           0.15947712418300655,
           0.1516339869281046,
           0.12810457516339868,
           0.12026143790849673,
           0.12679738562091505,
           0.134640522875817,
           0.17254901960784316,
           0.18823529411764706,
           0.16470588235294117,
           0.17647058823529413,
           0.19607843137254902,
           0.17254901960784316,
           0.16209150326797386,
           0.18823529411764706,
           0.22745098039215686,
           0.2549019607843137,
           0.2627450980392157,
           0.2836601307189542,
           0.3071895424836601,
           0.3241830065359477,
           0.32679738562091504,
           0.2797385620915032,
           0.24444444444444444,
           0.21045751633986928,
           0.1895424836601307,
           0.20653594771241832,
           0.2352941176470588,
           0.25490196078431376,
           0.21176470588235297
          ],
          [
           0.2431372549019608,
           0.2993464052287582,
           0.2588235294117647,
           0.16209150326797384,
           0.13594771241830067,
           0.1372549019607843,
           0.12941176470588237,
           0.13594771241830064,
           0.134640522875817,
           0.16601307189542483,
           0.257516339869281,
           0.2758169934640523,
           0.25620915032679736,
           0.2261437908496732,
           0.18562091503267975,
           0.14117647058823532,
           0.12026143790849673,
           0.1568627450980392,
           0.1803921568627451,
           0.17777777777777778,
           0.18300653594771243,
           0.19215686274509805,
           0.2235294117647059,
           0.22875816993464052,
           0.22091503267973858,
           0.2130718954248366,
           0.1843137254901961,
           0.1934640522875817,
           0.23267973856209154,
           0.26143790849673204,
           0.25882352941176473,
           0.21307189542483662
          ],
          [
           0.23267973856209148,
           0.273202614379085,
           0.2431372549019608,
           0.17385620915032682,
           0.16732026143790849,
           0.19346405228758168,
           0.1934640522875817,
           0.18039215686274512,
           0.15294117647058825,
           0.19607843137254902,
           0.330718954248366,
           0.3934640522875817,
           0.3895424836601307,
           0.33856209150326794,
           0.24836601307189546,
           0.1503267973856209,
           0.1111111111111111,
           0.12941176470588237,
           0.13986928104575164,
           0.1372549019607843,
           0.12549019607843137,
           0.1176470588235294,
           0.1437908496732026,
           0.1568627450980392,
           0.16993464052287585,
           0.1843137254901961,
           0.1712418300653595,
           0.19084967320261437,
           0.22091503267973855,
           0.24183006535947715,
           0.23137254901960783,
           0.20261437908496735
          ],
          [
           0.20915032679738563,
           0.23267973856209148,
           0.21568627450980393,
           0.19215686274509802,
           0.21176470588235297,
           0.269281045751634,
           0.28758169934640526,
           0.24313725490196078,
           0.18823529411764706,
           0.24052287581699347,
           0.388235294117647,
           0.44705882352941173,
           0.44313725490196076,
           0.4026143790849674,
           0.33464052287581697,
           0.2509803921568628,
           0.16470588235294117,
           0.1411764705882353,
           0.12810457516339868,
           0.12418300653594772,
           0.10718954248366014,
           0.08888888888888889,
           0.1084967320261438,
           0.12418300653594772,
           0.14640522875816994,
           0.1725490196078431,
           0.17647058823529416,
           0.19215686274509805,
           0.19738562091503273,
           0.20522875816993466,
           0.19738562091503267,
           0.1895424836601307
          ],
          [
           0.20653594771241832,
           0.20261437908496735,
           0.1869281045751634,
           0.19869281045751633,
           0.27320261437908494,
           0.38169934640522873,
           0.41830065359477125,
           0.3516339869281046,
           0.2745098039215686,
           0.330718954248366,
           0.4509803921568627,
           0.47843137254901963,
           0.4509803921568627,
           0.411764705882353,
           0.3790849673202614,
           0.3333333333333333,
           0.2549019607843137,
           0.19215686274509805,
           0.134640522875817,
           0.11895424836601308,
           0.11764705882352942,
           0.11241830065359477,
           0.11764705882352942,
           0.12287581699346406,
           0.134640522875817,
           0.15947712418300652,
           0.16209150326797386,
           0.17516339869281047,
           0.17908496732026144,
           0.18562091503267975,
           0.1803921568627451,
           0.17777777777777778
          ],
          [
           0.2261437908496732,
           0.20130718954248364,
           0.17254901960784316,
           0.19869281045751633,
           0.3006535947712418,
           0.42875816993464055,
           0.47712418300653586,
           0.41830065359477125,
           0.33202614379084966,
           0.3790849673202614,
           0.46535947712418296,
           0.4300653594771242,
           0.34640522875816987,
           0.3254901960784314,
           0.38431372549019605,
           0.42875816993464055,
           0.35294117647058826,
           0.28758169934640526,
           0.19999999999999998,
           0.13856209150326795,
           0.12026143790849675,
           0.11895424836601308,
           0.11895424836601308,
           0.11503267973856209,
           0.10980392156862745,
           0.12418300653594772,
           0.11764705882352942,
           0.1450980392156863,
           0.17385620915032682,
           0.18562091503267975,
           0.18562091503267975,
           0.18169934640522875
          ],
          [
           0.24836601307189543,
           0.21176470588235294,
           0.1699346405228758,
           0.20130718954248364,
           0.31764705882352945,
           0.4444444444444444,
           0.5006535947712418,
           0.4522875816993464,
           0.36993464052287583,
           0.40392156862745104,
           0.4797385620915033,
           0.4274509803921569,
           0.3202614379084967,
           0.29673202614379085,
           0.3738562091503268,
           0.44052287581699345,
           0.44052287581699345,
           0.396078431372549,
           0.29673202614379085,
           0.1869281045751634,
           0.13071895424836602,
           0.11764705882352944,
           0.11895424836601308,
           0.10980392156862745,
           0.09934640522875816,
           0.11111111111111112,
           0.11241830065359477,
           0.14248366013071895,
           0.17777777777777778,
           0.1934640522875817,
           0.19477124183006536,
           0.18823529411764706
          ],
          [
           0.3111111111111111,
           0.22352941176470587,
           0.18300653594771243,
           0.2379084967320262,
           0.36601307189542487,
           0.4705882352941176,
           0.49673202614379086,
           0.45751633986928103,
           0.4679738562091503,
           0.4836601307189543,
           0.47843137254901963,
           0.45751633986928103,
           0.42614379084967324,
           0.4143790849673203,
           0.4169934640522876,
           0.4326797385620915,
           0.45359477124183006,
           0.4562091503267974,
           0.411764705882353,
           0.322875816993464,
           0.26143790849673204,
           0.18300653594771243,
           0.14901960784313725,
           0.10849673202614378,
           0.09411764705882353,
           0.10326797385620916,
           0.12941176470588234,
           0.1568627450980392,
           0.16339869281045752,
           0.16601307189542483,
           0.1581699346405229,
           0.18169934640522878
          ],
          [
           0.3084967320261438,
           0.23267973856209148,
           0.20784313725490197,
           0.26013071895424833,
           0.4000000000000001,
           0.49150326797385624,
           0.49411764705882355,
           0.4549019607843137,
           0.4784313725490195,
           0.5124183006535947,
           0.5019607843137255,
           0.4954248366013072,
           0.48627450980392156,
           0.4823529411764706,
           0.4732026143790849,
           0.46928104575163393,
           0.46013071895424834,
           0.4797385620915033,
           0.47189542483660124,
           0.42745098039215684,
           0.40130718954248373,
           0.33202614379084966,
           0.2352941176470588,
           0.19477124183006536,
           0.16470588235294117,
           0.13594771241830067,
           0.13856209150326798,
           0.15555555555555556,
           0.14901960784313725,
           0.15032679738562094,
           0.14640522875816994,
           0.18300653594771243
          ],
          [
           0.27189542483660134,
           0.21960784313725493,
           0.20784313725490197,
           0.25359477124183005,
           0.3790849673202614,
           0.4366013071895425,
           0.4169934640522876,
           0.3830065359477124,
           0.4169934640522876,
           0.4679738562091503,
           0.48627450980392156,
           0.4797385620915033,
           0.47189542483660135,
           0.4666666666666666,
           0.4640522875816993,
           0.46274509803921565,
           0.4705882352941176,
           0.48627450980392156,
           0.4941176470588235,
           0.4797385620915033,
           0.46928104575163393,
           0.4366013071895425,
           0.3568627450980392,
           0.3189542483660131,
           0.2575163398692811,
           0.17124183006535945,
           0.12941176470588234,
           0.14117647058823532,
           0.14379084967320263,
           0.13986928104575164,
           0.14379084967320263,
           0.19215686274509802
          ],
          [
           0.2169934640522876,
           0.17385620915032682,
           0.16601307189542483,
           0.19738562091503267,
           0.2954248366013072,
           0.3176470588235294,
           0.2862745098039216,
           0.269281045751634,
           0.3058823529411765,
           0.35947712418300654,
           0.407843137254902,
           0.3908496732026143,
           0.3647058823529412,
           0.3516339869281046,
           0.3568627450980392,
           0.3686274509803922,
           0.41568627450980394,
           0.4287581699346405,
           0.4457516339869281,
           0.4653594771241831,
           0.46535947712418296,
           0.4758169934640523,
           0.45359477124183006,
           0.4366013071895425,
           0.3607843137254902,
           0.2261437908496732,
           0.14901960784313725,
           0.15947712418300655,
           0.1607843137254902,
           0.13986928104575166,
           0.1477124183006536,
           0.21045751633986928
          ],
          [
           0.1869281045751634,
           0.13856209150326798,
           0.12679738562091505,
           0.13986928104575166,
           0.19869281045751633,
           0.18823529411764706,
           0.16209150326797386,
           0.15816993464052287,
           0.18562091503267975,
           0.23398692810457514,
           0.27320261437908494,
           0.2509803921568628,
           0.21960784313725493,
           0.19477124183006536,
           0.1895424836601307,
           0.19738562091503267,
           0.24575163398692812,
           0.25490196078431376,
           0.2928104575163399,
           0.3398692810457516,
           0.35294117647058826,
           0.40653594771241836,
           0.4562091503267974,
           0.47189542483660135,
           0.40653594771241836,
           0.2601307189542484,
           0.18169934640522878,
           0.19477124183006536,
           0.1895424836601307,
           0.1516339869281046,
           0.1568627450980392,
           0.22222222222222224
          ],
          [
           0.1869281045751634,
           0.13202614379084968,
           0.11633986928104577,
           0.11764705882352942,
           0.1607843137254902,
           0.1503267973856209,
           0.13333333333333333,
           0.134640522875817,
           0.15294117647058825,
           0.19215686274509802,
           0.19738562091503267,
           0.18039215686274512,
           0.15816993464052287,
           0.13071895424836602,
           0.10718954248366012,
           0.09673202614379084,
           0.12810457516339868,
           0.12549019607843137,
           0.15163398692810456,
           0.19477124183006536,
           0.21045751633986928,
           0.27581699346405225,
           0.3738562091503268,
           0.4222222222222222,
           0.38169934640522873,
           0.25098039215686274,
           0.18562091503267975,
           0.21437908496732028,
           0.22091503267973858,
           0.1699346405228758,
           0.16601307189542483,
           0.22875816993464052
          ],
          [
           0.203921568627451,
           0.1581699346405229,
           0.14248366013071898,
           0.16732026143790849,
           0.20784313725490197,
           0.21830065359477124,
           0.23006535947712417,
           0.24052287581699341,
           0.25228758169934645,
           0.26143790849673204,
           0.23921568627450976,
           0.22091503267973855,
           0.20000000000000004,
           0.17647058823529413,
           0.15424836601307187,
           0.13986928104575164,
           0.12156862745098039,
           0.10588235294117647,
           0.09542483660130718,
           0.10588235294117647,
           0.1281045751633987,
           0.15294117647058825,
           0.22091503267973855,
           0.29934640522875816,
           0.2901960784313726,
           0.22091503267973858,
           0.19869281045751633,
           0.23921568627450976,
           0.27320261437908494,
           0.1934640522875817,
           0.16601307189542483,
           0.2235294117647059
          ],
          [
           0.20784313725490197,
           0.18823529411764706,
           0.203921568627451,
           0.24313725490196078,
           0.29934640522875816,
           0.3372549019607843,
           0.3712418300653595,
           0.396078431372549,
           0.40392156862745104,
           0.392156862745098,
           0.39346405228758163,
           0.3803921568627451,
           0.35032679738562095,
           0.3137254901960784,
           0.2836601307189543,
           0.269281045751634,
           0.22875816993464052,
           0.21437908496732025,
           0.2026143790849673,
           0.18562091503267975,
           0.17516339869281047,
           0.16470588235294117,
           0.12418300653594772,
           0.1869281045751634,
           0.21176470588235294,
           0.17385620915032682,
           0.17385620915032682,
           0.23921568627450976,
           0.2627450980392157,
           0.1843137254901961,
           0.17385620915032676,
           0.22352941176470587
          ],
          [
           0.19346405228758168,
           0.20915032679738563,
           0.265359477124183,
           0.3241830065359477,
           0.38692810457516336,
           0.411764705882353,
           0.4326797385620915,
           0.45359477124183006,
           0.4614379084967321,
           0.4588235294117647,
           0.44705882352941173,
           0.43790849673202614,
           0.4261437908496732,
           0.42091503267973857,
           0.40915032679738567,
           0.4026143790849674,
           0.35555555555555557,
           0.35294117647058826,
           0.33856209150326794,
           0.30457516339869284,
           0.27058823529411763,
           0.23137254901960783,
           0.15555555555555556,
           0.16732026143790849,
           0.17777777777777778,
           0.14248366013071898,
           0.14640522875816994,
           0.22222222222222224,
           0.2496732026143791,
           0.18300653594771243,
           0.1843137254901961,
           0.22745098039215686
          ],
          [
           0.17254901960784316,
           0.21045751633986928,
           0.2954248366013072,
           0.36601307189542487,
           0.4300653594771242,
           0.43006535947712415,
           0.3934640522875817,
           0.3764705882352941,
           0.3803921568627451,
           0.3986928104575164,
           0.40915032679738567,
           0.411764705882353,
           0.411764705882353,
           0.41307189542483663,
           0.4143790849673203,
           0.411764705882353,
           0.40392156862745104,
           0.40653594771241836,
           0.4026143790849674,
           0.38431372549019605,
           0.3581699346405229,
           0.3241830065359477,
           0.23137254901960783,
           0.19477124183006533,
           0.17254901960784316,
           0.1450980392156863,
           0.15555555555555556,
           0.2169934640522876,
           0.23529411764705885,
           0.17908496732026147,
           0.19869281045751638,
           0.2379084967320261
          ],
          [
           0.16470588235294117,
           0.2196078431372549,
           0.322875816993464,
           0.396078431372549,
           0.42091503267973857,
           0.3673202614379085,
           0.28627450980392155,
           0.2222222222222222,
           0.20915032679738563,
           0.2222222222222222,
           0.24183006535947715,
           0.2627450980392157,
           0.2928104575163399,
           0.32810457516339864,
           0.3607843137254902,
           0.3764705882352941,
           0.3673202614379085,
           0.3803921568627451,
           0.39477124183006534,
           0.4052287581699347,
           0.4104575163398693,
           0.39999999999999997,
           0.32679738562091504,
           0.24836601307189543,
           0.18039215686274512,
           0.16470588235294117,
           0.18300653594771243,
           0.22222222222222224,
           0.23137254901960783,
           0.17777777777777778,
           0.21045751633986928,
           0.24575163398692812
          ],
          [
           0.20000000000000004,
           0.2261437908496732,
           0.29411764705882354,
           0.3830065359477124,
           0.41568627450980394,
           0.3908496732026144,
           0.32026143790849676,
           0.24183006535947715,
           0.19215686274509805,
           0.1869281045751634,
           0.20000000000000004,
           0.20522875816993466,
           0.20653594771241832,
           0.20915032679738563,
           0.21437908496732028,
           0.22483660130718955,
           0.25228758169934645,
           0.2535947712418301,
           0.28496732026143795,
           0.32287581699346407,
           0.3607843137254902,
           0.40653594771241836,
           0.411764705882353,
           0.3202614379084967,
           0.2196078431372549,
           0.17908496732026147,
           0.17647058823529416,
           0.1895424836601307,
           0.19738562091503267,
           0.17908496732026147,
           0.21830065359477124,
           0.24444444444444446
          ],
          [
           0.2156862745098039,
           0.203921568627451,
           0.203921568627451,
           0.3006535947712418,
           0.3647058823529412,
           0.4104575163398693,
           0.42352941176470593,
           0.39999999999999997,
           0.35555555555555557,
           0.35947712418300654,
           0.3333333333333333,
           0.3032679738562091,
           0.269281045751634,
           0.23267973856209148,
           0.20915032679738563,
           0.20653594771241832,
           0.19738562091503267,
           0.17516339869281047,
           0.20130718954248364,
           0.24444444444444446,
           0.2954248366013072,
           0.37254901960784315,
           0.4196078431372549,
           0.3424836601307189,
           0.24836601307189543,
           0.18562091503267975,
           0.1568627450980392,
           0.1503267973856209,
           0.15816993464052287,
           0.19346405228758168,
           0.22222222222222224,
           0.24444444444444446
          ],
          [
           0.18823529411764706,
           0.17647058823529413,
           0.17385620915032682,
           0.2366013071895425,
           0.30718954248366015,
           0.3712418300653595,
           0.407843137254902,
           0.4300653594771242,
           0.4339869281045752,
           0.45751633986928103,
           0.4549019607843137,
           0.4366013071895425,
           0.41830065359477125,
           0.4013071895424836,
           0.3856209150326797,
           0.3856209150326797,
           0.36732026143790847,
           0.34379084967320267,
           0.33856209150326794,
           0.34771241830065364,
           0.36993464052287583,
           0.4026143790849674,
           0.4000000000000001,
           0.3320261437908497,
           0.25098039215686274,
           0.19084967320261437,
           0.1712418300653595,
           0.16601307189542483,
           0.18039215686274512,
           0.20784313725490197,
           0.23921568627450981,
           0.2601307189542484
          ],
          [
           0.18169934640522878,
           0.16732026143790849,
           0.15686274509803924,
           0.18300653594771243,
           0.22745098039215686,
           0.28104575163398693,
           0.3176470588235294,
           0.3607843137254902,
           0.3856209150326797,
           0.40915032679738567,
           0.4444444444444444,
           0.44836601307189544,
           0.45098039215686275,
           0.4522875816993464,
           0.4549019607843137,
           0.4549019607843137,
           0.47189542483660135,
           0.45228758169934635,
           0.4222222222222222,
           0.40392156862745104,
           0.4013071895424836,
           0.3908496732026144,
           0.326797385620915,
           0.28104575163398693,
           0.2196078431372549,
           0.17647058823529413,
           0.15947712418300655,
           0.16209150326797386,
           0.17647058823529413,
           0.20653594771241832,
           0.23529411764705885,
           0.25359477124183005
          ],
          [
           0.1699346405228758,
           0.15816993464052287,
           0.14901960784313725,
           0.14248366013071895,
           0.15294117647058825,
           0.19084967320261437,
           0.2196078431372549,
           0.2705882352941177,
           0.3045751633986928,
           0.32679738562091504,
           0.3712418300653595,
           0.38431372549019605,
           0.39999999999999997,
           0.4143790849673203,
           0.4196078431372549,
           0.42091503267973857,
           0.44052287581699345,
           0.4366013071895425,
           0.40392156862745104,
           0.3790849673202614,
           0.3673202614379085,
           0.330718954248366,
           0.23790849673202616,
           0.2130718954248366,
           0.17254901960784316,
           0.15163398692810456,
           0.14640522875816994,
           0.1503267973856209,
           0.17124183006535945,
           0.19999999999999998,
           0.2339869281045752,
           0.2522875816993464
          ]
         ]
        }
       ],
       "layout": {
        "template": {
         "data": {
          "bar": [
           {
            "error_x": {
             "color": "#f2f5fa"
            },
            "error_y": {
             "color": "#f2f5fa"
            },
            "marker": {
             "line": {
              "color": "rgb(17,17,17)",
              "width": 0.5
             },
             "pattern": {
              "fillmode": "overlay",
              "size": 10,
              "solidity": 0.2
             }
            },
            "type": "bar"
           }
          ],
          "barpolar": [
           {
            "marker": {
             "line": {
              "color": "rgb(17,17,17)",
              "width": 0.5
             },
             "pattern": {
              "fillmode": "overlay",
              "size": 10,
              "solidity": 0.2
             }
            },
            "type": "barpolar"
           }
          ],
          "carpet": [
           {
            "aaxis": {
             "endlinecolor": "#A2B1C6",
             "gridcolor": "#506784",
             "linecolor": "#506784",
             "minorgridcolor": "#506784",
             "startlinecolor": "#A2B1C6"
            },
            "baxis": {
             "endlinecolor": "#A2B1C6",
             "gridcolor": "#506784",
             "linecolor": "#506784",
             "minorgridcolor": "#506784",
             "startlinecolor": "#A2B1C6"
            },
            "type": "carpet"
           }
          ],
          "choropleth": [
           {
            "colorbar": {
             "outlinewidth": 0,
             "ticks": ""
            },
            "type": "choropleth"
           }
          ],
          "contour": [
           {
            "colorbar": {
             "outlinewidth": 0,
             "ticks": ""
            },
            "colorscale": [
             [
              0,
              "#0d0887"
             ],
             [
              0.1111111111111111,
              "#46039f"
             ],
             [
              0.2222222222222222,
              "#7201a8"
             ],
             [
              0.3333333333333333,
              "#9c179e"
             ],
             [
              0.4444444444444444,
              "#bd3786"
             ],
             [
              0.5555555555555556,
              "#d8576b"
             ],
             [
              0.6666666666666666,
              "#ed7953"
             ],
             [
              0.7777777777777778,
              "#fb9f3a"
             ],
             [
              0.8888888888888888,
              "#fdca26"
             ],
             [
              1,
              "#f0f921"
             ]
            ],
            "type": "contour"
           }
          ],
          "contourcarpet": [
           {
            "colorbar": {
             "outlinewidth": 0,
             "ticks": ""
            },
            "type": "contourcarpet"
           }
          ],
          "heatmap": [
           {
            "colorbar": {
             "outlinewidth": 0,
             "ticks": ""
            },
            "colorscale": [
             [
              0,
              "#0d0887"
             ],
             [
              0.1111111111111111,
              "#46039f"
             ],
             [
              0.2222222222222222,
              "#7201a8"
             ],
             [
              0.3333333333333333,
              "#9c179e"
             ],
             [
              0.4444444444444444,
              "#bd3786"
             ],
             [
              0.5555555555555556,
              "#d8576b"
             ],
             [
              0.6666666666666666,
              "#ed7953"
             ],
             [
              0.7777777777777778,
              "#fb9f3a"
             ],
             [
              0.8888888888888888,
              "#fdca26"
             ],
             [
              1,
              "#f0f921"
             ]
            ],
            "type": "heatmap"
           }
          ],
          "heatmapgl": [
           {
            "colorbar": {
             "outlinewidth": 0,
             "ticks": ""
            },
            "colorscale": [
             [
              0,
              "#0d0887"
             ],
             [
              0.1111111111111111,
              "#46039f"
             ],
             [
              0.2222222222222222,
              "#7201a8"
             ],
             [
              0.3333333333333333,
              "#9c179e"
             ],
             [
              0.4444444444444444,
              "#bd3786"
             ],
             [
              0.5555555555555556,
              "#d8576b"
             ],
             [
              0.6666666666666666,
              "#ed7953"
             ],
             [
              0.7777777777777778,
              "#fb9f3a"
             ],
             [
              0.8888888888888888,
              "#fdca26"
             ],
             [
              1,
              "#f0f921"
             ]
            ],
            "type": "heatmapgl"
           }
          ],
          "histogram": [
           {
            "marker": {
             "pattern": {
              "fillmode": "overlay",
              "size": 10,
              "solidity": 0.2
             }
            },
            "type": "histogram"
           }
          ],
          "histogram2d": [
           {
            "colorbar": {
             "outlinewidth": 0,
             "ticks": ""
            },
            "colorscale": [
             [
              0,
              "#0d0887"
             ],
             [
              0.1111111111111111,
              "#46039f"
             ],
             [
              0.2222222222222222,
              "#7201a8"
             ],
             [
              0.3333333333333333,
              "#9c179e"
             ],
             [
              0.4444444444444444,
              "#bd3786"
             ],
             [
              0.5555555555555556,
              "#d8576b"
             ],
             [
              0.6666666666666666,
              "#ed7953"
             ],
             [
              0.7777777777777778,
              "#fb9f3a"
             ],
             [
              0.8888888888888888,
              "#fdca26"
             ],
             [
              1,
              "#f0f921"
             ]
            ],
            "type": "histogram2d"
           }
          ],
          "histogram2dcontour": [
           {
            "colorbar": {
             "outlinewidth": 0,
             "ticks": ""
            },
            "colorscale": [
             [
              0,
              "#0d0887"
             ],
             [
              0.1111111111111111,
              "#46039f"
             ],
             [
              0.2222222222222222,
              "#7201a8"
             ],
             [
              0.3333333333333333,
              "#9c179e"
             ],
             [
              0.4444444444444444,
              "#bd3786"
             ],
             [
              0.5555555555555556,
              "#d8576b"
             ],
             [
              0.6666666666666666,
              "#ed7953"
             ],
             [
              0.7777777777777778,
              "#fb9f3a"
             ],
             [
              0.8888888888888888,
              "#fdca26"
             ],
             [
              1,
              "#f0f921"
             ]
            ],
            "type": "histogram2dcontour"
           }
          ],
          "mesh3d": [
           {
            "colorbar": {
             "outlinewidth": 0,
             "ticks": ""
            },
            "type": "mesh3d"
           }
          ],
          "parcoords": [
           {
            "line": {
             "colorbar": {
              "outlinewidth": 0,
              "ticks": ""
             }
            },
            "type": "parcoords"
           }
          ],
          "pie": [
           {
            "automargin": true,
            "type": "pie"
           }
          ],
          "scatter": [
           {
            "marker": {
             "line": {
              "color": "#283442"
             }
            },
            "type": "scatter"
           }
          ],
          "scatter3d": [
           {
            "line": {
             "colorbar": {
              "outlinewidth": 0,
              "ticks": ""
             }
            },
            "marker": {
             "colorbar": {
              "outlinewidth": 0,
              "ticks": ""
             }
            },
            "type": "scatter3d"
           }
          ],
          "scattercarpet": [
           {
            "marker": {
             "colorbar": {
              "outlinewidth": 0,
              "ticks": ""
             }
            },
            "type": "scattercarpet"
           }
          ],
          "scattergeo": [
           {
            "marker": {
             "colorbar": {
              "outlinewidth": 0,
              "ticks": ""
             }
            },
            "type": "scattergeo"
           }
          ],
          "scattergl": [
           {
            "marker": {
             "line": {
              "color": "#283442"
             }
            },
            "type": "scattergl"
           }
          ],
          "scattermapbox": [
           {
            "marker": {
             "colorbar": {
              "outlinewidth": 0,
              "ticks": ""
             }
            },
            "type": "scattermapbox"
           }
          ],
          "scatterpolar": [
           {
            "marker": {
             "colorbar": {
              "outlinewidth": 0,
              "ticks": ""
             }
            },
            "type": "scatterpolar"
           }
          ],
          "scatterpolargl": [
           {
            "marker": {
             "colorbar": {
              "outlinewidth": 0,
              "ticks": ""
             }
            },
            "type": "scatterpolargl"
           }
          ],
          "scatterternary": [
           {
            "marker": {
             "colorbar": {
              "outlinewidth": 0,
              "ticks": ""
             }
            },
            "type": "scatterternary"
           }
          ],
          "surface": [
           {
            "colorbar": {
             "outlinewidth": 0,
             "ticks": ""
            },
            "colorscale": [
             [
              0,
              "#0d0887"
             ],
             [
              0.1111111111111111,
              "#46039f"
             ],
             [
              0.2222222222222222,
              "#7201a8"
             ],
             [
              0.3333333333333333,
              "#9c179e"
             ],
             [
              0.4444444444444444,
              "#bd3786"
             ],
             [
              0.5555555555555556,
              "#d8576b"
             ],
             [
              0.6666666666666666,
              "#ed7953"
             ],
             [
              0.7777777777777778,
              "#fb9f3a"
             ],
             [
              0.8888888888888888,
              "#fdca26"
             ],
             [
              1,
              "#f0f921"
             ]
            ],
            "type": "surface"
           }
          ],
          "table": [
           {
            "cells": {
             "fill": {
              "color": "#506784"
             },
             "line": {
              "color": "rgb(17,17,17)"
             }
            },
            "header": {
             "fill": {
              "color": "#2a3f5f"
             },
             "line": {
              "color": "rgb(17,17,17)"
             }
            },
            "type": "table"
           }
          ]
         },
         "layout": {
          "annotationdefaults": {
           "arrowcolor": "#f2f5fa",
           "arrowhead": 0,
           "arrowwidth": 1
          },
          "autotypenumbers": "strict",
          "coloraxis": {
           "colorbar": {
            "outlinewidth": 0,
            "ticks": ""
           }
          },
          "colorscale": {
           "diverging": [
            [
             0,
             "#8e0152"
            ],
            [
             0.1,
             "#c51b7d"
            ],
            [
             0.2,
             "#de77ae"
            ],
            [
             0.3,
             "#f1b6da"
            ],
            [
             0.4,
             "#fde0ef"
            ],
            [
             0.5,
             "#f7f7f7"
            ],
            [
             0.6,
             "#e6f5d0"
            ],
            [
             0.7,
             "#b8e186"
            ],
            [
             0.8,
             "#7fbc41"
            ],
            [
             0.9,
             "#4d9221"
            ],
            [
             1,
             "#276419"
            ]
           ],
           "sequential": [
            [
             0,
             "#0d0887"
            ],
            [
             0.1111111111111111,
             "#46039f"
            ],
            [
             0.2222222222222222,
             "#7201a8"
            ],
            [
             0.3333333333333333,
             "#9c179e"
            ],
            [
             0.4444444444444444,
             "#bd3786"
            ],
            [
             0.5555555555555556,
             "#d8576b"
            ],
            [
             0.6666666666666666,
             "#ed7953"
            ],
            [
             0.7777777777777778,
             "#fb9f3a"
            ],
            [
             0.8888888888888888,
             "#fdca26"
            ],
            [
             1,
             "#f0f921"
            ]
           ],
           "sequentialminus": [
            [
             0,
             "#0d0887"
            ],
            [
             0.1111111111111111,
             "#46039f"
            ],
            [
             0.2222222222222222,
             "#7201a8"
            ],
            [
             0.3333333333333333,
             "#9c179e"
            ],
            [
             0.4444444444444444,
             "#bd3786"
            ],
            [
             0.5555555555555556,
             "#d8576b"
            ],
            [
             0.6666666666666666,
             "#ed7953"
            ],
            [
             0.7777777777777778,
             "#fb9f3a"
            ],
            [
             0.8888888888888888,
             "#fdca26"
            ],
            [
             1,
             "#f0f921"
            ]
           ]
          },
          "colorway": [
           "#636efa",
           "#EF553B",
           "#00cc96",
           "#ab63fa",
           "#FFA15A",
           "#19d3f3",
           "#FF6692",
           "#B6E880",
           "#FF97FF",
           "#FECB52"
          ],
          "font": {
           "color": "#f2f5fa"
          },
          "geo": {
           "bgcolor": "rgb(17,17,17)",
           "lakecolor": "rgb(17,17,17)",
           "landcolor": "rgb(17,17,17)",
           "showlakes": true,
           "showland": true,
           "subunitcolor": "#506784"
          },
          "hoverlabel": {
           "align": "left"
          },
          "hovermode": "closest",
          "mapbox": {
           "style": "dark"
          },
          "paper_bgcolor": "rgb(17,17,17)",
          "plot_bgcolor": "rgb(17,17,17)",
          "polar": {
           "angularaxis": {
            "gridcolor": "#506784",
            "linecolor": "#506784",
            "ticks": ""
           },
           "bgcolor": "rgb(17,17,17)",
           "radialaxis": {
            "gridcolor": "#506784",
            "linecolor": "#506784",
            "ticks": ""
           }
          },
          "scene": {
           "xaxis": {
            "backgroundcolor": "rgb(17,17,17)",
            "gridcolor": "#506784",
            "gridwidth": 2,
            "linecolor": "#506784",
            "showbackground": true,
            "ticks": "",
            "zerolinecolor": "#C8D4E3"
           },
           "yaxis": {
            "backgroundcolor": "rgb(17,17,17)",
            "gridcolor": "#506784",
            "gridwidth": 2,
            "linecolor": "#506784",
            "showbackground": true,
            "ticks": "",
            "zerolinecolor": "#C8D4E3"
           },
           "zaxis": {
            "backgroundcolor": "rgb(17,17,17)",
            "gridcolor": "#506784",
            "gridwidth": 2,
            "linecolor": "#506784",
            "showbackground": true,
            "ticks": "",
            "zerolinecolor": "#C8D4E3"
           }
          },
          "shapedefaults": {
           "line": {
            "color": "#f2f5fa"
           }
          },
          "sliderdefaults": {
           "bgcolor": "#C8D4E3",
           "bordercolor": "rgb(17,17,17)",
           "borderwidth": 1,
           "tickwidth": 0
          },
          "ternary": {
           "aaxis": {
            "gridcolor": "#506784",
            "linecolor": "#506784",
            "ticks": ""
           },
           "baxis": {
            "gridcolor": "#506784",
            "linecolor": "#506784",
            "ticks": ""
           },
           "bgcolor": "rgb(17,17,17)",
           "caxis": {
            "gridcolor": "#506784",
            "linecolor": "#506784",
            "ticks": ""
           }
          },
          "title": {
           "x": 0.05
          },
          "updatemenudefaults": {
           "bgcolor": "#506784",
           "borderwidth": 0
          },
          "xaxis": {
           "automargin": true,
           "gridcolor": "#283442",
           "linecolor": "#506784",
           "ticks": "",
           "title": {
            "standoff": 15
           },
           "zerolinecolor": "#283442",
           "zerolinewidth": 2
          },
          "yaxis": {
           "automargin": true,
           "gridcolor": "#283442",
           "linecolor": "#506784",
           "ticks": "",
           "title": {
            "standoff": 15
           },
           "zerolinecolor": "#283442",
           "zerolinewidth": 2
          }
         }
        },
        "title": {
         "text": "MLP vs CNN Prediction distribution",
         "x": 0.25
        },
        "xaxis": {
         "anchor": "y",
         "domain": [
          0,
          0.27
         ],
         "title": {
          "text": "MLP Predicts [2] -- CNN Predicts [4] "
         }
        },
        "xaxis2": {
         "anchor": "y2",
         "domain": [
          0.37,
          1
         ],
         "dtick": 1
        },
        "xaxis3": {
         "anchor": "y3",
         "domain": [
          0.37,
          1
         ],
         "dtick": 1
        },
        "yaxis": {
         "anchor": "x",
         "domain": [
          0,
          1
         ]
        },
        "yaxis2": {
         "anchor": "x2",
         "domain": [
          0.575,
          1
         ],
         "title": {
          "text": "Prob MLP"
         }
        },
        "yaxis3": {
         "anchor": "x3",
         "domain": [
          0,
          0.425
         ],
         "title": {
          "text": "Prob CMM"
         }
        }
       }
      }
     },
     "metadata": {},
     "output_type": "display_data"
    }
   ],
   "source": [
    "plot_pred_dist()"
   ]
  },
  {
   "cell_type": "code",
   "execution_count": 32,
   "metadata": {},
   "outputs": [
    {
     "name": "stdout",
     "output_type": "stream",
     "text": [
      "1/1 [==============================] - 0s 20ms/step\n",
      "1/1 [==============================] - 0s 20ms/step\n"
     ]
    },
    {
     "data": {
      "application/vnd.plotly.v1+json": {
       "config": {
        "plotlyServerURL": "https://plot.ly"
       },
       "data": [
        {
         "colorscale": [
          [
           0,
           "rgb(0, 0, 0)"
          ],
          [
           0.09090909090909091,
           "rgb(16, 16, 16)"
          ],
          [
           0.18181818181818182,
           "rgb(38, 38, 38)"
          ],
          [
           0.2727272727272727,
           "rgb(59, 59, 59)"
          ],
          [
           0.36363636363636365,
           "rgb(81, 80, 80)"
          ],
          [
           0.45454545454545453,
           "rgb(102, 101, 101)"
          ],
          [
           0.5454545454545454,
           "rgb(124, 123, 122)"
          ],
          [
           0.6363636363636364,
           "rgb(146, 146, 145)"
          ],
          [
           0.7272727272727273,
           "rgb(171, 171, 170)"
          ],
          [
           0.8181818181818182,
           "rgb(197, 197, 195)"
          ],
          [
           0.9090909090909091,
           "rgb(224, 224, 223)"
          ],
          [
           1,
           "rgb(254, 254, 253)"
          ]
         ],
         "name": "Image",
         "showscale": false,
         "transpose": true,
         "type": "heatmap",
         "xaxis": "x",
         "yaxis": "y",
         "z": [
          [
           0.23267973856209148,
           0.23006535947712417,
           0.22483660130718955,
           0.21699346405228756,
           0.21699346405228756,
           0.22091503267973858,
           0.2261437908496732,
           0.23137254901960783,
           0.2352941176470588,
           0.22875816993464052,
           0.22483660130718955,
           0.22091503267973858,
           0.20915032679738563,
           0.19215686274509805,
           0.1843137254901961,
           0.1725490196078431,
           0.15163398692810456,
           0.13986928104575164,
           0.12679738562091503,
           0.12026143790849673,
           0.11503267973856209,
           0.11895424836601308,
           0.12810457516339868,
           0.13202614379084968,
           0.12941176470588237,
           0.19869281045751633,
           0.29934640522875816,
           0.36339869281045756,
           0.41830065359477125,
           0.4588235294117647,
           0.48888888888888893,
           0.4993464052287582
          ],
          [
           0.20784313725490197,
           0.19869281045751633,
           0.1869281045751634,
           0.18300653594771243,
           0.18562091503267975,
           0.1895424836601307,
           0.18562091503267975,
           0.18300653594771243,
           0.1869281045751634,
           0.1895424836601307,
           0.1934640522875817,
           0.1869281045751634,
           0.17647058823529416,
           0.16209150326797386,
           0.15555555555555556,
           0.14901960784313725,
           0.134640522875817,
           0.12549019607843137,
           0.11372549019607843,
           0.10457516339869281,
           0.1019607843137255,
           0.10588235294117647,
           0.1084967320261438,
           0.11241830065359477,
           0.10718954248366014,
           0.17516339869281047,
           0.27320261437908494,
           0.3281045751633987,
           0.3803921568627451,
           0.4300653594771242,
           0.4705882352941176,
           0.49150326797385624
          ],
          [
           0.17124183006535945,
           0.1542483660130719,
           0.134640522875817,
           0.134640522875817,
           0.13856209150326795,
           0.14248366013071898,
           0.12810457516339868,
           0.11764705882352942,
           0.12156862745098039,
           0.13333333333333333,
           0.1450980392156863,
           0.1372549019607843,
           0.12941176470588234,
           0.1215686274509804,
           0.1176470588235294,
           0.1176470588235294,
           0.1111111111111111,
           0.10457516339869281,
           0.09673202614379085,
           0.08758169934640524,
           0.08627450980392158,
           0.09019607843137255,
           0.08627450980392158,
           0.08627450980392158,
           0.08235294117647059,
           0.13856209150326795,
           0.22483660130718955,
           0.269281045751634,
           0.3202614379084967,
           0.3830065359477124,
           0.43790849673202614,
           0.4705882352941176
          ],
          [
           0.1503267973856209,
           0.1372549019607843,
           0.12026143790849675,
           0.12026143790849675,
           0.1215686274509804,
           0.12026143790849673,
           0.10457516339869281,
           0.09673202614379084,
           0.09934640522875816,
           0.10718954248366012,
           0.11764705882352942,
           0.1084967320261438,
           0.10718954248366012,
           0.11503267973856209,
           0.1111111111111111,
           0.10588235294117647,
           0.09934640522875816,
           0.09281045751633987,
           0.08758169934640524,
           0.07973856209150328,
           0.0784313725490196,
           0.08235294117647059,
           0.08235294117647059,
           0.08627450980392155,
           0.08366013071895424,
           0.11633986928104574,
           0.16732026143790849,
           0.2130718954248366,
           0.2679738562091503,
           0.3359477124183006,
           0.4026143790849674,
           0.44313725490196076
          ],
          [
           0.13333333333333333,
           0.12418300653594772,
           0.11372549019607843,
           0.11372549019607843,
           0.11372549019607843,
           0.11111111111111112,
           0.09542483660130718,
           0.0849673202614379,
           0.09019607843137256,
           0.09803921568627451,
           0.10457516339869281,
           0.09803921568627451,
           0.09803921568627451,
           0.10718954248366014,
           0.10326797385620916,
           0.09673202614379084,
           0.09019607843137255,
           0.08366013071895424,
           0.07973856209150326,
           0.0758169934640523,
           0.07581699346405228,
           0.08104575163398693,
           0.08627450980392158,
           0.09281045751633987,
           0.09542483660130718,
           0.09934640522875816,
           0.11372549019607843,
           0.15947712418300652,
           0.22091503267973855,
           0.2901960784313725,
           0.3647058823529412,
           0.4104575163398693
          ],
          [
           0.12026143790849673,
           0.11633986928104574,
           0.11111111111111112,
           0.11111111111111112,
           0.11241830065359477,
           0.1111111111111111,
           0.09411764705882353,
           0.08104575163398693,
           0.08888888888888889,
           0.10065359477124182,
           0.10457516339869281,
           0.10065359477124182,
           0.09673202614379085,
           0.09673202614379085,
           0.09150326797385622,
           0.08627450980392158,
           0.07973856209150328,
           0.07450980392156863,
           0.06797385620915032,
           0.06797385620915032,
           0.07320261437908497,
           0.0849673202614379,
           0.09281045751633987,
           0.10457516339869281,
           0.11241830065359477,
           0.09150326797385622,
           0.07189542483660132,
           0.11503267973856209,
           0.17647058823529413,
           0.25098039215686274,
           0.32941176470588235,
           0.3790849673202614
          ],
          [
           0.10457516339869281,
           0.10588235294117647,
           0.1084967320261438,
           0.1111111111111111,
           0.10980392156862745,
           0.10326797385620916,
           0.09150326797385622,
           0.0849673202614379,
           0.09411764705882353,
           0.10326797385620916,
           0.10588235294117647,
           0.10326797385620916,
           0.09542483660130718,
           0.08758169934640524,
           0.0784313725490196,
           0.06928104575163399,
           0.06274509803921569,
           0.06013071895424837,
           0.05620915032679739,
           0.06143790849673203,
           0.06928104575163398,
           0.0849673202614379,
           0.10065359477124182,
           0.11503267973856209,
           0.12810457516339868,
           0.09411764705882353,
           0.054901960784313725,
           0.09019607843137256,
           0.14379084967320263,
           0.21176470588235294,
           0.2862745098039216,
           0.33202614379084966
          ],
          [
           0.09281045751633987,
           0.09934640522875816,
           0.10980392156862745,
           0.11241830065359477,
           0.10849673202614378,
           0.09411764705882353,
           0.08627450980392158,
           0.08627450980392155,
           0.09150326797385622,
           0.09542483660130718,
           0.09803921568627451,
           0.09542483660130718,
           0.08758169934640524,
           0.07320261437908497,
           0.06274509803921569,
           0.05359477124183006,
           0.04575163398692811,
           0.04313725490196078,
           0.04183006535947712,
           0.05228758169934641,
           0.06535947712418301,
           0.0849673202614379,
           0.1084967320261438,
           0.12549019607843137,
           0.14248366013071898,
           0.11111111111111112,
           0.07320261437908497,
           0.09019607843137255,
           0.1281045751633987,
           0.18039215686274512,
           0.2431372549019608,
           0.28366013071895424
          ],
          [
           0.08627450980392155,
           0.09803921568627451,
           0.11372549019607843,
           0.11764705882352942,
           0.10980392156862746,
           0.08888888888888889,
           0.07450980392156863,
           0.07189542483660132,
           0.07320261437908497,
           0.07189542483660132,
           0.07058823529411765,
           0.06666666666666667,
           0.06535947712418301,
           0.0588235294117647,
           0.05098039215686275,
           0.04183006535947712,
           0.03398692810457516,
           0.032679738562091505,
           0.03137254901960784,
           0.04313725490196078,
           0.0588235294117647,
           0.08366013071895424,
           0.11111111111111112,
           0.13594771241830064,
           0.15947712418300655,
           0.14901960784313725,
           0.12418300653594772,
           0.1215686274509804,
           0.13333333333333333,
           0.15816993464052287,
           0.2026143790849673,
           0.23398692810457514
          ],
          [
           0.10326797385620916,
           0.12026143790849675,
           0.1450980392156863,
           0.14901960784313725,
           0.13333333333333333,
           0.10326797385620916,
           0.08366013071895424,
           0.07712418300653595,
           0.07320261437908497,
           0.06928104575163398,
           0.06274509803921569,
           0.05751633986928104,
           0.0588235294117647,
           0.06143790849673203,
           0.05359477124183006,
           0.04313725490196078,
           0.03529411764705882,
           0.03398692810457516,
           0.032679738562091505,
           0.047058823529411764,
           0.06928104575163398,
           0.09934640522875819,
           0.134640522875817,
           0.16470588235294117,
           0.1895424836601307,
           0.1869281045751634,
           0.16732026143790849,
           0.15163398692810456,
           0.13986928104575164,
           0.13594771241830064,
           0.15947712418300652,
           0.17908496732026147
          ],
          [
           0.13856209150326795,
           0.16339869281045752,
           0.1908496732026144,
           0.19607843137254902,
           0.1725490196078431,
           0.13594771241830064,
           0.11503267973856209,
           0.10457516339869281,
           0.09934640522875816,
           0.08888888888888889,
           0.08104575163398693,
           0.07320261437908497,
           0.07581699346405228,
           0.08235294117647059,
           0.07450980392156863,
           0.06405228758169934,
           0.05751633986928104,
           0.05228758169934641,
           0.05228758169934641,
           0.07058823529411765,
           0.09934640522875816,
           0.134640522875817,
           0.17385620915032682,
           0.20915032679738563,
           0.23790849673202616,
           0.23267973856209148,
           0.20653594771241832,
           0.17516339869281047,
           0.14248366013071898,
           0.11111111111111112,
           0.11633986928104574,
           0.12418300653594772
          ],
          [
           0.18823529411764706,
           0.21830065359477124,
           0.25098039215686274,
           0.25620915032679736,
           0.23137254901960783,
           0.19607843137254902,
           0.17385620915032682,
           0.16209150326797386,
           0.1581699346405229,
           0.1450980392156863,
           0.134640522875817,
           0.13071895424836602,
           0.13071895424836602,
           0.13202614379084968,
           0.12418300653594772,
           0.11241830065359477,
           0.09934640522875816,
           0.09673202614379085,
           0.10065359477124182,
           0.1215686274509804,
           0.15294117647058825,
           0.19477124183006536,
           0.2366013071895425,
           0.27843137254901956,
           0.3111111111111111,
           0.2901960784313726,
           0.23398692810457514,
           0.1843137254901961,
           0.134640522875817,
           0.08627450980392155,
           0.07320261437908497,
           0.07320261437908497
          ],
          [
           0.2235294117647059,
           0.257516339869281,
           0.2954248366013072,
           0.2980392156862745,
           0.2745098039215686,
           0.23790849673202616,
           0.22091503267973858,
           0.21437908496732028,
           0.21176470588235297,
           0.2013071895424837,
           0.1895424836601307,
           0.1895424836601307,
           0.18562091503267975,
           0.18039215686274512,
           0.1725490196078431,
           0.16209150326797386,
           0.14640522875816994,
           0.1450980392156863,
           0.15163398692810456,
           0.17647058823529413,
           0.21045751633986928,
           0.25490196078431376,
           0.3006535947712418,
           0.34379084967320267,
           0.3790849673202614,
           0.3516339869281046,
           0.2862745098039216,
           0.21830065359477127,
           0.1516339869281046,
           0.0888888888888889,
           0.06013071895424837,
           0.05098039215686275
          ],
          [
           0.2339869281045752,
           0.2679738562091503,
           0.31633986928104574,
           0.3189542483660131,
           0.29934640522875816,
           0.26405228758169935,
           0.25620915032679736,
           0.25620915032679736,
           0.2549019607843137,
           0.25098039215686274,
           0.2431372549019608,
           0.2431372549019608,
           0.23921568627450981,
           0.22875816993464052,
           0.22091503267973858,
           0.20915032679738563,
           0.19607843137254902,
           0.19477124183006536,
           0.20261437908496735,
           0.23006535947712417,
           0.265359477124183,
           0.3084967320261438,
           0.35555555555555557,
           0.3986928104575163,
           0.43529411764705883,
           0.4169934640522876,
           0.35555555555555557,
           0.2797385620915033,
           0.19869281045751633,
           0.12287581699346406,
           0.0784313725490196,
           0.05751633986928104
          ],
          [
           0.1843137254901961,
           0.22222222222222224,
           0.28104575163398693,
           0.3254901960784314,
           0.3424836601307189,
           0.32941176470588235,
           0.31241830065359477,
           0.29673202614379085,
           0.29411764705882354,
           0.2980392156862745,
           0.30196078431372547,
           0.2980392156862745,
           0.3006535947712418,
           0.3045751633986928,
           0.2836601307189543,
           0.2601307189542484,
           0.24836601307189543,
           0.24836601307189543,
           0.2601307189542484,
           0.27320261437908494,
           0.29673202614379085,
           0.3333333333333333,
           0.38169934640522873,
           0.4261437908496732,
           0.46013071895424834,
           0.44575163398692813,
           0.3934640522875817,
           0.34640522875817,
           0.27581699346405225,
           0.18562091503267975,
           0.11764705882352942,
           0.07712418300653595
          ],
          [
           0.13856209150326795,
           0.17777777777777778,
           0.24705882352941178,
           0.3254901960784314,
           0.37254901960784315,
           0.3790849673202614,
           0.3516339869281046,
           0.3254901960784314,
           0.32026143790849676,
           0.32941176470588235,
           0.342483660130719,
           0.33464052287581697,
           0.3398692810457516,
           0.3542483660130719,
           0.32287581699346407,
           0.29150326797385623,
           0.28235294117647064,
           0.2862745098039216,
           0.2980392156862745,
           0.2980392156862745,
           0.3084967320261438,
           0.3359477124183006,
           0.3803921568627451,
           0.42091503267973857,
           0.45098039215686275,
           0.4431372549019608,
           0.4143790849673203,
           0.3934640522875817,
           0.3333333333333333,
           0.23921568627450981,
           0.1503267973856209,
           0.09673202614379084
          ],
          [
           0.13071895424836602,
           0.1725490196078431,
           0.2431372549019608,
           0.32026143790849676,
           0.36993464052287583,
           0.38169934640522873,
           0.3568627450980392,
           0.33202614379084966,
           0.3281045751633987,
           0.3333333333333333,
           0.34379084967320256,
           0.3398692810457516,
           0.33856209150326794,
           0.34117647058823525,
           0.3150326797385621,
           0.2901960784313726,
           0.2836601307189543,
           0.2888888888888889,
           0.29934640522875816,
           0.2954248366013072,
           0.29934640522875816,
           0.3189542483660131,
           0.35294117647058826,
           0.38169934640522873,
           0.39738562091503266,
           0.4104575163398693,
           0.41568627450980394,
           0.39738562091503266,
           0.34379084967320256,
           0.2562091503267974,
           0.16470588235294117,
           0.1084967320261438
          ],
          [
           0.15816993464052287,
           0.19607843137254902,
           0.2575163398692811,
           0.330718954248366,
           0.37516339869281046,
           0.3830065359477124,
           0.3542483660130719,
           0.3215686274509804,
           0.3058823529411765,
           0.30457516339869284,
           0.31241830065359477,
           0.3006535947712418,
           0.30196078431372547,
           0.31633986928104574,
           0.29673202614379085,
           0.27712418300653596,
           0.2758169934640523,
           0.28235294117647064,
           0.29150326797385623,
           0.28758169934640526,
           0.28758169934640526,
           0.29934640522875816,
           0.32026143790849676,
           0.3359477124183006,
           0.3424836601307189,
           0.36209150326797385,
           0.3803921568627451,
           0.3686274509803922,
           0.32287581699346407,
           0.24444444444444446,
           0.15816993464052287,
           0.10326797385620916
          ],
          [
           0.19999999999999998,
           0.22875816993464052,
           0.27581699346405225,
           0.342483660130719,
           0.37777777777777777,
           0.37777777777777777,
           0.33856209150326794,
           0.2954248366013072,
           0.26405228758169935,
           0.257516339869281,
           0.2588235294117647,
           0.2431372549019608,
           0.2496732026143791,
           0.2784313725490196,
           0.2627450980392157,
           0.25098039215686274,
           0.2549019607843137,
           0.26405228758169935,
           0.27058823529411763,
           0.26666666666666666,
           0.26666666666666666,
           0.27058823529411763,
           0.2823529411764706,
           0.2901960784313726,
           0.28366013071895424,
           0.3006535947712418,
           0.32026143790849676,
           0.31764705882352945,
           0.2797385620915033,
           0.21307189542483662,
           0.13594771241830064,
           0.08888888888888889
          ],
          [
           0.21568627450980393,
           0.23790849673202616,
           0.27973856209150333,
           0.330718954248366,
           0.3542483660130719,
           0.34640522875817,
           0.3032679738562091,
           0.2549019607843137,
           0.2222222222222222,
           0.21176470588235294,
           0.20653594771241832,
           0.19215686274509802,
           0.20000000000000004,
           0.2261437908496732,
           0.2169934640522876,
           0.20784313725490197,
           0.2169934640522876,
           0.22875816993464052,
           0.2339869281045752,
           0.22875816993464052,
           0.22483660130718955,
           0.22745098039215686,
           0.23398692810457514,
           0.23529411764705885,
           0.2261437908496732,
           0.2352941176470588,
           0.25098039215686274,
           0.25098039215686274,
           0.2261437908496732,
           0.17516339869281047,
           0.1111111111111111,
           0.06928104575163398
          ],
          [
           0.22745098039215686,
           0.24183006535947715,
           0.269281045751634,
           0.30718954248366015,
           0.3215686274509804,
           0.3111111111111111,
           0.2601307189542484,
           0.2104575163398693,
           0.18039215686274512,
           0.1686274509803922,
           0.16470588235294117,
           0.1568627450980392,
           0.16470588235294117,
           0.18562091503267975,
           0.18039215686274512,
           0.17254901960784316,
           0.1803921568627451,
           0.1908496732026144,
           0.19215686274509805,
           0.1803921568627451,
           0.17385620915032682,
           0.1777777777777778,
           0.18039215686274512,
           0.1803921568627451,
           0.16601307189542483,
           0.17647058823529413,
           0.19869281045751633,
           0.20261437908496735,
           0.18562091503267975,
           0.1477124183006536,
           0.09281045751633987,
           0.05751633986928104
          ],
          [
           0.23137254901960783,
           0.2366013071895425,
           0.25098039215686274,
           0.27581699346405225,
           0.2836601307189543,
           0.2679738562091503,
           0.21830065359477124,
           0.17124183006535945,
           0.14117647058823532,
           0.13333333333333333,
           0.1372549019607843,
           0.13594771241830064,
           0.14379084967320263,
           0.16339869281045752,
           0.15947712418300655,
           0.1516339869281046,
           0.15294117647058822,
           0.15294117647058825,
           0.1516339869281046,
           0.13202614379084968,
           0.12026143790849675,
           0.12418300653594772,
           0.1281045751633987,
           0.12418300653594772,
           0.10588235294117647,
           0.12679738562091503,
           0.16339869281045752,
           0.17254901960784316,
           0.16209150326797386,
           0.13594771241830064,
           0.08627450980392155,
           0.054901960784313725
          ],
          [
           0.22745098039215686,
           0.2261437908496732,
           0.22745098039215686,
           0.24575163398692812,
           0.2522875816993464,
           0.24052287581699347,
           0.19869281045751633,
           0.15816993464052287,
           0.13071895424836602,
           0.12941176470588234,
           0.1411764705882353,
           0.15163398692810456,
           0.16339869281045752,
           0.17777777777777778,
           0.17124183006535945,
           0.16339869281045752,
           0.15816993464052287,
           0.1503267973856209,
           0.13594771241830064,
           0.11111111111111112,
           0.09411764705882353,
           0.09411764705882353,
           0.09803921568627451,
           0.09019607843137255,
           0.06666666666666667,
           0.0849673202614379,
           0.12026143790849675,
           0.12679738562091503,
           0.12026143790849673,
           0.1019607843137255,
           0.06797385620915032,
           0.04575163398692811
          ],
          [
           0.20915032679738563,
           0.203921568627451,
           0.20261437908496735,
           0.2235294117647059,
           0.23398692810457514,
           0.23006535947712417,
           0.203921568627451,
           0.17385620915032682,
           0.1542483660130719,
           0.16078431372549018,
           0.18300653594771243,
           0.20000000000000004,
           0.21437908496732025,
           0.21960784313725493,
           0.2130718954248366,
           0.203921568627451,
           0.19607843137254902,
           0.18039215686274512,
           0.15555555555555556,
           0.1281045751633987,
           0.10588235294117647,
           0.1019607843137255,
           0.1019607843137255,
           0.08888888888888889,
           0.06013071895424837,
           0.06797385620915032,
           0.08627450980392155,
           0.08627450980392158,
           0.08235294117647059,
           0.07058823529411765,
           0.05098039215686275,
           0.036601307189542485
          ],
          [
           0.17777777777777778,
           0.17254901960784316,
           0.17647058823529413,
           0.20522875816993466,
           0.23137254901960783,
           0.24444444444444446,
           0.23267973856209148,
           0.2196078431372549,
           0.21568627450980393,
           0.2352941176470588,
           0.26666666666666666,
           0.2901960784313726,
           0.2980392156862745,
           0.2901960784313726,
           0.2836601307189543,
           0.27581699346405225,
           0.2679738562091503,
           0.2496732026143791,
           0.2196078431372549,
           0.18562091503267975,
           0.16470588235294117,
           0.15294117647058825,
           0.1503267973856209,
           0.13594771241830064,
           0.10457516339869281,
           0.08366013071895424,
           0.07058823529411765,
           0.06013071895424837,
           0.05620915032679739,
           0.05228758169934641,
           0.04183006535947712,
           0.03398692810457516
          ],
          [
           0.17647058823529413,
           0.17516339869281047,
           0.18300653594771243,
           0.21437908496732025,
           0.24705882352941178,
           0.2718954248366013,
           0.26405228758169935,
           0.257516339869281,
           0.2588235294117647,
           0.2862745098039216,
           0.3215686274509804,
           0.34379084967320256,
           0.3542483660130719,
           0.35032679738562095,
           0.3450980392156863,
           0.34117647058823525,
           0.33464052287581697,
           0.3150326797385621,
           0.2836601307189543,
           0.2496732026143791,
           0.22875816993464052,
           0.2196078431372549,
           0.21176470588235294,
           0.1934640522875817,
           0.1607843137254902,
           0.1176470588235294,
           0.08104575163398693,
           0.06535947712418301,
           0.06143790849673203,
           0.06013071895424837,
           0.05228758169934641,
           0.047058823529411764
          ],
          [
           0.19084967320261437,
           0.19084967320261437,
           0.2013071895424837,
           0.23529411764705885,
           0.2745098039215686,
           0.3032679738562091,
           0.2980392156862745,
           0.2901960784313726,
           0.2901960784313726,
           0.30980392156862746,
           0.3450980392156862,
           0.3647058823529412,
           0.3790849673202614,
           0.39215686274509803,
           0.39215686274509803,
           0.39215686274509803,
           0.38823529411764707,
           0.3738562091503268,
           0.3490196078431373,
           0.3137254901960784,
           0.2928104575163399,
           0.2888888888888889,
           0.2771241830065359,
           0.2549019607843137,
           0.2261437908496732,
           0.17516339869281047,
           0.12418300653594772,
           0.10065359477124185,
           0.08758169934640524,
           0.0784313725490196,
           0.06928104575163398,
           0.06274509803921569
          ],
          [
           0.19869281045751633,
           0.19869281045751633,
           0.21045751633986928,
           0.2496732026143791,
           0.2928104575163399,
           0.32941176470588235,
           0.3281045751633987,
           0.3176470588235294,
           0.3032679738562091,
           0.3137254901960784,
           0.33202614379084966,
           0.35032679738562095,
           0.3738562091503268,
           0.3986928104575163,
           0.40130718954248373,
           0.407843137254902,
           0.42483660130718953,
           0.43137254901960786,
           0.42091503267973857,
           0.38300653594771245,
           0.35555555555555557,
           0.3398692810457516,
           0.32941176470588235,
           0.3176470588235294,
           0.29934640522875816,
           0.2601307189542484,
           0.20915032679738563,
           0.14901960784313725,
           0.10326797385620916,
           0.07712418300653595,
           0.06666666666666667,
           0.06666666666666667
          ],
          [
           0.203921568627451,
           0.20653594771241832,
           0.22091503267973858,
           0.269281045751634,
           0.31895424836601305,
           0.35555555555555557,
           0.3516339869281046,
           0.330718954248366,
           0.3032679738562091,
           0.2954248366013072,
           0.30196078431372547,
           0.30980392156862746,
           0.3333333333333333,
           0.3633986928104575,
           0.3738562091503268,
           0.392156862745098,
           0.4274509803921569,
           0.4470588235294118,
           0.4496732026143791,
           0.41830065359477125,
           0.38823529411764707,
           0.3686274509803922,
           0.36209150326797385,
           0.35555555555555557,
           0.3477124183006535,
           0.32287581699346407,
           0.2771241830065359,
           0.20522875816993466,
           0.14379084967320263,
           0.10065359477124185,
           0.08235294117647059,
           0.0784313725490196
          ],
          [
           0.203921568627451,
           0.21176470588235294,
           0.2366013071895425,
           0.2928104575163399,
           0.3450980392156863,
           0.3843137254901961,
           0.36993464052287583,
           0.3333333333333333,
           0.28758169934640526,
           0.2627450980392157,
           0.25359477124183005,
           0.25359477124183005,
           0.265359477124183,
           0.28758169934640526,
           0.3150326797385621,
           0.35032679738562095,
           0.39738562091503266,
           0.4261437908496732,
           0.4326797385620915,
           0.41307189542483663,
           0.392156862745098,
           0.37516339869281046,
           0.3673202614379085,
           0.3633986928104575,
           0.3633986928104575,
           0.3516339869281046,
           0.32287581699346407,
           0.265359477124183,
           0.203921568627451,
           0.15294117647058825,
           0.11503267973856209,
           0.09673202614379084
          ],
          [
           0.19999999999999998,
           0.2130718954248366,
           0.24183006535947715,
           0.30196078431372547,
           0.3555555555555556,
           0.39215686274509803,
           0.36993464052287583,
           0.32287581699346407,
           0.26143790849673204,
           0.2222222222222222,
           0.19607843137254902,
           0.18300653594771243,
           0.1869281045751634,
           0.21437908496732025,
           0.2627450980392157,
           0.3176470588235294,
           0.37254901960784315,
           0.40915032679738567,
           0.4196078431372549,
           0.40392156862745104,
           0.3790849673202614,
           0.35555555555555557,
           0.34117647058823525,
           0.3359477124183006,
           0.3450980392156862,
           0.35947712418300654,
           0.36209150326797385,
           0.32026143790849676,
           0.26666666666666666,
           0.20653594771241832,
           0.1516339869281046,
           0.11895424836601308
          ],
          [
           0.19477124183006536,
           0.21176470588235294,
           0.24444444444444446,
           0.3058823529411765,
           0.3594771241830066,
           0.39215686274509803,
           0.3686274509803922,
           0.31503267973856214,
           0.24183006535947715,
           0.19477124183006536,
           0.16209150326797386,
           0.13594771241830064,
           0.1372549019607843,
           0.1699346405228758,
           0.23137254901960783,
           0.2980392156862745,
           0.35947712418300654,
           0.39999999999999997,
           0.411764705882353,
           0.396078431372549,
           0.3686274509803922,
           0.3359477124183006,
           0.3163398692810458,
           0.31241830065359477,
           0.32679738562091504,
           0.3581699346405229,
           0.3843137254901961,
           0.3542483660130719,
           0.3045751633986928,
           0.24052287581699347,
           0.17516339869281047,
           0.13333333333333333
          ]
         ]
        },
        {
         "name": "MLP prob distribution",
         "type": "bar",
         "x": [
          0,
          1,
          2,
          3,
          4,
          5,
          6,
          7,
          8,
          9
         ],
         "xaxis": "x2",
         "y": [
          0.0012633842416107655,
          0.9715462327003479,
          0.016934381797909737,
          0.004702131263911724,
          0.0009257266065105796,
          0.0007257686811499298,
          0.001180762890726328,
          0.001744743320159614,
          0.0009173709549941123,
          0.000059510013670660555
         ],
         "yaxis": "y2"
        },
        {
         "name": "CNN prob distribution",
         "type": "bar",
         "x": [
          0,
          1,
          2,
          3,
          4,
          5,
          6,
          7,
          8,
          9
         ],
         "xaxis": "x3",
         "y": [
          1.0849291808641328e-14,
          0.9999979734420776,
          2.9100331033760085e-8,
          1.7256031326073895e-10,
          6.298389587655606e-11,
          9.967498323297606e-15,
          5.275011604957561e-15,
          0.0000019711762888618978,
          3.569917365192632e-12,
          2.51944901844426e-14
         ],
         "yaxis": "y3"
        },
        {
         "colorscale": [
          [
           0,
           "rgb(0, 0, 0)"
          ],
          [
           0.09090909090909091,
           "rgb(16, 16, 16)"
          ],
          [
           0.18181818181818182,
           "rgb(38, 38, 38)"
          ],
          [
           0.2727272727272727,
           "rgb(59, 59, 59)"
          ],
          [
           0.36363636363636365,
           "rgb(81, 80, 80)"
          ],
          [
           0.45454545454545453,
           "rgb(102, 101, 101)"
          ],
          [
           0.5454545454545454,
           "rgb(124, 123, 122)"
          ],
          [
           0.6363636363636364,
           "rgb(146, 146, 145)"
          ],
          [
           0.7272727272727273,
           "rgb(171, 171, 170)"
          ],
          [
           0.8181818181818182,
           "rgb(197, 197, 195)"
          ],
          [
           0.9090909090909091,
           "rgb(224, 224, 223)"
          ],
          [
           1,
           "rgb(254, 254, 253)"
          ]
         ],
         "name": "Image",
         "showscale": false,
         "transpose": true,
         "type": "heatmap",
         "xaxis": "x",
         "yaxis": "y",
         "z": [
          [
           0.23267973856209148,
           0.23006535947712417,
           0.22483660130718955,
           0.21699346405228756,
           0.21699346405228756,
           0.22091503267973858,
           0.2261437908496732,
           0.23137254901960783,
           0.2352941176470588,
           0.22875816993464052,
           0.22483660130718955,
           0.22091503267973858,
           0.20915032679738563,
           0.19215686274509805,
           0.1843137254901961,
           0.1725490196078431,
           0.15163398692810456,
           0.13986928104575164,
           0.12679738562091503,
           0.12026143790849673,
           0.11503267973856209,
           0.11895424836601308,
           0.12810457516339868,
           0.13202614379084968,
           0.12941176470588237,
           0.19869281045751633,
           0.29934640522875816,
           0.36339869281045756,
           0.41830065359477125,
           0.4588235294117647,
           0.48888888888888893,
           0.4993464052287582
          ],
          [
           0.20784313725490197,
           0.19869281045751633,
           0.1869281045751634,
           0.18300653594771243,
           0.18562091503267975,
           0.1895424836601307,
           0.18562091503267975,
           0.18300653594771243,
           0.1869281045751634,
           0.1895424836601307,
           0.1934640522875817,
           0.1869281045751634,
           0.17647058823529416,
           0.16209150326797386,
           0.15555555555555556,
           0.14901960784313725,
           0.134640522875817,
           0.12549019607843137,
           0.11372549019607843,
           0.10457516339869281,
           0.1019607843137255,
           0.10588235294117647,
           0.1084967320261438,
           0.11241830065359477,
           0.10718954248366014,
           0.17516339869281047,
           0.27320261437908494,
           0.3281045751633987,
           0.3803921568627451,
           0.4300653594771242,
           0.4705882352941176,
           0.49150326797385624
          ],
          [
           0.17124183006535945,
           0.1542483660130719,
           0.134640522875817,
           0.134640522875817,
           0.13856209150326795,
           0.14248366013071898,
           0.12810457516339868,
           0.11764705882352942,
           0.12156862745098039,
           0.13333333333333333,
           0.1450980392156863,
           0.1372549019607843,
           0.12941176470588234,
           0.1215686274509804,
           0.1176470588235294,
           0.1176470588235294,
           0.1111111111111111,
           0.10457516339869281,
           0.09673202614379085,
           0.08758169934640524,
           0.08627450980392158,
           0.09019607843137255,
           0.08627450980392158,
           0.08627450980392158,
           0.08235294117647059,
           0.13856209150326795,
           0.22483660130718955,
           0.269281045751634,
           0.3202614379084967,
           0.3830065359477124,
           0.43790849673202614,
           0.4705882352941176
          ],
          [
           0.1503267973856209,
           0.1372549019607843,
           0.12026143790849675,
           0.12026143790849675,
           0.1215686274509804,
           0.12026143790849673,
           0.10457516339869281,
           0.09673202614379084,
           0.09934640522875816,
           0.10718954248366012,
           0.11764705882352942,
           0.1084967320261438,
           0.10718954248366012,
           0.11503267973856209,
           0.1111111111111111,
           0.10588235294117647,
           0.09934640522875816,
           0.09281045751633987,
           0.08758169934640524,
           0.07973856209150328,
           0.0784313725490196,
           0.08235294117647059,
           0.08235294117647059,
           0.08627450980392155,
           0.08366013071895424,
           0.11633986928104574,
           0.16732026143790849,
           0.2130718954248366,
           0.2679738562091503,
           0.3359477124183006,
           0.4026143790849674,
           0.44313725490196076
          ],
          [
           0.13333333333333333,
           0.12418300653594772,
           0.11372549019607843,
           0.11372549019607843,
           0.11372549019607843,
           0.11111111111111112,
           0.09542483660130718,
           0.0849673202614379,
           0.09019607843137256,
           0.09803921568627451,
           0.10457516339869281,
           0.09803921568627451,
           0.09803921568627451,
           0.10718954248366014,
           0.10326797385620916,
           0.09673202614379084,
           0.09019607843137255,
           0.08366013071895424,
           0.07973856209150326,
           0.0758169934640523,
           0.07581699346405228,
           0.08104575163398693,
           0.08627450980392158,
           0.09281045751633987,
           0.09542483660130718,
           0.09934640522875816,
           0.11372549019607843,
           0.15947712418300652,
           0.22091503267973855,
           0.2901960784313725,
           0.3647058823529412,
           0.4104575163398693
          ],
          [
           0.12026143790849673,
           0.11633986928104574,
           0.11111111111111112,
           0.11111111111111112,
           0.11241830065359477,
           0.1111111111111111,
           0.09411764705882353,
           0.08104575163398693,
           0.08888888888888889,
           0.10065359477124182,
           0.10457516339869281,
           0.10065359477124182,
           0.09673202614379085,
           0.09673202614379085,
           0.09150326797385622,
           0.08627450980392158,
           0.07973856209150328,
           0.07450980392156863,
           0.06797385620915032,
           0.06797385620915032,
           0.07320261437908497,
           0.0849673202614379,
           0.09281045751633987,
           0.10457516339869281,
           0.11241830065359477,
           0.09150326797385622,
           0.07189542483660132,
           0.11503267973856209,
           0.17647058823529413,
           0.25098039215686274,
           0.32941176470588235,
           0.3790849673202614
          ],
          [
           0.10457516339869281,
           0.10588235294117647,
           0.1084967320261438,
           0.1111111111111111,
           0.10980392156862745,
           0.10326797385620916,
           0.09150326797385622,
           0.0849673202614379,
           0.09411764705882353,
           0.10326797385620916,
           0.10588235294117647,
           0.10326797385620916,
           0.09542483660130718,
           0.08758169934640524,
           0.0784313725490196,
           0.06928104575163399,
           0.06274509803921569,
           0.06013071895424837,
           0.05620915032679739,
           0.06143790849673203,
           0.06928104575163398,
           0.0849673202614379,
           0.10065359477124182,
           0.11503267973856209,
           0.12810457516339868,
           0.09411764705882353,
           0.054901960784313725,
           0.09019607843137256,
           0.14379084967320263,
           0.21176470588235294,
           0.2862745098039216,
           0.33202614379084966
          ],
          [
           0.09281045751633987,
           0.09934640522875816,
           0.10980392156862745,
           0.11241830065359477,
           0.10849673202614378,
           0.09411764705882353,
           0.08627450980392158,
           0.08627450980392155,
           0.09150326797385622,
           0.09542483660130718,
           0.09803921568627451,
           0.09542483660130718,
           0.08758169934640524,
           0.07320261437908497,
           0.06274509803921569,
           0.05359477124183006,
           0.04575163398692811,
           0.04313725490196078,
           0.04183006535947712,
           0.05228758169934641,
           0.06535947712418301,
           0.0849673202614379,
           0.1084967320261438,
           0.12549019607843137,
           0.14248366013071898,
           0.11111111111111112,
           0.07320261437908497,
           0.09019607843137255,
           0.1281045751633987,
           0.18039215686274512,
           0.2431372549019608,
           0.28366013071895424
          ],
          [
           0.08627450980392155,
           0.09803921568627451,
           0.11372549019607843,
           0.11764705882352942,
           0.10980392156862746,
           0.08888888888888889,
           0.07450980392156863,
           0.07189542483660132,
           0.07320261437908497,
           0.07189542483660132,
           0.07058823529411765,
           0.06666666666666667,
           0.06535947712418301,
           0.0588235294117647,
           0.05098039215686275,
           0.04183006535947712,
           0.03398692810457516,
           0.032679738562091505,
           0.03137254901960784,
           0.04313725490196078,
           0.0588235294117647,
           0.08366013071895424,
           0.11111111111111112,
           0.13594771241830064,
           0.15947712418300655,
           0.14901960784313725,
           0.12418300653594772,
           0.1215686274509804,
           0.13333333333333333,
           0.15816993464052287,
           0.2026143790849673,
           0.23398692810457514
          ],
          [
           0.10326797385620916,
           0.12026143790849675,
           0.1450980392156863,
           0.14901960784313725,
           0.13333333333333333,
           0.10326797385620916,
           0.08366013071895424,
           0.07712418300653595,
           0.07320261437908497,
           0.06928104575163398,
           0.06274509803921569,
           0.05751633986928104,
           0.0588235294117647,
           0.06143790849673203,
           0.05359477124183006,
           0.04313725490196078,
           0.03529411764705882,
           0.03398692810457516,
           0.032679738562091505,
           0.047058823529411764,
           0.06928104575163398,
           0.09934640522875819,
           0.134640522875817,
           0.16470588235294117,
           0.1895424836601307,
           0.1869281045751634,
           0.16732026143790849,
           0.15163398692810456,
           0.13986928104575164,
           0.13594771241830064,
           0.15947712418300652,
           0.17908496732026147
          ],
          [
           0.13856209150326795,
           0.16339869281045752,
           0.1908496732026144,
           0.19607843137254902,
           0.1725490196078431,
           0.13594771241830064,
           0.11503267973856209,
           0.10457516339869281,
           0.09934640522875816,
           0.08888888888888889,
           0.08104575163398693,
           0.07320261437908497,
           0.07581699346405228,
           0.08235294117647059,
           0.07450980392156863,
           0.06405228758169934,
           0.05751633986928104,
           0.05228758169934641,
           0.05228758169934641,
           0.07058823529411765,
           0.09934640522875816,
           0.134640522875817,
           0.17385620915032682,
           0.20915032679738563,
           0.23790849673202616,
           0.23267973856209148,
           0.20653594771241832,
           0.17516339869281047,
           0.14248366013071898,
           0.11111111111111112,
           0.11633986928104574,
           0.12418300653594772
          ],
          [
           0.18823529411764706,
           0.21830065359477124,
           0.25098039215686274,
           0.25620915032679736,
           0.23137254901960783,
           0.19607843137254902,
           0.17385620915032682,
           0.16209150326797386,
           0.1581699346405229,
           0.1450980392156863,
           0.134640522875817,
           0.13071895424836602,
           0.13071895424836602,
           0.13202614379084968,
           0.12418300653594772,
           0.11241830065359477,
           0.09934640522875816,
           0.09673202614379085,
           0.10065359477124182,
           0.1215686274509804,
           0.15294117647058825,
           0.19477124183006536,
           0.2366013071895425,
           0.27843137254901956,
           0.3111111111111111,
           0.2901960784313726,
           0.23398692810457514,
           0.1843137254901961,
           0.134640522875817,
           0.08627450980392155,
           0.07320261437908497,
           0.07320261437908497
          ],
          [
           0.2235294117647059,
           0.257516339869281,
           0.2954248366013072,
           0.2980392156862745,
           0.2745098039215686,
           0.23790849673202616,
           0.22091503267973858,
           0.21437908496732028,
           0.21176470588235297,
           0.2013071895424837,
           0.1895424836601307,
           0.1895424836601307,
           0.18562091503267975,
           0.18039215686274512,
           0.1725490196078431,
           0.16209150326797386,
           0.14640522875816994,
           0.1450980392156863,
           0.15163398692810456,
           0.17647058823529413,
           0.21045751633986928,
           0.25490196078431376,
           0.3006535947712418,
           0.34379084967320267,
           0.3790849673202614,
           0.3516339869281046,
           0.2862745098039216,
           0.21830065359477127,
           0.1516339869281046,
           0.0888888888888889,
           0.06013071895424837,
           0.05098039215686275
          ],
          [
           0.2339869281045752,
           0.2679738562091503,
           0.31633986928104574,
           0.3189542483660131,
           0.29934640522875816,
           0.26405228758169935,
           0.25620915032679736,
           0.25620915032679736,
           0.2549019607843137,
           0.25098039215686274,
           0.2431372549019608,
           0.2431372549019608,
           0.23921568627450981,
           0.22875816993464052,
           0.22091503267973858,
           0.20915032679738563,
           0.19607843137254902,
           0.19477124183006536,
           0.20261437908496735,
           0.23006535947712417,
           0.265359477124183,
           0.3084967320261438,
           0.35555555555555557,
           0.3986928104575163,
           0.43529411764705883,
           0.4169934640522876,
           0.35555555555555557,
           0.2797385620915033,
           0.19869281045751633,
           0.12287581699346406,
           0.0784313725490196,
           0.05751633986928104
          ],
          [
           0.1843137254901961,
           0.22222222222222224,
           0.28104575163398693,
           0.3254901960784314,
           0.3424836601307189,
           0.32941176470588235,
           0.31241830065359477,
           0.29673202614379085,
           0.29411764705882354,
           0.2980392156862745,
           0.30196078431372547,
           0.2980392156862745,
           0.3006535947712418,
           0.3045751633986928,
           0.2836601307189543,
           0.2601307189542484,
           0.24836601307189543,
           0.24836601307189543,
           0.2601307189542484,
           0.27320261437908494,
           0.29673202614379085,
           0.3333333333333333,
           0.38169934640522873,
           0.4261437908496732,
           0.46013071895424834,
           0.44575163398692813,
           0.3934640522875817,
           0.34640522875817,
           0.27581699346405225,
           0.18562091503267975,
           0.11764705882352942,
           0.07712418300653595
          ],
          [
           0.13856209150326795,
           0.17777777777777778,
           0.24705882352941178,
           0.3254901960784314,
           0.37254901960784315,
           0.3790849673202614,
           0.3516339869281046,
           0.3254901960784314,
           0.32026143790849676,
           0.32941176470588235,
           0.342483660130719,
           0.33464052287581697,
           0.3398692810457516,
           0.3542483660130719,
           0.32287581699346407,
           0.29150326797385623,
           0.28235294117647064,
           0.2862745098039216,
           0.2980392156862745,
           0.2980392156862745,
           0.3084967320261438,
           0.3359477124183006,
           0.3803921568627451,
           0.42091503267973857,
           0.45098039215686275,
           0.4431372549019608,
           0.4143790849673203,
           0.3934640522875817,
           0.3333333333333333,
           0.23921568627450981,
           0.1503267973856209,
           0.09673202614379084
          ],
          [
           0.13071895424836602,
           0.1725490196078431,
           0.2431372549019608,
           0.32026143790849676,
           0.36993464052287583,
           0.38169934640522873,
           0.3568627450980392,
           0.33202614379084966,
           0.3281045751633987,
           0.3333333333333333,
           0.34379084967320256,
           0.3398692810457516,
           0.33856209150326794,
           0.34117647058823525,
           0.3150326797385621,
           0.2901960784313726,
           0.2836601307189543,
           0.2888888888888889,
           0.29934640522875816,
           0.2954248366013072,
           0.29934640522875816,
           0.3189542483660131,
           0.35294117647058826,
           0.38169934640522873,
           0.39738562091503266,
           0.4104575163398693,
           0.41568627450980394,
           0.39738562091503266,
           0.34379084967320256,
           0.2562091503267974,
           0.16470588235294117,
           0.1084967320261438
          ],
          [
           0.15816993464052287,
           0.19607843137254902,
           0.2575163398692811,
           0.330718954248366,
           0.37516339869281046,
           0.3830065359477124,
           0.3542483660130719,
           0.3215686274509804,
           0.3058823529411765,
           0.30457516339869284,
           0.31241830065359477,
           0.3006535947712418,
           0.30196078431372547,
           0.31633986928104574,
           0.29673202614379085,
           0.27712418300653596,
           0.2758169934640523,
           0.28235294117647064,
           0.29150326797385623,
           0.28758169934640526,
           0.28758169934640526,
           0.29934640522875816,
           0.32026143790849676,
           0.3359477124183006,
           0.3424836601307189,
           0.36209150326797385,
           0.3803921568627451,
           0.3686274509803922,
           0.32287581699346407,
           0.24444444444444446,
           0.15816993464052287,
           0.10326797385620916
          ],
          [
           0.19999999999999998,
           0.22875816993464052,
           0.27581699346405225,
           0.342483660130719,
           0.37777777777777777,
           0.37777777777777777,
           0.33856209150326794,
           0.2954248366013072,
           0.26405228758169935,
           0.257516339869281,
           0.2588235294117647,
           0.2431372549019608,
           0.2496732026143791,
           0.2784313725490196,
           0.2627450980392157,
           0.25098039215686274,
           0.2549019607843137,
           0.26405228758169935,
           0.27058823529411763,
           0.26666666666666666,
           0.26666666666666666,
           0.27058823529411763,
           0.2823529411764706,
           0.2901960784313726,
           0.28366013071895424,
           0.3006535947712418,
           0.32026143790849676,
           0.31764705882352945,
           0.2797385620915033,
           0.21307189542483662,
           0.13594771241830064,
           0.08888888888888889
          ],
          [
           0.21568627450980393,
           0.23790849673202616,
           0.27973856209150333,
           0.330718954248366,
           0.3542483660130719,
           0.34640522875817,
           0.3032679738562091,
           0.2549019607843137,
           0.2222222222222222,
           0.21176470588235294,
           0.20653594771241832,
           0.19215686274509802,
           0.20000000000000004,
           0.2261437908496732,
           0.2169934640522876,
           0.20784313725490197,
           0.2169934640522876,
           0.22875816993464052,
           0.2339869281045752,
           0.22875816993464052,
           0.22483660130718955,
           0.22745098039215686,
           0.23398692810457514,
           0.23529411764705885,
           0.2261437908496732,
           0.2352941176470588,
           0.25098039215686274,
           0.25098039215686274,
           0.2261437908496732,
           0.17516339869281047,
           0.1111111111111111,
           0.06928104575163398
          ],
          [
           0.22745098039215686,
           0.24183006535947715,
           0.269281045751634,
           0.30718954248366015,
           0.3215686274509804,
           0.3111111111111111,
           0.2601307189542484,
           0.2104575163398693,
           0.18039215686274512,
           0.1686274509803922,
           0.16470588235294117,
           0.1568627450980392,
           0.16470588235294117,
           0.18562091503267975,
           0.18039215686274512,
           0.17254901960784316,
           0.1803921568627451,
           0.1908496732026144,
           0.19215686274509805,
           0.1803921568627451,
           0.17385620915032682,
           0.1777777777777778,
           0.18039215686274512,
           0.1803921568627451,
           0.16601307189542483,
           0.17647058823529413,
           0.19869281045751633,
           0.20261437908496735,
           0.18562091503267975,
           0.1477124183006536,
           0.09281045751633987,
           0.05751633986928104
          ],
          [
           0.23137254901960783,
           0.2366013071895425,
           0.25098039215686274,
           0.27581699346405225,
           0.2836601307189543,
           0.2679738562091503,
           0.21830065359477124,
           0.17124183006535945,
           0.14117647058823532,
           0.13333333333333333,
           0.1372549019607843,
           0.13594771241830064,
           0.14379084967320263,
           0.16339869281045752,
           0.15947712418300655,
           0.1516339869281046,
           0.15294117647058822,
           0.15294117647058825,
           0.1516339869281046,
           0.13202614379084968,
           0.12026143790849675,
           0.12418300653594772,
           0.1281045751633987,
           0.12418300653594772,
           0.10588235294117647,
           0.12679738562091503,
           0.16339869281045752,
           0.17254901960784316,
           0.16209150326797386,
           0.13594771241830064,
           0.08627450980392155,
           0.054901960784313725
          ],
          [
           0.22745098039215686,
           0.2261437908496732,
           0.22745098039215686,
           0.24575163398692812,
           0.2522875816993464,
           0.24052287581699347,
           0.19869281045751633,
           0.15816993464052287,
           0.13071895424836602,
           0.12941176470588234,
           0.1411764705882353,
           0.15163398692810456,
           0.16339869281045752,
           0.17777777777777778,
           0.17124183006535945,
           0.16339869281045752,
           0.15816993464052287,
           0.1503267973856209,
           0.13594771241830064,
           0.11111111111111112,
           0.09411764705882353,
           0.09411764705882353,
           0.09803921568627451,
           0.09019607843137255,
           0.06666666666666667,
           0.0849673202614379,
           0.12026143790849675,
           0.12679738562091503,
           0.12026143790849673,
           0.1019607843137255,
           0.06797385620915032,
           0.04575163398692811
          ],
          [
           0.20915032679738563,
           0.203921568627451,
           0.20261437908496735,
           0.2235294117647059,
           0.23398692810457514,
           0.23006535947712417,
           0.203921568627451,
           0.17385620915032682,
           0.1542483660130719,
           0.16078431372549018,
           0.18300653594771243,
           0.20000000000000004,
           0.21437908496732025,
           0.21960784313725493,
           0.2130718954248366,
           0.203921568627451,
           0.19607843137254902,
           0.18039215686274512,
           0.15555555555555556,
           0.1281045751633987,
           0.10588235294117647,
           0.1019607843137255,
           0.1019607843137255,
           0.08888888888888889,
           0.06013071895424837,
           0.06797385620915032,
           0.08627450980392155,
           0.08627450980392158,
           0.08235294117647059,
           0.07058823529411765,
           0.05098039215686275,
           0.036601307189542485
          ],
          [
           0.17777777777777778,
           0.17254901960784316,
           0.17647058823529413,
           0.20522875816993466,
           0.23137254901960783,
           0.24444444444444446,
           0.23267973856209148,
           0.2196078431372549,
           0.21568627450980393,
           0.2352941176470588,
           0.26666666666666666,
           0.2901960784313726,
           0.2980392156862745,
           0.2901960784313726,
           0.2836601307189543,
           0.27581699346405225,
           0.2679738562091503,
           0.2496732026143791,
           0.2196078431372549,
           0.18562091503267975,
           0.16470588235294117,
           0.15294117647058825,
           0.1503267973856209,
           0.13594771241830064,
           0.10457516339869281,
           0.08366013071895424,
           0.07058823529411765,
           0.06013071895424837,
           0.05620915032679739,
           0.05228758169934641,
           0.04183006535947712,
           0.03398692810457516
          ],
          [
           0.17647058823529413,
           0.17516339869281047,
           0.18300653594771243,
           0.21437908496732025,
           0.24705882352941178,
           0.2718954248366013,
           0.26405228758169935,
           0.257516339869281,
           0.2588235294117647,
           0.2862745098039216,
           0.3215686274509804,
           0.34379084967320256,
           0.3542483660130719,
           0.35032679738562095,
           0.3450980392156863,
           0.34117647058823525,
           0.33464052287581697,
           0.3150326797385621,
           0.2836601307189543,
           0.2496732026143791,
           0.22875816993464052,
           0.2196078431372549,
           0.21176470588235294,
           0.1934640522875817,
           0.1607843137254902,
           0.1176470588235294,
           0.08104575163398693,
           0.06535947712418301,
           0.06143790849673203,
           0.06013071895424837,
           0.05228758169934641,
           0.047058823529411764
          ],
          [
           0.19084967320261437,
           0.19084967320261437,
           0.2013071895424837,
           0.23529411764705885,
           0.2745098039215686,
           0.3032679738562091,
           0.2980392156862745,
           0.2901960784313726,
           0.2901960784313726,
           0.30980392156862746,
           0.3450980392156862,
           0.3647058823529412,
           0.3790849673202614,
           0.39215686274509803,
           0.39215686274509803,
           0.39215686274509803,
           0.38823529411764707,
           0.3738562091503268,
           0.3490196078431373,
           0.3137254901960784,
           0.2928104575163399,
           0.2888888888888889,
           0.2771241830065359,
           0.2549019607843137,
           0.2261437908496732,
           0.17516339869281047,
           0.12418300653594772,
           0.10065359477124185,
           0.08758169934640524,
           0.0784313725490196,
           0.06928104575163398,
           0.06274509803921569
          ],
          [
           0.19869281045751633,
           0.19869281045751633,
           0.21045751633986928,
           0.2496732026143791,
           0.2928104575163399,
           0.32941176470588235,
           0.3281045751633987,
           0.3176470588235294,
           0.3032679738562091,
           0.3137254901960784,
           0.33202614379084966,
           0.35032679738562095,
           0.3738562091503268,
           0.3986928104575163,
           0.40130718954248373,
           0.407843137254902,
           0.42483660130718953,
           0.43137254901960786,
           0.42091503267973857,
           0.38300653594771245,
           0.35555555555555557,
           0.3398692810457516,
           0.32941176470588235,
           0.3176470588235294,
           0.29934640522875816,
           0.2601307189542484,
           0.20915032679738563,
           0.14901960784313725,
           0.10326797385620916,
           0.07712418300653595,
           0.06666666666666667,
           0.06666666666666667
          ],
          [
           0.203921568627451,
           0.20653594771241832,
           0.22091503267973858,
           0.269281045751634,
           0.31895424836601305,
           0.35555555555555557,
           0.3516339869281046,
           0.330718954248366,
           0.3032679738562091,
           0.2954248366013072,
           0.30196078431372547,
           0.30980392156862746,
           0.3333333333333333,
           0.3633986928104575,
           0.3738562091503268,
           0.392156862745098,
           0.4274509803921569,
           0.4470588235294118,
           0.4496732026143791,
           0.41830065359477125,
           0.38823529411764707,
           0.3686274509803922,
           0.36209150326797385,
           0.35555555555555557,
           0.3477124183006535,
           0.32287581699346407,
           0.2771241830065359,
           0.20522875816993466,
           0.14379084967320263,
           0.10065359477124185,
           0.08235294117647059,
           0.0784313725490196
          ],
          [
           0.203921568627451,
           0.21176470588235294,
           0.2366013071895425,
           0.2928104575163399,
           0.3450980392156863,
           0.3843137254901961,
           0.36993464052287583,
           0.3333333333333333,
           0.28758169934640526,
           0.2627450980392157,
           0.25359477124183005,
           0.25359477124183005,
           0.265359477124183,
           0.28758169934640526,
           0.3150326797385621,
           0.35032679738562095,
           0.39738562091503266,
           0.4261437908496732,
           0.4326797385620915,
           0.41307189542483663,
           0.392156862745098,
           0.37516339869281046,
           0.3673202614379085,
           0.3633986928104575,
           0.3633986928104575,
           0.3516339869281046,
           0.32287581699346407,
           0.265359477124183,
           0.203921568627451,
           0.15294117647058825,
           0.11503267973856209,
           0.09673202614379084
          ],
          [
           0.19999999999999998,
           0.2130718954248366,
           0.24183006535947715,
           0.30196078431372547,
           0.3555555555555556,
           0.39215686274509803,
           0.36993464052287583,
           0.32287581699346407,
           0.26143790849673204,
           0.2222222222222222,
           0.19607843137254902,
           0.18300653594771243,
           0.1869281045751634,
           0.21437908496732025,
           0.2627450980392157,
           0.3176470588235294,
           0.37254901960784315,
           0.40915032679738567,
           0.4196078431372549,
           0.40392156862745104,
           0.3790849673202614,
           0.35555555555555557,
           0.34117647058823525,
           0.3359477124183006,
           0.3450980392156862,
           0.35947712418300654,
           0.36209150326797385,
           0.32026143790849676,
           0.26666666666666666,
           0.20653594771241832,
           0.1516339869281046,
           0.11895424836601308
          ],
          [
           0.19477124183006536,
           0.21176470588235294,
           0.24444444444444446,
           0.3058823529411765,
           0.3594771241830066,
           0.39215686274509803,
           0.3686274509803922,
           0.31503267973856214,
           0.24183006535947715,
           0.19477124183006536,
           0.16209150326797386,
           0.13594771241830064,
           0.1372549019607843,
           0.1699346405228758,
           0.23137254901960783,
           0.2980392156862745,
           0.35947712418300654,
           0.39999999999999997,
           0.411764705882353,
           0.396078431372549,
           0.3686274509803922,
           0.3359477124183006,
           0.3163398692810458,
           0.31241830065359477,
           0.32679738562091504,
           0.3581699346405229,
           0.3843137254901961,
           0.3542483660130719,
           0.3045751633986928,
           0.24052287581699347,
           0.17516339869281047,
           0.13333333333333333
          ]
         ]
        }
       ],
       "layout": {
        "template": {
         "data": {
          "bar": [
           {
            "error_x": {
             "color": "#f2f5fa"
            },
            "error_y": {
             "color": "#f2f5fa"
            },
            "marker": {
             "line": {
              "color": "rgb(17,17,17)",
              "width": 0.5
             },
             "pattern": {
              "fillmode": "overlay",
              "size": 10,
              "solidity": 0.2
             }
            },
            "type": "bar"
           }
          ],
          "barpolar": [
           {
            "marker": {
             "line": {
              "color": "rgb(17,17,17)",
              "width": 0.5
             },
             "pattern": {
              "fillmode": "overlay",
              "size": 10,
              "solidity": 0.2
             }
            },
            "type": "barpolar"
           }
          ],
          "carpet": [
           {
            "aaxis": {
             "endlinecolor": "#A2B1C6",
             "gridcolor": "#506784",
             "linecolor": "#506784",
             "minorgridcolor": "#506784",
             "startlinecolor": "#A2B1C6"
            },
            "baxis": {
             "endlinecolor": "#A2B1C6",
             "gridcolor": "#506784",
             "linecolor": "#506784",
             "minorgridcolor": "#506784",
             "startlinecolor": "#A2B1C6"
            },
            "type": "carpet"
           }
          ],
          "choropleth": [
           {
            "colorbar": {
             "outlinewidth": 0,
             "ticks": ""
            },
            "type": "choropleth"
           }
          ],
          "contour": [
           {
            "colorbar": {
             "outlinewidth": 0,
             "ticks": ""
            },
            "colorscale": [
             [
              0,
              "#0d0887"
             ],
             [
              0.1111111111111111,
              "#46039f"
             ],
             [
              0.2222222222222222,
              "#7201a8"
             ],
             [
              0.3333333333333333,
              "#9c179e"
             ],
             [
              0.4444444444444444,
              "#bd3786"
             ],
             [
              0.5555555555555556,
              "#d8576b"
             ],
             [
              0.6666666666666666,
              "#ed7953"
             ],
             [
              0.7777777777777778,
              "#fb9f3a"
             ],
             [
              0.8888888888888888,
              "#fdca26"
             ],
             [
              1,
              "#f0f921"
             ]
            ],
            "type": "contour"
           }
          ],
          "contourcarpet": [
           {
            "colorbar": {
             "outlinewidth": 0,
             "ticks": ""
            },
            "type": "contourcarpet"
           }
          ],
          "heatmap": [
           {
            "colorbar": {
             "outlinewidth": 0,
             "ticks": ""
            },
            "colorscale": [
             [
              0,
              "#0d0887"
             ],
             [
              0.1111111111111111,
              "#46039f"
             ],
             [
              0.2222222222222222,
              "#7201a8"
             ],
             [
              0.3333333333333333,
              "#9c179e"
             ],
             [
              0.4444444444444444,
              "#bd3786"
             ],
             [
              0.5555555555555556,
              "#d8576b"
             ],
             [
              0.6666666666666666,
              "#ed7953"
             ],
             [
              0.7777777777777778,
              "#fb9f3a"
             ],
             [
              0.8888888888888888,
              "#fdca26"
             ],
             [
              1,
              "#f0f921"
             ]
            ],
            "type": "heatmap"
           }
          ],
          "heatmapgl": [
           {
            "colorbar": {
             "outlinewidth": 0,
             "ticks": ""
            },
            "colorscale": [
             [
              0,
              "#0d0887"
             ],
             [
              0.1111111111111111,
              "#46039f"
             ],
             [
              0.2222222222222222,
              "#7201a8"
             ],
             [
              0.3333333333333333,
              "#9c179e"
             ],
             [
              0.4444444444444444,
              "#bd3786"
             ],
             [
              0.5555555555555556,
              "#d8576b"
             ],
             [
              0.6666666666666666,
              "#ed7953"
             ],
             [
              0.7777777777777778,
              "#fb9f3a"
             ],
             [
              0.8888888888888888,
              "#fdca26"
             ],
             [
              1,
              "#f0f921"
             ]
            ],
            "type": "heatmapgl"
           }
          ],
          "histogram": [
           {
            "marker": {
             "pattern": {
              "fillmode": "overlay",
              "size": 10,
              "solidity": 0.2
             }
            },
            "type": "histogram"
           }
          ],
          "histogram2d": [
           {
            "colorbar": {
             "outlinewidth": 0,
             "ticks": ""
            },
            "colorscale": [
             [
              0,
              "#0d0887"
             ],
             [
              0.1111111111111111,
              "#46039f"
             ],
             [
              0.2222222222222222,
              "#7201a8"
             ],
             [
              0.3333333333333333,
              "#9c179e"
             ],
             [
              0.4444444444444444,
              "#bd3786"
             ],
             [
              0.5555555555555556,
              "#d8576b"
             ],
             [
              0.6666666666666666,
              "#ed7953"
             ],
             [
              0.7777777777777778,
              "#fb9f3a"
             ],
             [
              0.8888888888888888,
              "#fdca26"
             ],
             [
              1,
              "#f0f921"
             ]
            ],
            "type": "histogram2d"
           }
          ],
          "histogram2dcontour": [
           {
            "colorbar": {
             "outlinewidth": 0,
             "ticks": ""
            },
            "colorscale": [
             [
              0,
              "#0d0887"
             ],
             [
              0.1111111111111111,
              "#46039f"
             ],
             [
              0.2222222222222222,
              "#7201a8"
             ],
             [
              0.3333333333333333,
              "#9c179e"
             ],
             [
              0.4444444444444444,
              "#bd3786"
             ],
             [
              0.5555555555555556,
              "#d8576b"
             ],
             [
              0.6666666666666666,
              "#ed7953"
             ],
             [
              0.7777777777777778,
              "#fb9f3a"
             ],
             [
              0.8888888888888888,
              "#fdca26"
             ],
             [
              1,
              "#f0f921"
             ]
            ],
            "type": "histogram2dcontour"
           }
          ],
          "mesh3d": [
           {
            "colorbar": {
             "outlinewidth": 0,
             "ticks": ""
            },
            "type": "mesh3d"
           }
          ],
          "parcoords": [
           {
            "line": {
             "colorbar": {
              "outlinewidth": 0,
              "ticks": ""
             }
            },
            "type": "parcoords"
           }
          ],
          "pie": [
           {
            "automargin": true,
            "type": "pie"
           }
          ],
          "scatter": [
           {
            "marker": {
             "line": {
              "color": "#283442"
             }
            },
            "type": "scatter"
           }
          ],
          "scatter3d": [
           {
            "line": {
             "colorbar": {
              "outlinewidth": 0,
              "ticks": ""
             }
            },
            "marker": {
             "colorbar": {
              "outlinewidth": 0,
              "ticks": ""
             }
            },
            "type": "scatter3d"
           }
          ],
          "scattercarpet": [
           {
            "marker": {
             "colorbar": {
              "outlinewidth": 0,
              "ticks": ""
             }
            },
            "type": "scattercarpet"
           }
          ],
          "scattergeo": [
           {
            "marker": {
             "colorbar": {
              "outlinewidth": 0,
              "ticks": ""
             }
            },
            "type": "scattergeo"
           }
          ],
          "scattergl": [
           {
            "marker": {
             "line": {
              "color": "#283442"
             }
            },
            "type": "scattergl"
           }
          ],
          "scattermapbox": [
           {
            "marker": {
             "colorbar": {
              "outlinewidth": 0,
              "ticks": ""
             }
            },
            "type": "scattermapbox"
           }
          ],
          "scatterpolar": [
           {
            "marker": {
             "colorbar": {
              "outlinewidth": 0,
              "ticks": ""
             }
            },
            "type": "scatterpolar"
           }
          ],
          "scatterpolargl": [
           {
            "marker": {
             "colorbar": {
              "outlinewidth": 0,
              "ticks": ""
             }
            },
            "type": "scatterpolargl"
           }
          ],
          "scatterternary": [
           {
            "marker": {
             "colorbar": {
              "outlinewidth": 0,
              "ticks": ""
             }
            },
            "type": "scatterternary"
           }
          ],
          "surface": [
           {
            "colorbar": {
             "outlinewidth": 0,
             "ticks": ""
            },
            "colorscale": [
             [
              0,
              "#0d0887"
             ],
             [
              0.1111111111111111,
              "#46039f"
             ],
             [
              0.2222222222222222,
              "#7201a8"
             ],
             [
              0.3333333333333333,
              "#9c179e"
             ],
             [
              0.4444444444444444,
              "#bd3786"
             ],
             [
              0.5555555555555556,
              "#d8576b"
             ],
             [
              0.6666666666666666,
              "#ed7953"
             ],
             [
              0.7777777777777778,
              "#fb9f3a"
             ],
             [
              0.8888888888888888,
              "#fdca26"
             ],
             [
              1,
              "#f0f921"
             ]
            ],
            "type": "surface"
           }
          ],
          "table": [
           {
            "cells": {
             "fill": {
              "color": "#506784"
             },
             "line": {
              "color": "rgb(17,17,17)"
             }
            },
            "header": {
             "fill": {
              "color": "#2a3f5f"
             },
             "line": {
              "color": "rgb(17,17,17)"
             }
            },
            "type": "table"
           }
          ]
         },
         "layout": {
          "annotationdefaults": {
           "arrowcolor": "#f2f5fa",
           "arrowhead": 0,
           "arrowwidth": 1
          },
          "autotypenumbers": "strict",
          "coloraxis": {
           "colorbar": {
            "outlinewidth": 0,
            "ticks": ""
           }
          },
          "colorscale": {
           "diverging": [
            [
             0,
             "#8e0152"
            ],
            [
             0.1,
             "#c51b7d"
            ],
            [
             0.2,
             "#de77ae"
            ],
            [
             0.3,
             "#f1b6da"
            ],
            [
             0.4,
             "#fde0ef"
            ],
            [
             0.5,
             "#f7f7f7"
            ],
            [
             0.6,
             "#e6f5d0"
            ],
            [
             0.7,
             "#b8e186"
            ],
            [
             0.8,
             "#7fbc41"
            ],
            [
             0.9,
             "#4d9221"
            ],
            [
             1,
             "#276419"
            ]
           ],
           "sequential": [
            [
             0,
             "#0d0887"
            ],
            [
             0.1111111111111111,
             "#46039f"
            ],
            [
             0.2222222222222222,
             "#7201a8"
            ],
            [
             0.3333333333333333,
             "#9c179e"
            ],
            [
             0.4444444444444444,
             "#bd3786"
            ],
            [
             0.5555555555555556,
             "#d8576b"
            ],
            [
             0.6666666666666666,
             "#ed7953"
            ],
            [
             0.7777777777777778,
             "#fb9f3a"
            ],
            [
             0.8888888888888888,
             "#fdca26"
            ],
            [
             1,
             "#f0f921"
            ]
           ],
           "sequentialminus": [
            [
             0,
             "#0d0887"
            ],
            [
             0.1111111111111111,
             "#46039f"
            ],
            [
             0.2222222222222222,
             "#7201a8"
            ],
            [
             0.3333333333333333,
             "#9c179e"
            ],
            [
             0.4444444444444444,
             "#bd3786"
            ],
            [
             0.5555555555555556,
             "#d8576b"
            ],
            [
             0.6666666666666666,
             "#ed7953"
            ],
            [
             0.7777777777777778,
             "#fb9f3a"
            ],
            [
             0.8888888888888888,
             "#fdca26"
            ],
            [
             1,
             "#f0f921"
            ]
           ]
          },
          "colorway": [
           "#636efa",
           "#EF553B",
           "#00cc96",
           "#ab63fa",
           "#FFA15A",
           "#19d3f3",
           "#FF6692",
           "#B6E880",
           "#FF97FF",
           "#FECB52"
          ],
          "font": {
           "color": "#f2f5fa"
          },
          "geo": {
           "bgcolor": "rgb(17,17,17)",
           "lakecolor": "rgb(17,17,17)",
           "landcolor": "rgb(17,17,17)",
           "showlakes": true,
           "showland": true,
           "subunitcolor": "#506784"
          },
          "hoverlabel": {
           "align": "left"
          },
          "hovermode": "closest",
          "mapbox": {
           "style": "dark"
          },
          "paper_bgcolor": "rgb(17,17,17)",
          "plot_bgcolor": "rgb(17,17,17)",
          "polar": {
           "angularaxis": {
            "gridcolor": "#506784",
            "linecolor": "#506784",
            "ticks": ""
           },
           "bgcolor": "rgb(17,17,17)",
           "radialaxis": {
            "gridcolor": "#506784",
            "linecolor": "#506784",
            "ticks": ""
           }
          },
          "scene": {
           "xaxis": {
            "backgroundcolor": "rgb(17,17,17)",
            "gridcolor": "#506784",
            "gridwidth": 2,
            "linecolor": "#506784",
            "showbackground": true,
            "ticks": "",
            "zerolinecolor": "#C8D4E3"
           },
           "yaxis": {
            "backgroundcolor": "rgb(17,17,17)",
            "gridcolor": "#506784",
            "gridwidth": 2,
            "linecolor": "#506784",
            "showbackground": true,
            "ticks": "",
            "zerolinecolor": "#C8D4E3"
           },
           "zaxis": {
            "backgroundcolor": "rgb(17,17,17)",
            "gridcolor": "#506784",
            "gridwidth": 2,
            "linecolor": "#506784",
            "showbackground": true,
            "ticks": "",
            "zerolinecolor": "#C8D4E3"
           }
          },
          "shapedefaults": {
           "line": {
            "color": "#f2f5fa"
           }
          },
          "sliderdefaults": {
           "bgcolor": "#C8D4E3",
           "bordercolor": "rgb(17,17,17)",
           "borderwidth": 1,
           "tickwidth": 0
          },
          "ternary": {
           "aaxis": {
            "gridcolor": "#506784",
            "linecolor": "#506784",
            "ticks": ""
           },
           "baxis": {
            "gridcolor": "#506784",
            "linecolor": "#506784",
            "ticks": ""
           },
           "bgcolor": "rgb(17,17,17)",
           "caxis": {
            "gridcolor": "#506784",
            "linecolor": "#506784",
            "ticks": ""
           }
          },
          "title": {
           "x": 0.05
          },
          "updatemenudefaults": {
           "bgcolor": "#506784",
           "borderwidth": 0
          },
          "xaxis": {
           "automargin": true,
           "gridcolor": "#283442",
           "linecolor": "#506784",
           "ticks": "",
           "title": {
            "standoff": 15
           },
           "zerolinecolor": "#283442",
           "zerolinewidth": 2
          },
          "yaxis": {
           "automargin": true,
           "gridcolor": "#283442",
           "linecolor": "#506784",
           "ticks": "",
           "title": {
            "standoff": 15
           },
           "zerolinecolor": "#283442",
           "zerolinewidth": 2
          }
         }
        },
        "title": {
         "text": "MLP vs CNN Prediction distribution",
         "x": 0.25
        },
        "xaxis": {
         "anchor": "y",
         "domain": [
          0,
          0.27
         ],
         "title": {
          "text": "MLP Predicts [1] -- CNN Predicts [1] "
         }
        },
        "xaxis2": {
         "anchor": "y2",
         "domain": [
          0.37,
          1
         ],
         "dtick": 1
        },
        "xaxis3": {
         "anchor": "y3",
         "domain": [
          0.37,
          1
         ],
         "dtick": 1
        },
        "yaxis": {
         "anchor": "x",
         "domain": [
          0,
          1
         ]
        },
        "yaxis2": {
         "anchor": "x2",
         "domain": [
          0.575,
          1
         ],
         "title": {
          "text": "Prob MLP"
         }
        },
        "yaxis3": {
         "anchor": "x3",
         "domain": [
          0,
          0.425
         ],
         "title": {
          "text": "Prob CMM"
         }
        }
       }
      }
     },
     "metadata": {},
     "output_type": "display_data"
    }
   ],
   "source": [
    "plot_pred_dist()"
   ]
  }
 ],
 "metadata": {
  "colab": {
   "provenance": []
  },
  "kernelspec": {
   "display_name": "tfgpy",
   "language": "python",
   "name": "python3"
  },
  "language_info": {
   "codemirror_mode": {
    "name": "ipython",
    "version": 3
   },
   "file_extension": ".py",
   "mimetype": "text/x-python",
   "name": "python",
   "nbconvert_exporter": "python",
   "pygments_lexer": "ipython3",
   "version": "3.10.6"
  },
  "vscode": {
   "interpreter": {
    "hash": "7b6a876542c6e3b7dc485a3df575169d2e761a8f6ebfc9515906478165665ee3"
   }
  }
 },
 "nbformat": 4,
 "nbformat_minor": 4
}

{
 "cells": [
  {
   "cell_type": "code",
   "execution_count": 1,
   "metadata": {},
   "outputs": [
    {
     "ename": "NameError",
     "evalue": "name 'year' is not defined",
     "output_type": "error",
     "traceback": [
      "\u001b[1;31m---------------------------------------------------------------------------\u001b[0m",
      "\u001b[1;31mNameError\u001b[0m                                 Traceback (most recent call last)",
      "Cell \u001b[1;32mIn[1], line 9\u001b[0m\n\u001b[0;32m      5\u001b[0m df \u001b[39m=\u001b[39m px\u001b[39m.\u001b[39mdata\u001b[39m.\u001b[39mgapminder()\n\u001b[0;32m      7\u001b[0m \u001b[39m# Create the figure\u001b[39;00m\n\u001b[0;32m      8\u001b[0m fig \u001b[39m=\u001b[39m go\u001b[39m.\u001b[39mFigure(\n\u001b[1;32m----> 9\u001b[0m     data\u001b[39m=\u001b[39m[go\u001b[39m.\u001b[39mBar(x\u001b[39m=\u001b[39mdf\u001b[39m.\u001b[39mloc[df\u001b[39m.\u001b[39myear \u001b[39m==\u001b[39m year, \u001b[39m\"\u001b[39m\u001b[39mcountry\u001b[39m\u001b[39m\"\u001b[39m], y\u001b[39m=\u001b[39mdf\u001b[39m.\u001b[39mloc[df\u001b[39m.\u001b[39myear \u001b[39m==\u001b[39m year, \u001b[39m\"\u001b[39m\u001b[39mgdpPercap\u001b[39m\u001b[39m\"\u001b[39m], text\u001b[39m=\u001b[39mdf\u001b[39m.\u001b[39mloc[df\u001b[39m.\u001b[39myear \u001b[39m==\u001b[39m year, \u001b[39m\"\u001b[39m\u001b[39myear\u001b[39m\u001b[39m\"\u001b[39m], textposition\u001b[39m=\u001b[39m\u001b[39m\"\u001b[39m\u001b[39moutside\u001b[39m\u001b[39m\"\u001b[39m)],\n\u001b[0;32m     10\u001b[0m     layout\u001b[39m=\u001b[39mgo\u001b[39m.\u001b[39mLayout(title\u001b[39m=\u001b[39mgo\u001b[39m.\u001b[39mlayout\u001b[39m.\u001b[39mTitle(text\u001b[39m=\u001b[39m\u001b[39m\"\u001b[39m\u001b[39mGDP per Capita\u001b[39m\u001b[39m\"\u001b[39m))\n\u001b[0;32m     11\u001b[0m )\n\u001b[0;32m     13\u001b[0m \u001b[39m# Add frames for each year\u001b[39;00m\n\u001b[0;32m     14\u001b[0m \u001b[39mfor\u001b[39;00m year \u001b[39min\u001b[39;00m df\u001b[39m.\u001b[39myear\u001b[39m.\u001b[39munique():\n",
      "\u001b[1;31mNameError\u001b[0m: name 'year' is not defined"
     ]
    }
   ],
   "source": [
    "import plotly.express as px\n",
    "import plotly.graph_objects as go\n",
    "\n",
    "# Load the data\n",
    "df = px.data.gapminder()\n",
    "\n",
    "# Create the figure\n",
    "fig = go.Figure(\n",
    "    data=[go.Bar(x=df.loc[df.year == year, \"country\"], y=df.loc[df.year == year, \"gdpPercap\"], text=df.loc[df.year == year, \"year\"], textposition=\"outside\")],\n",
    "    layout=go.Layout(title=go.layout.Title(text=\"GDP per Capita\"))\n",
    ")\n",
    "\n",
    "# Add frames for each year\n",
    "for year in df.year.unique():\n",
    "    fig.add_frame(go.Frame(data=[go.Bar(x=df.loc[df.year == year, \"country\"], y=df.loc[df.year == year, \"gdpPercap\"], text=df.loc[df.year == year, \"year\"], textposition=\"outside\")]))\n",
    "\n",
    "# Set the frame duration and the transition duration\n",
    "fig.frames[0].duration = 1000\n",
    "fig.layout.updatemenus[0].buttons[0].args[1][\"frame\"][\"duration\"] = 1000\n",
    "\n",
    "# Update the layout to include the play button\n",
    "fig.update_layout(updatemenus=[go.layout.Updatemenu(type=\"buttons\", buttons=[go.layout.Button(label=\"Play\", method=\"animate\", args=[None, {\"frame\": {\"duration\": 1000, \"redraw\": True}, \"fromcurrent\": True, \"transition\": {\"duration\": 1000, \"easing\": \"quadratic-in-out\"}}])])])\n",
    "\n",
    "# Show the figure\n",
    "fig.show()\n"
   ]
  },
  {
   "cell_type": "code",
   "execution_count": null,
   "metadata": {},
   "outputs": [],
   "source": []
  }
 ],
 "metadata": {
  "kernelspec": {
   "display_name": "base",
   "language": "python",
   "name": "python3"
  },
  "language_info": {
   "codemirror_mode": {
    "name": "ipython",
    "version": 3
   },
   "file_extension": ".py",
   "mimetype": "text/x-python",
   "name": "python",
   "nbconvert_exporter": "python",
   "pygments_lexer": "ipython3",
   "version": "3.9.13 (main, Aug 25 2022, 23:51:50) [MSC v.1916 64 bit (AMD64)]"
  },
  "orig_nbformat": 4,
  "vscode": {
   "interpreter": {
    "hash": "5ae58900cfbb8c43ab3495913814b7cf26024f51651a94ce8bf64d6111688e8d"
   }
  }
 },
 "nbformat": 4,
 "nbformat_minor": 2
}
